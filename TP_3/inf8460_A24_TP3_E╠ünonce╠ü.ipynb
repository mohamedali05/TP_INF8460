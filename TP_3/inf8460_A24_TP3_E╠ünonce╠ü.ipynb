{
 "cells": [
  {
   "cell_type": "markdown",
   "metadata": {
    "id": "G9ZPAA_02tRR"
   },
   "source": [
    "##### INF8460 – Traitement automatique de la langue naturelle - Automne 2024\n",
    "\n",
    "## TP3: Génération automatique de mots-clés (concepts) avec une architecture Transformer\n"
   ]
  },
  {
   "cell_type": "markdown",
   "metadata": {
    "id": "NWO5vIjG2tRS"
   },
   "source": [
    "## Identification de l'équipe:\n",
    "\n",
    "### Groupe de laboratoire:\n",
    "\n",
    "### Equipe numéro :\n",
    "\n",
    "### Membres:\n",
    "\n",
    "- membre 1 (% de contribution, nature de la contribution)\n",
    "- membre 2 (% de contribution, nature de la contribution)\n",
    "- membre 3 (% de contribution, nature de la contribution)\n",
    "\n",
    "* nature de la contribution: Décrivez brièvement ce qui a été fait par chaque membre de l’équipe. Tous les membres sont censés contribuer au développement. Bien que chaque membre puisse effectuer différentes tâches, vous devez vous efforcer d’obtenir une répartition égale du travail. Soyez précis ! N'indiquez pas seulement : travail réparti équitablement"
   ]
  },
  {
   "cell_type": "markdown",
   "metadata": {
    "id": "1FayMA0Z9Fxp"
   },
   "source": [
    "## 1. Objectif du TP\n",
    "\n",
    "Dans ce TP, vous allez devoir implémenter en `PyTorch` un modèle suivant l'architecture Transformer créée initialement dans l'article \"[Attention Is All You Need](https://arxiv.org/pdf/1706.03762)\".\n",
    "<br>\n",
    "Votre tâche sera d'implémenter l'architecture du Transformer et d'entraîner un modèle de type Transformer à générer les concepts clés d'une phrase. Votre modèle prendra donc en entrée une phrase quelconque en anglais et produira en sortie une séquence de mots correspondant aux concepts les plus importants de la phrase. Par exemple :\n",
    "<br>\n",
    "\n",
    "**Entrée** : \"The dog jumped over the fence.\" <br>\n",
    "**Sortie attendue** : ['dog' 'jump' 'fence']\n",
    "\n",
    "Cette tâche a d'ailleurs plusieurs applications dans le monde réel allant de la génération de résumés jusqu'à la création de bases de connaissances à partir d'un texte.\n",
    "\n",
    "\n",
    "#### Requis et ressources utiles\n",
    "\n",
    "Il est fortement conseillé de s'être familiarisé avec la librairie `PyTorch` avant d'entamer le TP. Par exemple, vous devriez savoir comment fonctionne un objet de type `nn.Module` et ce que la fonction `forward` de cet objet fait. Plusieurs tutoriels sont disponibles sur internet expliquant clairement le fonctionnement de la librairie. Voici certaines ressources qui peuvent être utiles :\n",
    "- [Build The Neural Network](https://pytorch.org/tutorials/beginner/basics/buildmodel_tutorial.html)\n",
    "- [PyTorch Tutorial](https://github.com/yunjey/pytorch-tutorial?tab=readme-ov-file)\n",
    "\n",
    "\n",
    "## 2. Jeu de données\n",
    "\n",
    "Le jeu de données est composé de paires (phrase, concepts) où une phrase est mentionnée et la liste des concepts les plus importants de la phrase est indiquée. Le jeu de données est divisé en ensembles d'entraînement, de validation et de test :\n",
    "- Entraînement : 4500 examples (train.csv)\n",
    "- Validation : 500 examples (val.csv)\n",
    "- Test : 500 examples (test.csv)\n",
    "\n",
    "Pour une même séquence de concepts, il y a 3 phrases pouvant être associées à ces concepts. Par exemple, pour les concepts : ['cat' 'laptop' 'lie'], les phrases suivantes y sont associées :\n",
    "- A cat lying on a laptop\n",
    "- A large cat lies down next to a laptop.\n",
    "- There is a cat lying on top of the laptop.\n"
   ]
  },
  {
   "cell_type": "markdown",
   "metadata": {
    "id": "26Qe_-7z25EE"
   },
   "source": [
    "## 3. LIBRAIRIES PERMISES\n",
    "- Jupyter notebook\n",
    "- PyTorch\n",
    "- nltk\n",
    "- transformers\n",
    "- pandas\n",
    "- matplotlib\n",
    "- numpy\n",
    "- Huggingface\n",
    "\n",
    "\n",
    "Pour toute autre librairie, demandez à votre chargé de laboratoire"
   ]
  },
  {
   "cell_type": "markdown",
   "metadata": {
    "id": "Ssmtsfa12_CQ"
   },
   "source": [
    "## 4. INFRASTRUCTURE\n",
    "\n",
    "- Vous avez accès aux GPU du local L-4818. Dans ce cas, vous devez utiliser le dossier temp (voir le tutoriel VirtualEnv.pdf)"
   ]
  },
  {
   "cell_type": "markdown",
   "metadata": {
    "id": "Hn5uuxc59Fxp"
   },
   "source": [
    "## 5. ÉTAPES DU TP"
   ]
  },
  {
   "cell_type": "code",
   "execution_count": 348,
   "metadata": {
    "id": "eNlUvpo32tRS",
    "ExecuteTime": {
     "end_time": "2024-10-12T01:25:05.789159400Z",
     "start_time": "2024-10-12T01:25:05.314751600Z"
    }
   },
   "outputs": [],
   "source": [
    "# Pytorch\n",
    "import torch\n",
    "import torch.nn as nn\n",
    "import torch.nn.functional as F\n",
    "import torch.optim as O\n",
    "from torch.utils.data import DataLoader\n",
    "\n",
    "# ML\n",
    "import pandas as pd\n",
    "import nltk\n",
    "import matplotlib.pyplot as plt\n",
    "import math\n",
    "import numpy as np\n",
    "\n",
    "# System\n",
    "from dataclasses import dataclass\n",
    "import time\n",
    "import re\n",
    "\n",
    "import nltk\n",
    "from nltk.tokenize import word_tokenize\n",
    "# Huggingface\n",
    "from tokenizers import CharBPETokenizer"
   ]
  },
  {
   "cell_type": "markdown",
   "metadata": {
    "id": "ZHahteTL9Fxq"
   },
   "source": [
    "Il vous faudra peut-être télécharger ce module de `nltk`"
   ]
  },
  {
   "cell_type": "code",
   "execution_count": 349,
   "metadata": {
    "colab": {
     "base_uri": "https://localhost:8080/"
    },
    "id": "xAjX6Fzz9MjK",
    "outputId": "e46e2d3c-76d6-44e6-873b-c9ceca5c2927",
    "ExecuteTime": {
     "end_time": "2024-10-12T01:25:05.805259800Z",
     "start_time": "2024-10-12T01:25:05.317280Z"
    }
   },
   "outputs": [],
   "source": [
    "#nltk.download('punkt')"
   ]
  },
  {
   "cell_type": "markdown",
   "metadata": {
    "id": "AIwDxV0G2tRS"
   },
   "source": [
    "### 1. Charger les données (2 points)\n",
    "\n",
    "La première étape va être de charger les données des fichiers d'entraînement et d'évaluation. Pour cela, nous allons utiliser la classe `Dataset` de `PyTorch`. Complétez les fonctions de cette classe."
   ]
  },
  {
   "cell_type": "code",
   "execution_count": 350,
   "metadata": {
    "id": "Ppkz_YFb2tRS",
    "ExecuteTime": {
     "end_time": "2024-10-12T01:25:06.076044900Z",
     "start_time": "2024-10-12T01:25:05.333128400Z"
    }
   },
   "outputs": [],
   "source": [
    "class CustomDataset(torch.utils.data.Dataset):\n",
    "\n",
    "    def __init__(self, file_path: str = None, data: pd.DataFrame = None):\n",
    "\n",
    "        if file_path is None and data is None:\n",
    "            raise Exception('A file path or a dataframe must be passed to create a CustomDataset')\n",
    "\n",
    "        if file_path != None:\n",
    "            self.data = pd.read_csv(file_path)\n",
    "        else:\n",
    "            self.data = data.copy()\n",
    "\n",
    "        # TODO : Enlever les données qui sont nulles et\n",
    "        # assigner le résultat dans la variable data\n",
    "        self.data = self.data.dropna()\n",
    "\n",
    "        # END TODO\n",
    "\n",
    "    def __len__(self):\n",
    "        # TODO : Retourne le nombre de données\n",
    "        return len(self.data)\n",
    "        # END TODO\n",
    "\n",
    "    def __getitem__(self, idx: int):\n",
    "        # TODO : Retourne l'élément à l'index \"idx\"\n",
    "        return self.data.iloc[idx]\n",
    "        # END TODO\n",
    "\n",
    "    def get_column(self, column: str):\n",
    "        # TODO : Retourne toutes les rangées de la colonne \"column\"\n",
    "        return self.data[column]\n",
    "        # END TODO\n",
    "\n",
    "    def get_batch(self, idx: int, size):\n",
    "        # TODO : Retourne toutes les rangées de l'index \"idx\" à \"idx\" + \"size\"\n",
    "        return self.data.iloc[idx : idx+size]\n",
    "        # END TODO\n",
    "\n",
    "    def transform(self, function):\n",
    "        self.data = self.data.apply(function)\n",
    "\n",
    "    def sample(self, nb_samples, random_state=42):\n",
    "        return self.data.sample(n=nb_samples, random_state=random_state)"
   ]
  },
  {
   "cell_type": "code",
   "execution_count": 351,
   "metadata": {
    "id": "2CWT0dXF2tRT",
    "ExecuteTime": {
     "end_time": "2024-10-12T01:25:06.103672800Z",
     "start_time": "2024-10-12T01:25:05.339722300Z"
    }
   },
   "outputs": [],
   "source": [
    "root = 'data/'\n",
    "\n",
    "train_dataset = CustomDataset(root + 'train.csv')\n",
    "test_dataset = CustomDataset(root + 'test.csv')\n",
    "val_dataset = CustomDataset(root + 'val.csv')\n",
    "\n",
    "INPUT_COLUMN = 'sentence'\n",
    "OUTPUT_COLUMN = 'concepts'\n",
    "MAX_LENGTH = 16\n",
    "DEVICE = 'cuda' if torch.cuda.is_available() else 'cpu' # Vous pouvez changer sur quelle machine les calculs seront effectués"
   ]
  },
  {
   "cell_type": "code",
   "execution_count": 352,
   "metadata": {
    "colab": {
     "base_uri": "https://localhost:8080/"
    },
    "id": "rv_Bjpg92tRT",
    "outputId": "32dc143c-1187-4474-f617-927c003956c9",
    "ExecuteTime": {
     "end_time": "2024-10-12T01:25:06.103672800Z",
     "start_time": "2024-10-12T01:25:05.365114300Z"
    }
   },
   "outputs": [
    {
     "name": "stdout",
     "output_type": "stream",
     "text": [
      "Training set size :  4500\n",
      "Validation set size :  500\n",
      "Testing set size :  500\n"
     ]
    }
   ],
   "source": [
    "print('Training set size : ', len(train_dataset))\n",
    "print('Validation set size : ', len(val_dataset))\n",
    "print('Testing set size : ', len(test_dataset))"
   ]
  },
  {
   "cell_type": "markdown",
   "metadata": {
    "id": "c-HmDFdv2tRT"
   },
   "source": [
    "### 2. Statistiques (5 points)"
   ]
  },
  {
   "cell_type": "markdown",
   "metadata": {
    "id": "p92b0tB79Fxr"
   },
   "source": [
    "Avant d'entamer la création du modèle, il est important de se familiariser avec les données et d'évaluer la taille des données avec lesquelles nous travaillons."
   ]
  },
  {
   "cell_type": "markdown",
   "metadata": {
    "id": "5oOmXpLE2tRT"
   },
   "source": [
    "#### 2.1 Histogramme du nombre de caractères (2 points)\n",
    "\n",
    "Complétez la méthode `show_histogram_nb_characters` qui affiche un histogramme de la distribution du nombre de caractères des exemples de la colonne passée en paramètre. L'axe des abscisses devra représenter le nombre de caractères et l'axe des ordonnées le nombre de documents. Utilisez des bacs (bins) de 20 pour l'histogramme. Affichez ensuite la distribution du nombre de caractères sur l'ensemble d'entraînement pour la colonne 'sentence' et la colonne 'concepts'."
   ]
  },
  {
   "cell_type": "code",
   "execution_count": 353,
   "metadata": {
    "colab": {
     "base_uri": "https://localhost:8080/",
     "height": 927
    },
    "id": "38GHBsHZ2tRT",
    "outputId": "f2fb7bde-a7b1-4c3c-e4dc-042d16788123",
    "ExecuteTime": {
     "end_time": "2024-10-12T01:25:06.166254Z",
     "start_time": "2024-10-12T01:25:05.380923300Z"
    }
   },
   "outputs": [
    {
     "name": "stdout",
     "output_type": "stream",
     "text": [
      "[26, 26, 26, 20, 20, 20, 25, 25, 25, 26, 26, 26, 21, 21, 21, 23, 23, 23, 30, 30, 30, 19, 19, 19, 26, 26, 26, 23, 23, 23, 27, 27, 27, 20, 20, 20, 22, 22, 22, 24, 24, 24, 26, 26, 26, 23, 23, 23, 23, 23, 23, 24, 24, 24, 24, 24, 24, 27, 27, 27, 31, 31, 31, 28, 28, 28, 25, 25, 25, 24, 24, 24, 26, 26, 26, 24, 24, 24, 23, 23, 23, 22, 22, 22, 22, 22, 22, 26, 26, 26, 23, 23, 23, 26, 26, 26, 25, 25, 25, 26, 26, 26, 26, 26, 26, 25, 25, 25, 27, 27, 27, 26, 26, 26, 24, 24, 24, 21, 21, 21, 24, 24, 24, 20, 20, 20, 21, 21, 21, 29, 29, 29, 28, 28, 28, 24, 24, 24, 28, 28, 28, 25, 25, 25, 24, 24, 24, 30, 30, 30, 23, 23, 23, 25, 25, 25, 23, 23, 23, 26, 26, 26, 24, 24, 24, 29, 29, 29, 28, 28, 28, 23, 23, 23, 24, 24, 24, 35, 35, 35, 22, 22, 22, 26, 26, 26, 30, 30, 30, 27, 27, 27, 23, 23, 23, 25, 25, 21, 21, 21, 26, 26, 26, 23, 23, 23, 27, 27, 27, 28, 28, 28, 24, 24, 24, 26, 26, 26, 27, 27, 27, 27, 27, 27, 29, 29, 29, 27, 27, 27, 24, 24, 24, 22, 22, 22, 24, 24, 24, 22, 22, 22, 31, 31, 31, 22, 22, 22, 29, 29, 29, 25, 25, 25, 24, 24, 24, 33, 33, 33, 24, 24, 24, 23, 23, 22, 22, 22, 23, 23, 23, 25, 25, 25, 24, 24, 24, 23, 23, 23, 23, 23, 23, 23, 23, 23, 22, 22, 22, 28, 28, 28, 24, 24, 24, 24, 24, 24, 24, 24, 24, 23, 23, 23, 22, 22, 22, 23, 23, 27, 27, 27, 26, 26, 22, 22, 22, 26, 26, 22, 22, 22, 21, 21, 21, 29, 29, 29, 29, 29, 24, 24, 24, 24, 24, 24, 21, 21, 21, 22, 22, 22, 22, 22, 22, 23, 23, 23, 25, 25, 26, 26, 26, 33, 33, 33, 24, 24, 24, 23, 23, 23, 28, 28, 28, 23, 23, 23, 22, 22, 22, 24, 24, 24, 22, 22, 22, 24, 24, 24, 23, 23, 23, 36, 36, 36, 23, 23, 23, 28, 28, 27, 27, 21, 21, 21, 25, 25, 25, 23, 23, 23, 21, 21, 21, 24, 24, 24, 32, 32, 25, 25, 25, 27, 27, 27, 31, 31, 31, 26, 26, 26, 29, 29, 29, 32, 32, 32, 22, 22, 22, 24, 24, 24, 28, 28, 31, 31, 31, 25, 25, 25, 22, 22, 22, 31, 31, 24, 24, 24, 26, 26, 26, 32, 32, 32, 20, 20, 23, 23, 23, 24, 24, 24, 24, 27, 27, 29, 29, 25, 25, 25, 28, 28, 28, 24, 24, 24, 28, 28, 28, 25, 25, 25, 26, 26, 26, 25, 25, 25, 28, 28, 28, 27, 27, 27, 25, 25, 25, 26, 26, 26, 27, 27, 27, 22, 22, 22, 25, 25, 25, 26, 26, 26, 26, 26, 26, 24, 24, 24, 26, 26, 26, 29, 29, 29, 26, 26, 26, 24, 24, 24, 24, 24, 24, 28, 28, 28, 25, 25, 25, 24, 24, 24, 21, 21, 21, 25, 25, 25, 24, 24, 24, 23, 23, 23, 26, 26, 26, 24, 24, 24, 26, 26, 26, 27, 27, 27, 27, 27, 27, 24, 24, 24, 25, 25, 25, 27, 27, 27, 24, 24, 24, 26, 26, 21, 21, 21, 25, 25, 25, 26, 26, 26, 28, 28, 28, 28, 28, 26, 26, 26, 24, 24, 24, 27, 27, 27, 28, 28, 28, 24, 24, 24, 25, 25, 25, 24, 24, 24, 25, 25, 25, 27, 27, 27, 29, 29, 29, 26, 26, 26, 32, 32, 32, 26, 26, 26, 28, 28, 28, 23, 23, 23, 28, 28, 28, 31, 31, 31, 29, 29, 29, 22, 22, 22, 20, 20, 20, 25, 25, 25, 25, 25, 25, 30, 30, 30, 32, 32, 32, 21, 21, 21, 22, 22, 22, 28, 28, 28, 27, 27, 27, 27, 27, 27, 29, 29, 29, 24, 24, 24, 25, 25, 25, 31, 31, 31, 22, 22, 22, 27, 27, 27, 24, 24, 24, 25, 25, 25, 25, 24, 24, 24, 24, 24, 24, 26, 26, 26, 22, 22, 22, 25, 25, 25, 26, 26, 26, 26, 26, 26, 23, 23, 23, 24, 24, 24, 23, 23, 23, 25, 25, 25, 21, 21, 21, 28, 28, 28, 27, 27, 27, 28, 28, 28, 26, 26, 26, 26, 26, 24, 24, 24, 28, 28, 28, 22, 22, 22, 28, 28, 28, 25, 25, 25, 25, 25, 25, 24, 24, 24, 27, 27, 27, 31, 31, 31, 27, 27, 27, 24, 24, 24, 24, 24, 24, 22, 22, 22, 26, 26, 26, 24, 24, 24, 29, 29, 23, 23, 23, 26, 26, 24, 24, 24, 20, 20, 20, 24, 24, 24, 31, 31, 31, 22, 22, 22, 24, 24, 24, 25, 25, 25, 24, 24, 24, 22, 22, 26, 26, 26, 26, 26, 26, 23, 23, 23, 25, 25, 25, 26, 26, 26, 25, 25, 25, 28, 28, 28, 28, 28, 28, 23, 23, 23, 28, 28, 28, 24, 24, 24, 23, 23, 23, 27, 27, 27, 26, 26, 26, 28, 28, 28, 30, 30, 30, 24, 24, 24, 24, 24, 24, 23, 23, 29, 29, 29, 23, 23, 23, 28, 28, 28, 25, 25, 25, 28, 28, 28, 25, 25, 25, 32, 32, 24, 24, 24, 23, 23, 23, 25, 25, 25, 23, 23, 23, 24, 24, 24, 25, 25, 25, 25, 25, 25, 26, 26, 26, 22, 22, 26, 26, 26, 26, 26, 26, 24, 24, 24, 28, 28, 28, 22, 22, 22, 30, 30, 30, 24, 24, 24, 26, 26, 26, 30, 30, 26, 26, 26, 28, 28, 28, 23, 23, 23, 25, 25, 25, 29, 29, 29, 28, 28, 28, 28, 28, 28, 23, 23, 23, 26, 26, 26, 30, 30, 30, 27, 27, 27, 27, 27, 27, 22, 22, 22, 20, 20, 20, 27, 27, 27, 22, 22, 22, 29, 29, 29, 28, 28, 28, 25, 25, 25, 29, 29, 29, 27, 27, 27, 27, 27, 27, 23, 23, 23, 24, 24, 24, 29, 29, 29, 29, 29, 29, 26, 26, 26, 23, 23, 23, 23, 23, 23, 20, 20, 20, 26, 26, 26, 23, 23, 23, 24, 24, 24, 20, 20, 20, 26, 26, 26, 24, 24, 24, 24, 24, 24, 27, 27, 27, 29, 29, 29, 22, 22, 22, 24, 24, 24, 27, 27, 27, 23, 23, 23, 23, 23, 23, 23, 23, 23, 27, 27, 27, 26, 26, 26, 27, 27, 27, 30, 30, 30, 23, 23, 23, 23, 23, 23, 27, 27, 27, 23, 23, 23, 28, 28, 28, 23, 23, 23, 27, 27, 27, 30, 30, 30, 25, 25, 25, 29, 29, 29, 23, 23, 23, 21, 21, 21, 27, 27, 27, 28, 28, 28, 21, 21, 21, 26, 26, 26, 23, 23, 23, 29, 29, 29, 29, 29, 29, 24, 24, 24, 24, 24, 24, 26, 26, 26, 30, 30, 30, 25, 25, 25, 26, 26, 26, 27, 27, 27, 25, 25, 25, 28, 28, 28, 27, 27, 27, 25, 25, 30, 30, 30, 25, 25, 24, 24, 24, 24, 24, 24, 28, 28, 28, 28, 28, 28, 29, 29, 29, 25, 25, 25, 28, 28, 28, 23, 23, 23, 23, 23, 28, 28, 28, 25, 25, 25, 26, 26, 26, 23, 23, 23, 29, 29, 29, 29, 29, 29, 26, 26, 26, 25, 25, 25, 23, 23, 23, 28, 28, 25, 25, 25, 27, 27, 27, 23, 23, 23, 27, 27, 27, 25, 25, 25, 25, 25, 25, 24, 24, 24, 24, 24, 24, 25, 25, 25, 24, 24, 24, 26, 26, 26, 26, 26, 25, 25, 25, 22, 22, 22, 29, 29, 29, 26, 26, 26, 27, 27, 27, 24, 24, 24, 27, 27, 27, 22, 22, 22, 28, 28, 28, 27, 27, 27, 25, 25, 25, 22, 22, 22, 27, 27, 27, 26, 26, 26, 24, 24, 24, 24, 24, 24, 25, 25, 25, 22, 22, 22, 23, 23, 23, 24, 24, 24, 29, 29, 29, 23, 23, 23, 22, 22, 22, 21, 21, 21, 24, 24, 24, 21, 21, 21, 30, 30, 30, 28, 28, 28, 25, 25, 25, 21, 21, 21, 22, 22, 22, 23, 23, 23, 23, 23, 23, 25, 25, 25, 25, 25, 25, 23, 23, 23, 21, 21, 21, 22, 22, 22, 24, 24, 24, 27, 27, 22, 22, 22, 27, 27, 27, 24, 24, 24, 24, 24, 24, 22, 22, 22, 30, 30, 30, 24, 24, 24, 25, 25, 25, 26, 26, 26, 27, 27, 27, 25, 25, 25, 30, 30, 30, 25, 25, 25, 23, 23, 23, 29, 29, 29, 26, 26, 26, 31, 31, 31, 28, 28, 28, 22, 22, 22, 22, 22, 22, 23, 23, 23, 22, 22, 22, 25, 25, 22, 22, 22, 25, 25, 25, 24, 24, 24, 22, 22, 22, 26, 26, 26, 21, 21, 21, 25, 25, 25, 23, 23, 23, 28, 28, 29, 29, 29, 22, 22, 22, 32, 32, 32, 26, 26, 26, 31, 31, 31, 24, 24, 24, 27, 27, 27, 21, 21, 21, 31, 31, 31, 23, 23, 26, 26, 26, 30, 30, 30, 25, 25, 25, 28, 28, 28, 24, 24, 24, 23, 23, 23, 23, 23, 23, 27, 27, 27, 23, 23, 23, 25, 25, 25, 24, 24, 24, 22, 22, 22, 27, 27, 27, 25, 25, 25, 27, 27, 27, 23, 23, 23, 26, 26, 26, 27, 27, 27, 27, 27, 27, 27, 27, 27, 30, 30, 30, 29, 29, 29, 28, 28, 28, 25, 25, 25, 27, 27, 27, 24, 24, 24, 22, 22, 24, 24, 24, 22, 22, 22, 22, 22, 22, 28, 28, 28, 24, 24, 24, 27, 27, 27, 39, 39, 39, 29, 29, 22, 22, 22, 26, 26, 26, 22, 22, 22, 25, 25, 25, 26, 26, 26, 25, 25, 25, 25, 25, 25, 25, 25, 25, 26, 26, 26, 25, 25, 25, 27, 27, 27, 32, 32, 32, 22, 22, 22, 21, 21, 21, 24, 24, 24, 25, 25, 25, 24, 24, 24, 27, 27, 24, 24, 24, 27, 27, 25, 25, 25, 26, 26, 26, 22, 22, 22, 26, 26, 26, 21, 21, 21, 22, 22, 22, 22, 22, 22, 25, 25, 25, 29, 29, 29, 21, 21, 21, 24, 24, 24, 27, 27, 27, 25, 25, 25, 30, 30, 30, 26, 26, 26, 25, 25, 25, 25, 25, 25, 24, 24, 24, 27, 27, 27, 26, 26, 26, 30, 30, 23, 23, 23, 27, 27, 27, 27, 27, 27, 24, 24, 24, 26, 26, 26, 25, 25, 25, 31, 31, 31, 22, 22, 22, 28, 28, 28, 27, 27, 27, 23, 23, 24, 24, 24, 24, 24, 24, 25, 25, 25, 27, 27, 27, 26, 26, 26, 24, 24, 24, 23, 23, 23, 21, 21, 21, 24, 24, 24, 24, 24, 24, 27, 27, 27, 25, 25, 25, 25, 25, 25, 23, 23, 23, 24, 24, 24, 28, 28, 28, 25, 25, 29, 29, 29, 26, 26, 26, 28, 28, 28, 24, 24, 24, 26, 26, 26, 24, 24, 24, 26, 26, 26, 22, 22, 22, 27, 27, 28, 28, 28, 30, 30, 30, 31, 31, 31, 24, 24, 24, 24, 24, 24, 25, 25, 25, 25, 25, 25, 25, 25, 25, 28, 28, 28, 28, 28, 28, 30, 30, 24, 24, 24, 25, 25, 25, 25, 25, 25, 27, 27, 27, 23, 23, 23, 30, 30, 30, 26, 26, 26, 29, 29, 29, 27, 27, 27, 31, 31, 31, 25, 25, 25, 23, 23, 24, 24, 24, 33, 33, 33, 24, 24, 24, 26, 26, 26, 25, 25, 25, 26, 26, 26, 25, 25, 25, 25, 25, 25, 29, 29, 29, 23, 23, 25, 25, 25, 23, 23, 23, 30, 30, 30, 24, 24, 24, 29, 29, 29, 24, 24, 24, 26, 26, 26, 24, 24, 31, 31, 31, 28, 28, 28, 26, 26, 26, 26, 26, 26, 24, 24, 24, 21, 21, 21, 25, 25, 25, 20, 20, 24, 24, 24, 23, 23, 23, 29, 29, 29, 29, 29, 28, 28, 28, 32, 32, 32, 25, 25, 25, 27, 27, 23, 23, 23, 23, 23, 23, 27, 27, 27, 27, 27, 27, 26, 26, 26, 26, 26, 26, 24, 24, 24, 28, 28, 28, 26, 26, 26, 22, 22, 22, 23, 23, 23, 31, 31, 31, 28, 28, 28, 27, 27, 27, 28, 28, 28, 28, 28, 24, 24, 24, 23, 23, 23, 27, 27, 25, 25, 25, 25, 25, 25, 27, 27, 31, 31, 31, 26, 26, 24, 24, 24, 22, 22, 22, 21, 21, 27, 27, 27, 25, 25, 25, 28, 28, 28, 26, 26, 26, 22, 22, 20, 20, 20, 28, 28, 28, 26, 26, 26, 27, 27, 27, 27, 27, 26, 26, 23, 23, 23, 26, 26, 25, 25, 25, 28, 28, 28, 24, 24, 24, 21, 21, 21, 23, 23, 23, 31, 31, 31, 24, 24, 31, 31, 31, 26, 26, 26, 26, 26, 26, 29, 29, 29, 21, 21, 24, 24, 29, 29, 29, 28, 28, 28, 30, 30, 30, 26, 26, 26, 25, 25, 25, 21, 21, 21, 25, 25, 25, 26, 26, 26, 26, 26, 26, 29, 29, 29, 21, 21, 22, 22, 22, 22, 22, 22, 29, 29, 29, 23, 23, 23, 26, 26, 26, 28, 28, 28, 22, 22, 22, 26, 26, 26, 19, 19, 19, 32, 32, 32, 25, 25, 25, 23, 23, 23, 24, 24, 24, 23, 23, 23, 25, 25, 25, 22, 22, 28, 28, 28, 25, 25, 25, 25, 25, 25, 28, 28, 28, 24, 24, 23, 23, 23, 23, 23, 23, 22, 22, 22, 24, 24, 24, 25, 25, 25, 23, 23, 23, 28, 28, 28, 23, 23, 23, 24, 24, 24, 23, 23, 29, 29, 23, 23, 23, 27, 27, 27, 27, 27, 23, 23, 26, 26, 26, 26, 23, 23, 23, 27, 27, 27, 22, 22, 22, 22, 22, 22, 22, 22, 22, 26, 26, 26, 26, 26, 23, 23, 23, 22, 22, 22, 31, 31, 28, 28, 28, 21, 21, 24, 24, 24, 30, 30, 30, 28, 28, 28, 26, 26, 26, 29, 29, 29, 24, 24, 27, 27, 27, 26, 26, 26, 27, 27, 27, 27, 27, 27, 33, 33, 33, 25, 25, 25, 26, 26, 26, 27, 27, 27, 29, 29, 29, 24, 24, 24, 30, 30, 30, 28, 28, 22, 22, 22, 26, 26, 26, 28, 28, 28, 26, 26, 26, 33, 33, 33, 25, 25, 25, 22, 22, 22, 24, 24, 24, 28, 28, 28, 23, 23, 23, 25, 25, 25, 25, 26, 26, 26, 22, 22, 22, 24, 24, 24, 26, 26, 26, 27, 27, 27, 23, 23, 23, 23, 23, 28, 28, 28, 20, 20, 29, 29, 29, 25, 25, 24, 24, 24, 27, 27, 27, 24, 24, 24, 27, 27, 27, 29, 29, 22, 22, 22, 27, 27, 26, 26, 26, 21, 21, 21, 26, 26, 26, 26, 26, 26, 23, 23, 23, 28, 28, 28, 29, 29, 29, 25, 25, 25, 22, 22, 22, 30, 30, 30, 23, 23, 23, 25, 25, 25, 25, 25, 29, 29, 29, 24, 24, 24, 26, 26, 26, 25, 25, 24, 24, 24, 22, 22, 22, 24, 24, 24, 24, 24, 24, 24, 24, 24, 21, 21, 21, 25, 25, 25, 25, 25, 25, 25, 25, 24, 24, 24, 29, 29, 29, 29, 29, 28, 28, 22, 22, 24, 24, 24, 25, 25, 25, 20, 20, 25, 25, 25, 26, 26, 26, 30, 30, 30, 23, 23, 23, 27, 27, 27, 28, 28, 28, 30, 30, 30, 28, 28, 28, 29, 29, 29, 20, 20, 20, 29, 29, 29, 28, 28, 23, 23, 24, 24, 24, 24, 24, 24, 23, 23, 29, 29, 29, 29, 29, 29, 29, 29, 25, 25, 25, 25, 25, 25, 23, 23, 23, 22, 22, 22, 29, 29, 29, 24, 24, 24, 23, 23, 23, 28, 28, 28, 23, 23, 23, 25, 25, 25, 33, 33, 33, 22, 22, 26, 26, 26, 31, 31, 23, 23, 27, 27, 27, 27, 27, 27, 22, 22, 22, 21, 21, 21, 26, 26, 26, 24, 24, 24, 21, 21, 24, 24, 26, 26, 26, 31, 31, 31, 25, 25, 25, 24, 24, 24, 21, 21, 21, 28, 28, 25, 25, 27, 27, 27, 26, 26, 26, 24, 24, 24, 27, 27, 27, 26, 26, 26, 28, 28, 28, 23, 23, 23, 28, 28, 28, 23, 23, 23, 27, 27, 27, 23, 23, 23, 29, 29, 29, 30, 30, 31, 31, 21, 21, 21, 34, 34, 34, 24, 24, 25, 25, 25, 25, 25, 27, 27, 27, 25, 25, 25, 23, 23, 24, 24, 24, 23, 23, 23, 32, 32, 25, 25, 23, 23, 23, 27, 27, 27, 24, 24, 25, 25, 30, 30, 30, 27, 27, 27, 23, 23, 24, 24, 23, 23, 21, 21, 21, 27, 27, 27, 24, 24, 24, 26, 26, 26, 21, 21, 21, 21, 21, 21, 29, 29, 29, 23, 23, 23, 23, 23, 24, 24, 25, 25, 25, 23, 23, 23, 26, 26, 31, 31, 31, 34, 34, 34, 32, 32, 32, 26, 26, 26, 26, 26, 26, 34, 34, 32, 32, 32, 27, 27, 27, 24, 24, 24, 26, 26, 26, 25, 25, 25, 26, 26, 25, 25, 25, 25, 25, 25, 27, 27, 27, 24, 24, 30, 30, 30, 24, 24, 24, 26, 26, 22, 22, 26, 26, 26, 27, 27, 22, 22, 21, 21, 21, 22, 22, 26, 26, 24, 24, 24, 24, 24, 24, 24, 24, 24, 27, 27, 25, 25, 25, 28, 28, 28, 23, 23, 25, 25, 29, 29, 25, 25, 23, 23, 23, 27, 27, 24, 24, 26, 26, 26, 21, 21, 23, 23, 23, 22, 22, 27, 27, 27, 24, 24, 24, 24, 27, 27, 27, 35, 35, 35, 22, 22, 22, 25, 25, 25, 25, 25, 25, 31, 31, 24, 24, 24, 24, 24, 21, 21, 21, 33, 33, 33, 30, 30, 30, 26, 26, 26, 25, 25, 25, 29, 29, 29, 25, 25, 25, 26, 26, 26, 26, 26, 30, 30, 27, 27, 27, 24, 24, 24, 30, 30, 30, 29, 29, 29, 25, 25, 25, 26, 26, 25, 25, 25, 29, 29, 29, 23, 23, 23, 26, 26, 27, 27, 25, 25, 25, 25, 25, 26, 26, 26, 23, 23, 23, 26, 26, 27, 27, 28, 28, 27, 27, 27, 29, 29, 29, 29, 29, 29, 23, 23, 23, 27, 27, 25, 25, 25, 25, 25, 25, 28, 28, 28, 22, 22, 29, 29, 26, 26, 26, 26, 26, 26, 30, 30, 30, 24, 24, 24, 24, 24, 24, 27, 27, 27, 32, 32, 32, 22, 22, 31, 31, 31, 27, 27, 27, 27, 27, 23, 23, 23, 30, 30, 30, 24, 24, 24, 26, 26, 27, 27, 31, 31, 31, 25, 25, 30, 30, 30, 26, 26, 26, 31, 31, 31, 26, 26, 26, 25, 25, 25, 27, 27, 27, 24, 24, 24, 24, 24, 25, 25, 25, 25, 25, 25, 25, 29, 29, 29, 27, 27, 27, 20, 20, 26, 26, 23, 23, 26, 26, 23, 23, 23, 24, 24, 24, 31, 31, 31, 20, 20, 20, 28, 28, 24, 24, 24, 24, 24, 24, 29, 29, 29, 23, 23, 29, 29, 29, 26, 26, 27, 27, 27, 29, 29, 29, 27, 27, 27, 23, 23, 32, 32, 26, 26, 26, 28, 28, 28, 25, 25, 25, 27, 27, 32, 32, 24, 24, 24, 21, 21, 21, 31, 31, 31, 27, 27, 31, 31, 31, 22, 22, 22, 25, 25, 26, 26, 26, 23, 23, 26, 26, 26, 25, 25, 25, 28, 28, 25, 25, 25, 27, 27, 27, 23, 23, 23, 26, 26, 26, 26, 26, 26, 26, 26, 26, 29, 29, 29, 29, 29, 32, 32, 32, 23, 23, 26, 26, 26, 25, 25, 25, 26, 26, 26, 29, 29, 29, 34, 34, 23, 23, 27, 27, 27, 28, 28, 19, 19, 19, 26, 26, 26, 26, 26, 26, 26, 25, 25, 25, 24, 24, 25, 25, 25, 25, 27, 27, 27, 23, 23, 23, 26, 26, 24, 24, 27, 27, 27, 24, 24, 29, 29, 29, 27, 27, 27, 27, 27, 24, 24, 31, 31, 23, 23, 23, 27, 27, 24, 24, 23, 23, 23, 32, 32, 28, 28, 28, 23, 23, 23, 23, 23, 23, 26, 26, 26, 24, 24, 24, 25, 25, 29, 29, 22, 22, 22, 25, 25, 21, 21, 30, 30, 30, 20, 20, 27, 27, 26, 26, 26, 28, 28, 21, 21, 30, 30, 30, 29, 29, 29, 25, 25, 25, 28, 28, 28, 36, 36, 23, 23, 23, 30, 30, 30, 30, 30, 30, 22, 22, 22, 25, 25, 25, 25, 25, 25, 26, 26, 26, 24, 24, 25, 25, 24, 24, 21, 21, 27, 27, 24, 24, 32, 32, 32, 22, 22, 25, 25, 25, 35, 35, 35, 24, 24, 23, 23, 24, 24, 27, 27, 27, 26, 26, 21, 21, 28, 28, 26, 26, 26, 26, 26, 26, 28, 28, 28, 26, 26, 26, 27, 27, 23, 23, 27, 27, 29, 29, 23, 23, 23, 31, 31, 31, 25, 25, 26, 26, 21, 21, 25, 25, 26, 26, 27, 27, 28, 28, 27, 27, 27, 22, 22, 22, 24, 24, 24, 21, 21, 21, 25, 25, 25, 22, 22, 32, 32, 32, 21, 21, 27, 27, 27, 26, 26, 32, 32, 32, 24, 24, 24, 24, 24, 23, 23, 23, 23, 26, 26, 26, 26, 26, 26, 26, 23, 23, 24, 24, 37, 37, 37, 24, 24, 22, 22, 22, 35, 35, 28, 28, 27, 27, 27, 23, 23, 23, 22, 22, 24, 24, 24, 31, 31, 31, 27, 27, 23, 23, 23, 27, 27, 27, 28, 28, 21, 21, 27, 27, 27, 26, 26, 28, 28, 24, 24, 24, 27, 27, 26, 26, 26, 26, 26, 23, 23, 23, 31, 31, 31, 25, 25, 30, 30, 27, 27, 25, 25, 25, 24, 24, 26, 26, 29, 29, 27, 27, 27, 28, 28, 28, 27, 27, 27, 24, 24, 25, 25, 25, 25, 25, 25, 25, 26, 26, 29, 29, 29, 24, 24, 24, 22, 22, 22, 32, 32, 32, 24, 24, 24, 24, 24, 24, 22, 22, 23, 23, 25, 25, 25, 31, 31, 31, 32, 32, 32, 24, 24, 28, 28, 28, 24, 24, 24, 24, 20, 20, 25, 25, 22, 22, 26, 26, 26, 26, 26, 29, 29, 25, 25, 24, 24, 24, 26, 26, 26, 26, 26, 25, 25, 25, 24, 24, 26, 26, 26, 24, 24, 24, 22, 22, 22, 26, 26, 26, 29, 29, 25, 25, 27, 27, 21, 21, 22, 22, 22, 27, 27, 26, 26, 26, 26, 26, 22, 22, 28, 28, 25, 25, 25, 25, 25, 28, 28, 28, 28, 28, 26, 26, 23, 23, 28, 28, 26, 26, 20, 20, 29, 29, 29, 31, 31, 31, 21, 21, 23, 23, 36, 36, 36, 30, 30, 24, 24, 25, 25, 21, 21, 21, 25, 25, 25, 28, 28, 27, 27, 31, 31, 25, 25, 29, 29, 29, 22, 22, 24, 24, 24, 27, 27, 28, 28, 28, 29, 29, 26, 26, 23, 23, 27, 27, 27, 23, 23, 23, 28, 28, 24, 24, 26, 26, 26, 21, 21, 28, 28, 26, 26, 27, 27, 28, 28, 23, 23, 28, 28, 30, 30, 28, 28, 25, 25, 25, 28, 28, 31, 31, 31, 25, 25, 28, 28, 25, 25, 25, 24, 24, 28, 28, 21, 21, 28, 28, 28, 21, 21, 21, 24, 24, 23, 23, 24, 24, 23, 23, 23, 35, 35, 35, 31, 31, 31, 25, 25, 23, 23, 22, 22, 22, 27, 27, 27, 26, 26, 24, 24, 24, 24, 24, 24, 23, 23, 23, 23, 28, 28, 28, 20, 20, 32, 32, 26, 26, 26, 23, 23, 24, 24, 27, 27, 27, 27, 25, 25, 31, 31, 23, 23, 24, 24, 24, 26, 26, 29, 29, 23, 23, 28, 28, 27, 27, 27, 23, 23, 22, 22, 22, 28, 28, 28, 22, 22, 21, 21, 23, 23, 28, 28, 26, 26, 22, 22, 30, 30, 30, 30, 30, 25, 25, 27, 27, 26, 26, 26, 26, 21, 21, 21, 29, 29, 29, 29, 29, 31, 31, 26, 26, 23, 23, 26, 26, 26, 25, 25, 25, 23, 23, 25, 25, 25, 25, 23, 23, 23, 23, 32, 32, 32, 29, 29, 27, 27, 25, 25, 33, 33, 31, 31, 24, 24, 30, 30, 29, 29, 27, 27, 28, 28, 24, 24, 24, 24, 24, 30, 30, 30, 22, 22, 27, 27, 25, 25, 29, 29, 30, 30, 32, 32, 36, 36, 25, 25, 25, 25, 23, 23, 21, 21, 31, 31, 26, 26, 26, 27, 27, 27, 33, 33, 33, 29, 29, 29, 31, 31, 31, 25, 25, 25, 28, 28, 28, 29, 29, 29, 28, 28, 28, 27, 27, 27, 23, 23, 23, 24, 24, 24, 27, 27, 27, 25, 25, 25, 25, 25, 25, 28, 28, 28, 26, 26, 26, 27, 27, 27, 25, 25, 25, 23, 23, 23, 23, 23, 23, 27, 27, 27, 24, 24, 24, 25, 25, 25, 28, 28, 28, 27, 27, 27, 26, 26, 26, 29, 29, 29, 31, 31, 31, 29, 29, 29, 26, 26, 26, 25, 25, 25, 24, 24, 24, 23, 23, 23, 26, 26, 26, 32, 32, 32, 23, 23, 23, 28, 28, 28, 26, 26, 26, 28, 28, 28, 29, 29, 29, 29, 29, 29, 32, 32, 32, 28, 28, 28, 26, 26, 22, 22, 22, 32, 32, 32, 24, 24, 24, 22, 22, 22, 25, 25, 25, 30, 30, 30, 30, 30, 30, 28, 28, 28, 26, 26, 26, 27, 27, 27, 28, 28, 28, 30, 30, 30, 27, 27, 27, 28, 28, 28, 25, 25, 25, 32, 32, 32, 29, 29, 29, 28, 28, 28, 24, 24, 24, 28, 28, 28, 29, 29, 29, 26, 26, 26, 21, 21, 21, 25, 25, 25, 26, 26, 26, 24, 24, 24, 25, 25, 25, 25, 25, 25, 26, 26, 26, 23, 23, 23, 24, 24, 24, 23, 23, 23, 24, 24, 24, 22, 22, 22, 28, 28, 28, 22, 22, 22, 26, 26, 26, 24, 24, 24, 28, 28, 28, 29, 29, 29, 27, 27, 27, 22, 22, 25, 25, 25, 25, 25, 25, 28, 28, 28, 26, 26, 26, 30, 30, 24, 24, 24, 29, 29, 29, 26, 26, 26, 22, 22, 22, 24, 24, 24, 31, 31, 31, 25, 25, 25, 31, 31, 31, 23, 23, 23, 24, 24, 24, 26, 26, 26, 26, 26, 26, 29, 29, 29, 27, 27, 27, 26, 26, 24, 24, 24, 24, 30, 30, 22, 22, 22, 24, 24, 24, 29, 29, 29, 23, 23, 23, 31, 31, 31, 25, 25, 25, 29, 29, 29, 24, 24, 24, 25, 25, 25, 23, 23, 31, 31, 31, 23, 23, 23, 25, 25, 25, 28, 28, 24, 24, 24, 25, 25, 25, 23, 23, 24, 24, 24, 27, 27, 27, 22, 22, 22, 24, 24, 24, 27, 27, 27, 27, 27, 27, 25, 25, 25, 26, 26, 26, 26, 26, 26]\n"
     ]
    },
    {
     "data": {
      "text/plain": "<Figure size 800x400 with 1 Axes>",
      "image/png": "[encoded data removed]"
     },
     "metadata": {},
     "output_type": "display_data"
    }
   ],
   "source": [
    "def show_histogram_nb_chararacters(dataset: CustomDataset, column: str):\n",
    "\n",
    "    \"\"\"\n",
    "    Affiche la distribution de la colonne passé en paramètre. L'histogramme doit contenir un titre et des titres sur les axes\n",
    "\n",
    "    dataset: Dataset contenant plusieurs colonne dont la colonne dont les statistiques doivent être affichées\n",
    "    column: Colonne à afficher\n",
    "\n",
    "    \"\"\"\n",
    "    # TODO\n",
    "    column_to_show = dataset.get_column(column)\n",
    "    #print(column_to_show)\n",
    "    #column_to_show.apply(len)\n",
    "    char_lengths = [len(value) for value in column_to_show]\n",
    "    print(char_lengths)\n",
    "    \n",
    "    plt.figure(figsize=(8, 4))\n",
    "    plt.hist(char_lengths, bins=20, edgecolor='black', alpha=0.75)\n",
    "    plt.title(f'Distribution of Character Counts in {column} Column')\n",
    "    plt.xlabel('Number of Characters')\n",
    "    plt.ylabel('Number of Documents')\n",
    "    plt.grid(True)\n",
    "    plt.show()\n",
    "    \n",
    "    \n",
    "    # END TODO\n",
    "\n",
    "\n",
    "#show_histogram_nb_chararacters(train_dataset, INPUT_COLUMN)\n",
    "show_histogram_nb_chararacters(train_dataset, OUTPUT_COLUMN)"
   ]
  },
  {
   "cell_type": "markdown",
   "metadata": {
    "id": "zOOUTrZU2tRT"
   },
   "source": [
    "#### 2.2 Histogramme du nombre de mots par document (2 points)\n",
    "\n",
    "De la même manière, complétez la méthode `show_histogram_nb_words` qui affiche un histogramme de la distribution du nombre de mots des exemples de la colonne passée en paramètre. Utilisez des bacs (bins) de 20 pour l'histogramme. Affichez ensuite la distribution du nombre de mots sur l'ensemble d'entraînement pour les colonnes \"sentence\" et \"concepts\". Dans le cas de la colonne 'concepts', assurez-vous que les '[', ']' et les apostrophes ne soient pas considérées comme des mots.\n",
    "\n",
    "Indice : Utilisez la méthode word_tokenize() de nltk."
   ]
  },
  {
   "cell_type": "code",
   "execution_count": 354,
   "metadata": {
    "colab": {
     "base_uri": "https://localhost:8080/",
     "height": 927
    },
    "id": "wq97r1Yc2tRT",
    "outputId": "ae506763-efeb-4385-eb43-5e3b04be15c2",
    "ExecuteTime": {
     "end_time": "2024-10-12T01:25:06.520894400Z",
     "start_time": "2024-10-12T01:25:05.569558600Z"
    }
   },
   "outputs": [
    {
     "data": {
      "text/plain": "<Figure size 800x400 with 1 Axes>",
      "image/png": "[encoded data removed]"
     },
     "metadata": {},
     "output_type": "display_data"
    },
    {
     "data": {
      "text/plain": "<Figure size 800x400 with 1 Axes>",
      "image/png": "[encoded data removed]"
     },
     "metadata": {},
     "output_type": "display_data"
    }
   ],
   "source": [
    "def show_histogram_nb_words(dataset: CustomDataset, column: str):\n",
    "\n",
    "    \"\"\"\n",
    "    Affiche la distribution de la colonne passé en paramètre du dataset. L'histogramme doit contenir un titre et des titres sur les axes\n",
    "\n",
    "    dataset: Dataset contenant plusieurs colonne dont la colonne dont les statistiques doivent être affichées\n",
    "    column: Colonne à afficher\n",
    "\n",
    "    \"\"\"\n",
    "    # TODO\n",
    "    data = dataset.get_column(column)\n",
    "\n",
    "    word_counts = data.apply(lambda x: len(word_tokenize(x.replace('[', '').replace(']', '').replace(\"'\", ''))))\n",
    "    \n",
    "    plt.figure(figsize=(8, 4))\n",
    "    plt.hist(word_counts, bins=20, edgecolor='black')\n",
    "    plt.title(f\"Distribution du nombre de mots dans '{column}'\")\n",
    "    plt.xlabel(\"Nombre de mots\")\n",
    "    plt.ylabel(\"Nombre de documents\")\n",
    "    plt.grid(True)\n",
    "    plt.show()\n",
    "    \n",
    "    # END TODO\n",
    "\n",
    "show_histogram_nb_words(train_dataset, INPUT_COLUMN)\n",
    "show_histogram_nb_words(train_dataset, OUTPUT_COLUMN)"
   ]
  },
  {
   "cell_type": "markdown",
   "metadata": {
    "id": "fKAGNVSe2tRT"
   },
   "source": [
    "#### 2.3 Commentez les graphiques (1 points)\n",
    "1. Est-ce que les distributions suivent des distributions normales ?\n",
    "Non\n",
    "2. Qu'observez-vous de spécial sur la distribution du nombre de mots de la colonne \"concepts\" ? Pourquoi est-elle ainsi ? La colonne 'concepts' ne contient toujours que 3 mots."
   ]
  },
  {
   "cell_type": "markdown",
   "metadata": {
    "id": "EDnurIIU2tRT"
   },
   "source": [
    "### 3. Segmentation (Tokenization) (5 points)"
   ]
  },
  {
   "cell_type": "markdown",
   "metadata": {
    "id": "BU1nJ3xT2tRT"
   },
   "source": [
    "#### 3.1 Entraînement du segmenteur (tokenizer) (3 points)\n",
    "La fonction `word_tokenize()` de `nltk` est utile pour rapidement ressortir des statistiques, mais elle reste très générale et inefficace. Afin de réduire le plus possible la taille du vocabulaire, nous allons entraîner notre propre Tokenizer en nous basant sur l'algorithme BPE (Byte Pair Encoding). L'algorithme BPE est une méthode de compression de texte qui permet de créer des tokenizers efficaces en regroupant les caractères les plus fréquents. Il commence par diviser le texte en caractères uniques, puis itérativement fusionne les paires de caractères les plus fréquentes en nouveaux symboles. Ce processus continue jusqu'à atteindre un nombre prédéfini de jetons (tokens), permettant ainsi de gérer des vocabulaires de différentes tailles de manière flexible et efficace. À l'aide de BPE, nous allons transformer les mots en nombres pour pouvoir les passer au Transformer par la suite. Chaque jeton (token) sera associé à un nombre correspondant à l'indice du jeton dans le vocabulaire. Une séquence en entrée sera ainsi représentée comme une séquence de nombres.\n",
    "\n",
    "De plus, des jetons spéciaux seront ajoutés au tokenizer pour spécifier le début d'une phrase (begin-of-sequence : `[BOS]`) et la fin d'une phrase (end-of-sequence : `[EOS]`). Un jeton de padding `[PAD]` sera utilisé afin de s'assurer que toutes les phrases ont la même taille. Finalement, un jeton `[UNK]` sera utilisé pour les jetons inconnus.\n",
    "\n",
    "Pour créer ce vocabulaire à l'aide de l'algorithme BPE, il faudra entraîner le tokenizer sur notre ensemble d'entraînement pour qu'il puisse encoder efficacement les mots qui y sont présents. L'entraînement est déjà implémenté par la classe `ByteLevelBPYTokenizer` de la librairie `tokenizers`.\n",
    "\n",
    "Vous n'avez qu'à compléter la fonction :\n",
    "- `data_generator` qui retourne un générateur d'un lot (batch) de texte provenant de l'ensemble d'entraînement. Pour chaque lot, les colonnes \"sentence\" et \"concepts\" sont concaténées pour former la chaîne finale qui sera envoyée au tokenizer. Les lots sont utiles lors de l'entraînement pour accélérer l'entraînement en parallélisant le tout et en évitant de charger tout notre ensemble d'entraînement en mémoire directement."
   ]
  },
  {
   "cell_type": "code",
   "execution_count": 355,
   "metadata": {
    "id": "T7ouSYOn9Fxr",
    "ExecuteTime": {
     "end_time": "2024-10-12T01:25:06.520894400Z",
     "start_time": "2024-10-12T01:25:06.260940400Z"
    }
   },
   "outputs": [],
   "source": [
    "VOCAB_SIZE = 8000\n",
    "special_tokens = ['[PAD]', '[BOS]', '[EOS]', '[UNK]']\n",
    "base_tokenizer = CharBPETokenizer(unk_token=special_tokens[-1])\n",
    "tokenizer_batch_size = 64\n",
    "\n",
    "def data_generator():\n",
    "    \"\"\"\n",
    "    Generateur qui retourne un lot (batch) de texte provenant de l'ensemble d'entraînement.\n",
    "    Pour chaque élément d'un lot, les colonnes \"sentence\" et \"concepts\" sont concaténée.\n",
    "    \"\"\"\n",
    "    for i in range(0, len(train_dataset), tokenizer_batch_size):\n",
    "\n",
    "        # TODO\n",
    "    \n",
    "        text = train_dataset.get_batch(i, i+tokenizer_batch_size)\n",
    "        text = text['sentence'] +text['concepts'] \n",
    "        \n",
    "        \n",
    "       \n",
    "        # END TODO\n",
    "\n",
    "        yield text\n"
   ]
  },
  {
   "cell_type": "code",
   "execution_count": 356,
   "outputs": [
    {
     "name": "stdout",
     "output_type": "stream",
     "text": [
      "0     Skier skis down the mountain['mountain' 'ski' ...\n",
      "1     A skier is skiing down a mountain.['mountain' ...\n",
      "2     Three skiers are skiing on a snowy mountain.['...\n",
      "3      The dog is wagging his tail.['dog' 'tail' 'wag']\n",
      "4     A dog wags his tail at the boy.['dog' 'tail' '...\n",
      "                            ...                        \n",
      "59    a fast train about to leave station['leave' 's...\n",
      "60    train and passengers at the station['passenger...\n",
      "61    passengers leaving a train on a station['passe...\n",
      "62    a train at station with no passengers joining[...\n",
      "63    a train arrives at station['arrive' 'station' ...\n",
      "Length: 64, dtype: object\n",
      "64     train arriving at the station['arrive' 'statio...\n",
      "65     subway train arrives in the station['arrive' '...\n",
      "66     a train sits at the station['sit' 'station' 't...\n",
      "67     A train that is sitting in a station.['sit' 's...\n",
      "68     A red train sitting at an empty station.['sit'...\n",
      "                             ...                        \n",
      "187    sunlight reflecting off the water['reflect' 's...\n",
      "188    rays of sunlight reflect off chilly waters['re...\n",
      "189    passengers sitting in a train['passenger' 'sit...\n",
      "190    passengers sit aboard a train at the station ....\n",
      "191    A cable train with passengers sit on it tracks...\n",
      "Length: 128, dtype: object\n",
      "128    sheep in a pen with some hay to eat['eat' 'hay...\n",
      "129    a student works on a computer['computer' 'stud...\n",
      "130    student working at a computer['computer' 'stud...\n",
      "131    students working on the computer .['computer' ...\n",
      "132    People wait for their luggage at an airport.['...\n",
      "                             ...                        \n",
      "315    we had a fun afternoon of dying our hair funky...\n",
      "316    A man is dying the hair of a woman with a very...\n",
      "317    A train gets ready to enter a tunnel.['enter' ...\n",
      "318    a train enters the train station in a tunnel['...\n",
      "319    goat eats hay from the trough['eat' 'hay' 'tro...\n",
      "Length: 192, dtype: object\n",
      "192    A small clock on a wall in a room.['clock' 'ro...\n",
      "193    A clock rests along the wall of a room.['clock...\n",
      "194    There are two clocks on the wall in the room.[...\n",
      "195    damp on walls and ceiling of a room['ceiling' ...\n",
      "196    walls add refinement to the room with slanted ...\n",
      "                             ...                        \n",
      "443    A man is adding sugar to a bowl.['add' 'bowl' ...\n",
      "444    She adds soda and sugar to the bowl.['add' 'bo...\n",
      "445    A skateboarder in a park grinding on a rail.['...\n",
      "446    skateboarder grinding down the retaining wall ...\n",
      "447    People walk on a small bridge over a lake.['br...\n",
      "Length: 256, dtype: object\n",
      "256    A pair of kick boxers fighting inside of the r...\n",
      "257    A skateboarder skating down a street.['skate' ...\n",
      "258    The skateboarder skated down the street.['skat...\n",
      "259    The skateboarders skate through the city stree...\n",
      "260    Seagulls fly over a boat.['boat' 'fly' 'seagull']\n",
      "                             ...                        \n",
      "571    train on the track in city['city' 'track' 'tra...\n",
      "572    A train on tracks outside of a city['city' 'tr...\n",
      "573    A train going down the track near a city['city...\n",
      "574    A train is driving on the tracks.['drive' 'tra...\n",
      "575    Many trains drive on top of train tracks. ['dr...\n",
      "Length: 320, dtype: object\n",
      "320    a giraffe eating some hay out of a trough['eat...\n",
      "321    The sheep are eating hay in from a trough.['ea...\n",
      "322    Two people sit on a pier at a lake.['lake' 'pi...\n",
      "323    little boy sitting on the pier of the lake['la...\n",
      "324    young woman sits on a wooden pier on the lake[...\n",
      "                             ...                        \n",
      "699    The dog is rounding up a herd of sheep.['dog' ...\n",
      "700    A herd of sheep next to two black dogs.['dog' ...\n",
      "701    students walk on the campus['campus' 'student'...\n",
      "702    students walking in a campus['campus' 'student...\n",
      "703    a student walks through campus['campus' 'stude...\n",
      "Length: 384, dtype: object\n",
      "384    A skateboarder is about to fall off his skateb...\n",
      "385    A the skateboarders are falling off their skat...\n",
      "386     taking care for the horse['care' 'horse' 'take']\n",
      "387    A young girl takes care of a horse.['care' 'ho...\n",
      "388    Two women taking care of the two horses.['care...\n",
      "                             ...                        \n",
      "827    Zebras look for anything in the grass to eat.[...\n",
      "828    benches on grass under the trees['bench' 'gras...\n",
      "829    A bench in some grass near some trees.['bench'...\n",
      "830    A green bench on the grass behind a tree.['ben...\n",
      "831    steam engine pulls a train['engine' 'pull' 'tr...\n",
      "Length: 448, dtype: object\n",
      "448    people walking along the blue bridge on lake['...\n",
      "449    A man is walking under a bridge in a shallow l...\n",
      "450    a farmer in a wagon being pulled by a horse['f...\n",
      "451    Horses and a farmer pulling wagons on a farm.[...\n",
      "452    farmers load the hay on a wagon pulled by hors...\n",
      "                             ...                        \n",
      "955    Boy under a car demonstrating how to change th...\n",
      "956    firefighters on the scene of a fire['fire' 'fi...\n",
      "957    firefighters on scene as they wrap up from fig...\n",
      "958    firefighters on scene late morning after an ea...\n",
      "959    a dog stares out of a window ['dog' 'stare' 'w...\n",
      "Length: 512, dtype: object\n",
      "512     the steam train crosses a bridge['bridge' 'cro...\n",
      "513     train crossing the railway bridge['bridge' 'cr...\n",
      "514     airplane flying in the clouds['airplane' 'clou...\n",
      "515     airplane fly into a storm cloud['airplane' 'cl...\n",
      "516     An airplane is flying into a puffy cloud.['air...\n",
      "                              ...                        \n",
      "1083    restaurants that serves thai dish['dish' 'rest...\n",
      "1084    Two cats looking off of a stone bench.['bench'...\n",
      "1085    Cat looking out from atop a frozen bench.['ben...\n",
      "1086    A cat looks at the camera from under a bench['...\n",
      "1087    sheep and lamb standing on the meadow['lamb' '...\n",
      "Length: 576, dtype: object\n",
      "576     Two white trains drive along the train track.[...\n",
      "577     A blue train traveling over a  bridge.['bridge...\n",
      "578     Two trains travel on tracks on a bridge['bridg...\n",
      "579     Two fast trains travel along an old bridge.['b...\n",
      "580     boats pass an open bridge['boat' 'bridge' 'pass']\n",
      "                              ...                        \n",
      "1211    A bed that has a cover and pillows.['bed' 'cov...\n",
      "1212    The bed has pillows on the green covers. ['bed...\n",
      "1213    A bed with four pillows and the covers turned ...\n",
      "1214    A family is taking a portrait.['family' 'portr...\n",
      "1215    The family gets a portrait taken['family' 'por...\n",
      "Length: 640, dtype: object\n",
      "640     An electric train traveling next to its statio...\n",
      "641     a living room with couches near a wall['couch'...\n",
      "642     This living room has a gray couch and blue wal...\n",
      "643     A room with three TVs in the wall and a large ...\n",
      "644     airplanes sit at a flooded airport .['airplane...\n",
      "                              ...                        \n",
      "1339    children bathe as an elephant walks by in a la...\n",
      "1340    flock of sheep on the hill['flock' 'hill' 'she...\n",
      "1341    flock of sheep grazing in a hill['flock' 'hill...\n",
      "1342    shepherds taking their flock of sheep into the...\n",
      "1343    lone tree and clouds in wheat field['cloud' 'f...\n",
      "Length: 704, dtype: object\n",
      "704     bananas growing on a tree['banana' 'grow' 'tree']\n",
      "705     the banana which grew on the tree['banana' 'gr...\n",
      "706     Large trees that have bananas growing from the...\n",
      "707     freight train traveling through a city['city' ...\n",
      "708     Urban train traveling down the tracks of a cit...\n",
      "                              ...                        \n",
      "1467    The plane is loading a few passengers in the a...\n",
      "1468    airplane on a rainy day at an airport['airplan...\n",
      "1469    airplanes at airport in the bright sunny day['...\n",
      "1470    airplane taking off from airport on cloudy day...\n",
      "1471      a train running to a city['city' 'run' 'train']\n",
      "Length: 768, dtype: object\n",
      "768        road leading into a city['city' 'lead' 'road']\n",
      "769     road in city leading to palace .['city' 'lead'...\n",
      "770     bathroom with shower over bath['bath' 'bathroo...\n",
      "771     bathroom with shower in the bath['bath' 'bathr...\n",
      "772     bathroom with a bath and a shower['bath' 'bath...\n",
      "                              ...                        \n",
      "1595    a train in station moving besides the building...\n",
      "1596    moving train on elevated tracks within buildin...\n",
      "1597    ABBA performing in concert for fans.['concert'...\n",
      "1598    fans performs as part of the concert['concert'...\n",
      "1599    singer with a fan as he performs in his concer...\n",
      "Length: 832, dtype: object\n",
      "832     engine pulling a train on its way['engine' 'pu...\n",
      "833     The engine of a train pulling many cars['engin...\n",
      "834     bald eagle perched in a tree['eagle' 'perch' '...\n",
      "835     fish eagles perched on the top of a tree['eagl...\n",
      "836     bald eagles routinely perch in the tall spruce...\n",
      "                              ...                        \n",
      "1723    A boy and girl eat breakfast in a bed.['bed' '...\n",
      "1724    portrait of a senior woman eating breakfast in...\n",
      "1725    An elephant that is extending its trunk. ['ele...\n",
      "1726    A large gray elephant with its trunk extended[...\n",
      "1727    An elephant extends its trunk out to a man.  [...\n",
      "Length: 896, dtype: object\n",
      "896     traveling through the mountain is a historic t...\n",
      "897     A train traveling between two very large rocky...\n",
      "898     woman lying in the grass smiling['grass' 'lie'...\n",
      "899     portrait of a smiling girl lying on grass['gra...\n",
      "900     Two young children smile as they lay on green ...\n",
      "                              ...                        \n",
      "1851    a mother and daughter play games['daughter' 'g...\n",
      "1852    An intense game between mother and daughter.['...\n",
      "1853    A mother is playing a game of some sort with h...\n",
      "1854    A group of skiers glide along the snow.['glide...\n",
      "1855    The skier easily glides across the snow on a s...\n",
      "Length: 960, dtype: object\n",
      "960     A dog is staring intently out the window.['dog...\n",
      "961     A dog staring at it's own reflection in a wind...\n",
      "962     A fisherman pulling in a net.['fisherman' 'net...\n",
      "963     local fishermen pull a fishing net['fisherman'...\n",
      "964     The fishermen are pulling a net up.['fisherman...\n",
      "                              ...                        \n",
      "1979    tiles bring geometric pattern to the bathroom[...\n",
      "1980    a bathroom filled with floor tiles in a wild p...\n",
      "1981    This bathroom has a pattern of blue tiles on t...\n",
      "1982    a cat rests under a blanket['blanket' 'cat' 'r...\n",
      "1983    a cat resting on the blanket['blanket' 'cat' '...\n",
      "Length: 1024, dtype: object\n",
      "1024    A man grinds a rail on his skateboard.['grind'...\n",
      "1025    The teenage boy is grinding a skateboard on a ...\n",
      "1026    A skateboarder in black, brown, and white is g...\n",
      "1027    The furniture in the large living room looks n...\n",
      "1028    this piece of furniture could look good in any...\n",
      "                              ...                        \n",
      "2107    cattle in a paddock eating hay .['cattle' 'eat...\n",
      "2108    A herd of cattle behind bars eating hay.['catt...\n",
      "2109    The zebra is eating grass in the sun.['eat' 'g...\n",
      "2110    A group of zebras eating grass and relaxing in...\n",
      "2111    visitors look at exhibits at the museum['exhib...\n",
      "Length: 1088, dtype: object\n",
      "1088    a lamb standing next to a larger sheep['lamb' ...\n",
      "1089    A sheep and two lambs standing in hay.['lamb' ...\n",
      "1090    A boy looking at stars with a telescope.['look...\n",
      "1091    A women looks at the stars through her telesco...\n",
      "1092    A redheaded child is looking for stars in her ...\n",
      "                              ...                        \n",
      "2235    sister hugs her younger brother .['brother' 'h...\n",
      "2236    brother hugging sister on the beach['brother' ...\n",
      "2237    little sister hugging her newborn brother .['b...\n",
      "2238    the cat lies in a tinsel with toys['cat' 'lie'...\n",
      "2239    A cat is playing with its toy while lying down...\n",
      "Length: 1152, dtype: object\n",
      "1152    An elephant walks along on a grassy plain. ['e...\n",
      "1153    Sunlight is coming in windows on a living room...\n",
      "1154    sunlight comes through the stained glass windo...\n",
      "1155    sunlight coming through venetian blinds by the...\n",
      "1156         boats moored in the bay['bay' 'boat' 'moor']\n",
      "                              ...                        \n",
      "2363    passengers exit a train at the station .['exit...\n",
      "2364    the plagued train exiting central station on i...\n",
      "2365    mother and daughter sharing an apple in the pa...\n",
      "2366    a sweet moment shared between mother and daugh...\n",
      "2367    mother and daughter sharing a treat for good g...\n",
      "Length: 1216, dtype: object\n",
      "1216    a family has their portrait taken at christmas...\n",
      "1217    a flock of sheep and shepherds['flock' 'sheep'...\n",
      "1218    the shepherd with his flock of sheep .['flock'...\n",
      "1219    shepherds taking their flock of sheep into the...\n",
      "1220    nurse and doctors in a hospital['doctor' 'hosp...\n",
      "                              ...                        \n",
      "2491    A biker covering his eyes from the sun.['cover...\n",
      "2492    A man and woman are covering their eyes from t...\n",
      "2493    A young woman covers her eyes because the sun ...\n",
      "2494    A train traveling full speed down the tracks.[...\n",
      "2495    train travelling at speed through the countrys...\n",
      "Length: 1280, dtype: object\n",
      "1280    wide shot of a hiker walking in autumn forest[...\n",
      "1281    rocking chairs on an old porch['chair' 'porch'...\n",
      "1282    A man is in a rocking chair on his porch.['cha...\n",
      "1283    porch with rocking chairs facing the action['c...\n",
      "1284    a ship docked at a harbor['dock' 'harbor' 'ship']\n",
      "                              ...                        \n",
      "2619    portrait of a man lying down at desk near lapt...\n",
      "2620    tattoos on various parts of the body['body' 'p...\n",
      "2621    A woman is getting a tattoo on some part of he...\n",
      "2622    A tattoo was engraved on the body of a man in ...\n",
      "2623    locals shop at a market for food['food' 'marke...\n",
      "Length: 1344, dtype: object\n",
      "1344    dark rain clouds over shadow a field of trees[...\n",
      "1345    time lapse with stormy clouds and trees on a f...\n",
      "1346    yachts moored at a marina['marina' 'moor' 'yac...\n",
      "1347    yacht moored in the marina['marina' 'moor' 'ya...\n",
      "1348    Small rowboats and yachts moored in a calm mar...\n",
      "                              ...                        \n",
      "2747    sparkles of light reflecting on a glass full o...\n",
      "2748    his glasses are reflecting the blinding light ...\n",
      "2749    this downed tree was along side the trail .['s...\n",
      "2750    rocks and trees on the west side of the trail[...\n",
      "2751    A skier coming down a trail with trees on eith...\n",
      "Length: 1408, dtype: object\n",
      "1408    Downtown road empty during the day with palm t...\n",
      "1409    stacks of boxes and other items fill a room['f...\n",
      "1410    The room is filled with remarkable items well ...\n",
      "1411    A room filled with different types of items al...\n",
      "1412    cars moving fast on a highway['car' 'highway' ...\n",
      "                              ...                        \n",
      "2875    Goats and a sheep sharing a green pasture.['go...\n",
      "2876    a bunch of sheep or goats in a pasture togethe...\n",
      "2877    golfer study the green before putting shot['go...\n",
      "2878    golfer making his second shot to the third gre...\n",
      "2879    golfer plays his second shot into the fourth g...\n",
      "Length: 1472, dtype: object\n",
      "1472     running trains in the city['city' 'run' 'train']\n",
      "1473    steam train which runs via a city['city' 'run'...\n",
      "1474     a pair of ducks eats grass['eat' 'grass' 'pair']\n",
      "1475    this is a pair of zebras eating grass['eat' 'g...\n",
      "1476    a pair of white swans eat grass near the shore...\n",
      "                              ...                        \n",
      "3003    A mother gets ready to leave her daughter at c...\n",
      "3004    mother and daughter throwing autumn leaves in ...\n",
      "3005    community members left balloons notes as a mem...\n",
      "3006      flame from a lit match['flame' 'light' 'match']\n",
      "3007    match is lit and the flame spreads to others['...\n",
      "Length: 1536, dtype: object\n",
      "1536    There is a mountain in the distance past a fie...\n",
      "1537    round bales of hay on a golden field with moun...\n",
      "1538    girl looking at a herd of sheep['herd' 'look' ...\n",
      "1539    a nomad looks over his herd of sheep['herd' 'l...\n",
      "1540    aircraft with clouds in the blue sky .['aircra...\n",
      "                              ...                        \n",
      "3131    A sleeping toddler has toppled out of his crib...\n",
      "3132    A pair of zebra looking in opposite directions...\n",
      "3133    a pair of tourists look for directions outside...\n",
      "3134    A skateboarder sliding on a rail.['rail' 'skat...\n",
      "3135    Skateboarder slides across rail in corridor.['...\n",
      "Length: 1600, dtype: object\n",
      "1600    A player is tackling his opponent['opponent' '...\n",
      "1601    player gets tackled by an opponent .['opponent...\n",
      "1602    A football player in red being tackled by oppo...\n",
      "1603    smoke billows from the building .['billow' 'bu...\n",
      "1604    smoke billows from a building on a farm['billo...\n",
      "                              ...                        \n",
      "3259    An airplane takes off, or is landing at the ai...\n",
      "3260    A large passenger airplane has either just tak...\n",
      "3261    The black boxer wins the match.['boxer' 'match...\n",
      "3262    The boxer in white shorts is winning the match...\n",
      "3263    A group of elephants feed in some trees.['elep...\n",
      "Length: 1664, dtype: object\n",
      "1664    stained glass windows in almost every room['ro...\n",
      "1665    living room with the grand stained glass windo...\n",
      "1666    A large room with a plush couch and stained gl...\n",
      "1667    flock of sheep in the meadow['flock' 'meadow' ...\n",
      "1668    flock of sheep grazing on a meadow .['flock' '...\n",
      "                              ...                        \n",
      "3387    a nurse tends to a patient .['nurse' 'patient'...\n",
      "3388    surgeons and nurses tending to a patient['nurs...\n",
      "3389    pediatric patient with a teddy bear being tend...\n",
      "3390    white cat smelling a bouquet of flowers['cat' ...\n",
      "3391    my cat smelling the flowers from my garden['ca...\n",
      "Length: 1728, dtype: object\n",
      "1728           hats hung on the wall['hang' 'hat' 'wall']\n",
      "1729    A rack of hats hanging from a wall.['hang' 'ha...\n",
      "1730    hard hat hanging as a trophy on wall['hang' 'h...\n",
      "1731    train tracks leading into the mist['lead' 'tra...\n",
      "1732    train tracks leading to a darkened sky['lead' ...\n",
      "                              ...                        \n",
      "3515    A plate of tomatoes topped with fresh mozzarel...\n",
      "3516    A mini pizza with olives, tomatoes, mozzarella...\n",
      "3517    A herd of sheep standing in a meadow.['herd' '...\n",
      "3518    herd of deer standing on the meadow at sunrise...\n",
      "3519    a woman hiding her face behind an umbrella['fa...\n",
      "Length: 1792, dtype: object\n",
      "1792    Cyclists ride through a forest while onlookers...\n",
      "1793    A horse is pulling a wagon full of hay.['hay' ...\n",
      "1794    Three horses are pulling a wagon covered in ha...\n",
      "1795    living room with red sofa and pillows .['pillo...\n",
      "1796    A woman arranging pillows on a sofa in a livin...\n",
      "                              ...                        \n",
      "3643    group of cattle being herded at a ranch['cattl...\n",
      "3644    Two skewers of vegetables and broccoli  on a p...\n",
      "3645    stock image oflebanese dish from italian dish ...\n",
      "3646    Firemen are battling a fire.['battle' 'fire' '...\n",
      "3647    firemen battle a fire on the eighth floor['bat...\n",
      "Length: 1856, dtype: object\n",
      "1856    Several skiers leave tracks while gliding acro...\n",
      "1857    a child spreads peanut butter on a piece of br...\n",
      "1858    two young boys are spreading mayonnaise on a p...\n",
      "1859    Butter is being spread on a piece of bread and...\n",
      "1860    bananas hanging on a wall .['banana' 'hang' 'w...\n",
      "                              ...                        \n",
      "3771    A baby is trying to go to sleep wjile the moth...\n",
      "3772    A boy is sleeping on his mother who is eagerly...\n",
      "3773    chicken burger with fries and ketchup on a whi...\n",
      "3774    slow motion of delicious french fries falling ...\n",
      "3775    A woman tosses rocks across the lake.['lake' '...\n",
      "Length: 1920, dtype: object\n",
      "1920    A snowboarder in red and black grinds a yellow...\n",
      "1921    Sheep and lamb under a tree in a pasture.['pas...\n",
      "1922    A flock of sheep graze in a pasture near some ...\n",
      "1923    sheep graze on pasture under bare winter trees...\n",
      "1924    doctor standing outside a hospital['doctor' 'h...\n",
      "                              ...                        \n",
      "3899    aircraft of squadron waiting to join the runwa...\n",
      "3900    an aircraft waiting to take off from an airpor...\n",
      "3901    A man is working at a construction site as a s...\n",
      "3902    Several people work various jobs at a dig site...\n",
      "3903    crucifix in church on the stone wall['church' ...\n",
      "Length: 1984, dtype: object\n",
      "1984    Two grey tabby cats resting on a blue blanket....\n",
      "1985    young boys feed seagulls on the beach['beach' ...\n",
      "1986    A small child is on the beach feeding a seagul...\n",
      "1987    an old woman feeds a flock of seagulls on a be...\n",
      "1988    image shows a cup of coffee .['coffee' 'cup' '...\n",
      "                              ...                        \n",
      "4027    sheep and cattle seen grazing in a field['catt...\n",
      "4028    A field has a herd of sheep and cattle freely ...\n",
      "4029    religious couple plying their way through the ...\n",
      "4030    a couple of people on snow boards make their w...\n",
      "4031    sleeping cat on the pillows and auto rickshaw ...\n",
      "Length: 2048, dtype: object\n",
      "2048    large deck with fire pit overlooking the lake[...\n",
      "2049    gazebo on deck overlooking lake on a cloudy da...\n",
      "2050    Pair of giraffes in field of brush and trees.[...\n",
      "2051    a pair of giraffes eating from a tree in savan...\n",
      "2052    A pair of giraffes grazing on a field next to ...\n",
      "                              ...                        \n",
      "4155    tree silhouette under the orange sky['silhouet...\n",
      "4156    a plate with meat and potatoes on it ['meat' '...\n",
      "4157    an image of meat, vegetables and potato on pla...\n",
      "4158    The plate is full of broccoli, potatoes, and m...\n",
      "4159    clouds over the sky in lapse['cloud' 'lapse' '...\n",
      "Length: 2112, dtype: object\n",
      "2112    Two people are looking at an exhibit in a muse...\n",
      "2113    an interesting looking biplane is on exhibit o...\n",
      "2114    a pizza on a table with olives on it ['olive' ...\n",
      "2115    pizza with pineapple and black olives on the o...\n",
      "2116    Small pizza with mushrooms, olives, basil, tom...\n",
      "                              ...                        \n",
      "4283    a soldier runs over to provide security['provi...\n",
      "4284    a bee collects nectar on a flower['collect' 'f...\n",
      "4285    bees collect nectar from the flowers['collect'...\n",
      "4286    bumblebee collecting nectar at a flower['colle...\n",
      "4287    The man is looking at the parked motorcycle. [...\n",
      "Length: 2176, dtype: object\n",
      "2176    A couple of airplanes stand docked in an airpo...\n",
      "2177    Several \"nok\" colorful airplanes are docked at...\n",
      "2178    lost man looking at map in the desert['look' '...\n",
      "2179    A woman is lost and is looking at a map.['look...\n",
      "2180    a cup of coffee with a spoon and saucer['cup' ...\n",
      "                              ...                        \n",
      "4411    Two giraffes in an enclosure eating a tree.['e...\n",
      "4412    A giraffe in its zoo enclosure bending over to...\n",
      "4413    A giraffe eats from the tall basket in his zoo...\n",
      "4414    bathroom with a toilet with the lid up['bathro...\n",
      "4415    Two toilets with lids closed in a bathroom.['b...\n",
      "Length: 2240, dtype: object\n",
      "2240    breed a cat lying on the orange carpet beside ...\n",
      "2241    skyscraper is the tallest building in the city...\n",
      "2242    modern glass buildings of skyscrapers in the c...\n",
      "2243    A city with skyscrapers, other buildings, and ...\n",
      "2244    sheep grazing in front of a wind farm['front' ...\n",
      "                              ...                        \n",
      "4495    A baby elephant walking along side its mother[...\n",
      "4496    a big elephant and small one walking side by s...\n",
      "4497    winding road in a mountain['mountain' 'road' '...\n",
      "4498    winding road up the mountain['mountain' 'road'...\n",
      "4499    roads wind around and between the mountains .[...\n",
      "Length: 2260, dtype: object\n",
      "2304    An airplane is in the sky over some mountains....\n",
      "2305    There is a goat on a mountain and airplane in ...\n",
      "2306    The friends talk about their days['day' 'frien...\n",
      "2307    men pass the time of day talking with friends[...\n",
      "2308    A teenager talking to her friend on a windy da...\n",
      "                              ...                        \n",
      "4495    A baby elephant walking along side its mother[...\n",
      "4496    a big elephant and small one walking side by s...\n",
      "4497    winding road in a mountain['mountain' 'road' '...\n",
      "4498    winding road up the mountain['mountain' 'road'...\n",
      "4499    roads wind around and between the mountains .[...\n",
      "Length: 2196, dtype: object\n",
      "2368    alarm clock with a stack of books['book' 'cloc...\n",
      "2369    A lime green clock has been placed on a tall s...\n",
      "2370    stacks of magazines and books on a table['book...\n",
      "2371    The coffee table is covered with books and mag...\n",
      "2372    the slanted storage space beneath this table i...\n",
      "                              ...                        \n",
      "4495    A baby elephant walking along side its mother[...\n",
      "4496    a big elephant and small one walking side by s...\n",
      "4497    winding road in a mountain['mountain' 'road' '...\n",
      "4498    winding road up the mountain['mountain' 'road'...\n",
      "4499    roads wind around and between the mountains .[...\n",
      "Length: 2132, dtype: object\n",
      "2432    a city looks good under the lights .['city' 'l...\n",
      "2433    star trails and the lights looking up a city ....\n",
      "2434    what the northern lights could look like above...\n",
      "2435    small private airplanes parked in a row['airpl...\n",
      "2436    A row of airplanes parked next to each other o...\n",
      "                              ...                        \n",
      "4495    A baby elephant walking along side its mother[...\n",
      "4496    a big elephant and small one walking side by s...\n",
      "4497    winding road in a mountain['mountain' 'road' '...\n",
      "4498    winding road up the mountain['mountain' 'road'...\n",
      "4499    roads wind around and between the mountains .[...\n",
      "Length: 2068, dtype: object\n",
      "2496    A train is traveling at high speed to reach it...\n",
      "2497    red roofs of the train station and trains['roo...\n",
      "2498    a red train at a station with a glass roof['ro...\n",
      "2499    bullet train parked at the station under a roo...\n",
      "2500     rabbits sitting in a cage['cage' 'rabbit' 'sit']\n",
      "                              ...                        \n",
      "4495    A baby elephant walking along side its mother[...\n",
      "4496    a big elephant and small one walking side by s...\n",
      "4497    winding road in a mountain['mountain' 'road' '...\n",
      "4498    winding road up the mountain['mountain' 'road'...\n",
      "4499    roads wind around and between the mountains .[...\n",
      "Length: 2004, dtype: object\n",
      "2560    people gather around the tables to fill their ...\n",
      "2561    a plate of steak, broccoli, and mashed potatoe...\n",
      "2562    T-bone steak, mashed potatoes, and mushrooms o...\n",
      "2563    train going over bridge on a heavy rain day['b...\n",
      "2564    A train crossing a bridge in the middle of the...\n",
      "                              ...                        \n",
      "4495    A baby elephant walking along side its mother[...\n",
      "4496    a big elephant and small one walking side by s...\n",
      "4497    winding road in a mountain['mountain' 'road' '...\n",
      "4498    winding road up the mountain['mountain' 'road'...\n",
      "4499    roads wind around and between the mountains .[...\n",
      "Length: 1940, dtype: object\n",
      "2624    The old lady is shopping for food in the marke...\n",
      "2625    A group of people shopping for food at the mar...\n",
      "2626    A man is looking at art in a museum.['art' 'lo...\n",
      "2627    Many people look at art in the main lobby of a...\n",
      "2628    paper flowers decorate the edge of the heart['...\n",
      "                              ...                        \n",
      "4495    A baby elephant walking along side its mother[...\n",
      "4496    a big elephant and small one walking side by s...\n",
      "4497    winding road in a mountain['mountain' 'road' '...\n",
      "4498    winding road up the mountain['mountain' 'road'...\n",
      "4499    roads wind around and between the mountains .[...\n",
      "Length: 1876, dtype: object\n",
      "2688    clouds fill the sky above a city .['city' 'fil...\n",
      "2689    A city filled with tall buildings under a gray...\n",
      "2690    fried chicken and other main dishes served['ch...\n",
      "2691    whole chicken on a dish to be served at restau...\n",
      "2692    A dish is served with chicken and many vegetab...\n",
      "                              ...                        \n",
      "4495    A baby elephant walking along side its mother[...\n",
      "4496    a big elephant and small one walking side by s...\n",
      "4497    winding road in a mountain['mountain' 'road' '...\n",
      "4498    winding road up the mountain['mountain' 'road'...\n",
      "4499    roads wind around and between the mountains .[...\n",
      "Length: 1812, dtype: object\n",
      "2752    aircraft parked at the airport['aircraft' 'air...\n",
      "2753    A small aircraft is parked at an airport.['air...\n",
      "2754    A large aircraft parked on the runway in an ai...\n",
      "2755    boy and teacher looking at each other in class...\n",
      "2756    video of a teacher looking at the blackboard i...\n",
      "                              ...                        \n",
      "4495    A baby elephant walking along side its mother[...\n",
      "4496    a big elephant and small one walking side by s...\n",
      "4497    winding road in a mountain['mountain' 'road' '...\n",
      "4498    winding road up the mountain['mountain' 'road'...\n",
      "4499    roads wind around and between the mountains .[...\n",
      "Length: 1748, dtype: object\n",
      "2816    tile adds interest and color to a minimal bath...\n",
      "2817    A bathroom has different colors and shapes of ...\n",
      "2818    A flock of sheep is led down a rural road['flo...\n",
      "2819    profession leading a flock of sheep across sno...\n",
      "2820    the shepherd leads a flock of sheep grazing ju...\n",
      "                              ...                        \n",
      "4495    A baby elephant walking along side its mother[...\n",
      "4496    a big elephant and small one walking side by s...\n",
      "4497    winding road in a mountain['mountain' 'road' '...\n",
      "4498    winding road up the mountain['mountain' 'road'...\n",
      "4499    roads wind around and between the mountains .[...\n",
      "Length: 1684, dtype: object\n",
      "2880    A man is spreading marinara sauce on a pizza c...\n",
      "2881    A girl uses a spoon to spread sauce onto two s...\n",
      "2882    an orange moon appears between the clouds['app...\n",
      "2883    A full moon appears, half hidden by clouds.['a...\n",
      "2884    The moon appears from behind a bank of cloud.[...\n",
      "                              ...                        \n",
      "4495    A baby elephant walking along side its mother[...\n",
      "4496    a big elephant and small one walking side by s...\n",
      "4497    winding road in a mountain['mountain' 'road' '...\n",
      "4498    winding road up the mountain['mountain' 'road'...\n",
      "4499    roads wind around and between the mountains .[...\n",
      "Length: 1620, dtype: object\n",
      "2944    young monk sitting on the roof of temple .['mo...\n",
      "2945    a young shepherd tends to sheep['sheep' 'sheph...\n",
      "2946    a shepherd tending to his flock of sheep ['she...\n",
      "2947    panning shot of a tree filled with pink flower...\n",
      "2948    an olive tree filled with emerging flowers and...\n",
      "                              ...                        \n",
      "4495    A baby elephant walking along side its mother[...\n",
      "4496    a big elephant and small one walking side by s...\n",
      "4497    winding road in a mountain['mountain' 'road' '...\n",
      "4498    winding road up the mountain['mountain' 'road'...\n",
      "4499    roads wind around and between the mountains .[...\n",
      "Length: 1556, dtype: object\n",
      "3008    A kid strikes a match and then lights up a fla...\n",
      "3009    a very large bathroom with a lot of space['bat...\n",
      "3010    a bathroom in the home comes with lots of coun...\n",
      "3011    people buy groceries at a market .['buy' 'groc...\n",
      "3012    locals buying groceries at the local market .[...\n",
      "                              ...                        \n",
      "4495    A baby elephant walking along side its mother[...\n",
      "4496    a big elephant and small one walking side by s...\n",
      "4497    winding road in a mountain['mountain' 'road' '...\n",
      "4498    winding road up the mountain['mountain' 'road'...\n",
      "4499    roads wind around and between the mountains .[...\n",
      "Length: 1492, dtype: object\n",
      "3072    the new jet being taken for a test flight['fli...\n",
      "3073    A gray military  jet taking off for flight['fl...\n",
      "3074    a passenger jet takes off on its first flight ...\n",
      "3075    A skier moves down a slope with trees off in t...\n",
      "3076    green meadows flowers trees and mountain slope...\n",
      "                              ...                        \n",
      "4495    A baby elephant walking along side its mother[...\n",
      "4496    a big elephant and small one walking side by s...\n",
      "4497    winding road in a mountain['mountain' 'road' '...\n",
      "4498    winding road up the mountain['mountain' 'road'...\n",
      "4499    roads wind around and between the mountains .[...\n",
      "Length: 1428, dtype: object\n",
      "3136    A skateboarders slides down a rail over a jeep...\n",
      "3137    People are singing karaoke at a bar.['bar' 'ka...\n",
      "3138    A man in a bar is singing karaoke while other ...\n",
      "3139    a silver vintage aircraft seen parked on an ai...\n",
      "3140    High wing, single engine aircraft parked at ai...\n",
      "                              ...                        \n",
      "4495    A baby elephant walking along side its mother[...\n",
      "4496    a big elephant and small one walking side by s...\n",
      "4497    winding road in a mountain['mountain' 'road' '...\n",
      "4498    winding road up the mountain['mountain' 'road'...\n",
      "4499    roads wind around and between the mountains .[...\n",
      "Length: 1364, dtype: object\n",
      "3200    beautiful big old tree with vines growing on i...\n",
      "3201    the crops of corn for sale at market['corn' 'm...\n",
      "3202    sacks of corn and grains for sale at a local m...\n",
      "3203    students work on their homework .['homework' '...\n",
      "3204    a student works on homework outside['homework'...\n",
      "                              ...                        \n",
      "4495    A baby elephant walking along side its mother[...\n",
      "4496    a big elephant and small one walking side by s...\n",
      "4497    winding road in a mountain['mountain' 'road' '...\n",
      "4498    winding road up the mountain['mountain' 'road'...\n",
      "4499    roads wind around and between the mountains .[...\n",
      "Length: 1300, dtype: object\n",
      "3264    you can feed your christmas tree to an elephan...\n",
      "3265    a number of wild elephants are feeding on tree...\n",
      "3266    A horse grazes for grass on a plain.['graze' '...\n",
      "3267    a herd of horses graze on the plain .['graze' ...\n",
      "3268    Two horses grazing on open plains under a blue...\n",
      "                              ...                        \n",
      "4495    A baby elephant walking along side its mother[...\n",
      "4496    a big elephant and small one walking side by s...\n",
      "4497    winding road in a mountain['mountain' 'road' '...\n",
      "4498    winding road up the mountain['mountain' 'road'...\n",
      "4499    roads wind around and between the mountains .[...\n",
      "Length: 1236, dtype: object\n",
      "3328    The pastor is giving a sermon.['give' 'pastor'...\n",
      "3329    People excitedly cheer as a pastor gives his s...\n",
      "3330    Dogs hiking at the mountain['dog' 'hike' 'moun...\n",
      "3331    man hiking a mountain with his dog['dog' 'hike...\n",
      "3332    The man is hiking in the mountains with the co...\n",
      "                              ...                        \n",
      "4495    A baby elephant walking along side its mother[...\n",
      "4496    a big elephant and small one walking side by s...\n",
      "4497    winding road in a mountain['mountain' 'road' '...\n",
      "4498    winding road up the mountain['mountain' 'road'...\n",
      "4499    roads wind around and between the mountains .[...\n",
      "Length: 1172, dtype: object\n",
      "3392    there is a cat that is smelling some flowers [...\n",
      "3393    dog in the fountain cooling down on hot summer...\n",
      "3394    it's a hot day so this girl decided to cool of...\n",
      "3395    Two construction workers lay cement for a foun...\n",
      "3396    Three city workers, clad in their safety gear,...\n",
      "                              ...                        \n",
      "4495    A baby elephant walking along side its mother[...\n",
      "4496    a big elephant and small one walking side by s...\n",
      "4497    winding road in a mountain['mountain' 'road' '...\n",
      "4498    winding road up the mountain['mountain' 'road'...\n",
      "4499    roads wind around and between the mountains .[...\n",
      "Length: 1108, dtype: object\n",
      "3456    An urban train emerges from a tunnel in the ci...\n",
      "3457    A kid visiting an art museum.['kid' 'museum' '...\n",
      "3458    how to visit art museum with kids['kid' 'museu...\n",
      "3459    geese coming in to land in the evening sky['co...\n",
      "3460    Looking up into a stormy sky at a jet coming i...\n",
      "                              ...                        \n",
      "4495    A baby elephant walking along side its mother[...\n",
      "4496    a big elephant and small one walking side by s...\n",
      "4497    winding road in a mountain['mountain' 'road' '...\n",
      "4498    winding road up the mountain['mountain' 'road'...\n",
      "4499    roads wind around and between the mountains .[...\n",
      "Length: 1044, dtype: object\n",
      "3520    Two small children hiding their faces behind u...\n",
      "3521    a bear takes a dip in the creek['bear' 'dip' '...\n",
      "3522    black bear taking a refreshing dip in our gard...\n",
      "3523    Tourists on a walking tour of England.['tour' ...\n",
      "3524    tourists now have walking tours to introduce t...\n",
      "                              ...                        \n",
      "4495    A baby elephant walking along side its mother[...\n",
      "4496    a big elephant and small one walking side by s...\n",
      "4497    winding road in a mountain['mountain' 'road' '...\n",
      "4498    winding road up the mountain['mountain' 'road'...\n",
      "4499    roads wind around and between the mountains .[...\n",
      "Length: 980, dtype: object\n",
      "3584    a boxer punched in the face['boxer' 'face' 'pu...\n",
      "3585    Two boxers punch each other in the face at the...\n",
      "3586    hiking trail on a sunny day['day' 'hike' 'trail']\n",
      "3587    Two people hike on a nature trail next to a la...\n",
      "3588    a man and woman cross a fallen tree while hiki...\n",
      "                              ...                        \n",
      "4495    A baby elephant walking along side its mother[...\n",
      "4496    a big elephant and small one walking side by s...\n",
      "4497    winding road in a mountain['mountain' 'road' '...\n",
      "4498    winding road up the mountain['mountain' 'road'...\n",
      "4499    roads wind around and between the mountains .[...\n",
      "Length: 916, dtype: object\n",
      "3648    fruit and yogurt in a bowl['bowl' 'fruit' 'yog...\n",
      "3649    an image of a bowl of fruit and yogurt .['bowl...\n",
      "3650    frozen yogurt with fresh fruit in a white bowl...\n",
      "3651    lonely dog laying on the pavement['dog' 'lay' ...\n",
      "3652    A white dog is laying down on pavement.['dog' ...\n",
      "                              ...                        \n",
      "4495    A baby elephant walking along side its mother[...\n",
      "4496    a big elephant and small one walking side by s...\n",
      "4497    winding road in a mountain['mountain' 'road' '...\n",
      "4498    winding road up the mountain['mountain' 'road'...\n",
      "4499    roads wind around and between the mountains .[...\n",
      "Length: 852, dtype: object\n",
      "3712    Tourist in ancient asian cities spend their da...\n",
      "3713    some zebras gather around a watering hole in a...\n",
      "3714    giraffe and zebra at a watering hole in the sa...\n",
      "3715    A rider leans into the curve.['curve' 'lean' '...\n",
      "3716    Two motorcycle riders are leaning deep into a ...\n",
      "                              ...                        \n",
      "4495    A baby elephant walking along side its mother[...\n",
      "4496    a big elephant and small one walking side by s...\n",
      "4497    winding road in a mountain['mountain' 'road' '...\n",
      "4498    winding road up the mountain['mountain' 'road'...\n",
      "4499    roads wind around and between the mountains .[...\n",
      "Length: 788, dtype: object\n",
      "3776    A little girl tosses a rock into the lake and ...\n",
      "3777    soccer players with his foot on a football['fo...\n",
      "3778    A rugby football flies from the foot of a play...\n",
      "3779    portrait of a crawling baby on the carpet in m...\n",
      "3780    A young baby crawls on the carpet into a room ...\n",
      "                              ...                        \n",
      "4495    A baby elephant walking along side its mother[...\n",
      "4496    a big elephant and small one walking side by s...\n",
      "4497    winding road in a mountain['mountain' 'road' '...\n",
      "4498    winding road up the mountain['mountain' 'road'...\n",
      "4499    roads wind around and between the mountains .[...\n",
      "Length: 724, dtype: object\n",
      "3840    This is a parrot gnawing on a branch while ano...\n",
      "3841    A very colorful parrot perched on a wooden bra...\n",
      "3842    picnic with family and friends at the lakeside...\n",
      "3843    treat family and friends to a picnic with a go...\n",
      "3844    A family or a group of friends are having a pi...\n",
      "                              ...                        \n",
      "4495    A baby elephant walking along side its mother[...\n",
      "4496    a big elephant and small one walking side by s...\n",
      "4497    winding road in a mountain['mountain' 'road' '...\n",
      "4498    winding road up the mountain['mountain' 'road'...\n",
      "4499    roads wind around and between the mountains .[...\n",
      "Length: 660, dtype: object\n",
      "3904    a large crucifix hangs on the inside wall of a...\n",
      "3905    A church with lots of wooden pews and an illum...\n",
      "3906        a dog dressed up for day['day' 'dog' 'dress']\n",
      "3907    a dog dressed in the colours to celebrate inde...\n",
      "3908    Two dogs dressed up for St Patrick's day in gr...\n",
      "                              ...                        \n",
      "4495    A baby elephant walking along side its mother[...\n",
      "4496    a big elephant and small one walking side by s...\n",
      "4497    winding road in a mountain['mountain' 'road' '...\n",
      "4498    winding road up the mountain['mountain' 'road'...\n",
      "4499    roads wind around and between the mountains .[...\n",
      "Length: 596, dtype: object\n",
      "3968    Two sheep graze in a grassy field at the edge ...\n",
      "3969    slow aerial approach to an old abandoned shack...\n",
      "3970    A white toilet and bath in a room.['bath' 'roo...\n",
      "3971    common toilet and bath for the room['bath' 'ro...\n",
      "3972    toilet and bath in the smaller double rooms['b...\n",
      "                              ...                        \n",
      "4495    A baby elephant walking along side its mother[...\n",
      "4496    a big elephant and small one walking side by s...\n",
      "4497    winding road in a mountain['mountain' 'road' '...\n",
      "4498    winding road up the mountain['mountain' 'road'...\n",
      "4499    roads wind around and between the mountains .[...\n",
      "Length: 532, dtype: object\n",
      "4032    Several people walk by a rickshaw containing a...\n",
      "4033    Five people in walking in an alley near a rick...\n",
      "4034    a family relaxing in boat .['boat' 'family' 'r...\n",
      "4035    A family is relaxing on their bright yellow bo...\n",
      "4036    leader of politician and his family relaxing o...\n",
      "                              ...                        \n",
      "4495    A baby elephant walking along side its mother[...\n",
      "4496    a big elephant and small one walking side by s...\n",
      "4497    winding road in a mountain['mountain' 'road' '...\n",
      "4498    winding road up the mountain['mountain' 'road'...\n",
      "4499    roads wind around and between the mountains .[...\n",
      "Length: 468, dtype: object\n",
      "4096    A cat lying on a blanket with a stuffed toy.['...\n",
      "4097    baby boy lying on the blanket with many toys['...\n",
      "4098    The man is carrying the box to his car.['box' ...\n",
      "4099    retro car carries gift boxes through the old t...\n",
      "4100    a rare rainstorm reflects neon lights along to...\n",
      "                              ...                        \n",
      "4495    A baby elephant walking along side its mother[...\n",
      "4496    a big elephant and small one walking side by s...\n",
      "4497    winding road in a mountain['mountain' 'road' '...\n",
      "4498    winding road up the mountain['mountain' 'road'...\n",
      "4499    roads wind around and between the mountains .[...\n",
      "Length: 404, dtype: object\n",
      "4160    time lapse of clouds passing by the sky['cloud...\n",
      "4161    time lapse of moving cloud on a blue sky['clou...\n",
      "4162     sun breaks behind a cloud['break' 'cloud' 'sun']\n",
      "4163    sun breaking through a cloud['break' 'cloud' '...\n",
      "4164    sun breaks through the clouds['break' 'cloud' ...\n",
      "                              ...                        \n",
      "4495    A baby elephant walking along side its mother[...\n",
      "4496    a big elephant and small one walking side by s...\n",
      "4497    winding road in a mountain['mountain' 'road' '...\n",
      "4498    winding road up the mountain['mountain' 'road'...\n",
      "4499    roads wind around and between the mountains .[...\n",
      "Length: 340, dtype: object\n",
      "4224    a bee collecting pollen from white flowers .['...\n",
      "4225    A bathroom with white toilet and shower stall[...\n",
      "4226    A toilet that is in a blue stall in a bathroom...\n",
      "4227    Three bathroom stalls with toilets in a restro...\n",
      "4228    portrait of a mother and daughter['daughter' '...\n",
      "                              ...                        \n",
      "4495    A baby elephant walking along side its mother[...\n",
      "4496    a big elephant and small one walking side by s...\n",
      "4497    winding road in a mountain['mountain' 'road' '...\n",
      "4498    winding road up the mountain['mountain' 'road'...\n",
      "4499    roads wind around and between the mountains .[...\n",
      "Length: 276, dtype: object\n",
      "4288    People looking at motorcycles parked in a row....\n",
      "4289    A man looking for a place to park his motorcyc...\n",
      "4290    flower moving in the wind['flower' 'move' 'wind']\n",
      "4291    flowers of tree moving on the wind['flower' 'm...\n",
      "4292    little pink flowers moved by the wind['flower'...\n",
      "                              ...                        \n",
      "4495    A baby elephant walking along side its mother[...\n",
      "4496    a big elephant and small one walking side by s...\n",
      "4497    winding road in a mountain['mountain' 'road' '...\n",
      "4498    winding road up the mountain['mountain' 'road'...\n",
      "4499    roads wind around and between the mountains .[...\n",
      "Length: 212, dtype: object\n",
      "4352    fishermen hauling boat up the beach at coast['...\n",
      "4353    religious leader celebrates a mass['celebrate'...\n",
      "4354    religious leader celebrated mass on saturday['...\n",
      "4355    religious leader celebrating mass at chapel .[...\n",
      "4356    A pizza on a plate with peppers and cheese.['c...\n",
      "                              ...                        \n",
      "4495    A baby elephant walking along side its mother[...\n",
      "4496    a big elephant and small one walking side by s...\n",
      "4497    winding road in a mountain['mountain' 'road' '...\n",
      "4498    winding road up the mountain['mountain' 'road'...\n",
      "4499    roads wind around and between the mountains .[...\n",
      "Length: 148, dtype: object\n",
      "4416    A toilet that is in a bathroom that has its li...\n",
      "4417    A pizza with olive, cheese, tomato and onion.[...\n",
      "4418    Baked pizza with red tomatoes and green olives...\n",
      "4419    A clock mounted to the side of a wall.['clock'...\n",
      "4420    A very tall tower with a clock mounted on it's...\n",
      "                              ...                        \n",
      "4495    A baby elephant walking along side its mother[...\n",
      "4496    a big elephant and small one walking side by s...\n",
      "4497    winding road in a mountain['mountain' 'road' '...\n",
      "4498    winding road up the mountain['mountain' 'road'...\n",
      "4499    roads wind around and between the mountains .[...\n",
      "Length: 84, dtype: object\n",
      "4480       water flowing over a dam['dam' 'flow' 'water']\n",
      "4481    fast flowing water in the dam['dam' 'flow' 'wa...\n",
      "4482    A lone zebra is grazing by a tree['graze' 'tre...\n",
      "4483    Two zebra grazing on grass near a tree.['graze...\n",
      "4484    A zebra grazes under a large shade tree.['graz...\n",
      "4485    players warm up during training session['playe...\n",
      "4486    cricket player warms up ahead of a nets sessio...\n",
      "4487    football player warms down after a training se...\n",
      "4488    A bathroom with a toilet, cabinet and rug. ['b...\n",
      "4489    A toilet that is in a bathroom with blue rugs....\n",
      "4490    A bathroom has a red circular rug by the toile...\n",
      "4491    fan show his support before the match['fan' 'm...\n",
      "4492    fans shows their support after the match['fan'...\n",
      "4493    a fan shows his support prior to the match .['...\n",
      "4494    A man walking with two elephants out side.['el...\n",
      "4495    A baby elephant walking along side its mother[...\n",
      "4496    a big elephant and small one walking side by s...\n",
      "4497    winding road in a mountain['mountain' 'road' '...\n",
      "4498    winding road up the mountain['mountain' 'road'...\n",
      "4499    roads wind around and between the mountains .[...\n",
      "dtype: object\n"
     ]
    }
   ],
   "source": [
    "for text in data_generator() : \n",
    "    print(text)"
   ],
   "metadata": {
    "collapsed": false,
    "ExecuteTime": {
     "end_time": "2024-10-12T01:25:06.567769900Z",
     "start_time": "2024-10-12T01:25:06.269767200Z"
    }
   }
  },
  {
   "cell_type": "markdown",
   "metadata": {
    "id": "JS-nxpFN9Fxr"
   },
   "source": [
    "Vous devez maintenant compléter la fonction :\n",
    "- `train_tokenizer` qui prend en paramètre un tokenizer pour entraîner ce dernier à l'aide de la fonction [train_from_iterator](https://github.com/huggingface/tokenizers/blob/main/bindings/python/py_src/tokenizers/implementations/byte_level_bpe.py). Le générateur de données (data_generator) est envoyé à la fonction train_from_iterator tout comme la taille du vocabulaire, les jetons spéciaux et la fréquence minimum d'une séquence pour la considérer comme un jeton. Indiquez explicitement une fréquence minimum de 2."
   ]
  },
  {
   "cell_type": "code",
   "execution_count": 357,
   "metadata": {
    "id": "Xhy4Axwq9Fxr",
    "ExecuteTime": {
     "end_time": "2024-10-12T01:25:06.877937100Z",
     "start_time": "2024-10-12T01:25:06.331644900Z"
    }
   },
   "outputs": [],
   "source": [
    "\n",
    "from tokenizers import AddedToken, Tokenizer, decoders, pre_tokenizers, processors, trainers\n",
    "\n",
    "def train_tokenizer(tokenizer: CharBPETokenizer):\n",
    "    \"\"\"\n",
    "    Entraîne le tokenizer passé en paramètre en appelant la fonction train_from_iterator\n",
    "    et en spécifiant le générateur de donnée (data_generator), la taille du vocabulaire,\n",
    "    les jetons spéciaux et une fréquence minimum de 2 (indiquez le explicitement)\n",
    "    \"\"\"\n",
    "    # TODO\n",
    "    \n",
    "    return tokenizer.train_from_iterator(data_generator() , vocab_size = VOCAB_SIZE , special_tokens  = special_tokens, min_frequency = 2 )\n",
    "    # END TODO\n",
    "\n",
    "train_tokenizer(base_tokenizer)\n",
    "\n",
    "# On ajoute les jetons de début, de fin de phrase et de jeton inconnu\n",
    "bos_token_id = base_tokenizer.token_to_id(\"[BOS]\")\n",
    "eos_token_id = base_tokenizer.token_to_id(\"[EOS]\")\n",
    "unk_token_id = base_tokenizer.token_to_id(\"[UNK]\")\n",
    "\n",
    "# On applique un template au tokenizer pour qu'il ajoute\n",
    "# les jetons au début et à la fin de chaque phrase\n",
    "base_tokenizer.post_processor = processors.TemplateProcessing(\n",
    "    single=f\"[BOS]:0 $A:0 [EOS]:0\",\n",
    "    special_tokens=[\n",
    "        (\"[BOS]\", bos_token_id),\n",
    "        (\"[EOS]\", eos_token_id),\n",
    "    ],\n",
    ")\n"
   ]
  },
  {
   "cell_type": "markdown",
   "metadata": {
    "id": "goTLCnvu9Fxr"
   },
   "source": [
    "Nous allons maintenant transformer notre tokenizer pour qu'il soit compatible avec l'API de la librairie Huggingface. Cela permettra entre autre de faciliter les appels de méthodes pour modifier facilement nos entrées. Par exemple, avec l'API de Huggingface, nous pouvons simplement appeler la méthode `tokenize` pour diviser une séquence en jetons (`Welcome` -> `[W, el, come]`). De la même manière, l'API nous permet d'appeler les méthodes `encode` et `decode` pour transformer une chaîne de caractères en séquences d'indices de jetons (`Welcome` -> `[36, 170, 664]`) et inversement."
   ]
  },
  {
   "cell_type": "code",
   "execution_count": 358,
   "metadata": {
    "id": "lFU2lsU52tRU",
    "ExecuteTime": {
     "end_time": "2024-10-12T01:25:06.891187900Z",
     "start_time": "2024-10-12T01:25:06.877937100Z"
    }
   },
   "outputs": [],
   "source": [
    "from transformers import PreTrainedTokenizerFast\n",
    "\n",
    "tokenizer = PreTrainedTokenizerFast(tokenizer_object=base_tokenizer._tokenizer, truncation=True)\n",
    "tokenizer.add_special_tokens({\n",
    "    'pad_token': \"[PAD]\",\n",
    "    'bos_token': \"[BOS]\",\n",
    "    'eos_token': \"[EOS]\",\n",
    "    'unk_token': \"[UNK]\"\n",
    "});"
   ]
  },
  {
   "cell_type": "markdown",
   "metadata": {
    "id": "I1HQ12tm9Fxr"
   },
   "source": [
    "Testons maintenant notre tokenizer sur une phrase de test"
   ]
  },
  {
   "cell_type": "code",
   "execution_count": 359,
   "metadata": {
    "colab": {
     "base_uri": "https://localhost:8080/"
    },
    "id": "RXwsa-s92tRU",
    "outputId": "f3aed644-46da-47f1-d5e7-22f0c0dc9488",
    "ExecuteTime": {
     "end_time": "2024-10-12T01:25:06.896111500Z",
     "start_time": "2024-10-12T01:25:06.893699700Z"
    }
   },
   "outputs": [
    {
     "name": "stdout",
     "output_type": "stream",
     "text": [
      "Welcome ! The boat arrived at the station ! 🤗  \n",
      "\n",
      "['W', 'el', 'come</w>', '!</w>', 'The</w>', 'boat</w>', 'arrived</w>', 'at</w>', 'the</w>', 'station</w>', '!</w>', '[UNK]']\n"
     ]
    }
   ],
   "source": [
    "test_input = 'Welcome ! The boat arrived at the station ! 🤗 '\n",
    "print(test_input, '\\n')\n",
    "print(tokenizer.tokenize(test_input))"
   ]
  },
  {
   "cell_type": "markdown",
   "metadata": {
    "id": "M9VPYkgF9Fxr"
   },
   "source": [
    "Observons maintenant la même phrase, mais une fois encodée en nombre. Décodons-la ensuite à partir de sa version encodée pour voir si nous retrouvons la phrase initiale.\n",
    "\n",
    "- La méthode `encode` permet de transformer une séquence de mots en séquence de nombres correspondant aux indices des différents jetons de la phrase dans le vocabulaire\n",
    "- La méthode `decode` permet de transformer une séquence d'indices de jetons en phrase lisible."
   ]
  },
  {
   "cell_type": "code",
   "execution_count": 360,
   "metadata": {
    "colab": {
     "base_uri": "https://localhost:8080/"
    },
    "id": "OGYIbuYw2tRU",
    "outputId": "415ff727-6e82-46c9-a969-e52de73618ad",
    "ExecuteTime": {
     "end_time": "2024-10-12T01:25:06.901149700Z",
     "start_time": "2024-10-12T01:25:06.896111500Z"
    }
   },
   "outputs": [
    {
     "name": "stdout",
     "output_type": "stream",
     "text": [
      "Texte initial :  Welcome ! The boat arrived at the station ! 🤗 \n",
      "====================================================================================================\n",
      "Texte encodé :  [1, 36, 168, 807, 94, 277, 295, 2875, 129, 118, 350, 94, 3, 2]\n",
      "Texte décodé :  [BOS]Welcome! The boat arrived at the station! [UNK][EOS]\n"
     ]
    }
   ],
   "source": [
    "print('Texte initial : ', test_input)\n",
    "print('=' * 100)\n",
    "print('Texte encodé : ', tokenizer.encode(test_input))\n",
    "print('Texte décodé : ', tokenizer.decode(tokenizer.encode(test_input)))"
   ]
  },
  {
   "cell_type": "markdown",
   "metadata": {
    "id": "bgAOmSe-9Fxr"
   },
   "source": [
    "#### 3.2 Que remarquez-vous dans la version segmentée (tokenized) de la phrase de test ? Quelles sont les différences entre la phrase initiale et la phrase décodée ? Pourquoi ? (2 points)"
   ]
  },
  {
   "cell_type": "markdown",
   "metadata": {
    "id": "SJt5coCQ9Fxs"
   },
   "source": [
    "### 4. Transformer (28 points)"
   ]
  },
  {
   "cell_type": "markdown",
   "metadata": {
    "id": "P2qoKbLl9Fxs"
   },
   "source": [
    "Il est maintenant le temps de construire les couches du Transformer. Son architecture globale est présentée dans la figure suivante. :\n",
    "\n",
    "![Transformer](images/transformer.png)\n",
    "\n",
    "Les couches sont définies pour vous et vous n'avez qu'à compléter, à moins d'indication contraire, la fonction `forward` de chacune des classes qui prend un tenseur en entrée et effectue une transformation sur celui-ci pour générer une sortie. Cette transformation varie en fonction de chaque classe. Une description de ce que doit faire la classe est indiquée à chaque étape. Lorsque la fonction `forward` est complexe, une figure est fournie pour vous guider. Attention, ne changez pas le constructeur ou le nom de la classe !"
   ]
  },
  {
   "cell_type": "markdown",
   "metadata": {
    "id": "hxIkdQnH9Fxs"
   },
   "source": [
    "#### 4.1 Positional Embedding\n",
    "Le Transformer encode l'information de l'ordre des mots dans les plongements des mots. Des plongements de position sont calculés et ils sont ajoutés aux plongements de contexte. Dans ce cas-ci la classe `PositionalEmbedding` vous est donnée."
   ]
  },
  {
   "cell_type": "code",
   "execution_count": 361,
   "metadata": {
    "id": "jWGyCzdH2tRU",
    "ExecuteTime": {
     "end_time": "2024-10-12T01:25:07.005369900Z",
     "start_time": "2024-10-12T01:25:06.901149700Z"
    }
   },
   "outputs": [],
   "source": [
    "class PositionalEmbedding(nn.Module):\n",
    "    \"\"\"\n",
    "    Cette classe a été prise de l'implémentation originale du papier 'Attention Is All You Need'\n",
    "    \"\"\"\n",
    "\n",
    "    def __init__(self, max_seq_length, embedding_dim):\n",
    "        super(PositionalEmbedding, self).__init__()\n",
    "\n",
    "        self.max_seq_length = max_seq_length\n",
    "        self.embedding_dim = embedding_dim\n",
    "\n",
    "        pe = torch.zeros(max_seq_length, self.embedding_dim)\n",
    "        position = torch.arange(0, max_seq_length, dtype=torch.float).unsqueeze(1)\n",
    "        div_term = torch.exp(torch.arange(0, self.embedding_dim, 2).float() * -(math.log(10000.0) / self.embedding_dim))\n",
    "\n",
    "        pe[:, 0::2] = torch.sin(position * div_term)\n",
    "        pe[:, 1::2] = torch.cos(position * div_term)\n",
    "\n",
    "        self.register_buffer('pe', pe.unsqueeze(0))\n",
    "\n",
    "    def forward(self, x: torch.Tensor):\n",
    "        return x + self.pe[:, :x.size(1)]\n"
   ]
  },
  {
   "cell_type": "markdown",
   "metadata": {
    "id": "qGaeIr1r9Fxs"
   },
   "source": [
    "#### 4.2 Attention (6 points)\n",
    "Le mécanisme d'attention est le coeur de l'architecture du Transformer. Il permet notamment la parallélisation de l'entraînement tout en garantissant un lien direct entre tous les jetons. Vous devrez implémenter la fonction `scaled_dot_product_attention` qui effectue le calcul principal derrière le mécanisme d'attention. Cette fonction prend en entrée les tenseurs `Q`, `K`, `V` et effectue le calcul suivant :\n",
    "$$A = \\texttt{softmax}\\Big( \\frac{Q K^T \\odot M}{\\texttt{head\\_dim}} \\Big) V$$\n",
    "où $M$ est le masque d'attention qui doit être appliqué. Plus de détails sont indiqués dans la description de la fonction à propos du masque. Par rapport au tenseur de clés, vous remarquerez dans la formule qu'une transposée est appliquée sur ce tenseur. Étant donné qu'un tenseur possède plus que 2 dimensions, il est important de spécifier quelles dimensions seront transposées dans le tenseur. Dans notre cas, il s'agit des dimensions correspondants aux jetons de la séquence et aux plongements des jetons"
   ]
  },
  {
   "cell_type": "code",
   "execution_count": 362,
   "metadata": {
    "id": "lVVuGLFY2tRU",
    "ExecuteTime": {
     "end_time": "2024-10-12T01:25:07.021403400Z",
     "start_time": "2024-10-12T01:25:06.918617600Z"
    }
   },
   "outputs": [],
   "source": [
    "class MultiHeadAttention(nn.Module):\n",
    "    def __init__(self, model_dim, num_heads):\n",
    "        super(MultiHeadAttention, self).__init__()\n",
    "        assert model_dim % num_heads == 0, \"La dimension du modèle doit être divisible par le nombre de têtes d'attention\"\n",
    "\n",
    "        self.model_dim = model_dim\n",
    "        self.num_heads = num_heads\n",
    "        self.head_dim = model_dim // num_heads\n",
    "\n",
    "        self.wq = nn.Linear(model_dim, model_dim) # Query\n",
    "        self.wk = nn.Linear(model_dim, model_dim) # Key\n",
    "        self.wv = nn.Linear(model_dim, model_dim) # Value\n",
    "        self.wo = nn.Linear(model_dim, model_dim) # Output\n",
    "\n",
    "        self.mask_value = -1e9\n",
    "\n",
    "    def scaled_dot_product_attention(self, Q, K, V, mask=None):\n",
    "        \"\"\"\n",
    "        Calcule les plongements d'attention en utilisant la formule\n",
    "\n",
    "        attn = softmax(Q * K^T @ mask / head_dim) * V\n",
    "\n",
    "        Args :\n",
    "            Q : plongements des queries\n",
    "            Taille : [batch_size, num_heads, seq_length, head_dim]\n",
    "\n",
    "            K : plongements des keys\n",
    "            Taille : [batch_size, num_heads, seq_length, head_dim]\n",
    "\n",
    "            V : plongement des values\n",
    "            Taille : [batch_size, num_heads, seq_length, head_dim]\n",
    "\n",
    "            mask : Masque d'attention qui doit être appliqué avant le softmax pour que\n",
    "            les jetons ne portent pas leur attention sur certains jetons. Le masque est\n",
    "            notamment utilisé dans le décodeur pour s'assurer que le transformer n'ait\n",
    "            pas accès aux futurs jetons lorsqu'il essaie de prédire le prochain jeton.\n",
    "            Il contient des valeurs 0 ou 1. Une valeur de 0 à la position i,j indique\n",
    "            que pour le jeton i, le jeton j doit être masqué. Pour masquer la valeur,\n",
    "            il suffit de mettre une valeur très petite (self.mask_value) à l'indice i,j.\n",
    "            La fonction masked_fill de PyTorch pourrait être utile\n",
    "            Taille : [1, seq_length, seq_length]\n",
    "\n",
    "        Returns :\n",
    "        Résultat du calcul d'attention de taille [batch_size, num_heads, seq_length, head_dim]\n",
    "        \"\"\"\n",
    "        # TODO\n",
    "        scores = torch.matmul(Q, K.transpose(-2, -1))\n",
    "    \n",
    "\n",
    "        d_k = Q.size(-1)  # head_dim\n",
    "        scores = scores / torch.sqrt(torch.tensor(d_k, dtype=torch.float32))\n",
    "    \n",
    "    \n",
    "        if mask is not None:\n",
    "            scores = scores.masked_fill(mask == 0, self.mask_value) \n",
    "    \n",
    "        \n",
    "        attn_weights = torch.softmax(scores, dim=-1)\n",
    "    \n",
    "   \n",
    "        attention_output = torch.matmul(attn_weights, V) \n",
    "    \n",
    "        return attention_output\n",
    "        \n",
    "\n",
    "        \n",
    "        \n",
    "        \n",
    "        \n",
    "        # END TODO\n",
    "\n",
    "    def split_heads(self, x):\n",
    "        \"\"\"\n",
    "        Sépare une entrée sur plusieurs têtes d'attention\n",
    "\n",
    "        Args :\n",
    "            x : Tenseur d'entrée\n",
    "            Taille : [batch_size, seq_length, model_dim]\n",
    "\n",
    "        Returns :\n",
    "        Tenseur séparé sur plusieurs têtes d'attention\n",
    "        Taille : [batch_size, num_heads, seq_length, head_dim]\n",
    "        \"\"\"\n",
    "        return x.view(x.shape[0], x.shape[1], self.num_heads, self.head_dim).transpose(1, 2)\n",
    "\n",
    "    def combine_heads(self, x):\n",
    "        \"\"\"\n",
    "        Combine une entrée à travers les têtes d'attention\n",
    "\n",
    "        Args :\n",
    "            x : Tenseur d'entrée\n",
    "            Taille : [batch_size, num_heads, seq_length, head_dim]\n",
    "\n",
    "        Returns :\n",
    "        Tenseur séparé sur plusieurs têtes d'attention\n",
    "        Taille : [batch_size, seq_length, model_dim]\n",
    "        \"\"\"\n",
    "        return x.transpose(1, 2).contiguous().view(x.shape[0], x.shape[2], self.model_dim)\n",
    "\n",
    "    def forward(self, queries, keys, values, mask=None):\n",
    "        \"\"\"\n",
    "        Exécute le mécanisme d'attention à travers plusieurs têtes\n",
    "        d'attention\n",
    "\n",
    "        Args :\n",
    "            queries : plongements des queries\n",
    "            Taille : [batch_size, seq_length, model_dim]\n",
    "\n",
    "            keys : plongements des keys\n",
    "            Taille : [batch_size, seq_length, model_dim]\n",
    "\n",
    "            values : plongement des values\n",
    "            Taille : [batch_size, seq_length, model_dim]\n",
    "\n",
    "            mask : mask qui sera appliqué\n",
    "            Taille : [1, seq_length, seq_length]\n",
    "\n",
    "        Returns :\n",
    "        Tenseur contenant les plongements finaux de chaque indice de\n",
    "        la séquence\n",
    "        Taille : [batch_size, seq_length, model_dim]\n",
    "        \"\"\"\n",
    "        \n",
    "        \n",
    "        #print(f'the type of the queries is {type(queries)}')\n",
    "        Q = self.split_heads(self.wq(queries))\n",
    "        K = self.split_heads(self.wk(keys))\n",
    "        V = self.split_heads(self.wv(values))\n",
    "\n",
    "        attn_output = self.scaled_dot_product_attention(Q, K, V, mask)\n",
    "        return self.wo(self.combine_heads(attn_output))"
   ]
  },
  {
   "cell_type": "code",
   "execution_count": 363,
   "metadata": {
    "colab": {
     "base_uri": "https://localhost:8080/"
    },
    "id": "4RmDSGKW9Fxs",
    "outputId": "9ea294a3-141f-4c45-cb7c-f8fe672dbd47",
    "ExecuteTime": {
     "end_time": "2024-10-12T01:25:07.021403400Z",
     "start_time": "2024-10-12T01:25:06.919122300Z"
    }
   },
   "outputs": [
    {
     "name": "stdout",
     "output_type": "stream",
     "text": [
      "tensor([[[-0.6789,  2.8487,  2.8666, -1.1983,  3.2915,  0.5359],\n",
      "         [-0.3437,  3.1045,  3.0715, -1.1405,  3.2748,  0.3843],\n",
      "         [-2.5825,  4.2728, -0.0114, -2.2663, -0.0922, -2.4731],\n",
      "         [-2.5749,  4.2706, -0.0056, -2.2613, -0.0874, -2.4694]]])\n"
     ]
    }
   ],
   "source": [
    "def test_attention():\n",
    "    batch_size = 1\n",
    "    seq_length = 4\n",
    "    model_dim = 6\n",
    "    num_heads = 2\n",
    "\n",
    "    torch.random.manual_seed(42)\n",
    "    attention = MultiHeadAttention(model_dim=model_dim, num_heads=num_heads)\n",
    "    inputs = torch.randint(0, 10, (batch_size, seq_length, model_dim), dtype=torch.float32)\n",
    "    mask = (1 - torch.triu(torch.ones(1, seq_length, seq_length), diagonal=1))\n",
    "    print(attention.forward(inputs, inputs, inputs, mask=mask).detach())\n",
    "\n",
    "test_attention()"
   ]
  },
  {
   "cell_type": "markdown",
   "metadata": {
    "id": "LYhfAMYn9Fxv"
   },
   "source": [
    "Sortie attendue :\n",
    "```\n",
    "tensor([[[-0.6789,  2.8487,  2.8666, -1.1983,  3.2915,  0.5359],\n",
    "         [-0.3437,  3.1045,  3.0715, -1.1405,  3.2748,  0.3843],\n",
    "         [-2.5825,  4.2728, -0.0114, -2.2663, -0.0922, -2.4731],\n",
    "         [-2.5749,  4.2706, -0.0056, -2.2613, -0.0874, -2.4694]]])\n",
    "```"
   ]
  },
  {
   "cell_type": "markdown",
   "metadata": {
    "id": "sWlUCL9J9Fxv"
   },
   "source": [
    "#### 4.3 Encodeur (6 points)\n",
    "L'encodeur du Transformer encode la séquence d'entrée dans des vecteurs de contexte avant d'envoyer ces vecteurs de contexte au décodeur pour qu'ils puissent être utilisés pour générer la séquence de sortie. Vous n'avez qu'à compléter les fonctions `forward` des classes `TransformerFeedForward`, `EncoderLayer` et `Encoder`. L'architecture d'une couche d'encodeur `EncoderLayer` est décrite dans la figure suivante :\n",
    "\n",
    "![EncoderLayer](images/encoder_layer.png)"
   ]
  },
  {
   "cell_type": "markdown",
   "metadata": {
    "id": "GXmZRBKw9Fxv"
   },
   "source": [
    "La classe `TransformerFeedForward` représente une couche simple de réseaux de neurones avec la fonction d'activation `ReLU` qui sera présente dans l'encodeur. Son architecture est décrite dans la figure suivante :\n",
    "\n",
    "![TransformerFeedForward](images/transformer_feed_forward.png)"
   ]
  },
  {
   "cell_type": "code",
   "execution_count": 364,
   "metadata": {
    "id": "NtiCsab89Fxv",
    "ExecuteTime": {
     "end_time": "2024-10-12T01:25:07.021403400Z",
     "start_time": "2024-10-12T01:25:06.936467Z"
    }
   },
   "outputs": [],
   "source": [
    "class TransformerFeedForward(nn.Module):\n",
    "\n",
    "    def __init__(self, model_dim: int, ff_dim: int) -> None:\n",
    "        super(TransformerFeedForward, self).__init__()\n",
    "        self.model_dim = model_dim\n",
    "        self.ff_dim = ff_dim\n",
    "\n",
    "        self.ff1 = nn.Linear(model_dim, ff_dim)\n",
    "        self.ff2 = nn.Linear(ff_dim, model_dim)\n",
    "\n",
    "    def forward(self, x: torch.Tensor):\n",
    "        \"\"\"\n",
    "        Applique les deux couches linéaires (ff) consécutivement avec la fonction\n",
    "        d'activation ReLU après chaque couche linéaire\n",
    "\n",
    "        Args :\n",
    "            x : Tenseur d'entrée de taille [batch_size, model_dim]\n",
    "\n",
    "        Returns :\n",
    "        Tenseur après être passé à travers les couches linéaires de taille\n",
    "        [batch_size, model_dim]\n",
    "        \"\"\"\n",
    "        # TODO\n",
    "        x = self.ff1(x)\n",
    "        x = torch.relu(x)\n",
    "        x= self.ff2(x)\n",
    "        x = torch.relu(x)\n",
    "        return x \n",
    "        # END TODO"
   ]
  },
  {
   "cell_type": "markdown",
   "metadata": {
    "id": "SOdPH-wA9Fxv"
   },
   "source": [
    "La classe `EncoderLayer` représente une seule couche qui applique le mécanisme d'attention sur la sortie de la couche précédente. Dans le cas de la première couche d'encodeur, il s'agit simplement de la couche de plongements des jetons. Par la suite, le résultat du mécanisme d'attention est normalisé et envoyé à une couche de réseau de neurones."
   ]
  },
  {
   "cell_type": "code",
   "execution_count": 365,
   "metadata": {
    "id": "WM-OxKRy2tRU",
    "ExecuteTime": {
     "end_time": "2024-10-12T01:25:07.021403400Z",
     "start_time": "2024-10-12T01:25:06.941481200Z"
    }
   },
   "outputs": [],
   "source": [
    "class EncoderLayer(nn.Module):\n",
    "\n",
    "    def __init__(self, model_dim: int, ff_dim: int, dropout_rate: int = 0.3, num_heads=8) -> None:\n",
    "        super(EncoderLayer, self).__init__()\n",
    "\n",
    "        self.self_attention = MultiHeadAttention(model_dim=model_dim, num_heads=num_heads)\n",
    "        self.feed_forward = TransformerFeedForward(model_dim=model_dim, ff_dim=ff_dim)\n",
    "        self.attention_layer_norm = nn.LayerNorm(model_dim)\n",
    "        self.ff_layer_norm = nn.LayerNorm(model_dim)\n",
    "        self.dropout = nn.Dropout(dropout_rate)\n",
    "\n",
    "    def forward(self, x: torch.Tensor, encoder_mask: torch.Tensor = None):\n",
    "        \"\"\"\n",
    "        Applique la couche d'attention, de normalisation et de réseau de neurones\n",
    "        sur l'entrée\n",
    "\n",
    "        Args :\n",
    "            x : Tenseur d'entrée de l'encodeur correspondant à la séquence d'entrée\n",
    "            Taille : [batch_size, seq_length, model_dim]\n",
    "\n",
    "        Returns :\n",
    "        Tenseur après avoir appliqués les couches de taille [batch_size, seq_length,\n",
    "        model_dim]\n",
    "        \"\"\"\n",
    "        # TODO\n",
    "        attention_output = self.self_attention(x, x, x, mask=encoder_mask)\n",
    "        attention_output = self.dropout(attention_output)  \n",
    "        x = self.attention_layer_norm(x + attention_output)  \n",
    "    \n",
    "        # Apply feed-forward network with residual connection\n",
    "        ff_output = self.feed_forward(x)\n",
    "        ff_output = self.dropout(ff_output) \n",
    "        x = self.ff_layer_norm(x + ff_output)  \n",
    "        return x \n",
    "        \n",
    "        \n",
    "        \n",
    "        # END TODO"
   ]
  },
  {
   "cell_type": "markdown",
   "metadata": {
    "id": "ktqwGE8r9Fxv"
   },
   "source": [
    "La classe `Encoder` correspond à une suite de plusieurs couches d'encodeurs. La fonction `forward` de cette classe doit appeler chacune des couches (`EncoderLayer`) une à la suite de l'autre en passant à la couche courante la sortie de la couche précédente. Le masque est partagé entre toutes les couches `EncoderLayer`."
   ]
  },
  {
   "cell_type": "code",
   "execution_count": 366,
   "metadata": {
    "id": "75n3oqTP2tRV",
    "ExecuteTime": {
     "end_time": "2024-10-12T01:25:07.021403400Z",
     "start_time": "2024-10-12T01:25:06.945887700Z"
    }
   },
   "outputs": [],
   "source": [
    "class Encoder(nn.Module):\n",
    "\n",
    "    def __init__(self, num_layers: int, model_dim: int, ff_dim: int, dropout_rate: int = 0.3, num_heads=8) -> None:\n",
    "        super(Encoder, self).__init__()\n",
    "\n",
    "        self.layers = nn.ModuleList(\n",
    "            [EncoderLayer(\n",
    "                model_dim=model_dim,\n",
    "                ff_dim=ff_dim,\n",
    "                dropout_rate=dropout_rate,\n",
    "                num_heads=num_heads,\n",
    "            ) for _ in range(num_layers)]\n",
    "        )\n",
    "\n",
    "    def forward(self, x: torch.Tensor, encoder_mask: torch.LongTensor = None):\n",
    "        \"\"\"\n",
    "        Applique toutes les couches d'encodeur consécutivement\n",
    "\n",
    "        Args :\n",
    "            x : Tenseur d'entrée de l'encodeur correspondant à la séquence d'entrée\n",
    "            Taille : [batch_size, seq_length, model_dim]\n",
    "\n",
    "            encoder_mask : Tenseur contenant le masque qui sera utilisé par l'encodeur\n",
    "            pour cacher certains jetons (notamment les jetons [PAD])\n",
    "        Returns :\n",
    "        Tenseur après avoir appliqués les couches dans l'encodeur de taille\n",
    "        [batch_size, seq_length, model_dim]\n",
    "        \"\"\"\n",
    "        # TODO \n",
    "        for layer in self.layers:\n",
    "            x = layer(x, encoder_mask)\n",
    "            #print(\"I'm going here \")\n",
    "            #print(x)\n",
    "\n",
    "        return x\n",
    "\n",
    "        \n",
    "        # END TODO"
   ]
  },
  {
   "cell_type": "markdown",
   "metadata": {
    "id": "YBfB3AjY9Fxw"
   },
   "source": [
    "#### 4.4 Décodeur (8 points)\n",
    "Le décodeur est la partie du Transformer qui génère la séquence de sortie en prenant le contexte de la séquence d'entrée et les jetons qui ont été générés précédemment. De la même manière que l'encodeur, la classe `DecoderLayer` représente une seule couche de décodeur. L'architecture du `DecoderLayer` est présentée dans la figure suivante :\n",
    "\n",
    "![DecoderLayer](images/decoder_layer.png)"
   ]
  },
  {
   "cell_type": "code",
   "execution_count": 367,
   "metadata": {
    "id": "Fj8tGjvg2tRV",
    "ExecuteTime": {
     "end_time": "2024-10-12T01:25:07.021403400Z",
     "start_time": "2024-10-12T01:25:06.962040800Z"
    }
   },
   "outputs": [],
   "source": [
    "class DecoderLayer(nn.Module):\n",
    "\n",
    "    def __init__(self, model_dim: int, ff_dim: int, dropout_rate: int = 0.3, num_heads=8) -> None:\n",
    "        super(DecoderLayer, self).__init__()\n",
    "\n",
    "        self.self_attention = MultiHeadAttention(model_dim=model_dim, num_heads=num_heads)\n",
    "        self.cross_attention = MultiHeadAttention(model_dim=model_dim, num_heads=num_heads)\n",
    "\n",
    "        self.feed_forward = TransformerFeedForward(model_dim=model_dim, ff_dim=ff_dim)\n",
    "\n",
    "        self.self_attention_layer_norm = nn.LayerNorm(model_dim)\n",
    "        self.cross_attention_layer_norm = nn.LayerNorm(model_dim)\n",
    "        self.ff_layer_norm = nn.LayerNorm(model_dim)\n",
    "\n",
    "        self.dropout = nn.Dropout(dropout_rate)\n",
    "\n",
    "    def forward(self,\n",
    "                x: torch.Tensor,\n",
    "                encoder_out: torch.Tensor,\n",
    "                encoder_mask: torch.LongTensor = None,\n",
    "                decoder_mask: torch.LongTensor = None):\n",
    "        \"\"\"\n",
    "        Applique les couches d'attention, de normalisation et de réseau de neurones\n",
    "        sur l'entrée\n",
    "\n",
    "        Args :\n",
    "            x : Entrée du décodeur correspondant à la séquence de sortie décalée vers\n",
    "            la droite\n",
    "            Taille : [batch_size, seq_length, model_dim]\n",
    "\n",
    "            encoder_output : Sortie de l'encodeur utilisé pour la couche de cross-\n",
    "            attention\n",
    "            Taille : [batch_size, seq_length, model_dim]\n",
    "\n",
    "            encoder_mask : Masque qui cache certains jetons dans la séquence d'entrée.\n",
    "            Par exemple, les jetons [PAD] seront cachés puisqu'ils ne sont utilisés que\n",
    "            pour aggrandir les séquences jusqu'à la fenêtre de contexte du Transformer\n",
    "            Taille : [batch_size, seq_length, seq_length]\n",
    "\n",
    "            decoder_mask : Masque qui cache certains jetons dans la séquence de sortie.\n",
    "            Ce masque est notamment utilisé dans le décodeur pour s'assurer que le\n",
    "            transformer n'ait pas accès aux futurs jetons lorsqu'il essaie de prédire\n",
    "            le prochain jeton.\n",
    "            Taille : [batch_size, seq_length, seq_length]\n",
    "        \"\"\"\n",
    "        # TODO\n",
    "        self_attention_out =self.dropout(self.self_attention(x ,x, x, mask = decoder_mask))\n",
    "        self_attention_out = self.ff_layer_norm(x +self_attention_out)\n",
    "        encoder_attention_out = self.dropout(self.cross_attention(self_attention_out ,encoder_out , encoder_out , mask = encoder_mask))\n",
    "        encoder_attention_out = self.ff_layer_norm(encoder_attention_out+self_attention_out)\n",
    "        \n",
    "        ff_out = self.dropout(self.feed_forward(encoder_attention_out))\n",
    "        out = self.ff_layer_norm(ff_out + encoder_attention_out)\n",
    "        return out\n",
    "        \n",
    "        # END TODO"
   ]
  },
  {
   "cell_type": "markdown",
   "metadata": {
    "id": "dnhBKIIU9Fxw"
   },
   "source": [
    "La classe `Decoder` représente toutes les couches du décodeur. La fonction `forward` de cette classe doit appeler chacune des couches (`DecoderLayer`) une à la suite de l'autre en passant à la couche courante la sortie de la couche précédente. Les attributs `encoder_out`, `encoder_mask` et `decoder_mask` sont partagés entre toutes les couches `DecoderLayer`."
   ]
  },
  {
   "cell_type": "code",
   "execution_count": 368,
   "metadata": {
    "id": "MdjZSpzd2tRV",
    "ExecuteTime": {
     "end_time": "2024-10-12T01:25:07.021403400Z",
     "start_time": "2024-10-12T01:25:06.962545700Z"
    }
   },
   "outputs": [],
   "source": [
    "class Decoder(nn.Module):\n",
    "\n",
    "    def __init__(self, num_layers: int, model_dim: int, ff_dim: int, dropout_rate: int = 0.3, num_heads=8) -> None:\n",
    "        super(Decoder, self).__init__()\n",
    "\n",
    "        self.layers = nn.ModuleList(\n",
    "            [DecoderLayer(\n",
    "                model_dim=model_dim,\n",
    "                ff_dim=ff_dim,\n",
    "                dropout_rate=dropout_rate,\n",
    "                num_heads=num_heads,\n",
    "            ) for _ in range(num_layers)]\n",
    "        )\n",
    "\n",
    "    def forward(self, x: torch.Tensor, encoder_out: torch.Tensor, encoder_mask: torch.LongTensor = None, decoder_mask: torch.LongTensor = None):\n",
    "        \"\"\"\n",
    "        Applique toutes les couches du décodeur consécutivement\n",
    "\n",
    "        Args :\n",
    "            x : Tenseur d'entrée du décodeur correspondant à la séquence de sortie\n",
    "            Taille : [batch_size, seq_length, model_dim]\n",
    "\n",
    "            encoder_out : Tenseur contenant la séquence d'entrée encodée par l'encodeur\n",
    "\n",
    "            encoder_mask : Tenseur contenant le masque qui sera utilisé par l'encodeur\n",
    "            pour cacher certains jetons (notamment les jetons [PAD])\n",
    "\n",
    "            decoder_mask : Tenseur contenant le masque qui sera utilisé par le décodeur\n",
    "            pour cacher certains jetons (notamment les jetons [PAD] et les jetons futurs)\n",
    "\n",
    "        Returns :\n",
    "        Tenseur après avoir appliqués les couches dans l'encodeur de taille\n",
    "        [batch_size, seq_length, model_dim]\n",
    "        \"\"\"\n",
    "        # TODO\n",
    "        for layer in self.layers:\n",
    "            x = layer(x, encoder_out, encoder_mask=encoder_mask, decoder_mask=decoder_mask)\n",
    "\n",
    "        return x\n",
    "        # END TODO"
   ]
  },
  {
   "cell_type": "markdown",
   "metadata": {
    "id": "rqH-GpDP9Fxw"
   },
   "source": [
    "#### 4.5 Transformer (8 points)\n",
    "\n",
    "L'architecture du Transformer est maintenant prête à être assemblée. En utilisant les différentes couches que vous avez implémentées, complétez la fonction `forward` de la classe `Transformer` qui, à partir de l'entrée de l'encodeur et du décodeur, génère la sortie du décodeur. L'architecture, telle que présentée précédemment, correspond à la figure suivante :\n",
    "\n",
    "![Transformer](images/transformer.png)\n",
    "\n",
    "La fonction forward doit passer les entrées à l'encodeur et au décodeur pour pouvoir générer une prédiction en fonction d'une entrée en appliquant les bons masques et encodages de position."
   ]
  },
  {
   "cell_type": "code",
   "execution_count": 369,
   "metadata": {
    "id": "UMWUXGRC2tRV",
    "ExecuteTime": {
     "end_time": "2024-10-12T01:25:07.021403400Z",
     "start_time": "2024-10-12T01:25:06.983745700Z"
    }
   },
   "outputs": [],
   "source": [
    "@dataclass\n",
    "class TransformerConfig:\n",
    "\n",
    "    model_dim: int = 512\n",
    "    ff_dim: int = 2048\n",
    "\n",
    "    nb_encoder: int = 6\n",
    "    nb_decoder: int = 6\n",
    "\n",
    "    num_heads: int = 8\n",
    "\n",
    "    max_seq_length: int = MAX_LENGTH\n",
    "    vocab_size: int = VOCAB_SIZE\n",
    "    device: str = 'cpu'\n",
    "    pad_token_id: int = 0\n",
    "\n",
    "\n",
    "class Transformer(nn.Module):\n",
    "\n",
    "    def __init__(self, config: TransformerConfig) -> None:\n",
    "        super(Transformer, self).__init__()\n",
    "\n",
    "        self.config = config\n",
    "        self.enc_embeddings = nn.Embedding(\n",
    "            num_embeddings=config.vocab_size,\n",
    "            embedding_dim=config.model_dim\n",
    "        )\n",
    "\n",
    "        self.dec_embeddings = nn.Embedding(\n",
    "            num_embeddings=config.vocab_size,\n",
    "            embedding_dim=config.model_dim\n",
    "        )\n",
    "\n",
    "        self.positional_embeddings = PositionalEmbedding(\n",
    "            max_seq_length=config.max_seq_length,\n",
    "            embedding_dim=config.model_dim\n",
    "        )\n",
    "\n",
    "        self.encoder = Encoder(config.nb_encoder, config.model_dim, config.ff_dim, num_heads=config.num_heads)\n",
    "        self.decoder = Decoder(config.nb_decoder, config.model_dim, config.ff_dim, num_heads=config.num_heads)\n",
    "\n",
    "        self.linear_projection = nn.Linear(config.model_dim, config.vocab_size)\n",
    "        self.device = config.device\n",
    "\n",
    "    def generate_mask(self, src, tgt):\n",
    "        \"\"\"\n",
    "        Génère les masques d'attentions pour l'encodeur et le décodeur du transformer en\n",
    "        se basant sur le jeton de pad donné dans la configuration du transformer. Dans le\n",
    "        cas du décodeur, un masque causal est également calculé pour empêcher les jetons\n",
    "        de porter leur attention sur les jetons futurs\n",
    "\n",
    "        Args :\n",
    "            src : Séquence d'entrée\n",
    "\n",
    "        \"\"\"\n",
    "        src_mask = (src != self.config.pad_token_id).unsqueeze(1).unsqueeze(2)\n",
    "        tgt_mask = (tgt != self.config.pad_token_id).unsqueeze(1).unsqueeze(3)\n",
    "        seq_length = tgt.size(1)\n",
    "        nopeak_mask = (1 - torch.triu(torch.ones(1, seq_length, seq_length), diagonal=1)).bool().to(self.device)\n",
    "        tgt_mask = tgt_mask & nopeak_mask\n",
    "        return src_mask, tgt_mask\n",
    "\n",
    "    def forward(self, encoder_x: torch.Tensor, decoder_x: torch.Tensor):\n",
    "        \"\"\"\n",
    "        Génère la sortie du décodeur étant donné une entrée pour l'encodeur et une entrée\n",
    "        pour le décodeur\n",
    "\n",
    "        Args :\n",
    "            encoder_x : Tenseur d'entrée de l'encodeur\n",
    "            Taille : [batch_size, seq_length]\n",
    "\n",
    "            decoder_x : Tenseur d'entrée du décodeur\n",
    "            Taille : [batch_size, seq_length]\n",
    "\n",
    "        Returns :\n",
    "        Sortie du décodeur correspondant au prédictions du jeton le plus proche. Attention,\n",
    "        n'appliquez pas softmax sur ces prédictions. Ce tenseur devrait avoir une taille de\n",
    "        [batch_size, seq_length, vocab_size]\n",
    "        \"\"\"\n",
    "\n",
    "        # TODO\n",
    "        \n",
    "        encoder_mask , decoder_mask = self.generate_mask(encoder_x , decoder_x)\n",
    "        encoder_x = self.positional_embeddings(self.enc_embeddings(encoder_x))\n",
    "        #print(f'encoder_x is {encoder_x} \\n its type {type(encoder_x)}')\n",
    "        encoder_x = self.encoder(encoder_x , encoder_mask)\n",
    "        decoder_x = self.positional_embeddings(self.enc_embeddings(decoder_x))\n",
    "        decoder_x = self.decoder(decoder_x , encoder_x , encoder_mask , decoder_mask)\n",
    "        decoder_y = self.linear_projection(decoder_x)\n",
    "        return decoder_y\n",
    "        \n",
    "        # END TODO"
   ]
  },
  {
   "cell_type": "code",
   "execution_count": 370,
   "outputs": [
    {
     "name": "stdout",
     "output_type": "stream",
     "text": [
      "cuda:0\n"
     ]
    }
   ],
   "source": [
    "if torch.cuda.is_available():\n",
    "    tensor_gpu = torch.tensor([1, 2, 3], device='cuda')\n",
    "    print(tensor_gpu.device)  # Output: cuda:0"
   ],
   "metadata": {
    "collapsed": false,
    "ExecuteTime": {
     "end_time": "2024-10-12T01:25:07.021403400Z",
     "start_time": "2024-10-12T01:25:06.984253900Z"
    }
   }
  },
  {
   "cell_type": "markdown",
   "metadata": {
    "id": "09w2xPmk9Fxw"
   },
   "source": [
    "### 5. Padding et coupure (5 points)\n",
    "\n",
    "Il est important, lors de l'entraînement que toutes les séquences aient la même longueur de texte, car le Transformer prend toujours un nombre fixe de jetons. Cette taille correspond à sa fenêtre de contexte. Afin de s'assurer que toutes les séquences de texte dans un lot d'entraînement soient de la même longueur, nous allons couper les séquences trop longues et ajouter des jetons à celles qui sont trop courtes. Le jeton qui sera ajouté sera le jeton de \"padding\" du tokenizer (`[PAD]`).\n",
    "\n",
    "Complétez la fonction `tokenize` de la classe `DataCollator` qui s'occupe d'appeler le tokenizer avec les textes passés en paramètre en spécifiant les paramètres suivants :\n",
    "- `padding`: `\"max_length\"` (Attention on veut la chaîne de charactère `\"max_length\"`, pas la variable)\n",
    "- `truncation`: `True`\n",
    "- `max_length`: La taille maximale passée dans le constructeur\n",
    "- `return_tensors`: `pt`\n",
    "- `return_token_type_ids`: `False`\n",
    "- `add_special_tokens`: `True`\n",
    "\n",
    "Complétez la fonction `__call__` qui s'occupe de prendre un lot de données (le lot/batch correspondant à un sous-ensemble de l'ensemble d'entraînement) et retourne les entrées de l'encodeur et du décodeur ainsi que la sortie du décodeur du Transformer. Vous devrez prendre le lot passé en paramètre et transformer les colonnes `sentence` et `concepts` du lot en jetons. Les jetons de la colonne `sentence` seront envoyés à l'encodeur et les jetons de la colonne `concepts` seront envoyés au décodeur."
   ]
  },
  {
   "cell_type": "code",
   "execution_count": 371,
   "metadata": {
    "id": "FgvbPOmY9Fxw",
    "ExecuteTime": {
     "end_time": "2024-10-12T01:25:07.021403400Z",
     "start_time": "2024-10-12T01:25:07.000494300Z"
    }
   },
   "outputs": [],
   "source": [
    "from typing import Dict, List, Union\n",
    "\n",
    "\n",
    "class DataCollator:\n",
    "    def __init__(self, tokenizer: Tokenizer, max_length: int, device: str = 'cpu') -> None:\n",
    "        self.tokenizer = tokenizer\n",
    "        self.max_length = max_length\n",
    "        self.device = device\n",
    "\n",
    "        self.pad_token_id = tokenizer.pad_token_id\n",
    "        self.bos_token_id = tokenizer.bos_token_id\n",
    "        self.eos_token_id = tokenizer.eos_token_id\n",
    "\n",
    "    def tokenize(self, texts):\n",
    "        \"\"\"\n",
    "        Transforme la séquence de textes en séquence d'indice de jetons\n",
    "\n",
    "        Args :\n",
    "            texts : Textes à transformer\n",
    "\n",
    "        Returns :\n",
    "        Indices des jetons des textes\n",
    "        \"\"\"\n",
    "        # TODO\n",
    "        return self.tokenizer(texts , padding =  \"max_length\" , truncation = True , max_length = self.max_length , return_tensors = 'pt' , return_token_type_ids =  False , add_special_tokens = True)\n",
    "        # END TODO\n",
    "\n",
    "    def __call__(self, batch: List[Dict[str, Union[str, int]]]) -> Dict[str, torch.Tensor]:\n",
    "        \"\"\"\n",
    "        Transforme une batch contenant les colonnes target et concepts en les envoyant au tokenizer\n",
    "        et préparant les jetons aux entrées et sorties de l'encodeur et du décodeur\n",
    "        \"\"\"\n",
    "        # TODO :\n",
    "        # Tokenize the input sentences for the encoder\n",
    "        sentences = [item['sentence'] for item in batch]  \n",
    "        encoder = self.tokenize(sentences)               \n",
    "        \n",
    "        # Tokenize the target concepts for the decoder\n",
    "        concepts = [item['concepts'] for item in batch]   \n",
    "        decoder = self.tokenize(concepts)               \n",
    "    \n",
    " \n",
    "        return {\n",
    "            'encoder_in': encoder['input_ids'].to(self.device),    'decoder_in': decoder['input_ids'][:, :-1].to(self.device),       \n",
    "            'decoder_out': decoder['input_ids'][:, 1:].to(self.device),        \n",
    "        }\n",
    "        # END TODO\n",
    "\n",
    "        \"\"\"\n",
    "        Dans le décodeur, la séquence attendue est décalée vers la droite d'un jeton à l'entrée du décodeur.\n",
    "        Par exemple, si on veut faire de la traduction, nous pourrions avoir la séquence suivante :\n",
    "\n",
    "        La pomme est verte -> The apple is green\n",
    "\n",
    "        Les valeurs du dictionnaire de retour serait donc :\n",
    "\n",
    "        +-------------+--------+--------+--------+--------+--------+--------+\n",
    "        |   Valeur    | Jeton1 | Jeton2 | Jeton3 | Jeton4 | Jeton5 | Jeton6 |\n",
    "        +-------------+--------+--------+--------+--------+--------+--------+\n",
    "        | encoder_in  | [BOS]  | la     | pomme  | est    | verte  | [EOS]  |\n",
    "        | decoder_in  | [BOS]  | The    | apple  | is     | green  | [EOS]  |\n",
    "        | decoder_out | The    | apple  | is     | green  | [EOS]  | [PAD]  |\n",
    "        +-------------+--------+--------+--------+--------+--------+--------+\n",
    "\n",
    "        Par exemple, pour le jeton 3, le transformer essaiera de prédire le jeton \"is\" avec comme information\n",
    "        tous les jetons de l'encodeur et tous les jetons précédents le \"is\" ([BOS] The apple).\n",
    "\n",
    "        C'est d'ailleurs à cause de ce décalage que nous enlevons le premier jetons dans 'decoder_out'. Aussi,\n",
    "        le dernier jetons dans 'decoder_in' est enlevé, car le Transformer ne devrait jamais voir le jeton\n",
    "        de fin de phrase, car cela voudrait dire que la séquence est terminée. Il devrait seulement le prédire.\n",
    "        \n",
    "        return {\n",
    "            'encoder_in': encoder.to(self.device),\n",
    "            'decoder_in': decoder[:, :-1].to(self.device),\n",
    "            'decoder_out': decoder[:, 1:].to(self.device),\n",
    "        }\n",
    "        \"\"\"\n",
    "        \n"
   ]
  },
  {
   "cell_type": "code",
   "execution_count": 372,
   "metadata": {
    "colab": {
     "base_uri": "https://localhost:8080/"
    },
    "id": "ms_zfOuw9Fxw",
    "outputId": "301a4393-5e76-4f37-a394-0e3b324cf21c",
    "ExecuteTime": {
     "end_time": "2024-10-12T01:25:07.052786500Z",
     "start_time": "2024-10-12T01:25:07.005369900Z"
    }
   },
   "outputs": [
    {
     "name": "stdout",
     "output_type": "stream",
     "text": [
      "====================================================================================================\n",
      "\n",
      "Encoder in detokenized : \n",
      "\n",
      " [BOS]two elephants standing next to each other in their pen [EOS][PAD][PAD][PAD][PAD]\n",
      "[BOS]A big elephant that is standing there quietly in the pen. [EOS]\n",
      "\n",
      "Decoder in detokenized : \n",
      "\n",
      " [BOS]['elephant'' pen'' stand'] [EOS][PAD][PAD]\n",
      "[BOS]['elephant'' pen'' stand'] [EOS][PAD][PAD]\n",
      "\n",
      "Decoder out detokenized : \n",
      "\n",
      " ['elephant'' pen'' stand'] [EOS][PAD][PAD][PAD]\n",
      "['elephant'' pen'' stand'] [EOS][PAD][PAD][PAD]\n",
      "\n",
      "====================================================================================================\n"
     ]
    }
   ],
   "source": [
    "def test_data_collator():\n",
    "    data_collator = DataCollator(tokenizer=tokenizer, max_length=16)\n",
    "    sample_data = test_dataset[:2]\n",
    "    result = data_collator(CustomDataset(data=sample_data))\n",
    "    print('=' * 100)\n",
    "    print()\n",
    "    print('Encoder in detokenized : \\n\\n', '\\n'.join(tokenizer.batch_decode(result['encoder_in'])))\n",
    "    print()\n",
    "    print('Decoder in detokenized : \\n\\n', '\\n'.join(tokenizer.batch_decode(result['decoder_in'])))\n",
    "    print()\n",
    "    print('Decoder out detokenized : \\n\\n', '\\n'.join(tokenizer.batch_decode(result['decoder_out'])))\n",
    "    print()\n",
    "    print('=' * 100)\n",
    "\n",
    "test_data_collator()"
   ]
  },
  {
   "cell_type": "markdown",
   "metadata": {
    "id": "ft9grnXB9Fxw"
   },
   "source": [
    "Sortie attendue :\n",
    "```\n",
    "====================================================================================================\n",
    "\n",
    "Encoder in detokenized :\n",
    "\n",
    " [BOS]two elephants standing next to each other in their pen [EOS][PAD][PAD][PAD][PAD]\n",
    "[BOS]A big elephant that is standing there quietly in the pen. [EOS]\n",
    "\n",
    "Decoder in detokenized :\n",
    "\n",
    " [BOS]['elephant'' pen'' stand'] [EOS][PAD][PAD]\n",
    "[BOS]['elephant'' pen'' stand'] [EOS][PAD][PAD]\n",
    "\n",
    "Decoder out detokenized :\n",
    "\n",
    " ['elephant'' pen'' stand'] [EOS][PAD][PAD][PAD]\n",
    "['elephant'' pen'' stand'] [EOS][PAD][PAD][PAD]\n",
    "\n",
    "====================================================================================================\n",
    "```"
   ]
  },
  {
   "cell_type": "markdown",
   "metadata": {
    "id": "GrA7t_Xy9Fxw"
   },
   "source": [
    "### 6. Création de lots (Batching)\n",
    "\n",
    "Nous allons utiliser la classe `DataLoader` de PyTorch pour charger les données en \"batchs\". La classe `DataCollator` sera passée en paramètre lors du chargement des données pour automatiquement transformer le texte en jetons."
   ]
  },
  {
   "cell_type": "code",
   "execution_count": 373,
   "metadata": {
    "id": "lptJkGPm9Fxw",
    "ExecuteTime": {
     "end_time": "2024-10-12T01:25:07.052786500Z",
     "start_time": "2024-10-12T01:25:07.012539300Z"
    }
   },
   "outputs": [],
   "source": [
    "BATCH_SIZE = 256\n",
    "TEST_BATCH_SIZE = 128\n",
    "\n",
    "collator = DataCollator(tokenizer=tokenizer, max_length=MAX_LENGTH, device=DEVICE)\n",
    "train_loader = DataLoader(train_dataset, batch_size=BATCH_SIZE, shuffle=True, collate_fn=collator)\n",
    "val_loader = DataLoader(val_dataset, batch_size=BATCH_SIZE, shuffle=False, collate_fn=collator)\n",
    "test_loader = DataLoader(test_dataset, batch_size=TEST_BATCH_SIZE, shuffle=False, collate_fn=collator)"
   ]
  },
  {
   "cell_type": "markdown",
   "metadata": {
    "id": "7R_9-0va9Fxw"
   },
   "source": [
    "### 7. Entraînement (26 points)"
   ]
  },
  {
   "cell_type": "markdown",
   "metadata": {
    "id": "9BCgDQaf9Fxw"
   },
   "source": [
    "#### 7.1 Boucle d'entraînement (20 points)\n",
    "\n",
    "Pour pouvoir générer des prédictions qui ont du sens, il faut entraîner le modèle à effectuer ces prédictions à partir des données d'entraînement. Pour cela, la classe `Trainer` sera utilisée. Elle permettra au modèle, à partir de données d'entraînement, d'apprendre la bonne combinaison de paramètres qui effectue les meilleures prédictions. Nous validerons ensuite les prédictions avec l'ensemble de test. L'ensemble de validation sera utilisé durant l'entraînement pour s'assurer que le modèle apprend bien.\n",
    "\n",
    "Compléter les fonctions `train_epoch` et `validation_epoch` de la classe `Trainer` pour permettre au transformer passé en paramètre du constructeur d'être entraîné avec les données d'entraînement.\n",
    "\n",
    "La fonction `train_epoch` doit :\n",
    "- Parcourir toutes les lots (batchs) d'entraînement et pour chaque lot :\n",
    "  - Entraîner le modèle pour ce lot en évaluant la fonction de perte et mettant à jour les paramètres en fonction des gradients\n",
    "- Calculer la perte d'entraînement moyenne\n",
    "- Mettre la perte d'entraînement dans un objet de la classe `History`\n",
    "\n",
    "La fonction `validation_epoch` doit :\n",
    "- Parcourir tous les lots de validation et pour chaque lot :\n",
    "  - Évaluer le modèle sur ce lot en évaluant la fonction de perte\n",
    "- Calculer la perte de validation moyenne\n",
    "- Mettre la perte de validation dans un objet de la classe `History`"
   ]
  },
  {
   "cell_type": "code",
   "execution_count": 374,
   "metadata": {
    "id": "HhqDUPeB2tRV",
    "ExecuteTime": {
     "end_time": "2024-10-12T01:25:07.210054600Z",
     "start_time": "2024-10-12T01:25:07.021403400Z"
    }
   },
   "outputs": [],
   "source": [
    "from tqdm import tqdm\n",
    "\n",
    "class History:\n",
    "\n",
    "    def __init__(self):\n",
    "        self.t_loss = []\n",
    "        self.v_loss = []\n",
    "        self.time_to_train = -1\n",
    "\n",
    "class Trainer:\n",
    "\n",
    "    def __init__(self,\n",
    "                 transformer: Transformer,\n",
    "                 train_loader: DataLoader,\n",
    "                 val_loader: DataLoader,\n",
    "                 num_epochs: int,\n",
    "                 loss_function = None,\n",
    "                 device='cuda',\n",
    "                 saving_path='model') -> None:\n",
    "        \"\"\"\n",
    "        Args :\n",
    "            transformer: Modèle qui sera entraîné\n",
    "\n",
    "            train_loader: Objet contenant les données d'entraînement en batch\n",
    "\n",
    "            val_loader: Objet contenant les données de validation en batch\n",
    "\n",
    "            num_epochs: Nombre d'étape d'entraînement (une étape équivaut à\n",
    "            parcourir toutes les données une fois)\n",
    "\n",
    "            loss_function: Fonction de perte utilisée lors de l'entraînement. Si\n",
    "            le paramètre est laissé à `None`, la fonction d'entropie croisée sera\n",
    "            utilisée en ignorant les jetons de pad (retrouvés avec la config du modèle)\n",
    "\n",
    "            device: Machine sur laquelle le modèle sera entraîné\n",
    "        \"\"\"\n",
    "\n",
    "        self.model = transformer\n",
    "        self.train_loader = train_loader\n",
    "        self.val_loader = val_loader\n",
    "        self.num_epochs = num_epochs\n",
    "        self.device = device\n",
    "        self.saving_path = saving_path\n",
    "\n",
    "        self.optimizer = O.Adam(self.model.parameters(), lr=0.0001, betas=(0.9, 0.98), eps=1e-9)\n",
    "\n",
    "        if loss_function is None:\n",
    "            self.loss_function = nn.CrossEntropyLoss(ignore_index=transformer.config.pad_token_id).to(self.device)\n",
    "        else:\n",
    "            self.loss_function = loss_function\n",
    "\n",
    "    def compute_loss(self, logits: torch.Tensor, labels: torch.Tensor):\n",
    "        \"\"\"\n",
    "        Trouve la valeur de la fonction de perte (self.loss_function)\n",
    "        étant donné les probabilités (logits) prédits et les vraies\n",
    "        valeurs (labels)\n",
    "\n",
    "        Args :\n",
    "            logits:     Probabilités prédites par le modèle sur le prochain\n",
    "                        jeton pour chacun des jetons de la séquence\n",
    "                        Tenseur de taille : [batch_size, seq_length, vocab_size]\n",
    "\n",
    "            labels:     Jetons qui devraient être prédis comme les prochains\n",
    "                        jetons pour chaque jeton de la séquence\n",
    "                        Tenseur de taille : [batch_size, seq_length]\n",
    "        \"\"\"\n",
    "\n",
    "        _, _, vocab_size = logits.shape\n",
    "        return self.loss_function(logits.contiguous().view(-1, vocab_size), labels.contiguous().view(-1))\n",
    "\n",
    "    def train_epoch(self, history):\n",
    "        \"\"\"\n",
    "        Entraîne le modèle sur tous les lots du `self.train_loader` et calcule\n",
    "        la perte d'entraînement moyen en l'ajoutant à l'objet history passé en\n",
    "        paramètre\n",
    "\n",
    "        Args :\n",
    "            history :   Objet contenant les statistiques d'entraînement d'un modèle\n",
    "        \"\"\"\n",
    "\n",
    "        # TODO\n",
    "        total_loss = 0\n",
    "        for batch in train_loader :\n",
    "            encoder_inputs = batch['encoder_in'].to(self.device)\n",
    "            decoder_inputs = batch['decoder_in'].to(self.device)\n",
    "            decoder_targets = batch['decoder_out'].to(self.device)\n",
    "            \n",
    "            #print(encoder_inputs)\n",
    "            \n",
    "            outputs = self.model(encoder_inputs, decoder_inputs)\n",
    "            loss = self.compute_loss(outputs , decoder_targets)\n",
    "            self.optimizer.zero_grad()  \n",
    "            loss.backward()         \n",
    "            self.optimizer.step()        \n",
    "            total_loss+=loss.item()\n",
    "            \n",
    "        avg_loss = total_loss / len(self.train_loader)\n",
    "        history.t_loss.append(avg_loss)\n",
    "\n",
    "\n",
    "                \n",
    "        # END TODO\n",
    "\n",
    "    def validation_epoch(self, history):\n",
    "        \"\"\"\n",
    "        Évalue le modèle sur tous les lots du `self.val_loader` et calcule\n",
    "        la perte de validation moyen en l'ajoutant à l'objet history passé en\n",
    "        paramètre\n",
    "\n",
    "        Args :\n",
    "            history :   Objet contenant les statistiques d'entraînement d'un modèle\n",
    "        \"\"\"\n",
    "\n",
    "        # TODO\n",
    "        with torch.no_grad() :\n",
    "            total_loss = 0\n",
    "            for batch in self.val_loader :\n",
    "                encoder_inputs = batch['encoder_in'].to(self.device)\n",
    "                decoder_inputs = batch['decoder_in'].to(self.device)\n",
    "                decoder_targets = batch['decoder_out'].to(self.device)\n",
    "                \n",
    "                #print(encoder_inputs)\n",
    "                \n",
    "                outputs = self.model(encoder_inputs, decoder_inputs)\n",
    "                loss = self.compute_loss(outputs , decoder_targets)     \n",
    "                total_loss+=loss.item()\n",
    "            avg_loss = total_loss / len(self.val_loader)\n",
    "            history.v_loss.append(avg_loss)\n",
    "        # END TODO\n",
    "\n",
    "\n",
    "    def train(self) -> History:\n",
    "        \"\"\"\n",
    "        Entraîne `self.model` en utilisant les données de `self.train_loader`\n",
    "\n",
    "        Returns :\n",
    "        Historique contenant les perte d'entraînement et de validation moyennes\n",
    "        pour chaque étape (epoch) d'entraînement\n",
    "        \"\"\"\n",
    "        history = History()\n",
    "        start = time.time()\n",
    "        self.model.to(self.device)\n",
    "\n",
    "\n",
    "        for epoch in range(self.num_epochs):\n",
    "\n",
    "            self.train_epoch(history)\n",
    "            self.validation_epoch(history)\n",
    "\n",
    "            print(f'Epoch {epoch} / {self.num_epochs} : train_loss = {history.t_loss[-1]}, val_loss = {history.v_loss[-1]}')\n",
    "\n",
    "            if epoch > 0 and epoch % 10 == 0:\n",
    "                self.save(f'{self.saving_path}_{epoch}.pt')\n",
    "\n",
    "        end = time.time()\n",
    "        history.time_to_train = end - start\n",
    "        self.save(f'{self.saving_path}_{self.num_epochs}.pt')\n",
    "        return history\n",
    "\n",
    "    def save(self, path: str):\n",
    "        \"\"\"\n",
    "        Saves the model in the specified path\n",
    "        \"\"\"\n",
    "        torch.save(self.model.state_dict(), path)\n",
    "\n",
    "    @staticmethod\n",
    "    def load(config: TransformerConfig, path: str):\n",
    "        \"\"\"\n",
    "        Loads the model from the specified path\n",
    "        \"\"\"\n",
    "        model = Transformer(config)\n",
    "        model.load_state_dict(torch.load(path))\n",
    "        return model"
   ]
  },
  {
   "cell_type": "markdown",
   "metadata": {
    "id": "Rh33P37P9Fxx"
   },
   "source": [
    "#### 7.2 Nombre de paramètres (2 points)\n",
    "Complétez maintenant la fonction `count_parameters` permettant de calculer le nombre de paramètres du modèle"
   ]
  },
  {
   "cell_type": "code",
   "execution_count": 375,
   "metadata": {
    "colab": {
     "base_uri": "https://localhost:8080/"
    },
    "id": "mUnb2fRp2tRV",
    "outputId": "f435149f-f5fd-4a75-ebc0-840c11723fc5",
    "ExecuteTime": {
     "end_time": "2024-10-12T01:25:07.391098900Z",
     "start_time": "2024-10-12T01:25:07.038780500Z"
    }
   },
   "outputs": [
    {
     "name": "stdout",
     "output_type": "stream",
     "text": [
      "Nombre de paramètres :  56434496\n"
     ]
    }
   ],
   "source": [
    "def count_parameters(model):\n",
    "    \"\"\"\n",
    "    Calcule le nombre de paramètres que l'on peut entraîner dans un modèle\n",
    "\n",
    "    Args :\n",
    "        model : Modèle dont on veut savoir le nombre de paramètres\n",
    "\n",
    "    Returns :\n",
    "    Nombre de paramètres\n",
    "    \"\"\"\n",
    "    # TODO\n",
    "    trainable_params = sum(p.numel() for p in model.parameters() if p.requires_grad)\n",
    "    return trainable_params\n",
    "    # END TODO\n",
    "\n",
    "config = TransformerConfig()\n",
    "config.device = DEVICE\n",
    "model = Transformer(config)\n",
    "\n",
    "print('Nombre de paramètres : ', count_parameters(model))"
   ]
  },
  {
   "cell_type": "markdown",
   "metadata": {
    "id": "VyvX8Loe2tRV"
   },
   "source": [
    "#### 7.3 Entraînement (4 points)\n",
    "Entraînez maintenant le modèle pour 30 époques"
   ]
  },
  {
   "cell_type": "code",
   "execution_count": 376,
   "metadata": {
    "colab": {
     "base_uri": "https://localhost:8080/"
    },
    "id": "Cf6Q-9v12tRc",
    "outputId": "eb823537-5c8f-4eda-c058-0a7f475777ed",
    "ExecuteTime": {
     "end_time": "2024-10-12T01:27:16.399575400Z",
     "start_time": "2024-10-12T01:25:07.391098900Z"
    }
   },
   "outputs": [
    {
     "name": "stdout",
     "output_type": "stream",
     "text": [
      "Epoch 0 / 30 : train_loss = 3.9262813462151422, val_loss = 2.90450656414032\n",
      "Epoch 1 / 30 : train_loss = 2.3501474062601724, val_loss = 2.546150326728821\n",
      "Epoch 2 / 30 : train_loss = 1.999074015352461, val_loss = 2.4006853103637695\n",
      "Epoch 3 / 30 : train_loss = 1.7770800126923456, val_loss = 2.242647886276245\n",
      "Epoch 4 / 30 : train_loss = 1.627729098002116, val_loss = 2.190518856048584\n",
      "Epoch 5 / 30 : train_loss = 1.536182357205285, val_loss = 2.1742050647735596\n",
      "Epoch 6 / 30 : train_loss = 1.4779813289642334, val_loss = 2.1556698083877563\n",
      "Epoch 7 / 30 : train_loss = 1.398010598288642, val_loss = 2.0831483602523804\n",
      "Epoch 8 / 30 : train_loss = 1.2803133726119995, val_loss = 1.9930434226989746\n",
      "Epoch 9 / 30 : train_loss = 1.1536760595109727, val_loss = 1.9227885007858276\n",
      "Epoch 10 / 30 : train_loss = 1.0348810686005487, val_loss = 1.870433747768402\n",
      "Epoch 11 / 30 : train_loss = 0.9287055499023862, val_loss = 1.8302477598190308\n",
      "Epoch 12 / 30 : train_loss = 0.8339319626490275, val_loss = 1.7853858470916748\n",
      "Epoch 13 / 30 : train_loss = 0.7484198676215278, val_loss = 1.7612424492835999\n",
      "Epoch 14 / 30 : train_loss = 0.670050753487481, val_loss = 1.7312897443771362\n",
      "Epoch 15 / 30 : train_loss = 0.598747624291314, val_loss = 1.6988571286201477\n",
      "Epoch 16 / 30 : train_loss = 0.5338756574524773, val_loss = 1.6853564977645874\n",
      "Epoch 17 / 30 : train_loss = 0.4731617983844545, val_loss = 1.675902783870697\n",
      "Epoch 18 / 30 : train_loss = 0.4174672116835912, val_loss = 1.6738470196723938\n",
      "Epoch 19 / 30 : train_loss = 0.36785075068473816, val_loss = 1.6310569643974304\n",
      "Epoch 20 / 30 : train_loss = 0.32902270389927757, val_loss = 1.626479148864746\n",
      "Epoch 21 / 30 : train_loss = 0.2882194634940889, val_loss = 1.6231039762496948\n",
      "Epoch 22 / 30 : train_loss = 0.24737938741842905, val_loss = 1.626321017742157\n",
      "Epoch 23 / 30 : train_loss = 0.2140362047486835, val_loss = 1.6265855431556702\n",
      "Epoch 24 / 30 : train_loss = 0.18544484757714802, val_loss = 1.6377232074737549\n",
      "Epoch 25 / 30 : train_loss = 0.15753860274950662, val_loss = 1.6317363381385803\n",
      "Epoch 26 / 30 : train_loss = 0.13562817167904642, val_loss = 1.6268130540847778\n",
      "Epoch 27 / 30 : train_loss = 0.11593596554464763, val_loss = 1.6445896625518799\n",
      "Epoch 28 / 30 : train_loss = 0.09875805055101712, val_loss = 1.658104419708252\n",
      "Epoch 29 / 30 : train_loss = 0.08416627554429902, val_loss = 1.650164246559143\n"
     ]
    }
   ],
   "source": [
    "# TODO\n",
    "\n",
    "trainer_model = Trainer(model , train_loader , val_loader , 30 )\n",
    "history = History() # Mettez le résultat de l'entraînement dans cette variable\n",
    "history = trainer_model.train()\n",
    "# END TODO"
   ]
  },
  {
   "cell_type": "markdown",
   "metadata": {},
   "source": [
    "### 8. Historique d'entraînement (5 points)"
   ]
  },
  {
   "cell_type": "markdown",
   "metadata": {
    "id": "paXl6ZeL9Fxx"
   },
   "source": [
    "#### 8.1 Graphique (2 points)\n",
    "Complétez la fonction `show_history` qui affiche l'historique d'entraînement (perte d'entraînement et perte de validation par époque, utilisez des pas de 5 époques) du modèle dans un graphe."
   ]
  },
  {
   "cell_type": "code",
   "execution_count": 382,
   "metadata": {
    "colab": {
     "base_uri": "https://localhost:8080/",
     "height": 472
    },
    "id": "w9oPTKOB9Fxx",
    "outputId": "59fd18df-2fb1-4e0d-cccc-9d18d40911cd",
    "ExecuteTime": {
     "end_time": "2024-10-12T01:27:48.746074600Z",
     "start_time": "2024-10-12T01:27:48.586571700Z"
    }
   },
   "outputs": [
    {
     "data": {
      "text/plain": "<Figure size 800x400 with 1 Axes>",
      "image/png": "[encoded data removed]"
     },
     "metadata": {},
     "output_type": "display_data"
    }
   ],
   "source": [
    "def show_history(history: History):\n",
    "    \"\"\"\n",
    "    Affiche l'historique d'entraînement du modèle dans un graphique\n",
    "\n",
    "    Args :\n",
    "        history : Objet contenant les pertes d'entraînement et de\n",
    "        validation de chaque étape d'entraînement\n",
    "    \"\"\"\n",
    "    # TODO\n",
    "    plt.figure(figsize=(8,4))\n",
    "    epochs =np.linspace(0,30 ,6) \n",
    "    plt.plot(epochs, history.t_loss[::5] , label = 'train loss')\n",
    "    plt.plot(epochs , history.v_loss[::5] , label = 'Valisation loss')\n",
    "    plt.xlabel('Epoch')\n",
    "    plt.ylabel('loss')\n",
    "    plt.legend()\n",
    "    plt.title('loss for the validation and training set')\n",
    "    # END TODO\n",
    "\n",
    "show_history(history)"
   ]
  },
  {
   "cell_type": "markdown",
   "metadata": {
    "id": "9LwB7-VX9Fxx"
   },
   "source": [
    "#### 8.2 Est-ce que le modèle semble être en sur-apprentissage ? Pourquoi ? Que feriez-vous pour résoudre ce problème ? (2 points)"
   ]
  },
  {
   "cell_type": "markdown",
   "source": [
    "Oui le modèle semble bien être en sur-apprentissage puisque la validation loss augmente pour les derniers epochs."
   ],
   "metadata": {
    "collapsed": false
   }
  },
  {
   "cell_type": "markdown",
   "metadata": {
    "id": "IndyxKRWBFiQ"
   },
   "source": [
    "#### 8.3 Lors de l'entraînement, un modèle a été sauvegardé à chaque 10 époques. En vous basant sur le graphique de la fonction de perte durant l'entraînement, choisissez la sauvegarde du modèle qui n'est pas en sur-apprentissage et chargez le pour l'évaluation à l'aide de la fonction `load` de la classe `Trainer`. Chargez également le dernier modèle sauvegardé pour comparer les résultats. (1 point)\n",
    "\n",
    "Nous dénoterons le modèle arrêté avant le sur-apprentissage comme étant : `stopped_model`\n",
    "\n",
    "Nous dénoterons le dernier modèle sauvegardé comme étant : `last_model`"
   ]
  },
  {
   "cell_type": "code",
   "execution_count": 379,
   "metadata": {
    "id": "O96q-EK2BZr9",
    "ExecuteTime": {
     "end_time": "2024-10-12T01:27:16.554086800Z",
     "start_time": "2024-10-12T01:27:16.535392600Z"
    }
   },
   "outputs": [],
   "source": [
    "# TODO\n",
    "\n",
    "# Mettez vos deux modèles entraînés dans ces variables pour la suite\n",
    "stopped_model = None\n",
    "last_model = None\n",
    "\n",
    "# END TODO"
   ]
  },
  {
   "cell_type": "markdown",
   "metadata": {
    "id": "W95hjKY19Fxx"
   },
   "source": [
    "### 9. Évaluation (20 points)"
   ]
  },
  {
   "cell_type": "markdown",
   "metadata": {
    "id": "oM_j2M0A9Fxx",
    "tags": []
   },
   "source": [
    "#### 9.1 Génération (10 points)\n",
    "Maintenant que le modèle est entraîné, nous pouvons tester ses générations. Complétez la fonction `generate` qui génère, pour un lot de données, les prédictions d'un modèle sur les concepts clés de la phrase donnée en paramètre."
   ]
  },
  {
   "cell_type": "code",
   "execution_count": 380,
   "metadata": {
    "id": "UmoO5WYT9Fxx",
    "ExecuteTime": {
     "end_time": "2024-10-12T01:27:16.554086800Z",
     "start_time": "2024-10-12T01:27:16.543642Z"
    }
   },
   "outputs": [],
   "source": [
    "def generate(model: Transformer, encoder_in: torch.tensor, bos_token_id: int, eos_token_id: int, max_length=MAX_LENGTH):\n",
    "    \"\"\"\n",
    "    Génère les prédictions d'un modèle pour des phrases données en paramètre. Pour cela, vous devez\n",
    "    initialiser un tenseur X contenant les jetons de début de phrase (bos_token_id). Ensuite, ce\n",
    "    tenseur sera passé comme entrée au décodeur avec `encoder_in` comme entrée à l'encodeur. Le modèle\n",
    "    génèrera un jeton en sortie qui sera le jeton le plus probable étant donné le jeton de début de\n",
    "    phrase et la séquence passée dans l'encodeur. Ce jeton devra être concaténé au tenseur initial X\n",
    "    pour former une séquence de deux jetons. Cette nouvelle séquence est ensuite réenvoyée au décodeur.\n",
    "    Un jeton en sortie sera généré correspondant au jeton le plus probable étant donné la séquence de\n",
    "    deux jetons et l'entrée de l'encodeur. Le nouveau jeton est concaténé au tenseur X et l'opération\n",
    "    est répétée jusqu'à ce que le décodeur génère le jeton de fin de phrase.\n",
    "\n",
    "    Args :\n",
    "        model : Modèle effectuant les prédictions\n",
    "\n",
    "        inputs : Tenseur contenant les phrases d'entrées sous forme d'indices de jetons\n",
    "\n",
    "        bos_token_id : Jeton d'entrée du tokenizer utilisé pour initialiser le tenseur de génération\n",
    "\n",
    "        eos_token_id : Jeton de fin du tokenizer utilisé pour détecter la fin d'une séquence\n",
    "\n",
    "        max_length : Nombre maximal de jetons qui doivent être générés par le modèle\n",
    "\n",
    "    Returns :\n",
    "    Génération du modèle de chacune des phrases en entrée\n",
    "    \"\"\"\n",
    "    # TODO\n",
    "    pass\n",
    "    # END TODO"
   ]
  },
  {
   "cell_type": "code",
   "execution_count": 381,
   "metadata": {
    "id": "5t_4T4Eg9Fxx",
    "ExecuteTime": {
     "end_time": "2024-10-12T01:27:16.654597100Z",
     "start_time": "2024-10-12T01:27:16.570222800Z"
    }
   },
   "outputs": [
    {
     "ename": "TypeError",
     "evalue": "'NoneType' object is not iterable",
     "output_type": "error",
     "traceback": [
      "\u001B[1;31m---------------------------------------------------------------------------\u001B[0m",
      "\u001B[1;31mTypeError\u001B[0m                                 Traceback (most recent call last)",
      "Cell \u001B[1;32mIn[381], line 20\u001B[0m\n\u001B[0;32m     16\u001B[0m         predictions\u001B[38;5;241m.\u001B[39mextend(tokenizer\u001B[38;5;241m.\u001B[39mbatch_decode(result, skip_special_tokens\u001B[38;5;241m=\u001B[39m\u001B[38;5;28;01mTrue\u001B[39;00m))\n\u001B[0;32m     18\u001B[0m     \u001B[38;5;28;01mreturn\u001B[39;00m sentences, ground_truth, predictions\n\u001B[1;32m---> 20\u001B[0m sentences_stopped, ground_truth_stopped, predictions_stopped \u001B[38;5;241m=\u001B[39m get_predictions(stopped_model, tokenizer)\n\u001B[0;32m     21\u001B[0m sentences_last, ground_truth_last, predictions_last \u001B[38;5;241m=\u001B[39m get_predictions(last_model, tokenizer)\n",
      "Cell \u001B[1;32mIn[381], line 16\u001B[0m, in \u001B[0;36mget_predictions\u001B[1;34m(model, tokenizer)\u001B[0m\n\u001B[0;32m     14\u001B[0m     sentences\u001B[38;5;241m.\u001B[39mextend(tokenizer\u001B[38;5;241m.\u001B[39mbatch_decode(test_data[\u001B[38;5;124m'\u001B[39m\u001B[38;5;124mencoder_in\u001B[39m\u001B[38;5;124m'\u001B[39m], skip_special_tokens\u001B[38;5;241m=\u001B[39m\u001B[38;5;28;01mTrue\u001B[39;00m))\n\u001B[0;32m     15\u001B[0m     ground_truth\u001B[38;5;241m.\u001B[39mextend(tokenizer\u001B[38;5;241m.\u001B[39mbatch_decode(test_data[\u001B[38;5;124m'\u001B[39m\u001B[38;5;124mdecoder_out\u001B[39m\u001B[38;5;124m'\u001B[39m], skip_special_tokens\u001B[38;5;241m=\u001B[39m\u001B[38;5;28;01mTrue\u001B[39;00m))\n\u001B[1;32m---> 16\u001B[0m     predictions\u001B[38;5;241m.\u001B[39mextend(tokenizer\u001B[38;5;241m.\u001B[39mbatch_decode(result, skip_special_tokens\u001B[38;5;241m=\u001B[39m\u001B[38;5;28;01mTrue\u001B[39;00m))\n\u001B[0;32m     18\u001B[0m \u001B[38;5;28;01mreturn\u001B[39;00m sentences, ground_truth, predictions\n",
      "File \u001B[1;32m~\\anaconda3\\envs\\ml\\Lib\\site-packages\\transformers\\tokenization_utils_base.py:3716\u001B[0m, in \u001B[0;36mPreTrainedTokenizerBase.batch_decode\u001B[1;34m(self, sequences, skip_special_tokens, clean_up_tokenization_spaces, **kwargs)\u001B[0m\n\u001B[0;32m   3692\u001B[0m \u001B[38;5;28;01mdef\u001B[39;00m \u001B[38;5;21mbatch_decode\u001B[39m(\n\u001B[0;32m   3693\u001B[0m     \u001B[38;5;28mself\u001B[39m,\n\u001B[0;32m   3694\u001B[0m     sequences: Union[List[\u001B[38;5;28mint\u001B[39m], List[List[\u001B[38;5;28mint\u001B[39m]], \u001B[38;5;124m\"\u001B[39m\u001B[38;5;124mnp.ndarray\u001B[39m\u001B[38;5;124m\"\u001B[39m, \u001B[38;5;124m\"\u001B[39m\u001B[38;5;124mtorch.Tensor\u001B[39m\u001B[38;5;124m\"\u001B[39m, \u001B[38;5;124m\"\u001B[39m\u001B[38;5;124mtf.Tensor\u001B[39m\u001B[38;5;124m\"\u001B[39m],\n\u001B[1;32m   (...)\u001B[0m\n\u001B[0;32m   3697\u001B[0m     \u001B[38;5;241m*\u001B[39m\u001B[38;5;241m*\u001B[39mkwargs,\n\u001B[0;32m   3698\u001B[0m ) \u001B[38;5;241m-\u001B[39m\u001B[38;5;241m>\u001B[39m List[\u001B[38;5;28mstr\u001B[39m]:\n\u001B[0;32m   3699\u001B[0m \u001B[38;5;250m    \u001B[39m\u001B[38;5;124;03m\"\"\"\u001B[39;00m\n\u001B[0;32m   3700\u001B[0m \u001B[38;5;124;03m    Convert a list of lists of token ids into a list of strings by calling decode.\u001B[39;00m\n\u001B[0;32m   3701\u001B[0m \n\u001B[1;32m   (...)\u001B[0m\n\u001B[0;32m   3714\u001B[0m \u001B[38;5;124;03m        `List[str]`: The list of decoded sentences.\u001B[39;00m\n\u001B[0;32m   3715\u001B[0m \u001B[38;5;124;03m    \"\"\"\u001B[39;00m\n\u001B[1;32m-> 3716\u001B[0m     \u001B[38;5;28;01mreturn\u001B[39;00m [\n\u001B[0;32m   3717\u001B[0m         \u001B[38;5;28mself\u001B[39m\u001B[38;5;241m.\u001B[39mdecode(\n\u001B[0;32m   3718\u001B[0m             seq,\n\u001B[0;32m   3719\u001B[0m             skip_special_tokens\u001B[38;5;241m=\u001B[39mskip_special_tokens,\n\u001B[0;32m   3720\u001B[0m             clean_up_tokenization_spaces\u001B[38;5;241m=\u001B[39mclean_up_tokenization_spaces,\n\u001B[0;32m   3721\u001B[0m             \u001B[38;5;241m*\u001B[39m\u001B[38;5;241m*\u001B[39mkwargs,\n\u001B[0;32m   3722\u001B[0m         )\n\u001B[0;32m   3723\u001B[0m         \u001B[38;5;28;01mfor\u001B[39;00m seq \u001B[38;5;129;01min\u001B[39;00m sequences\n\u001B[0;32m   3724\u001B[0m     ]\n",
      "\u001B[1;31mTypeError\u001B[0m: 'NoneType' object is not iterable"
     ]
    }
   ],
   "source": [
    "def get_predictions(model, tokenizer):\n",
    "\n",
    "    bos_token_id = tokenizer(\"\")['input_ids'][0]\n",
    "    eos_token_id = tokenizer(\"\")['input_ids'][1]\n",
    "\n",
    "    sentences = []\n",
    "    predictions = []\n",
    "    ground_truth = []\n",
    "    for test_data in test_loader:\n",
    "\n",
    "        inputs = test_data['encoder_in']\n",
    "        result = generate(model, inputs, bos_token_id, eos_token_id)\n",
    "\n",
    "        sentences.extend(tokenizer.batch_decode(test_data['encoder_in'], skip_special_tokens=True))\n",
    "        ground_truth.extend(tokenizer.batch_decode(test_data['decoder_out'], skip_special_tokens=True))\n",
    "        predictions.extend(tokenizer.batch_decode(result, skip_special_tokens=True))\n",
    "\n",
    "    return sentences, ground_truth, predictions\n",
    "\n",
    "sentences_stopped, ground_truth_stopped, predictions_stopped = get_predictions(stopped_model, tokenizer)\n",
    "sentences_last, ground_truth_last, predictions_last = get_predictions(last_model, tokenizer)"
   ]
  },
  {
   "cell_type": "code",
   "execution_count": null,
   "metadata": {
    "id": "2e8pOemw9Fxx",
    "ExecuteTime": {
     "start_time": "2024-10-12T01:27:16.634473700Z"
    }
   },
   "outputs": [],
   "source": [
    "predictions_stopped = pd.DataFrame({'sentences': sentences_stopped, 'ground_truth': ground_truth_stopped, 'predictions': predictions_stopped})\n",
    "predictions_last = pd.DataFrame({'sentences': sentences_last, 'ground_truth': ground_truth_last, 'predictions': predictions_last})"
   ]
  },
  {
   "cell_type": "markdown",
   "metadata": {
    "id": "vGOifYaW9Fxx"
   },
   "source": [
    "#### 9.2 Évaluation naive de la génération (1 point)\n",
    "Nous allons d'abord mesurer l'efficacité de notre modèle pour extraire les concepts à l'aide d'une métrique de correspondance exacte (exact match). Pour cela, nous allons mesurer le nombre de générations (`predictions`) qui sont identiques à celles qui sont attendues dans l'ensemble de référence (`ground truth`) et diviser le tout par le nombre totaux d'éléments dans l'ensemble de référence. Ainsi, la métrique EM (exact match) équivaut à :\n",
    "\n",
    "$$\\text{EM} = \\frac{\\text{Nombre d'éléments identiques entre l'ensemble généré et l'ensemble de référence}}{\\text{Nombre d'éléments dans l'ensemble de référence}}$$"
   ]
  },
  {
   "cell_type": "code",
   "execution_count": null,
   "metadata": {
    "colab": {
     "base_uri": "https://localhost:8080/"
    },
    "id": "3owRHw1D9Fxx",
    "outputId": "2ebbe3d6-4f61-4edc-f148-2ebc1de48443",
    "ExecuteTime": {
     "start_time": "2024-10-12T01:27:16.634473700Z"
    }
   },
   "outputs": [],
   "source": [
    "def compute_em_score(data):\n",
    "    \"\"\"\n",
    "    Évalue la métrique EM du modèle en utilisant la métrique BLEU\n",
    "    Args :\n",
    "        - data : DataFrame contenant les colonnes predictions et ground_truth\n",
    "\n",
    "    Returns :\n",
    "    La métrique EM du modèle en pourcentage\n",
    "    \"\"\"\n",
    "    # TODO\n",
    "    pass\n",
    "    # END TODO\n",
    "\n",
    "print(f\"La métrique EM du modèle arrêté selon la fonction de perte est {compute_em_score(predictions_stopped):.2f} %\")\n",
    "print(f\"La métrique EM du dernier modèle est {compute_em_score(predictions_last):.2f} %\")"
   ]
  },
  {
   "cell_type": "markdown",
   "metadata": {
    "id": "8TlJ99y99Fxy"
   },
   "source": [
    "#### 9.3 Quels problèmes voyez-vous avec cette manière de calculer la performance du modèle ? (1 point)"
   ]
  },
  {
   "cell_type": "markdown",
   "metadata": {
    "id": "v5TGstQP9Fxy"
   },
   "source": [
    "#### 9.4 Métrique BLEU (4 points)\n",
    "Pour pallier à ce problème, la métrique BLEU sera utilisée puisqu'elle est basée sur le nombre de n-gramme qui sont présents dans les prédictions et les séquences voulues. La formule est donnée ci-dessous :\n",
    "$$BLEU = BP * exp \\Big( \\sum_{n=1}^{N} w_n \\log p_n \\Big)$$\n",
    "\n",
    "Considérant que $r$ est la phrase de référence (voulue) et $c$ la phrase générée (candidate), $p_n$ est la précision modifiée pour le n-gramme (correspondant au ratio de la fréquence maximum du n-gramme dans la phrase de référence par la fréquence du n-gramme): \n",
    "$$p_n = \\frac{\\sum_{\\text{n-gramme} \\in c} \\min\\Big( \\max_{r} \\text{Count$_r$(n-gramme)}, \\text{Count$_c$(n-gramme)} \\Big)}{\\sum_{\\text{n-gramme} \\in c} \\text{Count$_c$(n-gramme)}}$$\n",
    "\n",
    "Notez que le $\\max_{r}$ est présent ici car BLEU accepte plusieurs phrases de référence pour une même phrase générée. Cependant, dans notre cas, il y a seulement une seule phrase de référence.\n",
    "\n",
    "Posons ensuite $|r|$ comme le nombre de mots dans la phrase cible et $|c|$ comme le nombre de mots dans la phrase prédite. Si $c>r$, alors BP vaut 1. Sinon $$BP = exp(1 - \\frac{|r|}{|c|})$$\n",
    "\n",
    "Les valeurs des poids $w_n$ est ce qui donne les différentes variations de la métrique BLEU. Dans notre cas, la métrique BLEU-1 sera utilisée. La valeur maximale du score BLEU est 1 et la valeur minimale est 0.\n",
    "\n",
    "Vous pouvez utiliser la fonction `sentence_bleu` de `nltk` pour calculer votre score BLEU. N'oubliez pas d'enlever les apostrophes et les crochets des générations avant votre calcul."
   ]
  },
  {
   "cell_type": "code",
   "execution_count": null,
   "metadata": {
    "colab": {
     "base_uri": "https://localhost:8080/"
    },
    "id": "dChq1yTK9Fxy",
    "outputId": "570a935f-f889-42a4-8dc0-1018062be2d3",
    "ExecuteTime": {
     "start_time": "2024-10-12T01:27:16.634473700Z"
    }
   },
   "outputs": [],
   "source": [
    "def compute_bleu(predictions):\n",
    "    \"\"\"\n",
    "    Évalue la précision du modèle en utilisant la métrique BLEU\n",
    "    Args :\n",
    "        - data : DataFrame contenant les colonnes predictions et ground_truth\n",
    "\n",
    "    Returns :\n",
    "        La moyenne du score BLEU\n",
    "    \"\"\"\n",
    "    weights = (1, 0, 0, 0) # Use Bleu-1\n",
    "    # TODO\n",
    "    pass\n",
    "    # END TODO\n",
    "\n",
    "print(f\"Le score BLEU du modèle arrêté selon la fonction de perte est {compute_bleu(predictions_stopped):.2f}\")\n",
    "print(f\"Le score BLEU du dernier modèle est {compute_bleu(predictions_last):.2f}.\")"
   ]
  },
  {
   "cell_type": "markdown",
   "metadata": {
    "id": "rZ2DjH3ZeRVO"
   },
   "source": [
    "#### 9.5 Quel est l'avantage d'utiliser la métrique BLEU par rapport à la métrique EM basée sur la comparaison de chaîne de caractères ? (2 points)"
   ]
  },
  {
   "cell_type": "markdown",
   "metadata": {
    "id": "f06F1OICfO7_"
   },
   "source": [
    "#### 9.6 Que remarquez-vous par rapport aux performances du modèle arrêté avant le sur-apprentissage selon la fonction de perte versus celles du dernier modèle ? Quelles sont les raisons qui peuvent expliquer cela ? (2 points)"
   ]
  },
  {
   "cell_type": "markdown",
   "metadata": {
    "id": "C2cXyEuA9Fxy"
   },
   "source": [
    "### 10. Exploration (4 points)"
   ]
  },
  {
   "cell_type": "markdown",
   "metadata": {
    "id": "U99e4YjL9Fxy"
   },
   "source": [
    "#### 10.1 Explorez les générations actuelles de votre modèle et ressortez 2 problèmes que le modèle a lors de la génération qui font diminuer son score BLEU. (2 points)"
   ]
  },
  {
   "cell_type": "markdown",
   "metadata": {
    "id": "JfdKeifU9Fxy"
   },
   "source": [
    "#### 10.2 Amélioration des métriques (2 points)\n",
    "L'exemple ci-dessous montre 2 générations de 2 modèles pour la phrase \"A dog is eating a flower\". Bien que la génération du modèle 2 soit beaucoup plus proche sémantiquement de la référence que celle du modèle 1, la métrique BLEU retourne 0.0 dans les deux cas. En effet, puisque la métrique ne compare que les n-grammes, la prédiction du modèle 2 est quand même de 0, car aucun des mots dans la prédiction ne sont présents dans les concepts voulus."
   ]
  },
  {
   "cell_type": "code",
   "execution_count": null,
   "metadata": {
    "colab": {
     "base_uri": "https://localhost:8080/"
    },
    "id": "Gd8Y64Pv9Fxy",
    "outputId": "475dccf0-52c5-4025-a083-10463fab3cf9",
    "ExecuteTime": {
     "start_time": "2024-10-12T01:27:16.634473700Z"
    }
   },
   "outputs": [],
   "source": [
    "ground_truth = \"['dog' 'eat' 'flower']\"\n",
    "\n",
    "prediction_1 = \"['car' 'hit' 'person']\"\n",
    "preds = pd.DataFrame({'predictions': [prediction_1], 'ground_truth': [ground_truth]})\n",
    "\n",
    "print(f\"Concepts voulus {ground_truth}\")\n",
    "print(f\"Prédiction du modèle 1 : {prediction_1}\")\n",
    "print(f\"BLEU : {compute_bleu(preds):.2f}\")\n",
    "\n",
    "prediction_2 = \"['animal' 'eating' 'plant']\"\n",
    "preds = pd.DataFrame({'predictions': [prediction_2], 'ground_truth': [ground_truth]})\n",
    "\n",
    "print(f\"Prédiction du modèle 2 : {prediction_2}\")\n",
    "print(f\"BLEU : {compute_bleu(preds):.2f}\")"
   ]
  },
  {
   "cell_type": "markdown",
   "metadata": {
    "id": "OLVBUJ2e9Fxy"
   },
   "source": [
    "Proposez (sans l'implémenter) une meilleure métrique pour évaluer les modèles face à cette tâche d'extraction qui donnerait un score plus élevé à la prédiction du modèle 2. "
   ]
  },
  {
   "cell_type": "markdown",
   "metadata": {},
   "source": [
    "## Livrables\n",
    "Vous devez remettre votre notebook sur Moodle et Gradescope en ipynb et pdf. Pour Gradescope vous devez associer les numéros de questions avec vos réponses dans le pdf grâce à l'outil que fournit Gradescope.\n",
    "\n",
    "\n",
    "## Évaluation \n",
    "Votre TP sera évalué selon les critères suivants :\n",
    "1. Exécution correcte du code et obtention des sorties attendues\n",
    "2. Réponses correctes aux questions d'analyse\n",
    "3. Qualité du code (noms significatifs, structure, performance, gestion d’exception, etc.)\n",
    "4. Commentaires clairs et informatifs"
   ]
  }
 ],
 "metadata": {
  "accelerator": "GPU",
  "colab": {
   "gpuType": "T4",
   "provenance": []
  },
  "kernelspec": {
   "display_name": "Python 3 (ipykernel)",
   "language": "python",
   "name": "python3"
  },
  "language_info": {
   "codemirror_mode": {
    "name": "ipython",
    "version": 3
   },
   "file_extension": ".py",
   "mimetype": "text/x-python",
   "name": "python",
   "nbconvert_exporter": "python",
   "pygments_lexer": "ipython3",
   "version": "3.11.9"
  }
 },
 "nbformat": 4,
 "nbformat_minor": 1
}
