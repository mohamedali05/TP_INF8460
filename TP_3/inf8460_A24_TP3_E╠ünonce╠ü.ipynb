{
 "cells": [
  {
   "cell_type": "markdown",
   "metadata": {
    "id": "G9ZPAA_02tRR"
   },
   "source": [
    "##### INF8460 – Traitement automatique de la langue naturelle - Automne 2024\n",
    "\n",
    "## TP3: Génération automatique de mots-clés (concepts) avec une architecture Transformer\n"
   ]
  },
  {
   "cell_type": "markdown",
   "metadata": {
    "id": "NWO5vIjG2tRS"
   },
   "source": [
    "## Identification de l'équipe:\n",
    "\n",
    "### Groupe de laboratoire:\n",
    "\n",
    "### Equipe numéro :\n",
    "\n",
    "### Membres:\n",
    "\n",
    "- membre 1 (% de contribution, nature de la contribution)\n",
    "- membre 2 (% de contribution, nature de la contribution)\n",
    "- membre 3 (% de contribution, nature de la contribution)\n",
    "\n",
    "* nature de la contribution: Décrivez brièvement ce qui a été fait par chaque membre de l’équipe. Tous les membres sont censés contribuer au développement. Bien que chaque membre puisse effectuer différentes tâches, vous devez vous efforcer d’obtenir une répartition égale du travail. Soyez précis ! N'indiquez pas seulement : travail réparti équitablement"
   ]
  },
  {
   "cell_type": "markdown",
   "metadata": {
    "id": "1FayMA0Z9Fxp"
   },
   "source": [
    "## 1. Objectif du TP\n",
    "\n",
    "Dans ce TP, vous allez devoir implémenter en `PyTorch` un modèle suivant l'architecture Transformer créée initialement dans l'article \"[Attention Is All You Need](https://arxiv.org/pdf/1706.03762)\".\n",
    "<br>\n",
    "Votre tâche sera d'implémenter l'architecture du Transformer et d'entraîner un modèle de type Transformer à générer les concepts clés d'une phrase. Votre modèle prendra donc en entrée une phrase quelconque en anglais et produira en sortie une séquence de mots correspondant aux concepts les plus importants de la phrase. Par exemple :\n",
    "<br>\n",
    "\n",
    "**Entrée** : \"The dog jumped over the fence.\" <br>\n",
    "**Sortie attendue** : ['dog' 'jump' 'fence']\n",
    "\n",
    "Cette tâche a d'ailleurs plusieurs applications dans le monde réel allant de la génération de résumés jusqu'à la création de bases de connaissances à partir d'un texte.\n",
    "\n",
    "\n",
    "#### Requis et ressources utiles\n",
    "\n",
    "Il est fortement conseillé de s'être familiarisé avec la librairie `PyTorch` avant d'entamer le TP. Par exemple, vous devriez savoir comment fonctionne un objet de type `nn.Module` et ce que la fonction `forward` de cet objet fait. Plusieurs tutoriels sont disponibles sur internet expliquant clairement le fonctionnement de la librairie. Voici certaines ressources qui peuvent être utiles :\n",
    "- [Build The Neural Network](https://pytorch.org/tutorials/beginner/basics/buildmodel_tutorial.html)\n",
    "- [PyTorch Tutorial](https://github.com/yunjey/pytorch-tutorial?tab=readme-ov-file)\n",
    "\n",
    "\n",
    "## 2. Jeu de données\n",
    "\n",
    "Le jeu de données est composé de paires (phrase, concepts) où une phrase est mentionnée et la liste des concepts les plus importants de la phrase est indiquée. Le jeu de données est divisé en ensembles d'entraînement, de validation et de test :\n",
    "- Entraînement : 4500 examples (train.csv)\n",
    "- Validation : 500 examples (val.csv)\n",
    "- Test : 500 examples (test.csv)\n",
    "\n",
    "Pour une même séquence de concepts, il y a 3 phrases pouvant être associées à ces concepts. Par exemple, pour les concepts : ['cat' 'laptop' 'lie'], les phrases suivantes y sont associées :\n",
    "- A cat lying on a laptop\n",
    "- A large cat lies down next to a laptop.\n",
    "- There is a cat lying on top of the laptop.\n"
   ]
  },
  {
   "cell_type": "markdown",
   "metadata": {
    "id": "26Qe_-7z25EE"
   },
   "source": [
    "## 3. LIBRAIRIES PERMISES\n",
    "- Jupyter notebook\n",
    "- PyTorch\n",
    "- nltk\n",
    "- transformers\n",
    "- pandas\n",
    "- matplotlib\n",
    "- numpy\n",
    "- Huggingface\n",
    "\n",
    "\n",
    "Pour toute autre librairie, demandez à votre chargé de laboratoire"
   ]
  },
  {
   "cell_type": "markdown",
   "metadata": {
    "id": "Ssmtsfa12_CQ"
   },
   "source": [
    "## 4. INFRASTRUCTURE\n",
    "\n",
    "- Vous avez accès aux GPU du local L-4818. Dans ce cas, vous devez utiliser le dossier temp (voir le tutoriel VirtualEnv.pdf)"
   ]
  },
  {
   "cell_type": "markdown",
   "metadata": {
    "id": "Hn5uuxc59Fxp"
   },
   "source": [
    "## 5. ÉTAPES DU TP"
   ]
  },
  {
   "cell_type": "code",
   "execution_count": 1,
   "metadata": {
    "id": "eNlUvpo32tRS",
    "ExecuteTime": {
     "end_time": "2024-10-26T12:59:36.928026600Z",
     "start_time": "2024-10-26T12:59:29.304233200Z"
    }
   },
   "outputs": [],
   "source": [
    "# Pytorch\n",
    "import torch\n",
    "import torch.nn as nn\n",
    "import torch.nn.functional as F\n",
    "import torch.optim as O\n",
    "from torch.utils.data import DataLoader\n",
    "\n",
    "# ML\n",
    "import pandas as pd\n",
    "import nltk\n",
    "from nltk.tokenize import word_tokenize\n",
    "import matplotlib.pyplot as plt\n",
    "import math\n",
    "import numpy as np\n",
    "\n",
    "# System\n",
    "from dataclasses import dataclass\n",
    "import time\n",
    "import re\n",
    "\n",
    "# Huggingface\n",
    "from tokenizers import CharBPETokenizer"
   ]
  },
  {
   "cell_type": "markdown",
   "metadata": {
    "id": "ZHahteTL9Fxq"
   },
   "source": [
    "Il vous faudra peut-être télécharger ce module de `nltk`"
   ]
  },
  {
   "cell_type": "code",
   "execution_count": 2,
   "metadata": {
    "colab": {
     "base_uri": "https://localhost:8080/"
    },
    "id": "xAjX6Fzz9MjK",
    "outputId": "e46e2d3c-76d6-44e6-873b-c9ceca5c2927",
    "ExecuteTime": {
     "end_time": "2024-10-26T12:59:36.946597400Z",
     "start_time": "2024-10-26T12:59:36.926384200Z"
    }
   },
   "outputs": [],
   "source": [
    "#nltk.download('punkt')"
   ]
  },
  {
   "cell_type": "markdown",
   "metadata": {
    "id": "AIwDxV0G2tRS"
   },
   "source": [
    "### 1. Charger les données (2 points)\n",
    "\n",
    "La première étape va être de charger les données des fichiers d'entraînement et d'évaluation. Pour cela, nous allons utiliser la classe `Dataset` de `PyTorch`. Complétez les fonctions de cette classe."
   ]
  },
  {
   "cell_type": "code",
   "execution_count": 3,
   "metadata": {
    "id": "Ppkz_YFb2tRS",
    "ExecuteTime": {
     "end_time": "2024-10-26T12:59:36.948599100Z",
     "start_time": "2024-10-26T12:59:36.937529500Z"
    }
   },
   "outputs": [],
   "source": [
    "class CustomDataset(torch.utils.data.Dataset):\n",
    "\n",
    "    def __init__(self, file_path: str = None, data: pd.DataFrame = None):\n",
    "\n",
    "        if file_path is None and data is None:\n",
    "            raise Exception('A file path or a dataframe must be passed to create a CustomDataset')\n",
    "\n",
    "        if file_path != None:\n",
    "            self.data = pd.read_csv(file_path)\n",
    "        else:\n",
    "            self.data = data.copy()\n",
    "\n",
    "        # TODO : Enlever les données qui sont nulles et\n",
    "        # assigner le résultat dans la variable data\n",
    "        self.data = self.data.dropna()\n",
    "        # END TODO\n",
    "\n",
    "    def __len__(self):\n",
    "        # TODO : Retourne le nombre de données\n",
    "        return len(self.data)\n",
    "        # END TODO\n",
    "\n",
    "    def __getitem__(self, idx: int):\n",
    "        # TODO : Retourne l'élément à l'index \"idx\"\n",
    "        return self.data.iloc[idx]\n",
    "        # END TODO\n",
    "\n",
    "    def get_column(self, column: str):\n",
    "        # TODO : Retourne toutes les rangées de la colonne \"column\"\n",
    "        return self.data[column]\n",
    "        # END TODO\n",
    "\n",
    "    def get_batch(self, idx: int, size):\n",
    "        # TODO : Retourne toutes les rangées de l'index \"idx\" à \"idx\" + \"size\"\n",
    "        return self.data.iloc[idx:idx+size]\n",
    "        # END TODO\n",
    "\n",
    "    def transform(self, function):\n",
    "        self.data = self.data.apply(function)\n",
    "\n",
    "    def sample(self, nb_samples, random_state=42):\n",
    "        return self.data.sample(n=nb_samples, random_state=random_state)"
   ]
  },
  {
   "cell_type": "code",
   "execution_count": 4,
   "metadata": {
    "id": "2CWT0dXF2tRT",
    "ExecuteTime": {
     "end_time": "2024-10-26T12:59:37.427059200Z",
     "start_time": "2024-10-26T12:59:36.943539500Z"
    }
   },
   "outputs": [],
   "source": [
    "root = 'data/'\n",
    "\n",
    "train_dataset = CustomDataset(root + 'train.csv')\n",
    "test_dataset = CustomDataset(root + 'test.csv')\n",
    "val_dataset = CustomDataset(root + 'val.csv')\n",
    "\n",
    "INPUT_COLUMN = 'sentence'\n",
    "OUTPUT_COLUMN = 'concepts'\n",
    "MAX_LENGTH = 16\n",
    "DEVICE = 'cuda' if torch.cuda.is_available() else 'cpu' # Vous pouvez changer sur quelle machine les calculs seront effectués"
   ]
  },
  {
   "cell_type": "code",
   "execution_count": 5,
   "metadata": {
    "colab": {
     "base_uri": "https://localhost:8080/"
    },
    "id": "rv_Bjpg92tRT",
    "outputId": "32dc143c-1187-4474-f617-927c003956c9",
    "ExecuteTime": {
     "end_time": "2024-10-26T12:59:37.434361300Z",
     "start_time": "2024-10-26T12:59:37.427059200Z"
    }
   },
   "outputs": [
    {
     "name": "stdout",
     "output_type": "stream",
     "text": [
      "Training set size :  4500\n",
      "Validation set size :  500\n",
      "Testing set size :  500\n"
     ]
    }
   ],
   "source": [
    "print('Training set size : ', len(train_dataset))\n",
    "print('Validation set size : ', len(val_dataset))\n",
    "print('Testing set size : ', len(test_dataset))"
   ]
  },
  {
   "cell_type": "markdown",
   "metadata": {
    "id": "c-HmDFdv2tRT"
   },
   "source": [
    "### 2. Statistiques (5 points)"
   ]
  },
  {
   "cell_type": "markdown",
   "metadata": {
    "id": "p92b0tB79Fxr"
   },
   "source": [
    "Avant d'entamer la création du modèle, il est important de se familiariser avec les données et d'évaluer la taille des données avec lesquelles nous travaillons."
   ]
  },
  {
   "cell_type": "markdown",
   "metadata": {
    "id": "5oOmXpLE2tRT"
   },
   "source": [
    "#### 2.1 Histogramme du nombre de caractères (2 points)\n",
    "\n",
    "Complétez la méthode `show_histogram_nb_characters` qui affiche un histogramme de la distribution du nombre de caractères des exemples de la colonne passée en paramètre. L'axe des abscisses devra représenter le nombre de caractères et l'axe des ordonnées le nombre de documents. Utilisez des bacs (bins) de 20 pour l'histogramme. Affichez ensuite la distribution du nombre de caractères sur l'ensemble d'entraînement pour la colonne 'sentence' et la colonne 'concepts'."
   ]
  },
  {
   "cell_type": "code",
   "execution_count": 6,
   "metadata": {
    "colab": {
     "base_uri": "https://localhost:8080/",
     "height": 927
    },
    "id": "38GHBsHZ2tRT",
    "outputId": "f2fb7bde-a7b1-4c3c-e4dc-042d16788123",
    "ExecuteTime": {
     "end_time": "2024-10-26T12:59:37.772985500Z",
     "start_time": "2024-10-26T12:59:37.440331100Z"
    }
   },
   "outputs": [
    {
     "data": {
      "text/plain": "<Figure size 800x400 with 1 Axes>",
      "image/png": "[encoded data removed]"
     },
     "metadata": {},
     "output_type": "display_data"
    },
    {
     "data": {
      "text/plain": "<Figure size 800x400 with 1 Axes>",
      "image/png": "[encoded data removed]"
     },
     "metadata": {},
     "output_type": "display_data"
    }
   ],
   "source": [
    "def show_histogram_nb_chararacters(dataset: CustomDataset, column: str):\n",
    "\n",
    "    \"\"\"\n",
    "    Affiche la distribution de la colonne passé en paramètre. L'histogramme doit contenir un titre et des titres sur les axes\n",
    "\n",
    "    dataset: Dataset contenant plusieurs colonne dont la colonne dont les statistiques doivent être affichées\n",
    "    column: Colonne à afficher\n",
    "\n",
    "    \"\"\"\n",
    "    # TODO\n",
    "\n",
    "    # On récupère la colonne\n",
    "    data = dataset.get_column(column)\n",
    "\n",
    "    # On récupère la longueur de chaque ligne\n",
    "    char_lengths = data.apply(len) # les caractères \"[\" et \"]\" et \"'\" ainsi que les espaces sont inclus\n",
    "    \n",
    "    # Affichage de l'histogramme\n",
    "    plt.figure(figsize=(8, 4))\n",
    "    plt.hist(char_lengths, bins=20, edgecolor='black')\n",
    "    plt.title(f\"Distribution du nombre de caractères dans '{column}'\")\n",
    "    plt.xlabel(\"Nombre de caractères\")\n",
    "    plt.ylabel(\"Nombre de documents\")\n",
    "    plt.grid(True)\n",
    "    plt.show()\n",
    "    \n",
    "    # END TODO\n",
    "\n",
    "\n",
    "show_histogram_nb_chararacters(train_dataset, INPUT_COLUMN)\n",
    "show_histogram_nb_chararacters(train_dataset, OUTPUT_COLUMN)"
   ]
  },
  {
   "cell_type": "markdown",
   "metadata": {
    "id": "zOOUTrZU2tRT"
   },
   "source": [
    "#### 2.2 Histogramme du nombre de mots par document (2 points)\n",
    "\n",
    "De la même manière, complétez la méthode `show_histogram_nb_words` qui affiche un histogramme de la distribution du nombre de mots des exemples de la colonne passée en paramètre. Utilisez des bacs (bins) de 20 pour l'histogramme. Affichez ensuite la distribution du nombre de mots sur l'ensemble d'entraînement pour les colonnes \"sentence\" et \"concepts\". Dans le cas de la colonne 'concepts', assurez-vous que les '[', ']' et les apostrophes ne soient pas considérées comme des mots.\n",
    "\n",
    "Indice : Utilisez la méthode word_tokenize() de nltk."
   ]
  },
  {
   "cell_type": "code",
   "execution_count": 7,
   "metadata": {
    "colab": {
     "base_uri": "https://localhost:8080/",
     "height": 927
    },
    "id": "wq97r1Yc2tRT",
    "outputId": "ae506763-efeb-4385-eb43-5e3b04be15c2",
    "ExecuteTime": {
     "end_time": "2024-10-26T12:59:38.714089800Z",
     "start_time": "2024-10-26T12:59:37.773668400Z"
    }
   },
   "outputs": [
    {
     "data": {
      "text/plain": "<Figure size 800x400 with 1 Axes>",
      "image/png": "[encoded data removed]"
     },
     "metadata": {},
     "output_type": "display_data"
    },
    {
     "data": {
      "text/plain": "<Figure size 800x400 with 1 Axes>",
      "image/png": "[encoded data removed]"
     },
     "metadata": {},
     "output_type": "display_data"
    }
   ],
   "source": [
    "def show_histogram_nb_words(dataset: CustomDataset, column: str):\n",
    "\n",
    "    \"\"\"\n",
    "    Affiche la distribution de la colonne passé en paramètre du dataset. L'histogramme doit contenir un titre et des titres sur les axes\n",
    "\n",
    "    dataset: Dataset contenant plusieurs colonne dont la colonne dont les statistiques doivent être affichées\n",
    "    column: Colonne à afficher\n",
    "\n",
    "    \"\"\"\n",
    "    # TODO\n",
    "\n",
    "    # On récupère la colonne\n",
    "    data = dataset.get_column(column)\n",
    "\n",
    "    # On compte le nombre de mots pour chaque ligne avec word_tokenize (après avoir enlevé les caractères spéciaux)\n",
    "    word_counts = data.apply(lambda x: len(word_tokenize(x.replace('[', '').replace(']', '').replace(\"'\", ''))))\n",
    "    \n",
    "    # Affichage de l'histogramme\n",
    "    plt.figure(figsize=(8, 4))\n",
    "    plt.hist(word_counts, bins=20, edgecolor='black')\n",
    "    plt.title(f\"Distribution du nombre de mots dans '{column}'\")\n",
    "    plt.xlabel(\"Nombre de mots\")\n",
    "    plt.ylabel(\"Nombre de documents\")\n",
    "    plt.grid(True)\n",
    "    plt.show()\n",
    "    \n",
    "    # END TODO\n",
    "\n",
    "show_histogram_nb_words(train_dataset, INPUT_COLUMN)\n",
    "show_histogram_nb_words(train_dataset, OUTPUT_COLUMN)"
   ]
  },
  {
   "cell_type": "markdown",
   "metadata": {
    "id": "fKAGNVSe2tRT"
   },
   "source": [
    "#### 2.3 Commentez les graphiques (1 points)\n",
    "1. Est-ce que les distributions suivent des distributions normales ?\n",
    "Non\n",
    "2. Qu'observez-vous de spécial sur la distribution du nombre de mots de la colonne \"concepts\" ? Pourquoi est-elle ainsi ? La colonne 'concepts' ne contient toujours que 3 mots."
   ]
  },
  {
   "cell_type": "markdown",
   "metadata": {
    "id": "EDnurIIU2tRT"
   },
   "source": [
    "### 3. Segmentation (Tokenization) (5 points)"
   ]
  },
  {
   "cell_type": "markdown",
   "metadata": {
    "id": "BU1nJ3xT2tRT"
   },
   "source": [
    "#### 3.1 Entraînement du segmenteur (tokenizer) (3 points)\n",
    "La fonction `word_tokenize()` de `nltk` est utile pour rapidement ressortir des statistiques, mais elle reste très générale et inefficace. Afin de réduire le plus possible la taille du vocabulaire, nous allons entraîner notre propre Tokenizer en nous basant sur l'algorithme BPE (Byte Pair Encoding). L'algorithme BPE est une méthode de compression de texte qui permet de créer des tokenizers efficaces en regroupant les caractères les plus fréquents. Il commence par diviser le texte en caractères uniques, puis itérativement fusionne les paires de caractères les plus fréquentes en nouveaux symboles. Ce processus continue jusqu'à atteindre un nombre prédéfini de jetons (tokens), permettant ainsi de gérer des vocabulaires de différentes tailles de manière flexible et efficace. À l'aide de BPE, nous allons transformer les mots en nombres pour pouvoir les passer au Transformer par la suite. Chaque jeton (token) sera associé à un nombre correspondant à l'indice du jeton dans le vocabulaire. Une séquence en entrée sera ainsi représentée comme une séquence de nombres.\n",
    "\n",
    "De plus, des jetons spéciaux seront ajoutés au tokenizer pour spécifier le début d'une phrase (begin-of-sequence : `[BOS]`) et la fin d'une phrase (end-of-sequence : `[EOS]`). Un jeton de padding `[PAD]` sera utilisé afin de s'assurer que toutes les phrases ont la même taille. Finalement, un jeton `[UNK]` sera utilisé pour les jetons inconnus.\n",
    "\n",
    "Pour créer ce vocabulaire à l'aide de l'algorithme BPE, il faudra entraîner le tokenizer sur notre ensemble d'entraînement pour qu'il puisse encoder efficacement les mots qui y sont présents. L'entraînement est déjà implémenté par la classe `ByteLevelBPYTokenizer` de la librairie `tokenizers`.\n",
    "\n",
    "Vous n'avez qu'à compléter la fonction :\n",
    "- `data_generator` qui retourne un générateur d'un lot (batch) de texte provenant de l'ensemble d'entraînement. Pour chaque lot, les colonnes \"sentence\" et \"concepts\" sont concaténées pour former la chaîne finale qui sera envoyée au tokenizer. Les lots sont utiles lors de l'entraînement pour accélérer l'entraînement en parallélisant le tout et en évitant de charger tout notre ensemble d'entraînement en mémoire directement."
   ]
  },
  {
   "cell_type": "code",
   "execution_count": 8,
   "metadata": {
    "id": "T7ouSYOn9Fxr",
    "ExecuteTime": {
     "end_time": "2024-10-26T12:59:38.737388100Z",
     "start_time": "2024-10-26T12:59:38.714089800Z"
    }
   },
   "outputs": [],
   "source": [
    "VOCAB_SIZE = 8000\n",
    "special_tokens = ['[PAD]', '[BOS]', '[EOS]', '[UNK]']\n",
    "base_tokenizer = CharBPETokenizer(unk_token=special_tokens[-1])\n",
    "tokenizer_batch_size = 64\n",
    "\n",
    "def data_generator():\n",
    "    \"\"\"\n",
    "    Generateur qui retourne un lot (batch) de texte provenant de l'ensemble d'entraînement.\n",
    "    Pour chaque élément d'un lot, les colonnes \"sentence\" et \"concepts\" sont concaténée.\n",
    "    \"\"\"\n",
    "    for i in range(0, len(train_dataset), tokenizer_batch_size):\n",
    "\n",
    "        # TODO\n",
    "\n",
    "        # On récupère le batch\n",
    "        batch = train_dataset.get_batch(i, i+tokenizer_batch_size)\n",
    "\n",
    "        # On concatène les colonnes\n",
    "        text = batch['sentence'] + batch['concepts'] \n",
    "       \n",
    "        # END TODO\n",
    "\n",
    "        yield text\n"
   ]
  },
  {
   "cell_type": "markdown",
   "metadata": {
    "id": "JS-nxpFN9Fxr"
   },
   "source": [
    "Vous devez maintenant compléter la fonction :\n",
    "- `train_tokenizer` qui prend en paramètre un tokenizer pour entraîner ce dernier à l'aide de la fonction [train_from_iterator](https://github.com/huggingface/tokenizers/blob/main/bindings/python/py_src/tokenizers/implementations/byte_level_bpe.py). Le générateur de données (data_generator) est envoyé à la fonction train_from_iterator tout comme la taille du vocabulaire, les jetons spéciaux et la fréquence minimum d'une séquence pour la considérer comme un jeton. Indiquez explicitement une fréquence minimum de 2."
   ]
  },
  {
   "cell_type": "code",
   "execution_count": 9,
   "metadata": {
    "id": "Xhy4Axwq9Fxr",
    "ExecuteTime": {
     "end_time": "2024-10-26T12:59:39.298048900Z",
     "start_time": "2024-10-26T12:59:38.726880700Z"
    }
   },
   "outputs": [],
   "source": [
    "\n",
    "from tokenizers import AddedToken, Tokenizer, decoders, pre_tokenizers, processors, trainers\n",
    "\n",
    "def train_tokenizer(tokenizer: CharBPETokenizer):\n",
    "    \"\"\"\n",
    "    Entraîne le tokenizer passé en paramètre en appelant la fonction train_from_iterator\n",
    "    et en spécifiant le générateur de donnée (data_generator), la taille du vocabulaire,\n",
    "    les jetons spéciaux et une fréquence minimum de 2 (indiquez le explicitement)\n",
    "    \"\"\"\n",
    "    # TODO\n",
    "\n",
    "    # Appel de train_from_iterator avec les bons paramètres \n",
    "    tokenizer.train_from_iterator(\n",
    "        iterator=data_generator(),\n",
    "        vocab_size=VOCAB_SIZE,\n",
    "        special_tokens=special_tokens,\n",
    "        min_frequency=2\n",
    "    )\n",
    "    \n",
    "    # END TODO\n",
    "\n",
    "train_tokenizer(base_tokenizer)\n",
    "\n",
    "# On ajoute les jetons de début, de fin de phrase et de jeton inconnu\n",
    "bos_token_id = base_tokenizer.token_to_id(\"[BOS]\")\n",
    "eos_token_id = base_tokenizer.token_to_id(\"[EOS]\")\n",
    "unk_token_id = base_tokenizer.token_to_id(\"[UNK]\")\n",
    "\n",
    "# On applique un template au tokenizer pour qu'il ajoute\n",
    "# les jetons au début et à la fin de chaque phrase\n",
    "base_tokenizer.post_processor = processors.TemplateProcessing(\n",
    "    single=f\"[BOS]:0 $A:0 [EOS]:0\",\n",
    "    special_tokens=[\n",
    "        (\"[BOS]\", bos_token_id),\n",
    "        (\"[EOS]\", eos_token_id),\n",
    "    ],\n",
    ")\n"
   ]
  },
  {
   "cell_type": "markdown",
   "metadata": {
    "id": "goTLCnvu9Fxr"
   },
   "source": [
    "Nous allons maintenant transformer notre tokenizer pour qu'il soit compatible avec l'API de la librairie Huggingface. Cela permettra entre autre de faciliter les appels de méthodes pour modifier facilement nos entrées. Par exemple, avec l'API de Huggingface, nous pouvons simplement appeler la méthode `tokenize` pour diviser une séquence en jetons (`Welcome` -> `[W, el, come]`). De la même manière, l'API nous permet d'appeler les méthodes `encode` et `decode` pour transformer une chaîne de caractères en séquences d'indices de jetons (`Welcome` -> `[36, 170, 664]`) et inversement."
   ]
  },
  {
   "cell_type": "code",
   "execution_count": 10,
   "metadata": {
    "id": "lFU2lsU52tRU",
    "ExecuteTime": {
     "end_time": "2024-10-26T12:59:40.629968600Z",
     "start_time": "2024-10-26T12:59:39.298048900Z"
    }
   },
   "outputs": [
    {
     "data": {
      "text/plain": "0"
     },
     "execution_count": 10,
     "metadata": {},
     "output_type": "execute_result"
    }
   ],
   "source": [
    "from transformers import PreTrainedTokenizerFast\n",
    "\n",
    "tokenizer = PreTrainedTokenizerFast(tokenizer_object=base_tokenizer._tokenizer, truncation=True)\n",
    "tokenizer.add_special_tokens({\n",
    "    'pad_token': \"[PAD]\",\n",
    "    'bos_token': \"[BOS]\",\n",
    "    'eos_token': \"[EOS]\",\n",
    "    'unk_token': \"[UNK]\"\n",
    "})"
   ]
  },
  {
   "cell_type": "markdown",
   "metadata": {
    "id": "I1HQ12tm9Fxr"
   },
   "source": [
    "Testons maintenant notre tokenizer sur une phrase de test"
   ]
  },
  {
   "cell_type": "code",
   "execution_count": 11,
   "metadata": {
    "colab": {
     "base_uri": "https://localhost:8080/"
    },
    "id": "RXwsa-s92tRU",
    "outputId": "f3aed644-46da-47f1-d5e7-22f0c0dc9488",
    "ExecuteTime": {
     "end_time": "2024-10-26T12:59:40.629968600Z",
     "start_time": "2024-10-26T12:59:40.624953300Z"
    }
   },
   "outputs": [
    {
     "name": "stdout",
     "output_type": "stream",
     "text": [
      "Welcome ! The boat arrived at the station ! 🤗  \n",
      "\n",
      "['W', 'el', 'come</w>', '!</w>', 'The</w>', 'boat</w>', 'arrived</w>', 'at</w>', 'the</w>', 'station</w>', '!</w>', '[UNK]']\n"
     ]
    }
   ],
   "source": [
    "test_input = 'Welcome ! The boat arrived at the station ! 🤗 '\n",
    "print(test_input, '\\n')\n",
    "print(tokenizer.tokenize(test_input))"
   ]
  },
  {
   "cell_type": "markdown",
   "metadata": {
    "id": "M9VPYkgF9Fxr"
   },
   "source": [
    "Observons maintenant la même phrase, mais une fois encodée en nombre. Décodons-la ensuite à partir de sa version encodée pour voir si nous retrouvons la phrase initiale.\n",
    "\n",
    "- La méthode `encode` permet de transformer une séquence de mots en séquence de nombres correspondant aux indices des différents jetons de la phrase dans le vocabulaire\n",
    "- La méthode `decode` permet de transformer une séquence d'indices de jetons en phrase lisible."
   ]
  },
  {
   "cell_type": "code",
   "execution_count": 12,
   "metadata": {
    "colab": {
     "base_uri": "https://localhost:8080/"
    },
    "id": "OGYIbuYw2tRU",
    "outputId": "415ff727-6e82-46c9-a969-e52de73618ad",
    "ExecuteTime": {
     "end_time": "2024-10-26T12:59:45.518266Z",
     "start_time": "2024-10-26T12:59:40.629968600Z"
    }
   },
   "outputs": [
    {
     "name": "stdout",
     "output_type": "stream",
     "text": [
      "Texte initial :  Welcome ! The boat arrived at the station ! 🤗 \n",
      "====================================================================================================\n",
      "Texte encodé :  [1, 36, 168, 807, 104, 277, 295, 2875, 129, 118, 350, 104, 3, 2]\n",
      "Texte décodé :  [BOS]Welcome! The boat arrived at the station! [UNK][EOS]\n"
     ]
    }
   ],
   "source": [
    "print('Texte initial : ', test_input)\n",
    "print('=' * 100)\n",
    "print('Texte encodé : ', tokenizer.encode(test_input))\n",
    "print('Texte décodé : ', tokenizer.decode(tokenizer.encode(test_input)))"
   ]
  },
  {
   "cell_type": "markdown",
   "metadata": {
    "id": "bgAOmSe-9Fxr"
   },
   "source": [
    "#### 3.2 Que remarquez-vous dans la version segmentée (tokenized) de la phrase de test ? Quelles sont les différences entre la phrase initiale et la phrase décodée ? Pourquoi ? (2 points)"
   ]
  },
  {
   "cell_type": "markdown",
   "metadata": {
    "id": "SJt5coCQ9Fxs"
   },
   "source": [
    "### 4. Transformer (28 points)"
   ]
  },
  {
   "cell_type": "markdown",
   "metadata": {
    "id": "P2qoKbLl9Fxs"
   },
   "source": [
    "Il est maintenant le temps de construire les couches du Transformer. Son architecture globale est présentée dans la figure suivante. :\n",
    "\n",
    "![Transformer](images/transformer.png)\n",
    "\n",
    "Les couches sont définies pour vous et vous n'avez qu'à compléter, à moins d'indication contraire, la fonction `forward` de chacune des classes qui prend un tenseur en entrée et effectue une transformation sur celui-ci pour générer une sortie. Cette transformation varie en fonction de chaque classe. Une description de ce que doit faire la classe est indiquée à chaque étape. Lorsque la fonction `forward` est complexe, une figure est fournie pour vous guider. Attention, ne changez pas le constructeur ou le nom de la classe !"
   ]
  },
  {
   "cell_type": "markdown",
   "metadata": {
    "id": "hxIkdQnH9Fxs"
   },
   "source": [
    "#### 4.1 Positional Embedding\n",
    "Le Transformer encode l'information de l'ordre des mots dans les plongements des mots. Des plongements de position sont calculés et ils sont ajoutés aux plongements de contexte. Dans ce cas-ci la classe `PositionalEmbedding` vous est donnée."
   ]
  },
  {
   "cell_type": "code",
   "execution_count": 13,
   "metadata": {
    "id": "jWGyCzdH2tRU",
    "ExecuteTime": {
     "end_time": "2024-10-26T12:59:45.524037600Z",
     "start_time": "2024-10-26T12:59:45.523531800Z"
    }
   },
   "outputs": [],
   "source": [
    "class PositionalEmbedding(nn.Module):\n",
    "    \"\"\"\n",
    "    Cette classe a été prise de l'implémentation originale du papier 'Attention Is All You Need'\n",
    "    \"\"\"\n",
    "\n",
    "    def __init__(self, max_seq_length, embedding_dim):\n",
    "        super(PositionalEmbedding, self).__init__()\n",
    "\n",
    "        self.max_seq_length = max_seq_length\n",
    "        self.embedding_dim = embedding_dim\n",
    "\n",
    "        pe = torch.zeros(max_seq_length, self.embedding_dim)\n",
    "        position = torch.arange(0, max_seq_length, dtype=torch.float).unsqueeze(1)\n",
    "        div_term = torch.exp(torch.arange(0, self.embedding_dim, 2).float() * -(math.log(10000.0) / self.embedding_dim))\n",
    "\n",
    "        pe[:, 0::2] = torch.sin(position * div_term)\n",
    "        pe[:, 1::2] = torch.cos(position * div_term)\n",
    "\n",
    "        self.register_buffer('pe', pe.unsqueeze(0))\n",
    "\n",
    "    def forward(self, x: torch.Tensor):\n",
    "        return x + self.pe[:, :x.size(1)]\n"
   ]
  },
  {
   "cell_type": "markdown",
   "metadata": {
    "id": "qGaeIr1r9Fxs"
   },
   "source": [
    "#### 4.2 Attention (6 points)\n",
    "Le mécanisme d'attention est le coeur de l'architecture du Transformer. Il permet notamment la parallélisation de l'entraînement tout en garantissant un lien direct entre tous les jetons. Vous devrez implémenter la fonction `scaled_dot_product_attention` qui effectue le calcul principal derrière le mécanisme d'attention. Cette fonction prend en entrée les tenseurs `Q`, `K`, `V` et effectue le calcul suivant :\n",
    "$$A = \\texttt{softmax}\\Big( \\frac{Q K^T \\odot M}{\\texttt{head\\_dim}} \\Big) V$$\n",
    "où $M$ est le masque d'attention qui doit être appliqué. Plus de détails sont indiqués dans la description de la fonction à propos du masque. Par rapport au tenseur de clés, vous remarquerez dans la formule qu'une transposée est appliquée sur ce tenseur. Étant donné qu'un tenseur possède plus que 2 dimensions, il est important de spécifier quelles dimensions seront transposées dans le tenseur. Dans notre cas, il s'agit des dimensions correspondants aux jetons de la séquence et aux plongements des jetons"
   ]
  },
  {
   "cell_type": "code",
   "execution_count": 14,
   "metadata": {
    "id": "lVVuGLFY2tRU",
    "ExecuteTime": {
     "end_time": "2024-10-26T12:59:45.533757Z",
     "start_time": "2024-10-26T12:59:45.524037600Z"
    }
   },
   "outputs": [],
   "source": [
    "class MultiHeadAttention(nn.Module):\n",
    "    def __init__(self, model_dim, num_heads):\n",
    "        super(MultiHeadAttention, self).__init__()\n",
    "        assert model_dim % num_heads == 0, \"La dimension du modèle doit être divisible par le nombre de têtes d'attention\"\n",
    "\n",
    "        self.model_dim = model_dim\n",
    "        self.num_heads = num_heads\n",
    "        self.head_dim = model_dim // num_heads\n",
    "\n",
    "        self.wq = nn.Linear(model_dim, model_dim) # Query\n",
    "        self.wk = nn.Linear(model_dim, model_dim) # Key\n",
    "        self.wv = nn.Linear(model_dim, model_dim) # Value\n",
    "        self.wo = nn.Linear(model_dim, model_dim) # Output\n",
    "\n",
    "        self.mask_value = -1e9\n",
    "\n",
    "    def scaled_dot_product_attention(self, Q, K, V, mask=None):\n",
    "        \"\"\"\n",
    "        Calcule les plongements d'attention en utilisant la formule\n",
    "\n",
    "        attn = softmax(Q * K^T @ mask / head_dim) * V\n",
    "\n",
    "        Args :\n",
    "            Q : plongements des queries\n",
    "            Taille : [batch_size, num_heads, seq_length, head_dim]\n",
    "\n",
    "            K : plongements des keys\n",
    "            Taille : [batch_size, num_heads, seq_length, head_dim]\n",
    "\n",
    "            V : plongement des values\n",
    "            Taille : [batch_size, num_heads, seq_length, head_dim]\n",
    "\n",
    "            mask : Masque d'attention qui doit être appliqué avant le softmax pour que\n",
    "            les jetons ne portent pas leur attention sur certains jetons. Le masque est\n",
    "            notamment utilisé dans le décodeur pour s'assurer que le transformer n'ait\n",
    "            pas accès aux futurs jetons lorsqu'il essaie de prédire le prochain jeton.\n",
    "            Il contient des valeurs 0 ou 1. Une valeur de 0 à la position i,j indique\n",
    "            que pour le jeton i, le jeton j doit être masqué. Pour masquer la valeur,\n",
    "            il suffit de mettre une valeur très petite (self.mask_value) à l'indice i,j.\n",
    "            La fonction masked_fill de PyTorch pourrait être utile\n",
    "            Taille : [1, seq_length, seq_length]\n",
    "\n",
    "        Returns :\n",
    "        Résultat du calcul d'attention de taille [batch_size, num_heads, seq_length, head_dim]\n",
    "        \"\"\"\n",
    "        # TODO\n",
    "\n",
    "        # Q * K^T / head_dim\n",
    "        attn_scores = torch.matmul(Q, K.transpose(-2, -1)) / self.head_dim**0.5\n",
    "        \n",
    "        # On applique le masque\n",
    "        attn_scores_masked = attn_scores.masked_fill(mask == 0, self.mask_value)\n",
    "\n",
    "        # Softmax\n",
    "        attn_weights = F.softmax(attn_scores_masked, dim=-1)\n",
    "\n",
    "        # On multiplie par V\n",
    "        attn = torch.matmul(attn_weights, V)\n",
    "\n",
    "        return attn    \n",
    "        \n",
    "        # END TODO\n",
    "\n",
    "    def split_heads(self, x):\n",
    "        \"\"\"\n",
    "        Sépare une entrée sur plusieurs têtes d'attention\n",
    "\n",
    "        Args :\n",
    "            x : Tenseur d'entrée\n",
    "            Taille : [batch_size, seq_length, model_dim]\n",
    "\n",
    "        Returns :\n",
    "        Tenseur séparé sur plusieurs têtes d'attention\n",
    "        Taille : [batch_size, num_heads, seq_length, head_dim]\n",
    "        \"\"\"\n",
    "        return x.view(x.shape[0], x.shape[1], self.num_heads, self.head_dim).transpose(1, 2)\n",
    "\n",
    "    def combine_heads(self, x):\n",
    "        \"\"\"\n",
    "        Combine une entrée à travers les têtes d'attention\n",
    "\n",
    "        Args :\n",
    "            x : Tenseur d'entrée\n",
    "            Taille : [batch_size, num_heads, seq_length, head_dim]\n",
    "\n",
    "        Returns :\n",
    "        Tenseur séparé sur plusieurs têtes d'attention\n",
    "        Taille : [batch_size, seq_length, model_dim]\n",
    "        \"\"\"\n",
    "        return x.transpose(1, 2).contiguous().view(x.shape[0], x.shape[2], self.model_dim)\n",
    "\n",
    "    def forward(self, queries, keys, values, mask=None):\n",
    "        \"\"\"\n",
    "        Exécute le mécanisme d'attention à travers plusieurs têtes\n",
    "        d'attention\n",
    "\n",
    "        Args :\n",
    "            queries : plongements des queries\n",
    "            Taille : [batch_size, seq_length, model_dim]\n",
    "\n",
    "            keys : plongements des keys\n",
    "            Taille : [batch_size, seq_length, model_dim]\n",
    "\n",
    "            values : plongement des values\n",
    "            Taille : [batch_size, seq_length, model_dim]\n",
    "\n",
    "            mask : mask qui sera appliqué\n",
    "            Taille : [1, seq_length, seq_length]\n",
    "\n",
    "        Returns :\n",
    "        Tenseur contenant les plongements finaux de chaque indice de\n",
    "        la séquence\n",
    "        Taille : [batch_size, seq_length, model_dim]\n",
    "        \"\"\"\n",
    "        \n",
    "        Q = self.split_heads(self.wq(queries))\n",
    "        K = self.split_heads(self.wk(keys))\n",
    "        V = self.split_heads(self.wv(values))\n",
    "\n",
    "        attn_output = self.scaled_dot_product_attention(Q, K, V, mask)\n",
    "        return self.wo(self.combine_heads(attn_output))"
   ]
  },
  {
   "cell_type": "code",
   "execution_count": 15,
   "metadata": {
    "colab": {
     "base_uri": "https://localhost:8080/"
    },
    "id": "4RmDSGKW9Fxs",
    "outputId": "9ea294a3-141f-4c45-cb7c-f8fe672dbd47",
    "ExecuteTime": {
     "end_time": "2024-10-26T12:59:45.640834300Z",
     "start_time": "2024-10-26T12:59:45.533757Z"
    }
   },
   "outputs": [
    {
     "name": "stdout",
     "output_type": "stream",
     "text": [
      "tensor([[[-0.6789,  2.8487,  2.8666, -1.1983,  3.2915,  0.5359],\n",
      "         [-0.3437,  3.1045,  3.0715, -1.1405,  3.2748,  0.3843],\n",
      "         [-2.5825,  4.2728, -0.0114, -2.2663, -0.0922, -2.4731],\n",
      "         [-2.5749,  4.2706, -0.0056, -2.2613, -0.0874, -2.4694]]])\n"
     ]
    }
   ],
   "source": [
    "def test_attention():\n",
    "    batch_size = 1\n",
    "    seq_length = 4\n",
    "    model_dim = 6\n",
    "    num_heads = 2\n",
    "\n",
    "    torch.random.manual_seed(42)\n",
    "    attention = MultiHeadAttention(model_dim=model_dim, num_heads=num_heads)\n",
    "    inputs = torch.randint(0, 10, (batch_size, seq_length, model_dim), dtype=torch.float32)\n",
    "    mask = (1 - torch.triu(torch.ones(1, seq_length, seq_length), diagonal=1))\n",
    "    print(attention.forward(inputs, inputs, inputs, mask=mask).detach())\n",
    "\n",
    "test_attention()"
   ]
  },
  {
   "cell_type": "markdown",
   "metadata": {
    "id": "LYhfAMYn9Fxv"
   },
   "source": [
    "Sortie attendue :\n",
    "```\n",
    "tensor([[[-0.6789,  2.8487,  2.8666, -1.1983,  3.2915,  0.5359],\n",
    "         [-0.3437,  3.1045,  3.0715, -1.1405,  3.2748,  0.3843],\n",
    "         [-2.5825,  4.2728, -0.0114, -2.2663, -0.0922, -2.4731],\n",
    "         [-2.5749,  4.2706, -0.0056, -2.2613, -0.0874, -2.4694]]])\n",
    "```"
   ]
  },
  {
   "cell_type": "markdown",
   "metadata": {
    "id": "sWlUCL9J9Fxv"
   },
   "source": [
    "#### 4.3 Encodeur (6 points)\n",
    "L'encodeur du Transformer encode la séquence d'entrée dans des vecteurs de contexte avant d'envoyer ces vecteurs de contexte au décodeur pour qu'ils puissent être utilisés pour générer la séquence de sortie. Vous n'avez qu'à compléter les fonctions `forward` des classes `TransformerFeedForward`, `EncoderLayer` et `Encoder`. L'architecture d'une couche d'encodeur `EncoderLayer` est décrite dans la figure suivante :\n",
    "\n",
    "![EncoderLayer](images/encoder_layer.png)"
   ]
  },
  {
   "cell_type": "markdown",
   "metadata": {
    "id": "GXmZRBKw9Fxv"
   },
   "source": [
    "La classe `TransformerFeedForward` représente une couche simple de réseaux de neurones avec la fonction d'activation `ReLU` qui sera présente dans l'encodeur. Son architecture est décrite dans la figure suivante :\n",
    "\n",
    "![TransformerFeedForward](images/transformer_feed_forward.png)"
   ]
  },
  {
   "cell_type": "code",
   "execution_count": 16,
   "metadata": {
    "id": "NtiCsab89Fxv",
    "ExecuteTime": {
     "end_time": "2024-10-26T12:59:45.643343Z",
     "start_time": "2024-10-26T12:59:45.635658200Z"
    }
   },
   "outputs": [],
   "source": [
    "class TransformerFeedForward(nn.Module):\n",
    "\n",
    "    def __init__(self, model_dim: int, ff_dim: int) -> None:\n",
    "        super(TransformerFeedForward, self).__init__()\n",
    "        self.model_dim = model_dim\n",
    "        self.ff_dim = ff_dim\n",
    "\n",
    "        self.ff1 = nn.Linear(model_dim, ff_dim)\n",
    "        self.ff2 = nn.Linear(ff_dim, model_dim)\n",
    "\n",
    "    def forward(self, x: torch.Tensor):\n",
    "        \"\"\"\n",
    "        Applique les deux couches linéaires (ff) consécutivement avec la fonction\n",
    "        d'activation ReLU après chaque couche linéaire\n",
    "\n",
    "        Args :\n",
    "            x : Tenseur d'entrée de taille [batch_size, model_dim]\n",
    "\n",
    "        Returns :\n",
    "        Tenseur après être passé à travers les couches linéaires de taille\n",
    "        [batch_size, model_dim]\n",
    "        \"\"\"\n",
    "        # TODO\n",
    "\n",
    "        # Couche ff1\n",
    "        x = self.ff1(x)\n",
    "\n",
    "        # Couche ReLU\n",
    "        x = torch.relu(x)\n",
    "\n",
    "        # Couche ff2\n",
    "        x = self.ff2(x)\n",
    "\n",
    "        # Couche ReLU\n",
    "        x = torch.relu(x)\n",
    "\n",
    "        return x \n",
    "        # END TODO"
   ]
  },
  {
   "cell_type": "markdown",
   "metadata": {
    "id": "SOdPH-wA9Fxv"
   },
   "source": [
    "La classe `EncoderLayer` représente une seule couche qui applique le mécanisme d'attention sur la sortie de la couche précédente. Dans le cas de la première couche d'encodeur, il s'agit simplement de la couche de plongements des jetons. Par la suite, le résultat du mécanisme d'attention est normalisé et envoyé à une couche de réseau de neurones."
   ]
  },
  {
   "cell_type": "code",
   "execution_count": 17,
   "metadata": {
    "id": "WM-OxKRy2tRU",
    "ExecuteTime": {
     "end_time": "2024-10-26T12:59:45.659306100Z",
     "start_time": "2024-10-26T12:59:45.643343Z"
    }
   },
   "outputs": [],
   "source": [
    "class EncoderLayer(nn.Module):\n",
    "\n",
    "    def __init__(self, model_dim: int, ff_dim: int, dropout_rate: int = 0.3, num_heads=8) -> None:\n",
    "        super(EncoderLayer, self).__init__()\n",
    "\n",
    "        self.self_attention = MultiHeadAttention(model_dim=model_dim, num_heads=num_heads)\n",
    "        self.feed_forward = TransformerFeedForward(model_dim=model_dim, ff_dim=ff_dim)\n",
    "        self.attention_layer_norm = nn.LayerNorm(model_dim)\n",
    "        self.ff_layer_norm = nn.LayerNorm(model_dim)\n",
    "        self.dropout = nn.Dropout(dropout_rate)\n",
    "\n",
    "    def forward(self, x: torch.Tensor, encoder_mask: torch.Tensor = None):\n",
    "        \"\"\"\n",
    "        Applique la couche d'attention, de normalisation et de réseau de neurones\n",
    "        sur l'entrée\n",
    "\n",
    "        Args :\n",
    "            x : Tenseur d'entrée de l'encodeur correspondant à la séquence d'entrée\n",
    "            Taille : [batch_size, seq_length, model_dim]\n",
    "\n",
    "        Returns :\n",
    "        Tenseur après avoir appliqués les couches de taille [batch_size, seq_length,\n",
    "        model_dim]\n",
    "        \"\"\"\n",
    "        # TODO\n",
    "\n",
    "        # Couche de Self-attention\n",
    "        attention_output = self.self_attention(x, x, x, mask=encoder_mask)\n",
    "\n",
    "        # Couche Dropout\n",
    "        attention_output = self.dropout(attention_output)\n",
    "        \n",
    "        # Couche Add & Norm\n",
    "        x = self.attention_layer_norm(x + attention_output)\n",
    "    \n",
    "        # Couche Feed Forward\n",
    "        ff_output = self.feed_forward(x)\n",
    "        \n",
    "        # Couche Dropout\n",
    "        ff_output = self.dropout(ff_output) \n",
    "\n",
    "        # Couche Add & Norm\n",
    "        x = self.ff_layer_norm(x + ff_output) \n",
    "\n",
    "        return x \n",
    "    \n",
    "        # END TODO"
   ]
  },
  {
   "cell_type": "markdown",
   "metadata": {
    "id": "ktqwGE8r9Fxv"
   },
   "source": [
    "La classe `Encoder` correspond à une suite de plusieurs couches d'encodeurs. La fonction `forward` de cette classe doit appeler chacune des couches (`EncoderLayer`) une à la suite de l'autre en passant à la couche courante la sortie de la couche précédente. Le masque est partagé entre toutes les couches `EncoderLayer`."
   ]
  },
  {
   "cell_type": "code",
   "execution_count": 18,
   "metadata": {
    "id": "75n3oqTP2tRV",
    "ExecuteTime": {
     "end_time": "2024-10-26T12:59:45.659306100Z",
     "start_time": "2024-10-26T12:59:45.656293800Z"
    }
   },
   "outputs": [],
   "source": [
    "class Encoder(nn.Module):\n",
    "\n",
    "    def __init__(self, num_layers: int, model_dim: int, ff_dim: int, dropout_rate: int = 0.3, num_heads=8) -> None:\n",
    "        super(Encoder, self).__init__()\n",
    "\n",
    "        self.layers = nn.ModuleList(\n",
    "            [EncoderLayer(\n",
    "                model_dim=model_dim,\n",
    "                ff_dim=ff_dim,\n",
    "                dropout_rate=dropout_rate,\n",
    "                num_heads=num_heads,\n",
    "            ) for _ in range(num_layers)]\n",
    "        )\n",
    "\n",
    "    def forward(self, x: torch.Tensor, encoder_mask: torch.LongTensor = None):\n",
    "        \"\"\"\n",
    "        Applique toutes les couches d'encodeur consécutivement\n",
    "\n",
    "        Args :\n",
    "            x : Tenseur d'entrée de l'encodeur correspondant à la séquence d'entrée\n",
    "            Taille : [batch_size, seq_length, model_dim]\n",
    "\n",
    "            encoder_mask : Tenseur contenant le masque qui sera utilisé par l'encodeur\n",
    "            pour cacher certains jetons (notamment les jetons [PAD])\n",
    "        Returns :\n",
    "        Tenseur après avoir appliqués les couches dans l'encodeur de taille\n",
    "        [batch_size, seq_length, model_dim]\n",
    "        \"\"\"\n",
    "        # TODO \n",
    "\n",
    "        # Appel de chaque couche :\n",
    "        # *on passe la sortie courante à la couche supérieure\n",
    "        # *on partage le masque entre les couches\n",
    "\n",
    "        for layer in self.layers:\n",
    "            x = layer(x, encoder_mask) \n",
    "        return x\n",
    "    \n",
    "        # END TODO"
   ]
  },
  {
   "cell_type": "markdown",
   "metadata": {
    "id": "YBfB3AjY9Fxw"
   },
   "source": [
    "#### 4.4 Décodeur (8 points)\n",
    "Le décodeur est la partie du Transformer qui génère la séquence de sortie en prenant le contexte de la séquence d'entrée et les jetons qui ont été générés précédemment. De la même manière que l'encodeur, la classe `DecoderLayer` représente une seule couche de décodeur. L'architecture du `DecoderLayer` est présentée dans la figure suivante :\n",
    "\n",
    "![DecoderLayer](images/decoder_layer.png)"
   ]
  },
  {
   "cell_type": "code",
   "execution_count": 19,
   "metadata": {
    "id": "Fj8tGjvg2tRV",
    "ExecuteTime": {
     "end_time": "2024-10-26T12:59:45.722613100Z",
     "start_time": "2024-10-26T12:59:45.659306100Z"
    }
   },
   "outputs": [],
   "source": [
    "class DecoderLayer(nn.Module):\n",
    "\n",
    "    def __init__(self, model_dim: int, ff_dim: int, dropout_rate: int = 0.3, num_heads=8) -> None:\n",
    "        super(DecoderLayer, self).__init__()\n",
    "\n",
    "        self.self_attention = MultiHeadAttention(model_dim=model_dim, num_heads=num_heads)\n",
    "        self.cross_attention = MultiHeadAttention(model_dim=model_dim, num_heads=num_heads)\n",
    "\n",
    "        self.feed_forward = TransformerFeedForward(model_dim=model_dim, ff_dim=ff_dim)\n",
    "\n",
    "        self.self_attention_layer_norm = nn.LayerNorm(model_dim)\n",
    "        self.cross_attention_layer_norm = nn.LayerNorm(model_dim)\n",
    "        self.ff_layer_norm = nn.LayerNorm(model_dim)\n",
    "\n",
    "        self.dropout = nn.Dropout(dropout_rate)\n",
    "\n",
    "    def forward(self,\n",
    "                x: torch.Tensor,\n",
    "                encoder_out: torch.Tensor,\n",
    "                encoder_mask: torch.LongTensor = None,\n",
    "                decoder_mask: torch.LongTensor = None):\n",
    "        \"\"\"\n",
    "        Applique les couches d'attention, de normalisation et de réseau de neurones\n",
    "        sur l'entrée\n",
    "\n",
    "        Args :\n",
    "            x : Entrée du décodeur correspondant à la séquence de sortie décalée vers\n",
    "            la droite\n",
    "            Taille : [batch_size, seq_length, model_dim]\n",
    "\n",
    "            encoder_output : Sortie de l'encodeur utilisé pour la couche de cross-\n",
    "            attention\n",
    "            Taille : [batch_size, seq_length, model_dim]\n",
    "\n",
    "            encoder_mask : Masque qui cache certains jetons dans la séquence d'entrée.\n",
    "            Par exemple, les jetons [PAD] seront cachés puisqu'ils ne sont utilisés que\n",
    "            pour aggrandir les séquences jusqu'à la fenêtre de contexte du Transformer\n",
    "            Taille : [batch_size, seq_length, seq_length]\n",
    "\n",
    "            decoder_mask : Masque qui cache certains jetons dans la séquence de sortie.\n",
    "            Ce masque est notamment utilisé dans le décodeur pour s'assurer que le\n",
    "            transformer n'ait pas accès aux futurs jetons lorsqu'il essaie de prédire\n",
    "            le prochain jeton.\n",
    "            Taille : [batch_size, seq_length, seq_length]\n",
    "        \"\"\"\n",
    "        # TODO\n",
    "\n",
    "        # Couche de Self-attention \n",
    "        self_attention_out = self.self_attention(x, x, x, mask = decoder_mask)\n",
    "        # Couche Dropout\n",
    "        self_attention_out = self.dropout(self_attention_out)\n",
    "        # Couche Add & Normalize\n",
    "        self_attention_out = self.ff_layer_norm(x + self_attention_out)\n",
    "\n",
    "        # Couche de Cross-attention \n",
    "        encoder_attention_out = self.cross_attention(self_attention_out, encoder_out, encoder_out, mask = encoder_mask) # On utilise la sortie de l'encodeur pour les clés et valeurs pour l'attention croisée\n",
    "        # Couche Dropout\n",
    "        encoder_attention_out = self.dropout(encoder_attention_out)\n",
    "        # Add & Norm\n",
    "        encoder_attention_out = self.ff_layer_norm(encoder_attention_out + self_attention_out)\n",
    "        \n",
    "        # Couche Feed Forward\n",
    "        ff_out = self.feed_forward(encoder_attention_out)\n",
    "        # Couche Dropout\n",
    "        ff_out = self.dropout(ff_out)\n",
    "        # Couche Add & Norm\n",
    "        out = self.ff_layer_norm(ff_out + encoder_attention_out)\n",
    "\n",
    "        return out\n",
    "        # END TODO"
   ]
  },
  {
   "cell_type": "markdown",
   "metadata": {
    "id": "dnhBKIIU9Fxw"
   },
   "source": [
    "La classe `Decoder` représente toutes les couches du décodeur. La fonction `forward` de cette classe doit appeler chacune des couches (`DecoderLayer`) une à la suite de l'autre en passant à la couche courante la sortie de la couche précédente. Les attributs `encoder_out`, `encoder_mask` et `decoder_mask` sont partagés entre toutes les couches `DecoderLayer`."
   ]
  },
  {
   "cell_type": "code",
   "execution_count": 20,
   "metadata": {
    "id": "MdjZSpzd2tRV",
    "ExecuteTime": {
     "end_time": "2024-10-26T12:59:45.722613100Z",
     "start_time": "2024-10-26T12:59:45.666480900Z"
    }
   },
   "outputs": [],
   "source": [
    "class Decoder(nn.Module):\n",
    "\n",
    "    def __init__(self, num_layers: int, model_dim: int, ff_dim: int, dropout_rate: int = 0.3, num_heads=8) -> None:\n",
    "        super(Decoder, self).__init__()\n",
    "\n",
    "        self.layers = nn.ModuleList(\n",
    "            [DecoderLayer(\n",
    "                model_dim=model_dim,\n",
    "                ff_dim=ff_dim,\n",
    "                dropout_rate=dropout_rate,\n",
    "                num_heads=num_heads,\n",
    "            ) for _ in range(num_layers)]\n",
    "        )\n",
    "\n",
    "    def forward(self, x: torch.Tensor, encoder_out: torch.Tensor, encoder_mask: torch.LongTensor = None, decoder_mask: torch.LongTensor = None):\n",
    "        \"\"\"\n",
    "        Applique toutes les couches du décodeur consécutivement\n",
    "\n",
    "        Args :\n",
    "            x : Tenseur d'entrée du décodeur correspondant à la séquence de sortie\n",
    "            Taille : [batch_size, seq_length, model_dim]\n",
    "\n",
    "            encoder_out : Tenseur contenant la séquence d'entrée encodée par l'encodeur\n",
    "\n",
    "            encoder_mask : Tenseur contenant le masque qui sera utilisé par l'encodeur\n",
    "            pour cacher certains jetons (notamment les jetons [PAD])\n",
    "\n",
    "            decoder_mask : Tenseur contenant le masque qui sera utilisé par le décodeur\n",
    "            pour cacher certains jetons (notamment les jetons [PAD] et les jetons futurs)\n",
    "\n",
    "        Returns :\n",
    "        Tenseur après avoir appliqués les couches dans l'encodeur de taille\n",
    "        [batch_size, seq_length, model_dim]\n",
    "        \"\"\"\n",
    "        # TODO\n",
    "\n",
    "        # Appel de chaque couche :\n",
    "        # *on passe la sortie courante à la couche supérieure\n",
    "        # *on partage les masques et encoder_out entre les couches\n",
    "        for layer in self.layers:\n",
    "            x = layer(x, encoder_out, encoder_mask, decoder_mask)\n",
    "        return x\n",
    "    \n",
    "        # END TODO"
   ]
  },
  {
   "cell_type": "markdown",
   "metadata": {
    "id": "rqH-GpDP9Fxw"
   },
   "source": [
    "#### 4.5 Transformer (8 points)\n",
    "\n",
    "L'architecture du Transformer est maintenant prête à être assemblée. En utilisant les différentes couches que vous avez implémentées, complétez la fonction `forward` de la classe `Transformer` qui, à partir de l'entrée de l'encodeur et du décodeur, génère la sortie du décodeur. L'architecture, telle que présentée précédemment, correspond à la figure suivante :\n",
    "\n",
    "![Transformer](images/transformer.png)\n",
    "\n",
    "La fonction forward doit passer les entrées à l'encodeur et au décodeur pour pouvoir générer une prédiction en fonction d'une entrée en appliquant les bons masques et encodages de position."
   ]
  },
  {
   "cell_type": "code",
   "execution_count": 21,
   "metadata": {
    "id": "UMWUXGRC2tRV",
    "ExecuteTime": {
     "end_time": "2024-10-26T12:59:45.722613100Z",
     "start_time": "2024-10-26T12:59:45.688363500Z"
    }
   },
   "outputs": [],
   "source": [
    "@dataclass\n",
    "class TransformerConfig:\n",
    "\n",
    "    model_dim: int = 512\n",
    "    ff_dim: int = 2048\n",
    "\n",
    "    nb_encoder: int = 6\n",
    "    nb_decoder: int = 6\n",
    "\n",
    "    num_heads: int = 8\n",
    "\n",
    "    max_seq_length: int = MAX_LENGTH\n",
    "    vocab_size: int = VOCAB_SIZE\n",
    "    device: str = 'cpu'\n",
    "    pad_token_id: int = 0\n",
    "\n",
    "\n",
    "class Transformer(nn.Module):\n",
    "\n",
    "    def __init__(self, config: TransformerConfig) -> None:\n",
    "        super(Transformer, self).__init__()\n",
    "\n",
    "        self.config = config\n",
    "        self.enc_embeddings = nn.Embedding(\n",
    "            num_embeddings=config.vocab_size,\n",
    "            embedding_dim=config.model_dim\n",
    "        )\n",
    "\n",
    "        self.dec_embeddings = nn.Embedding(\n",
    "            num_embeddings=config.vocab_size,\n",
    "            embedding_dim=config.model_dim\n",
    "        )\n",
    "\n",
    "        self.positional_embeddings = PositionalEmbedding(\n",
    "            max_seq_length=config.max_seq_length,\n",
    "            embedding_dim=config.model_dim\n",
    "        )\n",
    "\n",
    "        self.encoder = Encoder(config.nb_encoder, config.model_dim, config.ff_dim, num_heads=config.num_heads)\n",
    "        self.decoder = Decoder(config.nb_decoder, config.model_dim, config.ff_dim, num_heads=config.num_heads)\n",
    "\n",
    "        self.linear_projection = nn.Linear(config.model_dim, config.vocab_size)\n",
    "        self.device = config.device\n",
    "\n",
    "    def generate_mask(self, src, tgt):\n",
    "        \"\"\"\n",
    "        Génère les masques d'attentions pour l'encodeur et le décodeur du transformer en\n",
    "        se basant sur le jeton de pad donné dans la configuration du transformer. Dans le\n",
    "        cas du décodeur, un masque causal est également calculé pour empêcher les jetons\n",
    "        de porter leur attention sur les jetons futurs\n",
    "\n",
    "        Args :\n",
    "            src : Séquence d'entrée\n",
    "\n",
    "        \"\"\"\n",
    "        src_mask = (src != self.config.pad_token_id).unsqueeze(1).unsqueeze(2)\n",
    "        tgt_mask = (tgt != self.config.pad_token_id).unsqueeze(1).unsqueeze(3)\n",
    "        seq_length = tgt.size(1)\n",
    "        nopeak_mask = (1 - torch.triu(torch.ones(1, seq_length, seq_length), diagonal=1)).bool().to(self.device)\n",
    "        tgt_mask = tgt_mask & nopeak_mask\n",
    "        return src_mask, tgt_mask\n",
    "\n",
    "    def forward(self, encoder_x: torch.Tensor, decoder_x: torch.Tensor):\n",
    "        \"\"\"\n",
    "        Génère la sortie du décodeur étant donné une entrée pour l'encodeur et une entrée\n",
    "        pour le décodeur\n",
    "\n",
    "        Args :\n",
    "            encoder_x : Tenseur d'entrée de l'encodeur\n",
    "            Taille : [batch_size, seq_length]\n",
    "\n",
    "            decoder_x : Tenseur d'entrée du décodeur\n",
    "            Taille : [batch_size, seq_length]\n",
    "\n",
    "        Returns :\n",
    "        Sortie du décodeur correspondant au prédictions du jeton le plus proche. Attention,\n",
    "        n'appliquez pas softmax sur ces prédictions. Ce tenseur devrait avoir une taille de\n",
    "        [batch_size, seq_length, vocab_size]\n",
    "        \"\"\"\n",
    "\n",
    "        # TODO\n",
    "        \n",
    "        # Récupération des masques\n",
    "        encoder_mask, decoder_mask = self.generate_mask(encoder_x, decoder_x)\n",
    "\n",
    "        # Entrée pour l'encodeur (enc_embeddings + positional_embeddings)\n",
    "        encoder_x = self.positional_embeddings(self.enc_embeddings(encoder_x))\n",
    "        # Application et sortie de l'encodeur\n",
    "        encoder_x = self.encoder(encoder_x, encoder_mask)\n",
    "\n",
    "        # Entrée pour le décodeur (enc_embeddings + positional_embeddings)\n",
    "        decoder_x = self.positional_embeddings(self.enc_embeddings(decoder_x))\n",
    "        # Application et sortie du décodeur\n",
    "        decoder_x = self.decoder(decoder_x, encoder_x, encoder_mask, decoder_mask)\n",
    "\n",
    "        # Couche linéaire finale (projection dans l'espace du vocabulaire)\n",
    "        decoder_y = self.linear_projection(decoder_x)\n",
    "        \n",
    "        return decoder_y\n",
    "    \n",
    "        # END TODO"
   ]
  },
  {
   "cell_type": "markdown",
   "metadata": {
    "id": "09w2xPmk9Fxw"
   },
   "source": [
    "### 5. Padding et coupure (5 points)\n",
    "\n",
    "Il est important, lors de l'entraînement que toutes les séquences aient la même longueur de texte, car le Transformer prend toujours un nombre fixe de jetons. Cette taille correspond à sa fenêtre de contexte. Afin de s'assurer que toutes les séquences de texte dans un lot d'entraînement soient de la même longueur, nous allons couper les séquences trop longues et ajouter des jetons à celles qui sont trop courtes. Le jeton qui sera ajouté sera le jeton de \"padding\" du tokenizer (`[PAD]`).\n",
    "\n",
    "Complétez la fonction `tokenize` de la classe `DataCollator` qui s'occupe d'appeler le tokenizer avec les textes passés en paramètre en spécifiant les paramètres suivants :\n",
    "- `padding`: `\"max_length\"` (Attention on veut la chaîne de charactère `\"max_length\"`, pas la variable)\n",
    "- `truncation`: `True`\n",
    "- `max_length`: La taille maximale passée dans le constructeur\n",
    "- `return_tensors`: `pt`\n",
    "- `return_token_type_ids`: `False`\n",
    "- `add_special_tokens`: `True`\n",
    "\n",
    "Complétez la fonction `__call__` qui s'occupe de prendre un lot de données (le lot/batch correspondant à un sous-ensemble de l'ensemble d'entraînement) et retourne les entrées de l'encodeur et du décodeur ainsi que la sortie du décodeur du Transformer. Vous devrez prendre le lot passé en paramètre et transformer les colonnes `sentence` et `concepts` du lot en jetons. Les jetons de la colonne `sentence` seront envoyés à l'encodeur et les jetons de la colonne `concepts` seront envoyés au décodeur."
   ]
  },
  {
   "cell_type": "code",
   "execution_count": 22,
   "metadata": {
    "id": "FgvbPOmY9Fxw",
    "ExecuteTime": {
     "end_time": "2024-10-26T12:59:45.722613100Z",
     "start_time": "2024-10-26T12:59:45.690878Z"
    }
   },
   "outputs": [],
   "source": [
    "from typing import Dict, List, Union\n",
    "\n",
    "\n",
    "class DataCollator:\n",
    "    def __init__(self, tokenizer: Tokenizer, max_length: int, device: str = 'cpu') -> None:\n",
    "        self.tokenizer = tokenizer\n",
    "        self.max_length = max_length\n",
    "        self.device = device\n",
    "\n",
    "        self.pad_token_id = tokenizer.pad_token_id\n",
    "        self.bos_token_id = tokenizer.bos_token_id\n",
    "        self.eos_token_id = tokenizer.eos_token_id\n",
    "\n",
    "    def tokenize(self, texts):\n",
    "        \"\"\"\n",
    "        Transforme la séquence de textes en séquence d'indice de jetons\n",
    "\n",
    "        Args :\n",
    "            texts : Textes à transformer\n",
    "\n",
    "        Returns :\n",
    "        Indices des jetons des textes\n",
    "        \"\"\"\n",
    "        # TODO\n",
    "\n",
    "        # Appel du tokenizer avec les bons paramètres\n",
    "        return self.tokenizer(texts, padding =  \"max_length\", truncation = True, max_length = self.max_length, return_tensors = 'pt', return_token_type_ids = False, add_special_tokens = True)\n",
    "    \n",
    "        # END TODO\n",
    "\n",
    "    def __call__(self, batch: List[Dict[str, Union[str, int]]]) -> Dict[str, torch.Tensor]:\n",
    "        \"\"\"\n",
    "        Transforme une batch contenant les colonnes target et concepts en les envoyant au tokenizer\n",
    "        et préparant les jetons aux entrées et sorties de l'encodeur et du décodeur\n",
    "        \"\"\"\n",
    "        # TODO\n",
    "\n",
    "        # On tokenize les sentences\n",
    "        sentences = [item['sentence'] for item in batch]\n",
    "        encoder = self.tokenize(sentences)\n",
    "        \n",
    "         # On tokenize les concepts\n",
    "        concepts = [item['concepts'] for item in batch]\n",
    "        decoder = self.tokenize(concepts)      \n",
    "    \n",
    "\n",
    "        \"\"\"\n",
    "        Dans le décodeur, la séquence attendue est décalée vers la droite d'un jeton à l'entrée du décodeur.\n",
    "        Par exemple, si on veut faire de la traduction, nous pourrions avoir la séquence suivante :\n",
    "\n",
    "        La pomme est verte -> The apple is green\n",
    "\n",
    "        Les valeurs du dictionnaire de retour serait donc :\n",
    "\n",
    "        +-------------+--------+--------+--------+--------+--------+--------+\n",
    "        |   Valeur    | Jeton1 | Jeton2 | Jeton3 | Jeton4 | Jeton5 | Jeton6 |\n",
    "        +-------------+--------+--------+--------+--------+--------+--------+\n",
    "        | encoder_in  | [BOS]  | la     | pomme  | est    | verte  | [EOS]  |\n",
    "        | decoder_in  | [BOS]  | The    | apple  | is     | green  | [EOS]  |\n",
    "        | decoder_out | The    | apple  | is     | green  | [EOS]  | [PAD]  |\n",
    "        +-------------+--------+--------+--------+--------+--------+--------+\n",
    "\n",
    "        Par exemple, pour le jeton 3, le transformer essaiera de prédire le jeton \"is\" avec comme information\n",
    "        tous les jetons de l'encodeur et tous les jetons précédents le \"is\" ([BOS] The apple).\n",
    "\n",
    "        C'est d'ailleurs à cause de ce décalage que nous enlevons le premier jetons dans 'decoder_out'. Aussi,\n",
    "        le dernier jetons dans 'decoder_in' est enlevé, car le Transformer ne devrait jamais voir le jeton\n",
    "        de fin de phrase, car cela voudrait dire que la séquence est terminée. Il devrait seulement le prédire.\n",
    "        \"\"\"\n",
    "\n",
    "        # Préparation des jetons pour les entrées et sorties de l'encodeur et du décodeur avec les décalages necéssaires\n",
    "        return {\n",
    "            'encoder_in': encoder['input_ids'].to(self.device), 'decoder_in': decoder['input_ids'][:, :-1].to(self.device),       \n",
    "            'decoder_out': decoder['input_ids'][:, 1:].to(self.device),        \n",
    "        }             \n",
    "        # END TODO\n",
    "        \n"
   ]
  },
  {
   "cell_type": "code",
   "execution_count": 23,
   "metadata": {
    "colab": {
     "base_uri": "https://localhost:8080/"
    },
    "id": "ms_zfOuw9Fxw",
    "outputId": "301a4393-5e76-4f37-a394-0e3b324cf21c",
    "ExecuteTime": {
     "end_time": "2024-10-26T12:59:45.741154300Z",
     "start_time": "2024-10-26T12:59:45.699807900Z"
    }
   },
   "outputs": [
    {
     "name": "stdout",
     "output_type": "stream",
     "text": [
      "<class 'pandas.core.frame.DataFrame'>\n",
      "====================================================================================================\n",
      "\n",
      "Encoder in detokenized : \n",
      "\n",
      " [BOS]two elephants standing next to each other in their pen [EOS][PAD][PAD][PAD][PAD]\n",
      "[BOS]A big elephant that is standing there quietly in the pen. [EOS]\n",
      "\n",
      "Decoder in detokenized : \n",
      "\n",
      " [BOS]['elephant'' pen'' stand'] [EOS][PAD][PAD]\n",
      "[BOS]['elephant'' pen'' stand'] [EOS][PAD][PAD]\n",
      "\n",
      "Decoder out detokenized : \n",
      "\n",
      " ['elephant'' pen'' stand'] [EOS][PAD][PAD][PAD]\n",
      "['elephant'' pen'' stand'] [EOS][PAD][PAD][PAD]\n",
      "\n",
      "====================================================================================================\n"
     ]
    }
   ],
   "source": [
    "def test_data_collator():\n",
    "    data_collator = DataCollator(tokenizer=tokenizer, max_length=16)\n",
    "    sample_data = test_dataset[:2]\n",
    "    print(type(sample_data))\n",
    "    result = data_collator(CustomDataset(data=sample_data))\n",
    "    print('=' * 100)\n",
    "    print()\n",
    "    print('Encoder in detokenized : \\n\\n', '\\n'.join(tokenizer.batch_decode(result['encoder_in'])))\n",
    "    print()\n",
    "    print('Decoder in detokenized : \\n\\n', '\\n'.join(tokenizer.batch_decode(result['decoder_in'])))\n",
    "    print()\n",
    "    print('Decoder out detokenized : \\n\\n', '\\n'.join(tokenizer.batch_decode(result['decoder_out'])))\n",
    "    print()\n",
    "    print('=' * 100)\n",
    "\n",
    "test_data_collator()"
   ]
  },
  {
   "cell_type": "code",
   "execution_count": 24,
   "outputs": [
    {
     "name": "stdout",
     "output_type": "stream",
     "text": [
      "Unnamed: 0                                                    0\n",
      "concepts                             ['elephant' 'pen' 'stand']\n",
      "sentence      two elephants standing next to each other in t...\n",
      "Name: 0, dtype: object\n",
      "Unnamed: 0                                                    1\n",
      "concepts                             ['elephant' 'pen' 'stand']\n",
      "sentence      A big elephant that is standing there quietly ...\n",
      "Name: 1, dtype: object\n",
      "Unnamed: 0                               2\n",
      "concepts          ['color' 'dress' 'love']\n",
      "sentence      love the color of this dress\n",
      "Name: 2, dtype: object\n",
      "Unnamed: 0                                      3\n",
      "concepts                 ['color' 'dress' 'love']\n",
      "sentence      i just love the colors in her dress\n",
      "Name: 3, dtype: object\n",
      "Unnamed: 0                                            4\n",
      "concepts                       ['color' 'dress' 'love']\n",
      "sentence      love the colors and print on this dress .\n",
      "Name: 4, dtype: object\n",
      "Unnamed: 0                                 5\n",
      "concepts         ['field' 'harvest' 'wheat']\n",
      "sentence      harvesting wheat in the fields\n",
      "Name: 5, dtype: object\n",
      "Unnamed: 0                                    6\n",
      "concepts            ['field' 'harvest' 'wheat']\n",
      "sentence      wheat ready to harvest in a field\n",
      "Name: 6, dtype: object\n",
      "Unnamed: 0                                        7\n",
      "concepts                ['field' 'harvest' 'wheat']\n",
      "sentence      a farmer harvests wheat at the fields\n",
      "Name: 7, dtype: object\n",
      "Unnamed: 0                                  8\n",
      "concepts         ['bee' 'flower' 'pollinate']\n",
      "sentence      a bee pollinating a pink flower\n",
      "Name: 8, dtype: object\n",
      "Unnamed: 0                                      9\n",
      "concepts             ['bee' 'flower' 'pollinate']\n",
      "sentence      bee pollinate the flowers in yellow\n",
      "Name: 9, dtype: object\n",
      "Unnamed: 0                                         10\n",
      "concepts                 ['bee' 'flower' 'pollinate']\n",
      "sentence      this honey bee is pollinating flowers .\n",
      "Name: 10, dtype: object\n",
      "Unnamed: 0                                          11\n",
      "concepts          ['celebrate' 'graduation' 'student']\n",
      "sentence      a group of students celebrate graduation\n",
      "Name: 11, dtype: object\n",
      "Unnamed: 0                                                 12\n",
      "concepts                 ['celebrate' 'graduation' 'student']\n",
      "sentence      students celebrate on the lawn after graduation\n",
      "Name: 12, dtype: object\n",
      "Unnamed: 0                                                   13\n",
      "concepts                   ['celebrate' 'graduation' 'student']\n",
      "sentence      happy female students celebrating their gradua...\n",
      "Name: 13, dtype: object\n",
      "Unnamed: 0                                           14\n",
      "concepts                  ['bathroom' 'counter' 'wall']\n",
      "sentence      a bathroom with a brown wall and counter \n",
      "Name: 14, dtype: object\n",
      "Unnamed: 0                                                   15\n",
      "concepts                          ['bathroom' 'counter' 'wall']\n",
      "sentence      A well lit bathroom with white walls and beige...\n",
      "Name: 15, dtype: object\n",
      "Unnamed: 0                                       16\n",
      "concepts                  ['giraffe' 'pen' 'stand']\n",
      "sentence      A giraffe is standing inside of a pen\n",
      "Name: 16, dtype: object\n",
      "Unnamed: 0                                            17\n",
      "concepts                       ['giraffe' 'pen' 'stand']\n",
      "sentence      these are three giraffes standing in a pen\n",
      "Name: 17, dtype: object\n",
      "Unnamed: 0                                                   18\n",
      "concepts                              ['giraffe' 'pen' 'stand']\n",
      "sentence      Four giraffe standing next to each other in a ...\n",
      "Name: 18, dtype: object\n",
      "Unnamed: 0                                         19\n",
      "concepts                         ['desk' 'dog' 'lay']\n",
      "sentence      A dog that is laying down under a desk.\n",
      "Name: 19, dtype: object\n",
      "Unnamed: 0                                                 20\n",
      "concepts                                 ['desk' 'dog' 'lay']\n",
      "sentence      A dog lays on a desk with a laptop and monitor.\n",
      "Name: 20, dtype: object\n",
      "Unnamed: 0                                                 21\n",
      "concepts                                 ['desk' 'dog' 'lay']\n",
      "sentence      A black dog laying on desk below a white mouse.\n",
      "Name: 21, dtype: object\n",
      "Unnamed: 0                                            22\n",
      "concepts                      ['airplane' 'gate' 'park']\n",
      "sentence      A jet airplane parked at the airport gate.\n",
      "Name: 22, dtype: object\n",
      "Unnamed: 0                                                   23\n",
      "concepts                             ['airplane' 'gate' 'park']\n",
      "sentence      A parked airplane behind many tall security ga...\n",
      "Name: 23, dtype: object\n",
      "Unnamed: 0                                                   24\n",
      "concepts                             ['airplane' 'gate' 'park']\n",
      "sentence      A pair of airplanes parked on the tarmac near ...\n",
      "Name: 24, dtype: object\n",
      "Unnamed: 0                                          25\n",
      "concepts                   ['couple' 'embrace' 'love']\n",
      "sentence      happy couple in love embracing in a city\n",
      "Name: 25, dtype: object\n",
      "Unnamed: 0                                            26\n",
      "concepts                     ['couple' 'embrace' 'love']\n",
      "sentence      senior couple in love embracing by the sea\n",
      "Name: 26, dtype: object\n",
      "Unnamed: 0                                              27\n",
      "concepts                       ['couple' 'embrace' 'love']\n",
      "sentence      image of couple in love embracing each other\n",
      "Name: 27, dtype: object\n",
      "Unnamed: 0                          28\n",
      "concepts        ['float' 'sea' 'ship']\n",
      "sentence      ship floating on the sea\n",
      "Name: 28, dtype: object\n",
      "Unnamed: 0                               29\n",
      "concepts             ['float' 'sea' 'ship']\n",
      "sentence      cruise floating ship at sea .\n",
      "Name: 29, dtype: object\n",
      "Unnamed: 0                                30\n",
      "concepts              ['float' 'sea' 'ship']\n",
      "sentence      cargo ships float in the sea .\n",
      "Name: 30, dtype: object\n",
      "Unnamed: 0                                    31\n",
      "concepts              ['click' 'detail' 'image']\n",
      "sentence      click for details and larger image\n",
      "Name: 31, dtype: object\n",
      "Unnamed: 0                                             32\n",
      "concepts                       ['click' 'detail' 'image']\n",
      "sentence      find out more details by clicking the image\n",
      "Name: 32, dtype: object\n",
      "Unnamed: 0                                                 33\n",
      "concepts                       ['elephant' 'habitat' 'stand']\n",
      "sentence      An elephant stands immobile in its zoo habitat.\n",
      "Name: 33, dtype: object\n",
      "Unnamed: 0                                                 34\n",
      "concepts                       ['elephant' 'habitat' 'stand']\n",
      "sentence      The elephant is standing alone in this habitat.\n",
      "Name: 34, dtype: object\n",
      "Unnamed: 0                                                   35\n",
      "concepts                         ['elephant' 'habitat' 'stand']\n",
      "sentence      A trio of elephants stand together in their ha...\n",
      "Name: 35, dtype: object\n",
      "Unnamed: 0                                           36\n",
      "concepts                       ['game' 'hold' 'remote']\n",
      "sentence      A man that is holding a remote to a game.\n",
      "Name: 36, dtype: object\n",
      "Unnamed: 0                                           37\n",
      "concepts                       ['game' 'hold' 'remote']\n",
      "sentence      two women holding remotes playing a game \n",
      "Name: 37, dtype: object\n",
      "Unnamed: 0                                               38\n",
      "concepts                           ['game' 'hold' 'remote']\n",
      "sentence      Two men play video games holding wii remotes.\n",
      "Name: 38, dtype: object\n",
      "Unnamed: 0                                 39\n",
      "concepts              ['cloud' 'shape' 'sky']\n",
      "sentence      duck shaped cloud in a blue sky\n",
      "Name: 39, dtype: object\n",
      "Unnamed: 0                                               40\n",
      "concepts                            ['cloud' 'shape' 'sky']\n",
      "sentence      heart shaped clouds in a bright and clear sky\n",
      "Name: 40, dtype: object\n",
      "Unnamed: 0                                                   41\n",
      "concepts                                ['cloud' 'shape' 'sky']\n",
      "sentence      election of cloud shaped angel appears in the sky\n",
      "Name: 41, dtype: object\n",
      "Unnamed: 0                                     42\n",
      "concepts               ['flower' 'spring' 'tree']\n",
      "sentence      flowers bloom on the tree in spring\n",
      "Name: 42, dtype: object\n",
      "Unnamed: 0                                       43\n",
      "concepts                 ['flower' 'spring' 'tree']\n",
      "sentence      a perry pear tree in flower at spring\n",
      "Name: 43, dtype: object\n",
      "Unnamed: 0                                                   44\n",
      "concepts                             ['flower' 'spring' 'tree']\n",
      "sentence      detail of a tree with red flowers born in a sp...\n",
      "Name: 44, dtype: object\n",
      "Unnamed: 0                                            45\n",
      "concepts                            ['boat' 'sea' 'sky']\n",
      "sentence      lone boat in calm blue sea against the sky\n",
      "Name: 45, dtype: object\n",
      "Unnamed: 0                                            46\n",
      "concepts                            ['boat' 'sea' 'sky']\n",
      "sentence      golden skies over fishing boats on the sea\n",
      "Name: 46, dtype: object\n",
      "Unnamed: 0                                                47\n",
      "concepts                                ['boat' 'sea' 'sky']\n",
      "sentence      the boat at sea least wave a white evening sky\n",
      "Name: 47, dtype: object\n",
      "Unnamed: 0                                48\n",
      "concepts      ['conduct' 'patrol' 'soldier']\n",
      "sentence         a soldier conducts a patrol\n",
      "Name: 48, dtype: object\n",
      "Unnamed: 0                                      49\n",
      "concepts            ['conduct' 'patrol' 'soldier']\n",
      "sentence      soldiers conduct a dismounted patrol\n",
      "Name: 49, dtype: object\n",
      "Unnamed: 0                                                50\n",
      "concepts                      ['conduct' 'patrol' 'soldier']\n",
      "sentence      soldiers conduct patrols during organization .\n",
      "Name: 50, dtype: object\n",
      "Unnamed: 0                                              51\n",
      "concepts                         ['come' 'match' 'player']\n",
      "sentence      players come off the pitch after the match .\n",
      "Name: 51, dtype: object\n",
      "Unnamed: 0                                                   52\n",
      "concepts                              ['come' 'match' 'player']\n",
      "sentence      players come in for tea during an annual frien...\n",
      "Name: 52, dtype: object\n",
      "Unnamed: 0                                                   53\n",
      "concepts                              ['come' 'match' 'player']\n",
      "sentence      footballer comes on for soccer player during t...\n",
      "Name: 53, dtype: object\n",
      "Unnamed: 0                                       54\n",
      "concepts                    ['board' 'pizza' 'top']\n",
      "sentence      A pizza with topping on a pizza board\n",
      "Name: 54, dtype: object\n",
      "Unnamed: 0                                                  55\n",
      "concepts                               ['board' 'pizza' 'top']\n",
      "sentence      A wooden cutting board topped with small pizzas.\n",
      "Name: 55, dtype: object\n",
      "Unnamed: 0                                                   56\n",
      "concepts                                ['board' 'pizza' 'top']\n",
      "sentence      Whole fresh baked cheese topped pizza on servi...\n",
      "Name: 56, dtype: object\n",
      "Unnamed: 0                                            57\n",
      "concepts            ['conference' 'politician' 'speech']\n",
      "sentence      politician making a speech to conference .\n",
      "Name: 57, dtype: object\n",
      "Unnamed: 0                                             58\n",
      "concepts             ['conference' 'politician' 'speech']\n",
      "sentence      politician makes a speech at the conference\n",
      "Name: 58, dtype: object\n",
      "Unnamed: 0                                                  59\n",
      "concepts                  ['conference' 'politician' 'speech']\n",
      "sentence      politician delivers his speech to the conference\n",
      "Name: 59, dtype: object\n",
      "Unnamed: 0                          60\n",
      "concepts      ['bed' 'garden' 'raise']\n",
      "sentence      a raised bed in a garden\n",
      "Name: 60, dtype: object\n",
      "Unnamed: 0                                          61\n",
      "concepts                      ['bed' 'garden' 'raise']\n",
      "sentence      the new raised beds in the walled garden\n",
      "Name: 61, dtype: object\n",
      "Unnamed: 0                                                   62\n",
      "concepts                               ['bed' 'garden' 'raise']\n",
      "sentence      a raised bed of vegetables and flowers in an u...\n",
      "Name: 62, dtype: object\n",
      "Unnamed: 0                           63\n",
      "concepts      ['leopard' 'rest' 'tree']\n",
      "sentence      a leopard rests in a tree\n",
      "Name: 63, dtype: object\n",
      "Unnamed: 0                           64\n",
      "concepts      ['leopard' 'rest' 'tree']\n",
      "sentence      leopard resting on a tree\n",
      "Name: 64, dtype: object\n",
      "Unnamed: 0                             65\n",
      "concepts        ['leopard' 'rest' 'tree']\n",
      "sentence      leopard resting in the tree\n",
      "Name: 65, dtype: object\n",
      "Unnamed: 0                                             66\n",
      "concepts                ['leader' 'meeting' 'politician']\n",
      "sentence      leader of politician arriving for a meeting\n",
      "Name: 66, dtype: object\n",
      "Unnamed: 0                                               67\n",
      "concepts                  ['leader' 'meeting' 'politician']\n",
      "sentence      politician among other leaders in the meeting\n",
      "Name: 67, dtype: object\n",
      "Unnamed: 0                                                   68\n",
      "concepts                      ['leader' 'meeting' 'politician']\n",
      "sentence      religious leader and politician during a meeti...\n",
      "Name: 68, dtype: object\n",
      "Unnamed: 0                                        69\n",
      "concepts              ['force' 'provide' 'security']\n",
      "sentence      armed force provide security in a tank\n",
      "Name: 69, dtype: object\n",
      "Unnamed: 0                                                   70\n",
      "concepts                         ['force' 'provide' 'security']\n",
      "sentence      armed force provide security during a patrol n...\n",
      "Name: 70, dtype: object\n",
      "Unnamed: 0                                                   71\n",
      "concepts                         ['force' 'provide' 'security']\n",
      "sentence      armed force provides aerial security from airc...\n",
      "Name: 71, dtype: object\n",
      "Unnamed: 0                           72\n",
      "concepts       ['coffee' 'cup' 'heart']\n",
      "sentence      cup of coffee and a heart\n",
      "Name: 72, dtype: object\n",
      "Unnamed: 0                              73\n",
      "concepts          ['coffee' 'cup' 'heart']\n",
      "sentence      coffee in a heart shaped cup\n",
      "Name: 73, dtype: object\n",
      "Unnamed: 0                                          74\n",
      "concepts                      ['coffee' 'cup' 'heart']\n",
      "sentence      cups of coffee with hearts in the foam .\n",
      "Name: 74, dtype: object\n",
      "Unnamed: 0                                 75\n",
      "concepts      ['classroom' 'student' 'study']\n",
      "sentence      student studying in a classroom\n",
      "Name: 75, dtype: object\n",
      "Unnamed: 0                                 76\n",
      "concepts      ['classroom' 'student' 'study']\n",
      "sentence      students study in the classroom\n",
      "Name: 76, dtype: object\n",
      "Unnamed: 0                                                  77\n",
      "concepts                       ['classroom' 'student' 'study']\n",
      "sentence      students study in a classroom with male lecturer\n",
      "Name: 77, dtype: object\n",
      "Unnamed: 0                                       78\n",
      "concepts                 ['forest' 'stand' 'zebra']\n",
      "sentence      A herd of zebra standing in a forest.\n",
      "Name: 78, dtype: object\n",
      "Unnamed: 0                                                   79\n",
      "concepts                             ['forest' 'stand' 'zebra']\n",
      "sentence      A tall zebra standing next toa  lush green for...\n",
      "Name: 79, dtype: object\n",
      "Unnamed: 0                                                   80\n",
      "concepts                             ['forest' 'stand' 'zebra']\n",
      "sentence      Two zebra standing next to each other in a for...\n",
      "Name: 80, dtype: object\n",
      "Unnamed: 0                                 81\n",
      "concepts         ['bridge' 'cross' 'tourist']\n",
      "sentence      tourists cross a typical bridge\n",
      "Name: 81, dtype: object\n",
      "Unnamed: 0                                  82\n",
      "concepts          ['bridge' 'cross' 'tourist']\n",
      "sentence      pan as tourists cross the bridge\n",
      "Name: 82, dtype: object\n",
      "Unnamed: 0                                         83\n",
      "concepts                 ['bridge' 'cross' 'tourist']\n",
      "sentence      locals and tourists cross arch bridge .\n",
      "Name: 83, dtype: object\n",
      "Unnamed: 0                                       84\n",
      "concepts                     ['bend' 'eat' 'zebra']\n",
      "sentence      A zebra that is bend down eating hay.\n",
      "Name: 84, dtype: object\n",
      "Unnamed: 0                                           85\n",
      "concepts                         ['bend' 'eat' 'zebra']\n",
      "sentence      Three zebras bent over to eat some brush.\n",
      "Name: 85, dtype: object\n",
      "Unnamed: 0                                              86\n",
      "concepts                            ['bend' 'eat' 'zebra']\n",
      "sentence      a zebra bending over eating grass at the zoo\n",
      "Name: 86, dtype: object\n",
      "Unnamed: 0                                          87\n",
      "concepts                  ['bathroom' 'mirror' 'tile']\n",
      "sentence      A bathroom with tile and a lit up mirror\n",
      "Name: 87, dtype: object\n",
      "Unnamed: 0                                                   88\n",
      "concepts                           ['bathroom' 'mirror' 'tile']\n",
      "sentence      A bathroom with different colored tiles, mirro...\n",
      "Name: 88, dtype: object\n",
      "Unnamed: 0                                                   89\n",
      "concepts                           ['bathroom' 'mirror' 'tile']\n",
      "sentence      A bathroom has no mirror or shower curtain, bl...\n",
      "Name: 89, dtype: object\n",
      "Unnamed: 0                             90\n",
      "concepts          ['giraffe' 'pen' 'zoo']\n",
      "sentence      A giraffe in a pen at a zoo\n",
      "Name: 90, dtype: object\n",
      "Unnamed: 0                                       91\n",
      "concepts                    ['giraffe' 'pen' 'zoo']\n",
      "sentence      Two giraffes in their pen at the zoo.\n",
      "Name: 91, dtype: object\n",
      "Unnamed: 0                                               92\n",
      "concepts                            ['giraffe' 'pen' 'zoo']\n",
      "sentence      a giraffe on some grass in its pen at the zoo\n",
      "Name: 92, dtype: object\n",
      "Unnamed: 0                                 93\n",
      "concepts          ['cloud' 'mountain' 'rise']\n",
      "sentence      clouds rising from the mountain\n",
      "Name: 93, dtype: object\n",
      "Unnamed: 0                                         94\n",
      "concepts                  ['cloud' 'mountain' 'rise']\n",
      "sentence      a storm cloud rises above the mountains\n",
      "Name: 94, dtype: object\n",
      "Unnamed: 0                                                   95\n",
      "concepts                            ['cloud' 'mountain' 'rise']\n",
      "sentence      mountains rising behind a lake are hidden by c...\n",
      "Name: 95, dtype: object\n",
      "Unnamed: 0                                  96\n",
      "concepts             ['day' 'place' 'worship']\n",
      "sentence      places of worship on a sunny day\n",
      "Name: 96, dtype: object\n",
      "Unnamed: 0                                                   97\n",
      "concepts                              ['day' 'place' 'worship']\n",
      "sentence      roman catholic place of worship and fountain o...\n",
      "Name: 97, dtype: object\n",
      "Unnamed: 0                                                   98\n",
      "concepts                              ['day' 'place' 'worship']\n",
      "sentence      buddhist place of worship has stood through a ...\n",
      "Name: 98, dtype: object\n",
      "Unnamed: 0                                       99\n",
      "concepts            ['structure' 'tourist' 'visit']\n",
      "sentence      many tourists visit baroque structure\n",
      "Name: 99, dtype: object\n",
      "Unnamed: 0                                         100\n",
      "concepts               ['structure' 'tourist' 'visit']\n",
      "sentence      circa tourists visiting mughal structure\n",
      "Name: 100, dtype: object\n",
      "Unnamed: 0                                         101\n",
      "concepts               ['structure' 'tourist' 'visit']\n",
      "sentence      tourists visit greek revival structure .\n",
      "Name: 101, dtype: object\n",
      "Unnamed: 0                                               102\n",
      "concepts                         ['cheese' 'pizza' 'veggie']\n",
      "sentence      There is a pizza with veggies and cheese on it\n",
      "Name: 102, dtype: object\n",
      "Unnamed: 0                                                  103\n",
      "concepts                            ['cheese' 'pizza' 'veggie']\n",
      "sentence      Two homemade unbaked pizzas with fresh veggies...\n",
      "Name: 103, dtype: object\n",
      "Unnamed: 0                                                  104\n",
      "concepts                            ['cheese' 'pizza' 'veggie']\n",
      "sentence      A large square shaped pizza covered in melted ...\n",
      "Name: 104, dtype: object\n",
      "Unnamed: 0                            105\n",
      "concepts       ['market' 'sale' 'tomato']\n",
      "sentence      tomato for sale at a market\n",
      "Name: 105, dtype: object\n",
      "Unnamed: 0                                        106\n",
      "concepts                   ['market' 'sale' 'tomato']\n",
      "sentence      fresh red tomatoes for sale in a market\n",
      "Name: 106, dtype: object\n",
      "Unnamed: 0                                         107\n",
      "concepts                    ['market' 'sale' 'tomato']\n",
      "sentence      sorts of tomatoes for sale at the market\n",
      "Name: 107, dtype: object\n",
      "Unnamed: 0                                    108\n",
      "concepts          ['attraction' 'tourist' 'walk']\n",
      "sentence      tourists walk up tourist attraction\n",
      "Name: 108, dtype: object\n",
      "Unnamed: 0                                         109\n",
      "concepts               ['attraction' 'tourist' 'walk']\n",
      "sentence      tourists walking down tourist attraction\n",
      "Name: 109, dtype: object\n",
      "Unnamed: 0                                                110\n",
      "concepts                      ['attraction' 'tourist' 'walk']\n",
      "sentence      tourists walk tourist attraction in slow motion\n",
      "Name: 110, dtype: object\n",
      "Unnamed: 0                                         111\n",
      "concepts                    ['giraffe' 'graze' 'tree']\n",
      "sentence      A giraffe bends over to graze on a tree.\n",
      "Name: 111, dtype: object\n",
      "Unnamed: 0                                         112\n",
      "concepts                    ['giraffe' 'graze' 'tree']\n",
      "sentence      Two giraffes are grazing on a tall tree.\n",
      "Name: 112, dtype: object\n",
      "Unnamed: 0                                            113\n",
      "concepts                       ['giraffe' 'graze' 'tree']\n",
      "sentence      A giraffe is in the field grazing on trees.\n",
      "Name: 113, dtype: object\n",
      "Unnamed: 0                            114\n",
      "concepts         ['family' 'home' 'move']\n",
      "sentence      family moving to a new home\n",
      "Name: 114, dtype: object\n",
      "Unnamed: 0                                 115\n",
      "concepts              ['family' 'home' 'move']\n",
      "sentence      the family moved into the home .\n",
      "Name: 115, dtype: object\n",
      "Unnamed: 0                                                116\n",
      "concepts                             ['family' 'home' 'move']\n",
      "sentence      home of my family who moved with the flotilla .\n",
      "Name: 116, dtype: object\n",
      "Unnamed: 0                                 117\n",
      "concepts                ['city' 'list' 'site']\n",
      "sentence      site listing category for a city\n",
      "Name: 117, dtype: object\n",
      "Unnamed: 0                                       118\n",
      "concepts                      ['city' 'list' 'site']\n",
      "sentence      listed site right across from a city .\n",
      "Name: 118, dtype: object\n",
      "Unnamed: 0                                         119\n",
      "concepts                        ['city' 'list' 'site']\n",
      "sentence      german city is listed as cultural site .\n",
      "Name: 119, dtype: object\n",
      "Unnamed: 0                                             120\n",
      "concepts                         ['dog' 'ketchup' 'plate']\n",
      "sentence      a hot dog on a plate a  bun and some ketchup\n",
      "Name: 120, dtype: object\n",
      "Unnamed: 0                                                121\n",
      "concepts                            ['dog' 'ketchup' 'plate']\n",
      "sentence      Two Hot Dogs with ketchup are on a white plate.\n",
      "Name: 121, dtype: object\n",
      "Unnamed: 0                                    122\n",
      "concepts                 ['bring' 'face' 'smile']\n",
      "sentence      sunlight brings a smile to her face\n",
      "Name: 122, dtype: object\n",
      "Unnamed: 0                                             123\n",
      "concepts                          ['bring' 'face' 'smile']\n",
      "sentence      every day at work brings a smile to his face\n",
      "Name: 123, dtype: object\n",
      "Unnamed: 0                                               124\n",
      "concepts                            ['bring' 'face' 'smile']\n",
      "sentence      bringing smiles to the faces of needy children\n",
      "Name: 124, dtype: object\n",
      "Unnamed: 0                                         125\n",
      "concepts                    ['place' 'walk' 'worship']\n",
      "sentence      walking toward buddhist place of worship\n",
      "Name: 125, dtype: object\n",
      "Unnamed: 0                                              126\n",
      "concepts                         ['place' 'walk' 'worship']\n",
      "sentence      pilgrims walk around islamic place of worship\n",
      "Name: 126, dtype: object\n",
      "Unnamed: 0                                              127\n",
      "concepts                         ['place' 'walk' 'worship']\n",
      "sentence      a monk walks around buddhist place of worship\n",
      "Name: 127, dtype: object\n",
      "Unnamed: 0                                 128\n",
      "concepts        ['arrive' 'politician' 'wife']\n",
      "sentence      politician arrives with his wife\n",
      "Name: 128, dtype: object\n",
      "Unnamed: 0                                  129\n",
      "concepts         ['arrive' 'politician' 'wife']\n",
      "sentence      politician and his wife arrived .\n",
      "Name: 129, dtype: object\n",
      "Unnamed: 0                                            130\n",
      "concepts                   ['arrive' 'politician' 'wife']\n",
      "sentence      politician and his wife arrives to an event\n",
      "Name: 130, dtype: object\n",
      "Unnamed: 0                         131\n",
      "concepts       ['blow' 'storm' 'tree']\n",
      "sentence      trees blowing in a storm\n",
      "Name: 131, dtype: object\n",
      "Unnamed: 0                               132\n",
      "concepts             ['blow' 'storm' 'tree']\n",
      "sentence      old tree blown over by a storm\n",
      "Name: 132, dtype: object\n",
      "Unnamed: 0                                   133\n",
      "concepts                 ['blow' 'storm' 'tree']\n",
      "sentence      oak trees blown over in the storms\n",
      "Name: 133, dtype: object\n",
      "Unnamed: 0                                            134\n",
      "concepts                     ['bathroom' 'curtain' 'tub']\n",
      "sentence      a bathroom with a tub and a shower curtain \n",
      "Name: 134, dtype: object\n",
      "Unnamed: 0                                               135\n",
      "concepts                        ['bathroom' 'curtain' 'tub']\n",
      "sentence      A bathroom with sheer curtains framing the tub\n",
      "Name: 135, dtype: object\n",
      "Unnamed: 0                                                  136\n",
      "concepts                           ['bathroom' 'curtain' 'tub']\n",
      "sentence      a curtain is hanging in front of a tub in a ba...\n",
      "Name: 136, dtype: object\n",
      "Unnamed: 0                                            137\n",
      "concepts                       ['dessert' 'fill' 'plate']\n",
      "sentence      A plate filled with pastry desserts on it. \n",
      "Name: 137, dtype: object\n",
      "Unnamed: 0                                                  138\n",
      "concepts                             ['dessert' 'fill' 'plate']\n",
      "sentence      A plate is filled to the rim with sweet pastri...\n",
      "Name: 138, dtype: object\n",
      "Unnamed: 0                               139\n",
      "concepts       ['bedroom' 'decorate' 'idea']\n",
      "sentence      decorating ideas for a bedroom\n",
      "Name: 139, dtype: object\n",
      "Unnamed: 0                                                  140\n",
      "concepts                          ['bedroom' 'decorate' 'idea']\n",
      "sentence      image of bedroom that utilizes summer decorati...\n",
      "Name: 140, dtype: object\n",
      "Unnamed: 0                                                  141\n",
      "concepts                          ['bedroom' 'decorate' 'idea']\n",
      "sentence      decorating ideas how to decorate a bedroom wit...\n",
      "Name: 141, dtype: object\n",
      "Unnamed: 0                                        142\n",
      "concepts                  ['pizza' 'serve' 'topping']\n",
      "sentence      A pizza with toppings served on a plate\n",
      "Name: 142, dtype: object\n",
      "Unnamed: 0                                                  143\n",
      "concepts                            ['pizza' 'serve' 'topping']\n",
      "sentence      A pizza is ready to be served with cheese and ...\n",
      "Name: 143, dtype: object\n",
      "Unnamed: 0                                                  144\n",
      "concepts                            ['pizza' 'serve' 'topping']\n",
      "sentence      Large pizza with multiple toppings on top of a...\n",
      "Name: 144, dtype: object\n",
      "Unnamed: 0                                               145\n",
      "concepts                      ['keyboard' 'mouse' 'speaker']\n",
      "sentence      A close up of a mouse, speaker, and a keyboard\n",
      "Name: 145, dtype: object\n",
      "Unnamed: 0                                                  146\n",
      "concepts                         ['keyboard' 'mouse' 'speaker']\n",
      "sentence      A monitor, keyboard, mouse, laptop and speaker...\n",
      "Name: 146, dtype: object\n",
      "Unnamed: 0                                   147\n",
      "concepts                ['couple' 'sea' 'stand']\n",
      "sentence      couple in love standing by the sea\n",
      "Name: 147, dtype: object\n",
      "Unnamed: 0                                              148\n",
      "concepts                           ['couple' 'sea' 'stand']\n",
      "sentence      a beautiful couple standing near blue the sea\n",
      "Name: 148, dtype: object\n",
      "Unnamed: 0                                                  149\n",
      "concepts                               ['couple' 'sea' 'stand']\n",
      "sentence      a happy newlywed couple standing on his knees ...\n",
      "Name: 149, dtype: object\n",
      "Unnamed: 0                                   150\n",
      "concepts               ['clock' 'mount' 'tower']\n",
      "sentence      A large  clock mounted on a tower \n",
      "Name: 150, dtype: object\n",
      "Unnamed: 0                                          151\n",
      "concepts                      ['clock' 'mount' 'tower']\n",
      "sentence      A clock is mounted to the top of a tower.\n",
      "Name: 151, dtype: object\n",
      "Unnamed: 0                                                  152\n",
      "concepts                              ['clock' 'mount' 'tower']\n",
      "sentence      A clock showing 11 o'clock mounted in an ornat...\n",
      "Name: 152, dtype: object\n",
      "Unnamed: 0                                            153\n",
      "concepts                         ['couch' 'place' 'room']\n",
      "sentence      a room with a couch and a fire place in it \n",
      "Name: 153, dtype: object\n",
      "Unnamed: 0                                                  154\n",
      "concepts                               ['couch' 'place' 'room']\n",
      "sentence      this living room has a fire place and three di...\n",
      "Name: 154, dtype: object\n",
      "Unnamed: 0                                155\n",
      "concepts               ['boat' 'moor' 'town']\n",
      "sentence      little boats moored by the town\n",
      "Name: 155, dtype: object\n",
      "Unnamed: 0                                             156\n",
      "concepts                            ['boat' 'moor' 'town']\n",
      "sentence      moored boats and ships at marina in the town\n",
      "Name: 156, dtype: object\n",
      "Unnamed: 0                                              157\n",
      "concepts                             ['boat' 'moor' 'town']\n",
      "sentence      boats moored at low tide a coastal town south\n",
      "Name: 157, dtype: object\n",
      "Unnamed: 0                                 158\n",
      "concepts             ['face' 'smile' 'spread']\n",
      "sentence      A smile spreads across his face.\n",
      "Name: 158, dtype: object\n",
      "Unnamed: 0                                  159\n",
      "concepts              ['face' 'smile' 'spread']\n",
      "sentence      Smiles spread across their faces.\n",
      "Name: 159, dtype: object\n",
      "Unnamed: 0                                                  160\n",
      "concepts                              ['face' 'smile' 'spread']\n",
      "sentence      A sweet smile spreads his boyish face as she g...\n",
      "Name: 160, dtype: object\n",
      "Unnamed: 0                                    161\n",
      "concepts                ['cheese' 'herb' 'pizza']\n",
      "sentence      a pizza has cheese and herbs on it.\n",
      "Name: 161, dtype: object\n",
      "Unnamed: 0                                           162\n",
      "concepts                       ['cheese' 'herb' 'pizza']\n",
      "sentence      Cheese and herb pizza fresh from the oven.\n",
      "Name: 162, dtype: object\n",
      "Unnamed: 0                                                 163\n",
      "concepts                             ['cheese' 'herb' 'pizza']\n",
      "sentence      Thin crust pizza with cheese, tomato, and herbs.\n",
      "Name: 163, dtype: object\n",
      "Unnamed: 0                              164\n",
      "concepts          ['boat' 'island' 'leave']\n",
      "sentence      boat leaves bay on the island\n",
      "Name: 164, dtype: object\n",
      "Unnamed: 0                               165\n",
      "concepts           ['boat' 'island' 'leave']\n",
      "sentence      boat leaving island for island\n",
      "Name: 165, dtype: object\n",
      "Unnamed: 0                                 166\n",
      "concepts             ['boat' 'island' 'leave']\n",
      "sentence      man leaving the island by boat .\n",
      "Name: 166, dtype: object\n",
      "Unnamed: 0                                    167\n",
      "concepts                ['field' 'giraffe' 'lay']\n",
      "sentence      a giraffe is laying down in a field\n",
      "Name: 167, dtype: object\n",
      "Unnamed: 0                                          168\n",
      "concepts                      ['field' 'giraffe' 'lay']\n",
      "sentence      Two giraffe laying on a lush green field.\n",
      "Name: 168, dtype: object\n",
      "Unnamed: 0                                                  169\n",
      "concepts                              ['field' 'giraffe' 'lay']\n",
      "sentence      Two giraffes are relaxing by laying in  a gras...\n",
      "Name: 169, dtype: object\n",
      "Unnamed: 0                                 170\n",
      "concepts                ['grow' 'lake' 'tree']\n",
      "sentence      a cypress tree growing in a lake\n",
      "Name: 170, dtype: object\n",
      "Unnamed: 0                                      171\n",
      "concepts                     ['grow' 'lake' 'tree']\n",
      "sentence      trees grow along an artificial lake .\n",
      "Name: 171, dtype: object\n",
      "Unnamed: 0                                        172\n",
      "concepts                       ['grow' 'lake' 'tree']\n",
      "sentence      tall tree growing at the edge of a lake\n",
      "Name: 172, dtype: object\n",
      "Unnamed: 0                                      173\n",
      "concepts                    ['cat' 'look' 'toilet']\n",
      "sentence      a cat on a toilet looking in the bowl\n",
      "Name: 173, dtype: object\n",
      "Unnamed: 0                                             174\n",
      "concepts                           ['cat' 'look' 'toilet']\n",
      "sentence      The cat looks down intently from the toilet.\n",
      "Name: 174, dtype: object\n",
      "Unnamed: 0                                                175\n",
      "concepts                              ['cat' 'look' 'toilet']\n",
      "sentence      A black and white cat is looking into a toilet.\n",
      "Name: 175, dtype: object\n",
      "Unnamed: 0                                     176\n",
      "concepts                  ['fan' 'follow' 'match']\n",
      "sentence      fans celebrate following the match .\n",
      "Name: 176, dtype: object\n",
      "Unnamed: 0                                                 177\n",
      "concepts                              ['fan' 'follow' 'match']\n",
      "sentence      a young fan looks dejected following the match .\n",
      "Name: 177, dtype: object\n",
      "Unnamed: 0                                                  178\n",
      "concepts                               ['fan' 'follow' 'match']\n",
      "sentence      fans following their defeat in the second roun...\n",
      "Name: 178, dtype: object\n",
      "Unnamed: 0                                   179\n",
      "concepts             ['field' 'sky' 'sunflower']\n",
      "sentence      field of sunflower against the sky\n",
      "Name: 179, dtype: object\n",
      "Unnamed: 0                                     180\n",
      "concepts               ['field' 'sky' 'sunflower']\n",
      "sentence      field of sunflowers under a blue sky\n",
      "Name: 180, dtype: object\n",
      "Unnamed: 0                                       181\n",
      "concepts                 ['field' 'sky' 'sunflower']\n",
      "sentence      sunflowers on field and the cloudy sky\n",
      "Name: 181, dtype: object\n",
      "Unnamed: 0                                  182\n",
      "concepts                ['day' 'look' 'player']\n",
      "sentence      tennis player looks on during day\n",
      "Name: 182, dtype: object\n",
      "Unnamed: 0                                                  183\n",
      "concepts                                ['day' 'look' 'player']\n",
      "sentence      football player looks on during day of the tra...\n",
      "Name: 183, dtype: object\n",
      "Unnamed: 0                                                  184\n",
      "concepts                                ['day' 'look' 'player']\n",
      "sentence      the players looked desperate for the horrible ...\n",
      "Name: 184, dtype: object\n",
      "Unnamed: 0                                        185\n",
      "concepts                  ['rise' 'silhouette' 'sun']\n",
      "sentence      a silhouette as the sun rises in winter\n",
      "Name: 185, dtype: object\n",
      "Unnamed: 0                                               186\n",
      "concepts                         ['rise' 'silhouette' 'sun']\n",
      "sentence      silhouette of a warship against the rising sun\n",
      "Name: 186, dtype: object\n",
      "Unnamed: 0                                                  187\n",
      "concepts                            ['rise' 'silhouette' 'sun']\n",
      "sentence      silhouette of pray near the beach when sun ris...\n",
      "Name: 187, dtype: object\n",
      "Unnamed: 0                                              188\n",
      "concepts                           ['field' 'sky' 'summer']\n",
      "sentence      peppers in a field and blue sky in the summer\n",
      "Name: 188, dtype: object\n",
      "Unnamed: 0                                                189\n",
      "concepts                             ['field' 'sky' 'summer']\n",
      "sentence      field of barley under a big sky in early summer\n",
      "Name: 189, dtype: object\n",
      "Unnamed: 0                                                  190\n",
      "concepts                               ['field' 'sky' 'summer']\n",
      "sentence      yellow corn field with blue sky at the end of ...\n",
      "Name: 190, dtype: object\n",
      "Unnamed: 0                                    191\n",
      "concepts             ['ceiling' 'coffere' 'room']\n",
      "sentence      dining room with a coffered ceiling\n",
      "Name: 191, dtype: object\n",
      "Unnamed: 0                                                 192\n",
      "concepts                          ['ceiling' 'coffere' 'room']\n",
      "sentence      love the coffered ceilings in this dining room .\n",
      "Name: 192, dtype: object\n",
      "Unnamed: 0                                                 193\n",
      "concepts                          ['ceiling' 'coffere' 'room']\n",
      "sentence      painted coffered ceiling in a modern living room\n",
      "Name: 193, dtype: object\n",
      "Unnamed: 0                                       194\n",
      "concepts                    ['brow' 'furrow' 'look']\n",
      "sentence      Someone looks up with a furrowed brow.\n",
      "Name: 194, dtype: object\n",
      "Unnamed: 0                                                  195\n",
      "concepts                               ['brow' 'furrow' 'look']\n",
      "sentence      Looking down, someone pauses and furrows his b...\n",
      "Name: 195, dtype: object\n",
      "Unnamed: 0                                                  196\n",
      "concepts                               ['brow' 'furrow' 'look']\n",
      "sentence      Someone blinks, then looks away, her brow furr...\n",
      "Name: 196, dtype: object\n",
      "Unnamed: 0                                        197\n",
      "concepts             ['classroom' 'school' 'student']\n",
      "sentence      classroom of young students in a school\n",
      "Name: 197, dtype: object\n",
      "Unnamed: 0                                                  198\n",
      "concepts                       ['classroom' 'school' 'student']\n",
      "sentence      teacher and student in classroom of an element...\n",
      "Name: 198, dtype: object\n",
      "Unnamed: 0                                         199\n",
      "concepts                   ['daughter' 'fun' 'mother']\n",
      "sentence      mother and daughter having fun at home .\n",
      "Name: 199, dtype: object\n",
      "Unnamed: 0                                             200\n",
      "concepts                       ['daughter' 'fun' 'mother']\n",
      "sentence      mother and daughters on the beach having fun\n",
      "Name: 200, dtype: object\n",
      "Unnamed: 0                                                  201\n",
      "concepts                            ['daughter' 'fun' 'mother']\n",
      "sentence      a mother lifting her daughter up in fun during...\n",
      "Name: 201, dtype: object\n",
      "Unnamed: 0                                           202\n",
      "concepts                 ['arrive' 'greet' 'politician']\n",
      "sentence      officials greet politician as he arrives .\n",
      "Name: 202, dtype: object\n",
      "Unnamed: 0                                                  203\n",
      "concepts                        ['arrive' 'greet' 'politician']\n",
      "sentence      politician is greeted as he arrives at the temple\n",
      "Name: 203, dtype: object\n",
      "Unnamed: 0                                                  204\n",
      "concepts                        ['arrive' 'greet' 'politician']\n",
      "sentence      politician greets a group as he arrives for st...\n",
      "Name: 204, dtype: object\n",
      "Unnamed: 0                         205\n",
      "concepts      ['lake' 'reflect' 'sun']\n",
      "sentence      sun reflects in the lake\n",
      "Name: 205, dtype: object\n",
      "Unnamed: 0                                        206\n",
      "concepts                     ['lake' 'reflect' 'sun']\n",
      "sentence      clouds a sun reflected in mountain lake\n",
      "Name: 206, dtype: object\n",
      "Unnamed: 0                                        207\n",
      "concepts                     ['lake' 'reflect' 'sun']\n",
      "sentence      bog with lake reflecting the spring sun\n",
      "Name: 207, dtype: object\n",
      "Unnamed: 0                                       208\n",
      "concepts                   ['bear' 'couple' 'stand']\n",
      "sentence      a couple of bears that are standing up\n",
      "Name: 208, dtype: object\n",
      "Unnamed: 0                                                  209\n",
      "concepts                              ['bear' 'couple' 'stand']\n",
      "sentence      A couple of brown and black bears standing nex...\n",
      "Name: 209, dtype: object\n",
      "Unnamed: 0                                     210\n",
      "concepts                ['basket' 'eat' 'giraffe']\n",
      "sentence      A giraffe is eating out of a basket.\n",
      "Name: 210, dtype: object\n",
      "Unnamed: 0                                         211\n",
      "concepts                    ['basket' 'eat' 'giraffe']\n",
      "sentence      two giraffes eat from a basket on a post\n",
      "Name: 211, dtype: object\n",
      "Unnamed: 0                                                  212\n",
      "concepts                             ['basket' 'eat' 'giraffe']\n",
      "sentence      A giraffe eats leaves from a basket in an encl...\n",
      "Name: 212, dtype: object\n",
      "Unnamed: 0                                213\n",
      "concepts              ['crane' 'load' 'ship']\n",
      "sentence      cranes loading a container ship\n",
      "Name: 213, dtype: object\n",
      "Unnamed: 0                                        214\n",
      "concepts                      ['crane' 'load' 'ship']\n",
      "sentence      cranes loading cargo ship in the harbor\n",
      "Name: 214, dtype: object\n",
      "Unnamed: 0                                          215\n",
      "concepts                        ['crane' 'load' 'ship']\n",
      "sentence      massive cranes will be loaded on a ship .\n",
      "Name: 215, dtype: object\n",
      "Unnamed: 0                                               216\n",
      "concepts                         ['airplane' 'park' 'plane']\n",
      "sentence      a silver airplane parked and some other planes\n",
      "Name: 216, dtype: object\n",
      "Unnamed: 0                                                  217\n",
      "concepts                            ['airplane' 'park' 'plane']\n",
      "sentence      A parked airplane with the terminal gate to th...\n",
      "Name: 217, dtype: object\n",
      "Unnamed: 0                                                  218\n",
      "concepts                            ['airplane' 'park' 'plane']\n",
      "sentence      A FedEx airplane parked in an airport with oth...\n",
      "Name: 218, dtype: object\n",
      "Unnamed: 0                                      219\n",
      "concepts                      ['cool' 'rack' 'sit']\n",
      "sentence      A small pizza sits on a cooling rack.\n",
      "Name: 219, dtype: object\n",
      "Unnamed: 0                                         220\n",
      "concepts                         ['cool' 'rack' 'sit']\n",
      "sentence      Bread is sitting on a wire rack to cool.\n",
      "Name: 220, dtype: object\n",
      "Unnamed: 0                                                221\n",
      "concepts                                ['cool' 'rack' 'sit']\n",
      "sentence      two long cheese pizza sitting on cooling racks \n",
      "Name: 221, dtype: object\n",
      "Unnamed: 0                                              222\n",
      "concepts                         ['light' 'train' 'travel']\n",
      "sentence      A train traveling down tracks next to lights.\n",
      "Name: 222, dtype: object\n",
      "Unnamed: 0                                                  223\n",
      "concepts                             ['light' 'train' 'travel']\n",
      "sentence      A freight train travelling at dusk with lights...\n",
      "Name: 223, dtype: object\n",
      "Unnamed: 0                                                  224\n",
      "concepts                             ['light' 'train' 'travel']\n",
      "sentence      Passenger rail train traveling through tunnel ...\n",
      "Name: 224, dtype: object\n",
      "Unnamed: 0                        225\n",
      "concepts       ['cake' 'dish' 'type']\n",
      "sentence      cakes from type of dish\n",
      "Name: 225, dtype: object\n",
      "Unnamed: 0                             226\n",
      "concepts            ['cake' 'dish' 'type']\n",
      "sentence      another cake by type of dish\n",
      "Name: 226, dtype: object\n",
      "Unnamed: 0                                         227\n",
      "concepts                        ['cake' 'dish' 'type']\n",
      "sentence      type of dish to coordinate with a cake .\n",
      "Name: 227, dtype: object\n",
      "Unnamed: 0                                              228\n",
      "concepts                  ['character' 'title' 'wallpaper']\n",
      "sentence      wallpaper with a portrait titled tv character\n",
      "Name: 228, dtype: object\n",
      "Unnamed: 0                                                  229\n",
      "concepts                      ['character' 'title' 'wallpaper']\n",
      "sentence      wallpaper probably with anime titled comic boo...\n",
      "Name: 229, dtype: object\n",
      "Unnamed: 0                                         230\n",
      "concepts                    ['airport' 'jet' 'tarmac']\n",
      "sentence      A jumbo jet on the tarmac of an airport.\n",
      "Name: 230, dtype: object\n",
      "Unnamed: 0                                              231\n",
      "concepts                         ['airport' 'jet' 'tarmac']\n",
      "sentence      A Air France jet taxing on tarmac at airport.\n",
      "Name: 231, dtype: object\n",
      "Unnamed: 0                                                  232\n",
      "concepts                             ['airport' 'jet' 'tarmac']\n",
      "sentence      Blue and white commercial jet on tarmac at air...\n",
      "Name: 232, dtype: object\n",
      "Unnamed: 0                                                  233\n",
      "concepts                             ['carpet' 'instal' 'room']\n",
      "sentence      A man is installing carpet along a wall in a r...\n",
      "Name: 233, dtype: object\n",
      "Unnamed: 0                                                  234\n",
      "concepts                             ['carpet' 'instal' 'room']\n",
      "sentence      Man on his knees installing new carpet into a ...\n",
      "Name: 234, dtype: object\n",
      "Unnamed: 0                                                  235\n",
      "concepts                             ['carpet' 'instal' 'room']\n",
      "sentence      People in a room were installing carpet all ar...\n",
      "Name: 235, dtype: object\n",
      "Unnamed: 0                                         236\n",
      "concepts                     ['piece' 'pizza' 'serve']\n",
      "sentence      A white piece of pizza served on a plate\n",
      "Name: 236, dtype: object\n",
      "Unnamed: 0                                         237\n",
      "concepts                     ['piece' 'pizza' 'serve']\n",
      "sentence      Man serves up pieces of deep dish pizza.\n",
      "Name: 237, dtype: object\n",
      "Unnamed: 0                                            238\n",
      "concepts                        ['piece' 'pizza' 'serve']\n",
      "sentence      someone is serving a piece of  cheese pizza\n",
      "Name: 238, dtype: object\n",
      "Unnamed: 0                                           239\n",
      "concepts                    ['bathroom' 'tank' 'toilet']\n",
      "sentence      A bathroom with a toilet that has no tank.\n",
      "Name: 239, dtype: object\n",
      "Unnamed: 0                                                240\n",
      "concepts                         ['bathroom' 'tank' 'toilet']\n",
      "sentence      A white bathroom with the tank above the toilet\n",
      "Name: 240, dtype: object\n",
      "Unnamed: 0                                                  241\n",
      "concepts                           ['bathroom' 'tank' 'toilet']\n",
      "sentence      Small, tight bathroom with a flush tank hangin...\n",
      "Name: 241, dtype: object\n",
      "Unnamed: 0                                                  242\n",
      "concepts                         ['list' 'organisation' 'site']\n",
      "sentence      listed as cultural site by membership organisa...\n",
      "Name: 242, dtype: object\n",
      "Unnamed: 0                                                  243\n",
      "concepts                         ['list' 'organisation' 'site']\n",
      "sentence      gothic gate to ruins of the castle listed cult...\n",
      "Name: 243, dtype: object\n",
      "Unnamed: 0                            244\n",
      "concepts      ['home' 'surround' 'water']\n",
      "sentence       a home surrounded by water\n",
      "Name: 244, dtype: object\n",
      "Unnamed: 0                              245\n",
      "concepts        ['home' 'surround' 'water']\n",
      "sentence      high water surrounds a home .\n",
      "Name: 245, dtype: object\n",
      "Unnamed: 0                                  246\n",
      "concepts            ['home' 'surround' 'water']\n",
      "sentence      water surrounds many of the homes\n",
      "Name: 246, dtype: object\n",
      "Unnamed: 0                                                  247\n",
      "concepts                         ['athlete' 'player' 'quarter']\n",
      "sentence      american football player rushes past athlete i...\n",
      "Name: 247, dtype: object\n",
      "Unnamed: 0                                                  248\n",
      "concepts                         ['athlete' 'player' 'quarter']\n",
      "sentence      athlete in action against soccer player during...\n",
      "Name: 248, dtype: object\n",
      "Unnamed: 0                                                  249\n",
      "concepts                         ['athlete' 'player' 'quarter']\n",
      "sentence      american football player is pressured by athle...\n",
      "Name: 249, dtype: object\n",
      "Unnamed: 0                              250\n",
      "concepts          ['plenty' 'room' 'space']\n",
      "sentence      plenty of space in the room .\n",
      "Name: 250, dtype: object\n",
      "Unnamed: 0                                             251\n",
      "concepts                         ['plenty' 'room' 'space']\n",
      "sentence      this main room has plenty of space for two .\n",
      "Name: 251, dtype: object\n",
      "Unnamed: 0                                                252\n",
      "concepts                            ['plenty' 'room' 'space']\n",
      "sentence      there is plenty of storage space in this room .\n",
      "Name: 252, dtype: object\n",
      "Unnamed: 0                               253\n",
      "concepts               ['city' 'look' 'sky']\n",
      "sentence      look at the city with blue sky\n",
      "Name: 253, dtype: object\n",
      "Unnamed: 0                                  254\n",
      "concepts                  ['city' 'look' 'sky']\n",
      "sentence      looking through a city to the sky\n",
      "Name: 254, dtype: object\n",
      "Unnamed: 0                                         255\n",
      "concepts                         ['city' 'look' 'sky']\n",
      "sentence      when the sky looked friendly over a city\n",
      "Name: 255, dtype: object\n",
      "Unnamed: 0                                      256\n",
      "concepts                   ['apple' 'banana' 'box']\n",
      "sentence      a tub of apples and a box of bananas \n",
      "Name: 256, dtype: object\n",
      "Unnamed: 0                                                  257\n",
      "concepts                               ['apple' 'banana' 'box']\n",
      "sentence      Two bananas and an apple are next to an Amazon...\n",
      "Name: 257, dtype: object\n",
      "Unnamed: 0                                                  258\n",
      "concepts                               ['apple' 'banana' 'box']\n",
      "sentence      a counter covered with banana, apples, oranges...\n",
      "Name: 258, dtype: object\n",
      "Unnamed: 0                                           259\n",
      "concepts                        ['add' 'pattern' 'room']\n",
      "sentence      curtains add pattern to the room with ease\n",
      "Name: 259, dtype: object\n",
      "Unnamed: 0                                              260\n",
      "concepts                           ['add' 'pattern' 'room']\n",
      "sentence      mix of bold pattern adds interest to any room\n",
      "Name: 260, dtype: object\n",
      "Unnamed: 0                                                  261\n",
      "concepts                               ['add' 'pattern' 'room']\n",
      "sentence      furnishings add colour and pattern in the sitt...\n",
      "Name: 261, dtype: object\n",
      "Unnamed: 0                              262\n",
      "concepts      ['art' 'character' 'concept']\n",
      "sentence         concept art of a character\n",
      "Name: 262, dtype: object\n",
      "Unnamed: 0                                    263\n",
      "concepts            ['art' 'character' 'concept']\n",
      "sentence      concept art for fictional character\n",
      "Name: 263, dtype: object\n",
      "Unnamed: 0                                     264\n",
      "concepts             ['art' 'character' 'concept']\n",
      "sentence      concept art of tv character in movie\n",
      "Name: 264, dtype: object\n",
      "Unnamed: 0                                265\n",
      "concepts             ['cloud' 'lake' 'lapse']\n",
      "sentence      time lapse of a lake and clouds\n",
      "Name: 265, dtype: object\n",
      "Unnamed: 0                                                  266\n",
      "concepts                               ['cloud' 'lake' 'lapse']\n",
      "sentence      time lapse of lake with clouds running through...\n",
      "Name: 266, dtype: object\n",
      "Unnamed: 0                                                  267\n",
      "concepts                               ['cloud' 'lake' 'lapse']\n",
      "sentence      really big cumulus clouds moving in time lapse...\n",
      "Name: 267, dtype: object\n",
      "Unnamed: 0                                     268\n",
      "concepts                ['bun' 'hotdog' 'mustard']\n",
      "sentence      a hotdog in a bun with mustard on it\n",
      "Name: 268, dtype: object\n",
      "Unnamed: 0                                                 269\n",
      "concepts                            ['bun' 'hotdog' 'mustard']\n",
      "sentence      Two hotdogs in buns with mustard and mayonnaise.\n",
      "Name: 269, dtype: object\n",
      "Unnamed: 0                                                  270\n",
      "concepts                             ['bun' 'hotdog' 'mustard']\n",
      "sentence      The foot long hotdog in the bun is drizzed wit...\n",
      "Name: 270, dtype: object\n",
      "Unnamed: 0                                       271\n",
      "concepts                    ['stop' 'track' 'train']\n",
      "sentence      A train at a train stop on the tracks.\n",
      "Name: 271, dtype: object\n",
      "Unnamed: 0                                                272\n",
      "concepts                             ['stop' 'track' 'train']\n",
      "sentence      A long train moving down the track by its stop.\n",
      "Name: 272, dtype: object\n",
      "Unnamed: 0                                      273\n",
      "concepts                ['cloud' 'mountain' 'shot']\n",
      "sentence      aerial shot with mountains and clouds\n",
      "Name: 273, dtype: object\n",
      "Unnamed: 0                                       274\n",
      "concepts                 ['cloud' 'mountain' 'shot']\n",
      "sentence      a static shot of a cloud and mountains\n",
      "Name: 274, dtype: object\n",
      "Unnamed: 0                                             275\n",
      "concepts                       ['cloud' 'mountain' 'shot']\n",
      "sentence      wide shot of clouds in the sky and mountains\n",
      "Name: 275, dtype: object\n",
      "Unnamed: 0                                           276\n",
      "concepts                           ['cut' 'eat' 'pizza']\n",
      "sentence      A vegetable pizza is cut and ready to eat.\n",
      "Name: 276, dtype: object\n",
      "Unnamed: 0                                            277\n",
      "concepts                            ['cut' 'eat' 'pizza']\n",
      "sentence      A man cutting up his pizza about to eat it.\n",
      "Name: 277, dtype: object\n",
      "Unnamed: 0                                                 278\n",
      "concepts                                 ['cut' 'eat' 'pizza']\n",
      "sentence      A little girl is eating a pizza that was cut up.\n",
      "Name: 278, dtype: object\n",
      "Unnamed: 0                                            279\n",
      "concepts                        ['hang' 'toilet' 'towel']\n",
      "sentence      a room with a toilet and some towels hanged\n",
      "Name: 279, dtype: object\n",
      "Unnamed: 0                                                 280\n",
      "concepts                             ['hang' 'toilet' 'towel']\n",
      "sentence      A towel hanging next to a toilet in a bathroom. \n",
      "Name: 280, dtype: object\n",
      "Unnamed: 0                                                  281\n",
      "concepts                              ['hang' 'toilet' 'towel']\n",
      "sentence      A towel hangs on the bathroom wall near a toilet.\n",
      "Name: 281, dtype: object\n",
      "Unnamed: 0                                    282\n",
      "concepts               ['buy' 'car' 'dealership']\n",
      "sentence      customer buying a car at dealership\n",
      "Name: 282, dtype: object\n",
      "Unnamed: 0                                          283\n",
      "concepts                     ['buy' 'car' 'dealership']\n",
      "sentence      tips to buy a new car from the dealership\n",
      "Name: 283, dtype: object\n",
      "Unnamed: 0                                             284\n",
      "concepts                        ['buy' 'car' 'dealership']\n",
      "sentence      happy woman buys a car in the car dealership\n",
      "Name: 284, dtype: object\n",
      "Unnamed: 0                                285\n",
      "concepts          ['huddle' 'match' 'player']\n",
      "sentence      players huddle before the match\n",
      "Name: 285, dtype: object\n",
      "Unnamed: 0                                   286\n",
      "concepts             ['huddle' 'match' 'player']\n",
      "sentence      rugby players huddle after a match\n",
      "Name: 286, dtype: object\n",
      "Unnamed: 0                                                  287\n",
      "concepts                            ['huddle' 'match' 'player']\n",
      "sentence      players huddle prior to the second half during...\n",
      "Name: 287, dtype: object\n",
      "Unnamed: 0                                  288\n",
      "concepts             ['catwalk' 'model' 'walk']\n",
      "sentence      models walking down the catwalk .\n",
      "Name: 288, dtype: object\n",
      "Unnamed: 0                                           289\n",
      "concepts                      ['catwalk' 'model' 'walk']\n",
      "sentence      model walks the catwalk during runway show\n",
      "Name: 289, dtype: object\n",
      "Unnamed: 0                                            290\n",
      "concepts                       ['catwalk' 'model' 'walk']\n",
      "sentence      models walk on the catwalk for fashion show\n",
      "Name: 290, dtype: object\n",
      "Unnamed: 0                                       291\n",
      "concepts             ['attraction' 'bridge' 'cross']\n",
      "sentence      tourist attraction crossing the bridge\n",
      "Name: 291, dtype: object\n",
      "Unnamed: 0                                                  292\n",
      "concepts                        ['attraction' 'bridge' 'cross']\n",
      "sentence      a bullet train crossing a bridge over tourist ...\n",
      "Name: 292, dtype: object\n",
      "Unnamed: 0                                                  293\n",
      "concepts                        ['attraction' 'bridge' 'cross']\n",
      "sentence      the train crosses one of the bridges along tou...\n",
      "Name: 293, dtype: object\n",
      "Unnamed: 0                                           294\n",
      "concepts                         ['car' 'carry' 'train']\n",
      "sentence      A train carries it's cars across a bridge.\n",
      "Name: 294, dtype: object\n",
      "Unnamed: 0                                               295\n",
      "concepts                             ['car' 'carry' 'train']\n",
      "sentence      this train is carrying its cars over the rails\n",
      "Name: 295, dtype: object\n",
      "Unnamed: 0                                                  296\n",
      "concepts                                ['car' 'carry' 'train']\n",
      "sentence      A train is carrying a white car off on the tra...\n",
      "Name: 296, dtype: object\n",
      "Unnamed: 0                                      297\n",
      "concepts                ['attraction' 'rise' 'sun']\n",
      "sentence      the sun rises over tourist attraction\n",
      "Name: 297, dtype: object\n",
      "Unnamed: 0                                                  298\n",
      "concepts                            ['attraction' 'rise' 'sun']\n",
      "sentence      ships waiting to transit tourist attraction wh...\n",
      "Name: 298, dtype: object\n",
      "Unnamed: 0                                                  299\n",
      "concepts                            ['attraction' 'rise' 'sun']\n",
      "sentence      the sun rises over tourist attraction as ship ...\n",
      "Name: 299, dtype: object\n",
      "Unnamed: 0                          300\n",
      "concepts      ['autumn' 'leave' 'park']\n",
      "sentence      autumn leaves in the park\n",
      "Name: 300, dtype: object\n",
      "Unnamed: 0                                       301\n",
      "concepts                   ['autumn' 'leave' 'park']\n",
      "sentence      a boy throwing autumn leaves in a park\n",
      "Name: 301, dtype: object\n",
      "Unnamed: 0                                                  302\n",
      "concepts                              ['autumn' 'leave' 'park']\n",
      "sentence      happy girl lying on the autumn leaves in the p...\n",
      "Name: 302, dtype: object\n",
      "Unnamed: 0                                            303\n",
      "concepts                  ['celebrate' 'firework' 'year']\n",
      "sentence      private fireworks to celebrate the new year\n",
      "Name: 303, dtype: object\n",
      "Unnamed: 0                                                  304\n",
      "concepts                        ['celebrate' 'firework' 'year']\n",
      "sentence      fireworks explode over church as people celebr...\n",
      "Name: 304, dtype: object\n",
      "Unnamed: 0                                                  305\n",
      "concepts                        ['celebrate' 'firework' 'year']\n",
      "sentence      crowds have celebrated the new year with confe...\n",
      "Name: 305, dtype: object\n",
      "Unnamed: 0                                                306\n",
      "concepts                     ['celebrate' 'holiday' 'leader']\n",
      "sentence      religious leader arrives to celebrate holiday .\n",
      "Name: 306, dtype: object\n",
      "Unnamed: 0                                                  307\n",
      "concepts                       ['celebrate' 'holiday' 'leader']\n",
      "sentence      religious leader celebrates western christian ...\n",
      "Name: 307, dtype: object\n",
      "Unnamed: 0                                                  308\n",
      "concepts                       ['celebrate' 'holiday' 'leader']\n",
      "sentence      religious leader celebrating holiday on holy s...\n",
      "Name: 308, dtype: object\n",
      "Unnamed: 0                                          309\n",
      "concepts                      ['dessert' 'plate' 'top']\n",
      "sentence      A dessert topped with berries on a plate.\n",
      "Name: 309, dtype: object\n",
      "Unnamed: 0                                               310\n",
      "concepts                           ['dessert' 'plate' 'top']\n",
      "sentence      Two white plates topped with lots of desserts.\n",
      "Name: 310, dtype: object\n",
      "Unnamed: 0                                                  311\n",
      "concepts                              ['dessert' 'plate' 'top']\n",
      "sentence      A white plate topped with an icing and sauce c...\n",
      "Name: 311, dtype: object\n",
      "Unnamed: 0                                                  312\n",
      "concepts                          ['include' 'place' 'worship']\n",
      "sentence      a city which includes a temple or place of wor...\n",
      "Name: 312, dtype: object\n",
      "Unnamed: 0                                                  313\n",
      "concepts                          ['include' 'place' 'worship']\n",
      "sentence      destinations on itinerary include type of plac...\n",
      "Name: 313, dtype: object\n",
      "Unnamed: 0                                             314\n",
      "concepts                      ['bathroom' 'floor' 'towel']\n",
      "sentence      A bathroom is seen with towels on the floor.\n",
      "Name: 314, dtype: object\n",
      "Unnamed: 0                                                  315\n",
      "concepts                           ['bathroom' 'floor' 'towel']\n",
      "sentence      A bathroom that has red towels and a white floor.\n",
      "Name: 315, dtype: object\n",
      "Unnamed: 0                                       316\n",
      "concepts                      ['lot' 'park' 'plane']\n",
      "sentence      A lot of planes parked in the airport.\n",
      "Name: 316, dtype: object\n",
      "Unnamed: 0                                                317\n",
      "concepts                               ['lot' 'park' 'plane']\n",
      "sentence      Some old style planes parked together on a lot.\n",
      "Name: 317, dtype: object\n",
      "Unnamed: 0                                                  318\n",
      "concepts                                 ['lot' 'park' 'plane']\n",
      "sentence      Three planes are parked beside each other on t...\n",
      "Name: 318, dtype: object\n",
      "Unnamed: 0                                                  319\n",
      "concepts                       ['athlete' 'championship' 'win']\n",
      "sentence      olympic athlete has won only medal of the cham...\n",
      "Name: 319, dtype: object\n",
      "Unnamed: 0                                                  320\n",
      "concepts                       ['athlete' 'championship' 'win']\n",
      "sentence      athlete on his way to winning sport at the cha...\n",
      "Name: 320, dtype: object\n",
      "Unnamed: 0                                                  321\n",
      "concepts                       ['athlete' 'championship' 'win']\n",
      "sentence      athlete is all smiles after winning the champi...\n",
      "Name: 321, dtype: object\n",
      "Unnamed: 0                                  322\n",
      "concepts                ['dog' 'plate' 'salad']\n",
      "sentence      A plate with a hot dog and salad.\n",
      "Name: 322, dtype: object\n",
      "Unnamed: 0                                             323\n",
      "concepts                           ['dog' 'plate' 'salad']\n",
      "sentence      Hot dogs in buns with fruit salad on a plate\n",
      "Name: 323, dtype: object\n",
      "Unnamed: 0                                               324\n",
      "concepts                         ['beach' 'fill' 'umbrella']\n",
      "sentence      A beach filled with people and large umbrellas\n",
      "Name: 324, dtype: object\n",
      "Unnamed: 0                                                  325\n",
      "concepts                            ['beach' 'fill' 'umbrella']\n",
      "sentence      Many multicolored beach umbrellas filling a se...\n",
      "Name: 325, dtype: object\n",
      "Unnamed: 0                              326\n",
      "concepts             ['edge' 'lake' 'tree']\n",
      "sentence      trees at the edge of the lake\n",
      "Name: 326, dtype: object\n",
      "Unnamed: 0                                  327\n",
      "concepts                 ['edge' 'lake' 'tree']\n",
      "sentence      a lake with trees around its edge\n",
      "Name: 327, dtype: object\n",
      "Unnamed: 0                                               328\n",
      "concepts                              ['edge' 'lake' 'tree']\n",
      "sentence      autumn colors in the oak trees on edge of lake\n",
      "Name: 328, dtype: object\n",
      "Unnamed: 0                                     329\n",
      "concepts                  ['day' 'plane' 'runway']\n",
      "sentence      A plane on the runway on a foggy day\n",
      "Name: 329, dtype: object\n",
      "Unnamed: 0                                                  330\n",
      "concepts                               ['day' 'plane' 'runway']\n",
      "sentence      An air plane going down the runway on a clear ...\n",
      "Name: 330, dtype: object\n",
      "Unnamed: 0                                                  331\n",
      "concepts                               ['day' 'plane' 'runway']\n",
      "sentence      Small Prop plane drives along the runway in th...\n",
      "Name: 331, dtype: object\n",
      "Unnamed: 0                           332\n",
      "concepts        ['boat' 'sea' 'sunrise']\n",
      "sentence      boat on the sea in sunrise\n",
      "Name: 332, dtype: object\n",
      "Unnamed: 0                                  333\n",
      "concepts               ['boat' 'sea' 'sunrise']\n",
      "sentence      sunrise over sea seen from a boat\n",
      "Name: 333, dtype: object\n",
      "Unnamed: 0                                    334\n",
      "concepts                 ['boat' 'sea' 'sunrise']\n",
      "sentence      fishing boats in a sea at sunrise .\n",
      "Name: 334, dtype: object\n",
      "Unnamed: 0                                            335\n",
      "concepts                       ['manager' 'match' 'team']\n",
      "sentence      manager leads the team out ahead of match .\n",
      "Name: 335, dtype: object\n",
      "Unnamed: 0                                                  336\n",
      "concepts                             ['manager' 'match' 'team']\n",
      "sentence      the managers lead their teams out before the m...\n",
      "Name: 336, dtype: object\n",
      "Unnamed: 0                                                  337\n",
      "concepts                             ['manager' 'match' 'team']\n",
      "sentence      manager reacts during the match against sports...\n",
      "Name: 337, dtype: object\n",
      "Unnamed: 0                                                 338\n",
      "concepts                          ['athlete' 'session' 'team']\n",
      "sentence      athlete leads his team during a training session\n",
      "Name: 338, dtype: object\n",
      "Unnamed: 0                                                  339\n",
      "concepts                           ['athlete' 'session' 'team']\n",
      "sentence      athlete of rugby union team during the media s...\n",
      "Name: 339, dtype: object\n",
      "Unnamed: 0                                                  340\n",
      "concepts                           ['athlete' 'session' 'team']\n",
      "sentence      olympic athlete during a training session of t...\n",
      "Name: 340, dtype: object\n",
      "Unnamed: 0                                     341\n",
      "concepts                  ['city' 'clock' 'tower']\n",
      "sentence      A giant clock on a tower in the city\n",
      "Name: 341, dtype: object\n",
      "Unnamed: 0                                                  342\n",
      "concepts                               ['city' 'clock' 'tower']\n",
      "sentence      A large tower towering over a city with a mass...\n",
      "Name: 342, dtype: object\n",
      "Unnamed: 0                                                  343\n",
      "concepts                               ['city' 'clock' 'tower']\n",
      "sentence      Two large building in a city one with two cloc...\n",
      "Name: 343, dtype: object\n",
      "Unnamed: 0                              344\n",
      "concepts              ['cloud' 'day' 'sun']\n",
      "sentence      sun and clouds on a windy day\n",
      "Name: 344, dtype: object\n",
      "Unnamed: 0                                        345\n",
      "concepts                        ['cloud' 'day' 'sun']\n",
      "sentence      sun behind clouds in a misty cloudy day\n",
      "Name: 345, dtype: object\n",
      "Unnamed: 0                                      346\n",
      "concepts              ['bathroom' 'bedroom' 'home']\n",
      "sentence      the home has bedrooms and bathrooms .\n",
      "Name: 346, dtype: object\n",
      "Unnamed: 0                                                  347\n",
      "concepts                          ['bathroom' 'bedroom' 'home']\n",
      "sentence      this is a beautiful brand new home with bedroo...\n",
      "Name: 347, dtype: object\n",
      "Unnamed: 0                                                  348\n",
      "concepts                          ['bathroom' 'bedroom' 'home']\n",
      "sentence      bedrooms and bathrooms offer ample amount of r...\n",
      "Name: 348, dtype: object\n",
      "Unnamed: 0                                    349\n",
      "concepts          ['action' 'footballer' 'match']\n",
      "sentence      footballer in action during match .\n",
      "Name: 349, dtype: object\n",
      "Unnamed: 0                                                  350\n",
      "concepts                        ['action' 'footballer' 'match']\n",
      "sentence      footballer in action during a match against a ...\n",
      "Name: 350, dtype: object\n",
      "Unnamed: 0                                                  351\n",
      "concepts                        ['action' 'footballer' 'match']\n",
      "sentence      footballer in action during the round of leg m...\n",
      "Name: 351, dtype: object\n",
      "Unnamed: 0                                                352\n",
      "concepts                         ['donut' 'glaze' 'sprinkle']\n",
      "sentence      A close shot of a glazed donut with sprinkles. \n",
      "Name: 352, dtype: object\n",
      "Unnamed: 0                                                  353\n",
      "concepts                           ['donut' 'glaze' 'sprinkle']\n",
      "sentence      Many glazed donuts with pink and yellow sprink...\n",
      "Name: 353, dtype: object\n",
      "Unnamed: 0                                                  354\n",
      "concepts                           ['donut' 'glaze' 'sprinkle']\n",
      "sentence      The donut has is glazed and has sprinkles insi...\n",
      "Name: 354, dtype: object\n",
      "Unnamed: 0                                           355\n",
      "concepts                        ['graze' 'herd' 'zebra']\n",
      "sentence      a herd of zebra are grazing on the grass. \n",
      "Name: 355, dtype: object\n",
      "Unnamed: 0                                                  356\n",
      "concepts                               ['graze' 'herd' 'zebra']\n",
      "sentence      Herds of grazing zebras and rhinoceroses in na...\n",
      "Name: 356, dtype: object\n",
      "Unnamed: 0                                      357\n",
      "concepts                    ['couple' 'hug' 'love']\n",
      "sentence      couple in love passionately hugging .\n",
      "Name: 357, dtype: object\n",
      "Unnamed: 0                                              358\n",
      "concepts                            ['couple' 'hug' 'love']\n",
      "sentence      a couple in love hugging at the flower shop .\n",
      "Name: 358, dtype: object\n",
      "Unnamed: 0                                                 359\n",
      "concepts                               ['couple' 'hug' 'love']\n",
      "sentence      young couple in love hugging strongly each other\n",
      "Name: 359, dtype: object\n",
      "Unnamed: 0                                 360\n",
      "concepts        ['bar' 'bartender' 'cocktail']\n",
      "sentence      bartender make cocktail in a bar\n",
      "Name: 360, dtype: object\n",
      "Unnamed: 0                                   361\n",
      "concepts          ['bar' 'bartender' 'cocktail']\n",
      "sentence      bartender making cocktail on a bar\n",
      "Name: 361, dtype: object\n",
      "Unnamed: 0                                      362\n",
      "concepts             ['bar' 'bartender' 'cocktail']\n",
      "sentence      bartender makes a cocktail at the bar\n",
      "Name: 362, dtype: object\n",
      "Unnamed: 0                                   363\n",
      "concepts                ['apple' 'orange' 'top']\n",
      "sentence      The apple is on top of the orange.\n",
      "Name: 363, dtype: object\n",
      "Unnamed: 0                                     364\n",
      "concepts                  ['apple' 'orange' 'top']\n",
      "sentence      A green apple on top of some oranges\n",
      "Name: 364, dtype: object\n",
      "Unnamed: 0                                               365\n",
      "concepts                            ['apple' 'orange' 'top']\n",
      "sentence      an orange on top of an apple next to a banana.\n",
      "Name: 365, dtype: object\n",
      "Unnamed: 0                               366\n",
      "concepts          ['circle' 'icon' 'shadow']\n",
      "sentence      circle blue icon with shadow .\n",
      "Name: 366, dtype: object\n",
      "Unnamed: 0                                        367\n",
      "concepts                   ['circle' 'icon' 'shadow']\n",
      "sentence      icon on white circle with a long shadow\n",
      "Name: 367, dtype: object\n",
      "Unnamed: 0                                               368\n",
      "concepts                          ['circle' 'icon' 'shadow']\n",
      "sentence      fine thumb up icon in the circle with shadow .\n",
      "Name: 368, dtype: object\n",
      "Unnamed: 0                            369\n",
      "concepts           ['city' 'map' 'state']\n",
      "sentence      map of the state and a city\n",
      "Name: 369, dtype: object\n",
      "Unnamed: 0                               370\n",
      "concepts              ['city' 'map' 'state']\n",
      "sentence      map and states map with cities\n",
      "Name: 370, dtype: object\n",
      "Unnamed: 0                                                  371\n",
      "concepts                                 ['city' 'map' 'state']\n",
      "sentence      where is a city located in us state on the us map\n",
      "Name: 371, dtype: object\n",
      "Unnamed: 0                                           372\n",
      "concepts                        ['eat' 'giraffe' 'rock']\n",
      "sentence      A giraffe eating leaves from a giant rock.\n",
      "Name: 372, dtype: object\n",
      "Unnamed: 0                                               373\n",
      "concepts                            ['eat' 'giraffe' 'rock']\n",
      "sentence      The giraffe is eating the grass near the rocks\n",
      "Name: 373, dtype: object\n",
      "Unnamed: 0                                                 374\n",
      "concepts                              ['eat' 'giraffe' 'rock']\n",
      "sentence      A giraffe eats next to a zebra among some rocks.\n",
      "Name: 374, dtype: object\n",
      "Unnamed: 0                                                375\n",
      "concepts                            ['eye' 'hair' 'portrait']\n",
      "sentence      portrait of a girl with red hair and green eyes\n",
      "Name: 375, dtype: object\n",
      "Unnamed: 0                                                  376\n",
      "concepts                              ['eye' 'hair' 'portrait']\n",
      "sentence      sensual beauty portrait of a young woman with ...\n",
      "Name: 376, dtype: object\n",
      "Unnamed: 0                              377\n",
      "concepts           ['boat' 'harbor' 'ship']\n",
      "sentence      boats and ships in the harbor\n",
      "Name: 377, dtype: object\n",
      "Unnamed: 0                                            378\n",
      "concepts                         ['boat' 'harbor' 'ship']\n",
      "sentence      tug boat on the towing ship into the harbor\n",
      "Name: 378, dtype: object\n",
      "Unnamed: 0                                                  379\n",
      "concepts                               ['boat' 'harbor' 'ship']\n",
      "sentence      ship is a ship with small fishing boats in harbor\n",
      "Name: 379, dtype: object\n",
      "Unnamed: 0                                           380\n",
      "concepts                  ['competition' 'recur' 'team']\n",
      "sentence      sports team hosted recurring competition .\n",
      "Name: 380, dtype: object\n",
      "Unnamed: 0                                                  381\n",
      "concepts                         ['competition' 'recur' 'team']\n",
      "sentence      the team is honored during recurring competiti...\n",
      "Name: 381, dtype: object\n",
      "Unnamed: 0                                                  382\n",
      "concepts                         ['competition' 'recur' 'team']\n",
      "sentence      olympic athlete and sports team arrive with re...\n",
      "Name: 382, dtype: object\n",
      "Unnamed: 0                                         383\n",
      "concepts                ['daughter' 'garden' 'mother']\n",
      "sentence      mother and daughter laying in the garden\n",
      "Name: 383, dtype: object\n",
      "Unnamed: 0                                            384\n",
      "concepts                   ['daughter' 'garden' 'mother']\n",
      "sentence      mother and daughter on a walk in a garden .\n",
      "Name: 384, dtype: object\n",
      "Unnamed: 0                                                385\n",
      "concepts                       ['daughter' 'garden' 'mother']\n",
      "sentence      young mother with her baby daughter in a garden\n",
      "Name: 385, dtype: object\n",
      "Unnamed: 0                               386\n",
      "concepts          ['mountain' 'rise' 'tree']\n",
      "sentence      mountain rises above the trees\n",
      "Name: 386, dtype: object\n",
      "Unnamed: 0                                                  387\n",
      "concepts                             ['mountain' 'rise' 'tree']\n",
      "sentence      time lapse clouds rise from trees in the mountain\n",
      "Name: 387, dtype: object\n",
      "Unnamed: 0                                                  388\n",
      "concepts                             ['mountain' 'rise' 'tree']\n",
      "sentence      the mountains rise behind an oasis with palm t...\n",
      "Name: 388, dtype: object\n",
      "Unnamed: 0                                389\n",
      "concepts               ['aisle' 'dad' 'walk']\n",
      "sentence      walking down the aisle with dad\n",
      "Name: 389, dtype: object\n",
      "Unnamed: 0                                             390\n",
      "concepts                            ['aisle' 'dad' 'walk']\n",
      "sentence      bride walked down the aisle by mom and dad .\n",
      "Name: 390, dtype: object\n",
      "Unnamed: 0                                                  391\n",
      "concepts                                 ['aisle' 'dad' 'walk']\n",
      "sentence      bride waiting for her dad to walk her down the...\n",
      "Name: 391, dtype: object\n",
      "Unnamed: 0                                           392\n",
      "concepts                       ['add' 'interest' 'room']\n",
      "sentence      interior graphics add interest to any room\n",
      "Name: 392, dtype: object\n",
      "Unnamed: 0                                              393\n",
      "concepts                          ['add' 'interest' 'room']\n",
      "sentence      mix of bold pattern adds interest to any room\n",
      "Name: 393, dtype: object\n",
      "Unnamed: 0                                                  394\n",
      "concepts                              ['add' 'interest' 'room']\n",
      "sentence      unexpected lighting adds interest to the dinin...\n",
      "Name: 394, dtype: object\n",
      "Unnamed: 0                                         395\n",
      "concepts             ['meeting' 'member' 'politician']\n",
      "sentence      politician at the meeting with members .\n",
      "Name: 395, dtype: object\n",
      "Unnamed: 0                                                396\n",
      "concepts                    ['meeting' 'member' 'politician']\n",
      "sentence      politicians arrive for a meeting with members .\n",
      "Name: 396, dtype: object\n",
      "Unnamed: 0                                                  397\n",
      "concepts                      ['meeting' 'member' 'politician']\n",
      "sentence      politician speaks to the press after a meeting...\n",
      "Name: 397, dtype: object\n",
      "Unnamed: 0                            398\n",
      "concepts      ['cottage' 'row' 'terrace']\n",
      "sentence       a row of terraced cottages\n",
      "Name: 398, dtype: object\n",
      "Unnamed: 0                                                  399\n",
      "concepts                            ['cottage' 'row' 'terrace']\n",
      "sentence      row of traditional terraced cottages around th...\n",
      "Name: 399, dtype: object\n",
      "Unnamed: 0                                400\n",
      "concepts         ['cloud' 'float' 'mountain']\n",
      "sentence      clouds float over the mountains\n",
      "Name: 400, dtype: object\n",
      "Unnamed: 0                                                  401\n",
      "concepts                           ['cloud' 'float' 'mountain']\n",
      "sentence      floating island with mountain and clouds in th...\n",
      "Name: 401, dtype: object\n",
      "Unnamed: 0                                                  402\n",
      "concepts                           ['cloud' 'float' 'mountain']\n",
      "sentence      cloud is floating near the small mountain near...\n",
      "Name: 402, dtype: object\n",
      "Unnamed: 0                                                  403\n",
      "concepts                             ['dog' 'mustard' 'relish']\n",
      "sentence      Hot dog smothered with mustard, relish and onions\n",
      "Name: 403, dtype: object\n",
      "Unnamed: 0                                                  404\n",
      "concepts                             ['dog' 'mustard' 'relish']\n",
      "sentence      Four hot dogs with ketchup mustard and relish ...\n",
      "Name: 404, dtype: object\n",
      "Unnamed: 0                                                  405\n",
      "concepts                             ['dog' 'mustard' 'relish']\n",
      "sentence      This is a hot dog in a sesame bun with mustard...\n",
      "Name: 405, dtype: object\n",
      "Unnamed: 0                                           406\n",
      "concepts                     ['building' 'clock' 'read']\n",
      "sentence      A tall clock near some buildings reads 12.\n",
      "Name: 406, dtype: object\n",
      "Unnamed: 0                                                407\n",
      "concepts                          ['building' 'clock' 'read']\n",
      "sentence      The building has a large clock that reads 0605.\n",
      "Name: 407, dtype: object\n",
      "Unnamed: 0                                                  408\n",
      "concepts                            ['building' 'clock' 'read']\n",
      "sentence      A clock reads almost 2:30 with a building behi...\n",
      "Name: 408, dtype: object\n",
      "Unnamed: 0                                                409\n",
      "concepts                            ['cloud' 'footage' 'sky']\n",
      "sentence      footage in the morning with clear sky and cloud\n",
      "Name: 409, dtype: object\n",
      "Unnamed: 0                                                  410\n",
      "concepts                              ['cloud' 'footage' 'sky']\n",
      "sentence      cinematic time lapse footage of clouds in the sky\n",
      "Name: 410, dtype: object\n",
      "Unnamed: 0                                                  411\n",
      "concepts                              ['cloud' 'footage' 'sky']\n",
      "sentence      static footage of white clouds moving in a blu...\n",
      "Name: 411, dtype: object\n",
      "Unnamed: 0                                            412\n",
      "concepts                ['ceremony' 'explode' 'firework']\n",
      "sentence      fireworks explode over the opening ceremony\n",
      "Name: 412, dtype: object\n",
      "Unnamed: 0                                                  413\n",
      "concepts                      ['ceremony' 'explode' 'firework']\n",
      "sentence      fireworks explode during ceremony for recurrin...\n",
      "Name: 413, dtype: object\n",
      "Unnamed: 0                                                  414\n",
      "concepts                      ['ceremony' 'explode' 'firework']\n",
      "sentence      fireworks explode above building at the gradua...\n",
      "Name: 414, dtype: object\n",
      "Unnamed: 0                            415\n",
      "concepts       ['field' 'sunrise' 'tree']\n",
      "sentence      trees at sunrise on a field\n",
      "Name: 415, dtype: object\n",
      "Unnamed: 0                                   416\n",
      "concepts              ['field' 'sunrise' 'tree']\n",
      "sentence      tree on the green field in sunrise\n",
      "Name: 416, dtype: object\n",
      "Unnamed: 0                                                 417\n",
      "concepts                            ['field' 'sunrise' 'tree']\n",
      "sentence      sunrise over a rural field with a great oak tree\n",
      "Name: 417, dtype: object\n",
      "Unnamed: 0                                           418\n",
      "concepts                       ['depot' 'track' 'train']\n",
      "sentence      A train on a train track at a train depot.\n",
      "Name: 418, dtype: object\n",
      "Unnamed: 0                                           419\n",
      "concepts                       ['depot' 'track' 'train']\n",
      "sentence      Trains are on tracks in a depot in a city.\n",
      "Name: 419, dtype: object\n",
      "Unnamed: 0                                                420\n",
      "concepts                            ['depot' 'track' 'train']\n",
      "sentence      A toy train and a model train depot with track.\n",
      "Name: 420, dtype: object\n",
      "Unnamed: 0                           421\n",
      "concepts       ['city' 'protect' 'site']\n",
      "sentence      protected site in the city\n",
      "Name: 421, dtype: object\n",
      "Unnamed: 0                                422\n",
      "concepts            ['city' 'protect' 'site']\n",
      "sentence      protected site outside a city .\n",
      "Name: 422, dtype: object\n",
      "Unnamed: 0                                              423\n",
      "concepts                          ['city' 'protect' 'site']\n",
      "sentence      us county aerial with city and protected site\n",
      "Name: 423, dtype: object\n",
      "Unnamed: 0                                        424\n",
      "concepts                 ['athlete' 'look' 'session']\n",
      "sentence      athlete looks on during a media session\n",
      "Name: 424, dtype: object\n",
      "Unnamed: 0                                                  425\n",
      "concepts                           ['athlete' 'look' 'session']\n",
      "sentence      athlete looks on with rugby player during the ...\n",
      "Name: 425, dtype: object\n",
      "Unnamed: 0                                                  426\n",
      "concepts                           ['athlete' 'look' 'session']\n",
      "sentence      fans of athlete look down into the pits during...\n",
      "Name: 426, dtype: object\n",
      "Unnamed: 0                                               427\n",
      "concepts                       ['bathroom' 'floor' 'window']\n",
      "sentence      A bathroom with a  tiled floor under a window.\n",
      "Name: 427, dtype: object\n",
      "Unnamed: 0                                                 428\n",
      "concepts                         ['bathroom' 'floor' 'window']\n",
      "sentence      Bathroom with wood and tub with window and floor\n",
      "Name: 428, dtype: object\n",
      "Unnamed: 0                                                  429\n",
      "concepts                          ['bathroom' 'floor' 'window']\n",
      "sentence      A bathroom with wood floors and a stained glas...\n",
      "Name: 429, dtype: object\n",
      "Unnamed: 0                           430\n",
      "concepts         ['city' 'cloud' 'move']\n",
      "sentence      cloud moving over the city\n",
      "Name: 430, dtype: object\n",
      "Unnamed: 0                                        431\n",
      "concepts                      ['city' 'cloud' 'move']\n",
      "sentence      time lapse of clouds moving in the city\n",
      "Name: 431, dtype: object\n",
      "Unnamed: 0                                                  432\n",
      "concepts                                ['city' 'cloud' 'move']\n",
      "sentence      dark storm clouds and rainy storm moving to th...\n",
      "Name: 432, dtype: object\n",
      "Unnamed: 0                                         433\n",
      "concepts                       ['lid' 'seat' 'toilet']\n",
      "sentence      The seat and the lid of a toilet are up.\n",
      "Name: 433, dtype: object\n",
      "Unnamed: 0                                                  434\n",
      "concepts                                ['lid' 'seat' 'toilet']\n",
      "sentence      A toilet with it's tank lid sitting on it's seat.\n",
      "Name: 434, dtype: object\n",
      "Unnamed: 0                                                  435\n",
      "concepts                                ['lid' 'seat' 'toilet']\n",
      "sentence      A special toilet with an electronic seat and lid.\n",
      "Name: 435, dtype: object\n",
      "Unnamed: 0                                436\n",
      "concepts              ['home' 'panel' 'roof']\n",
      "sentence      solar panel on the roof of home\n",
      "Name: 436, dtype: object\n",
      "Unnamed: 0                                               437\n",
      "concepts                             ['home' 'panel' 'roof']\n",
      "sentence      new family homes with solar panels on the roof\n",
      "Name: 437, dtype: object\n",
      "Unnamed: 0                                                438\n",
      "concepts                              ['home' 'panel' 'roof']\n",
      "sentence      solar panels fitted to the tiled roof of a home\n",
      "Name: 438, dtype: object\n",
      "Unnamed: 0                         439\n",
      "concepts       ['reflect' 'sea' 'sun']\n",
      "sentence      sun reflected in the sea\n",
      "Name: 439, dtype: object\n",
      "Unnamed: 0                           440\n",
      "concepts         ['reflect' 'sea' 'sun']\n",
      "sentence      sun reflecting off the sea\n",
      "Name: 440, dtype: object\n",
      "Unnamed: 0                                            441\n",
      "concepts                          ['reflect' 'sea' 'sun']\n",
      "sentence      glassy sea in winter reflecting the low sun\n",
      "Name: 441, dtype: object\n",
      "Unnamed: 0                               442\n",
      "concepts           ['grow' 'log' 'mushroom']\n",
      "sentence      wild mushrooms grow on a log .\n",
      "Name: 442, dtype: object\n",
      "Unnamed: 0                                      443\n",
      "concepts                  ['grow' 'log' 'mushroom']\n",
      "sentence      mushroom growing on log in the forest\n",
      "Name: 443, dtype: object\n",
      "Unnamed: 0                                         444\n",
      "concepts                     ['grow' 'log' 'mushroom']\n",
      "sentence      lonely red mushroom growing out of a log\n",
      "Name: 444, dtype: object\n",
      "Unnamed: 0                                    445\n",
      "concepts                  ['fan' 'flare' 'match']\n",
      "sentence      fans burn flares during the match .\n",
      "Name: 445, dtype: object\n",
      "Unnamed: 0                                               446\n",
      "concepts                             ['fan' 'flare' 'match']\n",
      "sentence      fans let of a flare during the group b match .\n",
      "Name: 446, dtype: object\n",
      "Unnamed: 0                                                  447\n",
      "concepts                                ['fan' 'flare' 'match']\n",
      "sentence      young fans firing a flare on street before a m...\n",
      "Name: 447, dtype: object\n",
      "Unnamed: 0                            448\n",
      "concepts      ['deity' 'statue' 'temple']\n",
      "sentence      statue of deity at a temple\n",
      "Name: 448, dtype: object\n",
      "Unnamed: 0                                         449\n",
      "concepts                   ['deity' 'statue' 'temple']\n",
      "sentence      statues of deities inside a small temple\n",
      "Name: 449, dtype: object\n",
      "Unnamed: 0                                                450\n",
      "concepts                          ['deity' 'statue' 'temple']\n",
      "sentence      statue in white marble with deity at the temple\n",
      "Name: 450, dtype: object\n",
      "Unnamed: 0                                        451\n",
      "concepts                        ['sky' 'sway' 'wind']\n",
      "sentence      grass swaying in the wind with blue sky\n",
      "Name: 451, dtype: object\n",
      "Unnamed: 0                                               452\n",
      "concepts                               ['sky' 'sway' 'wind']\n",
      "sentence      tropical sky where palm trees sway in the wind\n",
      "Name: 452, dtype: object\n",
      "Unnamed: 0                                 453\n",
      "concepts                ['cloud' 'come' 'sun']\n",
      "sentence      the sun comes through the clouds\n",
      "Name: 453, dtype: object\n",
      "Unnamed: 0                                    454\n",
      "concepts                   ['cloud' 'come' 'sun']\n",
      "sentence      clouds and a sun coming out from it\n",
      "Name: 454, dtype: object\n",
      "Unnamed: 0                                                  455\n",
      "concepts                                 ['cloud' 'come' 'sun']\n",
      "sentence      can you see the sun trying to come out from th...\n",
      "Name: 455, dtype: object\n",
      "Unnamed: 0                                           456\n",
      "concepts                     ['athlete' 'drive' 'model']\n",
      "sentence      athlete drives automobile model in the leg\n",
      "Name: 456, dtype: object\n",
      "Unnamed: 0                                                  457\n",
      "concepts                            ['athlete' 'drive' 'model']\n",
      "sentence      automobile model driven by athlete to win event .\n",
      "Name: 457, dtype: object\n",
      "Unnamed: 0                                                  458\n",
      "concepts                            ['athlete' 'drive' 'model']\n",
      "sentence      athlete seen driving automobile model during r...\n",
      "Name: 458, dtype: object\n",
      "Unnamed: 0                                 459\n",
      "concepts           ['arrive' 'award' 'player']\n",
      "sentence      rugby player arrives at awards .\n",
      "Name: 459, dtype: object\n",
      "Unnamed: 0                                                460\n",
      "concepts                          ['arrive' 'award' 'player']\n",
      "sentence      rugby player and woman arrive ahead of awards .\n",
      "Name: 460, dtype: object\n",
      "Unnamed: 0                                                  461\n",
      "concepts                            ['arrive' 'award' 'player']\n",
      "sentence      football player arrives on the green carpet fo...\n",
      "Name: 461, dtype: object\n",
      "Unnamed: 0                                462\n",
      "concepts               ['range' 'rise' 'sun']\n",
      "sentence      sun rise above mountain range .\n",
      "Name: 462, dtype: object\n",
      "Unnamed: 0                                  463\n",
      "concepts                 ['range' 'rise' 'sun']\n",
      "sentence      the sun rises over mountain range\n",
      "Name: 463, dtype: object\n",
      "Unnamed: 0                                                  464\n",
      "concepts                                 ['range' 'rise' 'sun']\n",
      "sentence      cross with sun rising behind it over a mountai...\n",
      "Name: 464, dtype: object\n",
      "Unnamed: 0                                                  465\n",
      "concepts                             ['cloud' 'footage' 'move']\n",
      "sentence      footage of fast moving clouds against the blue...\n",
      "Name: 465, dtype: object\n",
      "Unnamed: 0                                                  466\n",
      "concepts                             ['cloud' 'footage' 'move']\n",
      "sentence      time lapse footage of moving clouds over a sma...\n",
      "Name: 466, dtype: object\n",
      "Unnamed: 0                                                  467\n",
      "concepts                             ['cloud' 'footage' 'move']\n",
      "sentence      lonely tree in the field and moving clouds in ...\n",
      "Name: 467, dtype: object\n",
      "Unnamed: 0                              468\n",
      "concepts        ['drink' 'flower' 'nectar']\n",
      "sentence      drinking nectar from a flower\n",
      "Name: 468, dtype: object\n",
      "Unnamed: 0                                  469\n",
      "concepts            ['drink' 'flower' 'nectar']\n",
      "sentence      bee drinking the nectar on flower\n",
      "Name: 469, dtype: object\n",
      "Unnamed: 0                                           470\n",
      "concepts                     ['drink' 'flower' 'nectar']\n",
      "sentence      fly drinking nectar on a wild white flower\n",
      "Name: 470, dtype: object\n",
      "Unnamed: 0                                                  471\n",
      "concepts                         ['classroom' 'pupil' 'school']\n",
      "sentence      pupils being taught in classroom of primary sc...\n",
      "Name: 471, dtype: object\n",
      "Unnamed: 0                                                  472\n",
      "concepts                         ['classroom' 'pupil' 'school']\n",
      "sentence      a few pupils in a classroom at a rural primary...\n",
      "Name: 472, dtype: object\n",
      "Unnamed: 0                                                  473\n",
      "concepts                         ['classroom' 'pupil' 'school']\n",
      "sentence      cute pupil using abacus in classroom at the el...\n",
      "Name: 473, dtype: object\n",
      "Unnamed: 0                                   474\n",
      "concepts                   ['hay' 'lay' 'sheep']\n",
      "sentence      Two sheep laying in hay in a pen. \n",
      "Name: 474, dtype: object\n",
      "Unnamed: 0                                         475\n",
      "concepts                         ['hay' 'lay' 'sheep']\n",
      "sentence      A group of sheep laying together on hay.\n",
      "Name: 475, dtype: object\n",
      "Unnamed: 0                                          476\n",
      "concepts                          ['hay' 'lay' 'sheep']\n",
      "sentence      Sheep laying next to smaller ones in hay.\n",
      "Name: 476, dtype: object\n",
      "Unnamed: 0                                    477\n",
      "concepts             ['place' 'statue' 'worship']\n",
      "sentence      statue among hindu place of worship\n",
      "Name: 477, dtype: object\n",
      "Unnamed: 0                                       478\n",
      "concepts                ['place' 'statue' 'worship']\n",
      "sentence      the statue outside places of worship .\n",
      "Name: 478, dtype: object\n",
      "Unnamed: 0                                        479\n",
      "concepts                 ['place' 'statue' 'worship']\n",
      "sentence      buddhist place of worship with a statue\n",
      "Name: 479, dtype: object\n",
      "Unnamed: 0                              480\n",
      "concepts          ['bloom' 'flower' 'pond']\n",
      "sentence      flowers bloom around a pond .\n",
      "Name: 480, dtype: object\n",
      "Unnamed: 0                                  481\n",
      "concepts              ['bloom' 'flower' 'pond']\n",
      "sentence      blooming lotus flower in a pond .\n",
      "Name: 481, dtype: object\n",
      "Unnamed: 0                                            482\n",
      "concepts                        ['bloom' 'flower' 'pond']\n",
      "sentence      the lotus flower does not bloom in the pond\n",
      "Name: 482, dtype: object\n",
      "Unnamed: 0                                         483\n",
      "concepts              ['footballer' 'match' 'stadium']\n",
      "sentence      footballer during the match at stadium .\n",
      "Name: 483, dtype: object\n",
      "Unnamed: 0                                                  484\n",
      "concepts                       ['footballer' 'match' 'stadium']\n",
      "sentence      football player vies with footballer in a matc...\n",
      "Name: 484, dtype: object\n",
      "Unnamed: 0                                                  485\n",
      "concepts                       ['footballer' 'match' 'stadium']\n",
      "sentence      footballer shows award before the league footb...\n",
      "Name: 485, dtype: object\n",
      "Unnamed: 0                                       486\n",
      "concepts                 ['foreground' 'sky' 'tree']\n",
      "sentence      starry sky and trees in the foreground\n",
      "Name: 486, dtype: object\n",
      "Unnamed: 0                                                  487\n",
      "concepts                            ['foreground' 'sky' 'tree']\n",
      "sentence      rain storm coming fast across the sky with tre...\n",
      "Name: 487, dtype: object\n",
      "Unnamed: 0                                 488\n",
      "concepts                 ['add' 'home' 'room']\n",
      "sentence      add a room or suite to your home\n",
      "Name: 488, dtype: object\n",
      "Unnamed: 0                                                  489\n",
      "concepts                                  ['add' 'home' 'room']\n",
      "sentence      adding an extra room on to your existing home ...\n",
      "Name: 489, dtype: object\n",
      "Unnamed: 0                                                  490\n",
      "concepts                                  ['add' 'home' 'room']\n",
      "sentence      marble adds drama and elegance to the most imp...\n",
      "Name: 490, dtype: object\n",
      "Unnamed: 0                                491\n",
      "concepts              ['dish' 'serve' 'type']\n",
      "sentence      type of dish serve on a coconut\n",
      "Name: 491, dtype: object\n",
      "Unnamed: 0                                       492\n",
      "concepts                     ['dish' 'serve' 'type']\n",
      "sentence      type of dish plated and ready to serve\n",
      "Name: 492, dtype: object\n",
      "Unnamed: 0                                         493\n",
      "concepts                       ['dish' 'serve' 'type']\n",
      "sentence      type of dish served on board the cruises\n",
      "Name: 493, dtype: object\n",
      "Unnamed: 0                                   494\n",
      "concepts               ['forest' 'lead' 'trail']\n",
      "sentence      a trail leads through the forest .\n",
      "Name: 494, dtype: object\n",
      "Unnamed: 0                                           495\n",
      "concepts                       ['forest' 'lead' 'trail']\n",
      "sentence      a hiking trail leading off into the forest\n",
      "Name: 495, dtype: object\n",
      "Unnamed: 0                                                  496\n",
      "concepts                              ['forest' 'lead' 'trail']\n",
      "sentence      trail leading into the forest with moss on bot...\n",
      "Name: 496, dtype: object\n",
      "Unnamed: 0                                497\n",
      "concepts          ['award' 'comedian' 'hold']\n",
      "sentence      comedian arrives at awards held\n",
      "Name: 497, dtype: object\n",
      "Unnamed: 0                                    498\n",
      "concepts              ['award' 'comedian' 'hold']\n",
      "sentence      comedian and comedian holds award .\n",
      "Name: 498, dtype: object\n",
      "Unnamed: 0                                    499\n",
      "concepts                 ['garden' 'grow' 'wall']\n",
      "sentence      pears growing up a wall in a garden\n",
      "Name: 499, dtype: object\n"
     ]
    }
   ],
   "source": [
    "for i in test_dataset : \n",
    "    print(i)"
   ],
   "metadata": {
    "collapsed": false,
    "ExecuteTime": {
     "end_time": "2024-10-26T12:59:45.818673700Z",
     "start_time": "2024-10-26T12:59:45.710106700Z"
    }
   }
  },
  {
   "cell_type": "markdown",
   "metadata": {
    "id": "ft9grnXB9Fxw"
   },
   "source": [
    "Sortie attendue :\n",
    "```\n",
    "====================================================================================================\n",
    "\n",
    "Encoder in detokenized :\n",
    "\n",
    " [BOS]two elephants standing next to each other in their pen [EOS][PAD][PAD][PAD][PAD]\n",
    "[BOS]A big elephant that is standing there quietly in the pen. [EOS]\n",
    "\n",
    "Decoder in detokenized :\n",
    "\n",
    " [BOS]['elephant'' pen'' stand'] [EOS][PAD][PAD]\n",
    "[BOS]['elephant'' pen'' stand'] [EOS][PAD][PAD]\n",
    "\n",
    "Decoder out detokenized :\n",
    "\n",
    " ['elephant'' pen'' stand'] [EOS][PAD][PAD][PAD]\n",
    "['elephant'' pen'' stand'] [EOS][PAD][PAD][PAD]\n",
    "\n",
    "====================================================================================================\n",
    "```"
   ]
  },
  {
   "cell_type": "markdown",
   "metadata": {
    "id": "GrA7t_Xy9Fxw"
   },
   "source": [
    "### 6. Création de lots (Batching)\n",
    "\n",
    "Nous allons utiliser la classe `DataLoader` de PyTorch pour charger les données en \"batchs\". La classe `DataCollator` sera passée en paramètre lors du chargement des données pour automatiquement transformer le texte en jetons."
   ]
  },
  {
   "cell_type": "code",
   "execution_count": 25,
   "metadata": {
    "id": "lptJkGPm9Fxw",
    "ExecuteTime": {
     "end_time": "2024-10-26T12:59:45.818673700Z",
     "start_time": "2024-10-26T12:59:45.816922100Z"
    }
   },
   "outputs": [],
   "source": [
    "BATCH_SIZE = 256\n",
    "TEST_BATCH_SIZE = 128\n",
    "\n",
    "collator = DataCollator(tokenizer=tokenizer, max_length=MAX_LENGTH, device=DEVICE)\n",
    "train_loader = DataLoader(train_dataset, batch_size=BATCH_SIZE, shuffle=True, collate_fn=collator)\n",
    "val_loader = DataLoader(val_dataset, batch_size=BATCH_SIZE, shuffle=False, collate_fn=collator)\n",
    "test_loader = DataLoader(test_dataset, batch_size=TEST_BATCH_SIZE, shuffle=False, collate_fn=collator)"
   ]
  },
  {
   "cell_type": "markdown",
   "metadata": {
    "id": "7R_9-0va9Fxw"
   },
   "source": [
    "### 7. Entraînement (26 points)"
   ]
  },
  {
   "cell_type": "markdown",
   "metadata": {
    "id": "9BCgDQaf9Fxw"
   },
   "source": [
    "#### 7.1 Boucle d'entraînement (20 points)\n",
    "\n",
    "Pour pouvoir générer des prédictions qui ont du sens, il faut entraîner le modèle à effectuer ces prédictions à partir des données d'entraînement. Pour cela, la classe `Trainer` sera utilisée. Elle permettra au modèle, à partir de données d'entraînement, d'apprendre la bonne combinaison de paramètres qui effectue les meilleures prédictions. Nous validerons ensuite les prédictions avec l'ensemble de test. L'ensemble de validation sera utilisé durant l'entraînement pour s'assurer que le modèle apprend bien.\n",
    "\n",
    "Compléter les fonctions `train_epoch` et `validation_epoch` de la classe `Trainer` pour permettre au transformer passé en paramètre du constructeur d'être entraîné avec les données d'entraînement.\n",
    "\n",
    "La fonction `train_epoch` doit :\n",
    "- Parcourir toutes les lots (batchs) d'entraînement et pour chaque lot :\n",
    "  - Entraîner le modèle pour ce lot en évaluant la fonction de perte et mettant à jour les paramètres en fonction des gradients\n",
    "- Calculer la perte d'entraînement moyenne\n",
    "- Mettre la perte d'entraînement dans un objet de la classe `History`\n",
    "\n",
    "La fonction `validation_epoch` doit :\n",
    "- Parcourir tous les lots de validation et pour chaque lot :\n",
    "  - Évaluer le modèle sur ce lot en évaluant la fonction de perte\n",
    "- Calculer la perte de validation moyenne\n",
    "- Mettre la perte de validation dans un objet de la classe `History`"
   ]
  },
  {
   "cell_type": "code",
   "execution_count": 26,
   "metadata": {
    "id": "HhqDUPeB2tRV",
    "ExecuteTime": {
     "end_time": "2024-10-26T12:59:45.832923700Z",
     "start_time": "2024-10-26T12:59:45.818673700Z"
    }
   },
   "outputs": [],
   "source": [
    "from tqdm import tqdm\n",
    "\n",
    "class History:\n",
    "\n",
    "    def __init__(self):\n",
    "        self.t_loss = []\n",
    "        self.v_loss = []\n",
    "        self.time_to_train = -1\n",
    "\n",
    "class Trainer:\n",
    "\n",
    "    def __init__(self,\n",
    "                 transformer: Transformer,\n",
    "                 train_loader: DataLoader,\n",
    "                 val_loader: DataLoader,\n",
    "                 num_epochs: int,\n",
    "                 loss_function = None,\n",
    "                 device='cpu',\n",
    "                 saving_path='model') -> None:\n",
    "        \"\"\"\n",
    "        Args :\n",
    "            transformer: Modèle qui sera entraîné\n",
    "\n",
    "            train_loader: Objet contenant les données d'entraînement en batch\n",
    "\n",
    "            val_loader: Objet contenant les données de validation en batch\n",
    "\n",
    "            num_epochs: Nombre d'étape d'entraînement (une étape équivaut à\n",
    "            parcourir toutes les données une fois)\n",
    "\n",
    "            loss_function: Fonction de perte utilisée lors de l'entraînement. Si\n",
    "            le paramètre est laissé à `None`, la fonction d'entropie croisée sera\n",
    "            utilisée en ignorant les jetons de pad (retrouvés avec la config du modèle)\n",
    "\n",
    "            device: Machine sur laquelle le modèle sera entraîné\n",
    "        \"\"\"\n",
    "\n",
    "        self.model = transformer\n",
    "        self.train_loader = train_loader\n",
    "        self.val_loader = val_loader\n",
    "        self.num_epochs = num_epochs\n",
    "        self.device = device\n",
    "        self.saving_path = saving_path\n",
    "\n",
    "        self.optimizer = O.Adam(self.model.parameters(), lr=0.0001, betas=(0.9, 0.98), eps=1e-9)\n",
    "\n",
    "        if loss_function is None:\n",
    "            self.loss_function = nn.CrossEntropyLoss(ignore_index=transformer.config.pad_token_id).to(self.device)\n",
    "        else:\n",
    "            self.loss_function = loss_function\n",
    "\n",
    "    def compute_loss(self, logits: torch.Tensor, labels: torch.Tensor):\n",
    "        \"\"\"\n",
    "        Trouve la valeur de la fonction de perte (self.loss_function)\n",
    "        étant donné les probabilités (logits) prédits et les vraies\n",
    "        valeurs (labels)\n",
    "\n",
    "        Args :\n",
    "            logits:     Probabilités prédites par le modèle sur le prochain\n",
    "                        jeton pour chacun des jetons de la séquence\n",
    "                        Tenseur de taille : [batch_size, seq_length, vocab_size]\n",
    "\n",
    "            labels:     Jetons qui devraient être prédis comme les prochains\n",
    "                        jetons pour chaque jeton de la séquence\n",
    "                        Tenseur de taille : [batch_size, seq_length]\n",
    "        \"\"\"\n",
    "\n",
    "        _, _, vocab_size = logits.shape\n",
    "        return self.loss_function(logits.contiguous().view(-1, vocab_size), labels.contiguous().view(-1))\n",
    "\n",
    "    def train_epoch(self, history):\n",
    "        \"\"\"\n",
    "        Entraîne le modèle sur tous les lots du `self.train_loader` et calcule\n",
    "        la perte d'entraînement moyen en l'ajoutant à l'objet history passé en\n",
    "        paramètre\n",
    "\n",
    "        Args :\n",
    "            history :   Objet contenant les statistiques d'entraînement d'un modèle\n",
    "        \"\"\"\n",
    "\n",
    "        # TODO\n",
    "        total_loss = 0\n",
    "        for batch in self.train_loader :\n",
    "\n",
    "            # Récupérer les entrées à partir des données d'entrainement\n",
    "            encoder_inputs = batch['encoder_in'].to(self.device)\n",
    "            decoder_inputs = batch['decoder_in'].to(self.device)\n",
    "            decoder_targets = batch['decoder_out'].to(self.device)\n",
    "            \n",
    "            # Appeler le modèle\n",
    "            outputs = self.model(encoder_inputs, decoder_inputs)\n",
    "\n",
    "            # Evaluer la perte et mettre à jour les paramètres\n",
    "            loss = self.compute_loss(outputs, decoder_targets)\n",
    "            self.optimizer.zero_grad()  \n",
    "            loss.backward()         \n",
    "            self.optimizer.step()\n",
    "            total_loss+=loss.item()\n",
    "            \n",
    "        # Stocker la perte d'entrainement moyenne dans history\n",
    "        avg_loss = total_loss / len(self.train_loader)\n",
    "        history.t_loss.append(avg_loss) \n",
    "                \n",
    "        # END TODO\n",
    "\n",
    "    def validation_epoch(self, history):\n",
    "        \"\"\"\n",
    "        Évalue le modèle sur tous les lots du `self.val_loader` et calcule\n",
    "        la perte de validation moyen en l'ajoutant à l'objet history passé en\n",
    "        paramètre\n",
    "\n",
    "        Args :\n",
    "            history :   Objet contenant les statistiques d'entraînement d'un modèle\n",
    "        \"\"\"\n",
    "\n",
    "        # TODO\n",
    "        with torch.no_grad() :\n",
    "            total_loss = 0\n",
    "            for batch in self.val_loader :\n",
    "\n",
    "                # Récupérer les entrées à partir des données de validation\n",
    "                encoder_inputs = batch['encoder_in'].to(self.device)\n",
    "                decoder_inputs = batch['decoder_in'].to(self.device)\n",
    "                decoder_targets = batch['decoder_out'].to(self.device)\n",
    "                \n",
    "                # Appeler le modèle                \n",
    "                outputs = self.model(encoder_inputs, decoder_inputs)\n",
    "\n",
    "                # Evaluer la perte\n",
    "                loss = self.compute_loss(outputs , decoder_targets)     \n",
    "                total_loss+=loss.item()\n",
    "\n",
    "            # Stocker la perte de validation moyenne dans history\n",
    "            avg_loss = total_loss / len(self.val_loader)\n",
    "            history.v_loss.append(avg_loss)\n",
    "        # END TODO\n",
    "\n",
    "\n",
    "    def train(self) -> History:\n",
    "        \"\"\"\n",
    "        Entraîne `self.model` en utilisant les données de `self.train_loader`\n",
    "\n",
    "        Returns :\n",
    "        Historique contenant les perte d'entraînement et de validation moyennes\n",
    "        pour chaque étape (epoch) d'entraînement\n",
    "        \"\"\"\n",
    "        history = History()\n",
    "        start = time.time()\n",
    "        self.model.to(self.device)\n",
    "\n",
    "\n",
    "        for epoch in tqdm(range(self.num_epochs)):\n",
    "\n",
    "            self.train_epoch(history)\n",
    "            self.validation_epoch(history)\n",
    "\n",
    "            print(f'Epoch {epoch} / {self.num_epochs} : train_loss = {history.t_loss[-1]}, val_loss = {history.v_loss[-1]}')\n",
    "\n",
    "            if epoch > 0 and epoch % 10 == 0:\n",
    "                self.save(f'{self.saving_path}_{epoch}.pt')\n",
    "\n",
    "        end = time.time()\n",
    "        history.time_to_train = end - start\n",
    "        self.save(f'{self.saving_path}_{self.num_epochs}.pt')\n",
    "        return history\n",
    "\n",
    "    def save(self, path: str):\n",
    "        \"\"\"\n",
    "        Saves the model in the specified path\n",
    "        \"\"\"\n",
    "        torch.save(self.model.state_dict(), path)\n",
    "\n",
    "    @staticmethod\n",
    "    def load(config: TransformerConfig, path: str):\n",
    "        \"\"\"\n",
    "        Loads the model from the specified path\n",
    "        \"\"\"\n",
    "        model = Transformer(config)\n",
    "        model.load_state_dict(torch.load(path))\n",
    "        return model"
   ]
  },
  {
   "cell_type": "markdown",
   "metadata": {
    "id": "Rh33P37P9Fxx"
   },
   "source": [
    "#### 7.2 Nombre de paramètres (2 points)\n",
    "Complétez maintenant la fonction `count_parameters` permettant de calculer le nombre de paramètres du modèle"
   ]
  },
  {
   "cell_type": "code",
   "execution_count": 27,
   "metadata": {
    "colab": {
     "base_uri": "https://localhost:8080/"
    },
    "id": "mUnb2fRp2tRV",
    "outputId": "f435149f-f5fd-4a75-ebc0-840c11723fc5",
    "ExecuteTime": {
     "end_time": "2024-10-26T12:59:46.170947800Z",
     "start_time": "2024-10-26T12:59:45.832923700Z"
    }
   },
   "outputs": [
    {
     "name": "stdout",
     "output_type": "stream",
     "text": [
      "Nombre de paramètres :  56434496\n"
     ]
    }
   ],
   "source": [
    "def count_parameters(model):\n",
    "    \"\"\"\n",
    "    Calcule le nombre de paramètres que l'on peut entraîner dans un modèle\n",
    "\n",
    "    Args :\n",
    "        model : Modèle dont on veut savoir le nombre de paramètres\n",
    "\n",
    "    Returns :\n",
    "    Nombre de paramètres\n",
    "    \"\"\"\n",
    "    # TODO\n",
    "    trainable_params = sum(p.numel() for p in model.parameters() if p.requires_grad)\n",
    "    return trainable_params\n",
    "    # END TODO\n",
    "\n",
    "config = TransformerConfig()\n",
    "config.device = DEVICE\n",
    "model = Transformer(config)\n",
    "\n",
    "print('Nombre de paramètres : ', count_parameters(model))"
   ]
  },
  {
   "cell_type": "markdown",
   "metadata": {
    "id": "VyvX8Loe2tRV"
   },
   "source": [
    "#### 7.3 Entraînement (4 points)\n",
    "Entraînez maintenant le modèle pour 30 époques"
   ]
  },
  {
   "cell_type": "code",
   "execution_count": 28,
   "metadata": {
    "colab": {
     "base_uri": "https://localhost:8080/"
    },
    "id": "Cf6Q-9v12tRc",
    "outputId": "eb823537-5c8f-4eda-c058-0a7f475777ed",
    "ExecuteTime": {
     "end_time": "2024-10-26T13:02:09.433925100Z",
     "start_time": "2024-10-26T12:59:46.170947800Z"
    }
   },
   "outputs": [
    {
     "name": "stderr",
     "output_type": "stream",
     "text": [
      "  3%|▎         | 1/30 [00:04<02:14,  4.63s/it]"
     ]
    },
    {
     "name": "stdout",
     "output_type": "stream",
     "text": [
      "Epoch 0 / 30 : train_loss = 3.9212605820761786, val_loss = 2.950476050376892\n"
     ]
    },
    {
     "name": "stderr",
     "output_type": "stream",
     "text": [
      "  7%|▋         | 2/30 [00:08<02:04,  4.44s/it]"
     ]
    },
    {
     "name": "stdout",
     "output_type": "stream",
     "text": [
      "Epoch 1 / 30 : train_loss = 2.363737106323242, val_loss = 2.5636351108551025\n"
     ]
    },
    {
     "name": "stderr",
     "output_type": "stream",
     "text": [
      " 10%|█         | 3/30 [00:12<01:55,  4.26s/it]"
     ]
    },
    {
     "name": "stdout",
     "output_type": "stream",
     "text": [
      "Epoch 2 / 30 : train_loss = 2.0004309746954174, val_loss = 2.4117624759674072\n"
     ]
    },
    {
     "name": "stderr",
     "output_type": "stream",
     "text": [
      " 13%|█▎        | 4/30 [00:17<01:48,  4.18s/it]"
     ]
    },
    {
     "name": "stdout",
     "output_type": "stream",
     "text": [
      "Epoch 3 / 30 : train_loss = 1.793624950779809, val_loss = 2.2801908254623413\n"
     ]
    },
    {
     "name": "stderr",
     "output_type": "stream",
     "text": [
      " 17%|█▋        | 5/30 [00:21<01:43,  4.13s/it]"
     ]
    },
    {
     "name": "stdout",
     "output_type": "stream",
     "text": [
      "Epoch 4 / 30 : train_loss = 1.6104623277982075, val_loss = 2.192348837852478\n"
     ]
    },
    {
     "name": "stderr",
     "output_type": "stream",
     "text": [
      " 20%|██        | 6/30 [00:25<01:40,  4.18s/it]"
     ]
    },
    {
     "name": "stdout",
     "output_type": "stream",
     "text": [
      "Epoch 5 / 30 : train_loss = 1.5216600894927979, val_loss = 2.1621644496917725\n"
     ]
    },
    {
     "name": "stderr",
     "output_type": "stream",
     "text": [
      " 23%|██▎       | 7/30 [00:29<01:36,  4.19s/it]"
     ]
    },
    {
     "name": "stdout",
     "output_type": "stream",
     "text": [
      "Epoch 6 / 30 : train_loss = 1.4433739715152316, val_loss = 2.1138449907302856\n"
     ]
    },
    {
     "name": "stderr",
     "output_type": "stream",
     "text": [
      " 27%|██▋       | 8/30 [00:33<01:31,  4.17s/it]"
     ]
    },
    {
     "name": "stdout",
     "output_type": "stream",
     "text": [
      "Epoch 7 / 30 : train_loss = 1.3334360718727112, val_loss = 2.0206563472747803\n"
     ]
    },
    {
     "name": "stderr",
     "output_type": "stream",
     "text": [
      " 30%|███       | 9/30 [00:37<01:27,  4.16s/it]"
     ]
    },
    {
     "name": "stdout",
     "output_type": "stream",
     "text": [
      "Epoch 8 / 30 : train_loss = 1.209334459569719, val_loss = 1.9448419213294983\n"
     ]
    },
    {
     "name": "stderr",
     "output_type": "stream",
     "text": [
      " 33%|███▎      | 10/30 [00:42<01:24,  4.21s/it]"
     ]
    },
    {
     "name": "stdout",
     "output_type": "stream",
     "text": [
      "Epoch 9 / 30 : train_loss = 1.0889530744817522, val_loss = 1.8979089856147766\n"
     ]
    },
    {
     "name": "stderr",
     "output_type": "stream",
     "text": [
      " 37%|███▋      | 11/30 [00:46<01:20,  4.26s/it]"
     ]
    },
    {
     "name": "stdout",
     "output_type": "stream",
     "text": [
      "Epoch 10 / 30 : train_loss = 0.9775683581829071, val_loss = 1.8370214700698853\n"
     ]
    },
    {
     "name": "stderr",
     "output_type": "stream",
     "text": [
      " 40%|████      | 12/30 [00:50<01:15,  4.22s/it]"
     ]
    },
    {
     "name": "stdout",
     "output_type": "stream",
     "text": [
      "Epoch 11 / 30 : train_loss = 0.8782897856500413, val_loss = 1.8071793913841248\n"
     ]
    },
    {
     "name": "stderr",
     "output_type": "stream",
     "text": [
      " 43%|████▎     | 13/30 [00:54<01:11,  4.22s/it]"
     ]
    },
    {
     "name": "stdout",
     "output_type": "stream",
     "text": [
      "Epoch 12 / 30 : train_loss = 0.7911898195743561, val_loss = 1.7723271250724792\n"
     ]
    },
    {
     "name": "stderr",
     "output_type": "stream",
     "text": [
      " 47%|████▋     | 14/30 [00:59<01:08,  4.27s/it]"
     ]
    },
    {
     "name": "stdout",
     "output_type": "stream",
     "text": [
      "Epoch 13 / 30 : train_loss = 0.7110124892658658, val_loss = 1.7461426258087158\n"
     ]
    },
    {
     "name": "stderr",
     "output_type": "stream",
     "text": [
      " 50%|█████     | 15/30 [01:03<01:03,  4.24s/it]"
     ]
    },
    {
     "name": "stdout",
     "output_type": "stream",
     "text": [
      "Epoch 14 / 30 : train_loss = 0.6378994186719259, val_loss = 1.730873167514801\n"
     ]
    },
    {
     "name": "stderr",
     "output_type": "stream",
     "text": [
      " 53%|█████▎    | 16/30 [01:07<00:59,  4.22s/it]"
     ]
    },
    {
     "name": "stdout",
     "output_type": "stream",
     "text": [
      "Epoch 15 / 30 : train_loss = 0.5743843151463403, val_loss = 1.6938756704330444\n"
     ]
    },
    {
     "name": "stderr",
     "output_type": "stream",
     "text": [
      " 57%|█████▋    | 17/30 [01:11<00:54,  4.19s/it]"
     ]
    },
    {
     "name": "stdout",
     "output_type": "stream",
     "text": [
      "Epoch 16 / 30 : train_loss = 0.5115325169430839, val_loss = 1.6773622632026672\n"
     ]
    },
    {
     "name": "stderr",
     "output_type": "stream",
     "text": [
      " 60%|██████    | 18/30 [01:16<00:50,  4.22s/it]"
     ]
    },
    {
     "name": "stdout",
     "output_type": "stream",
     "text": [
      "Epoch 17 / 30 : train_loss = 0.45401207771566177, val_loss = 1.6652331352233887\n"
     ]
    },
    {
     "name": "stderr",
     "output_type": "stream",
     "text": [
      " 63%|██████▎   | 19/30 [01:20<00:48,  4.39s/it]"
     ]
    },
    {
     "name": "stdout",
     "output_type": "stream",
     "text": [
      "Epoch 18 / 30 : train_loss = 0.4029210988018248, val_loss = 1.6493430733680725\n"
     ]
    },
    {
     "name": "stderr",
     "output_type": "stream",
     "text": [
      " 67%|██████▋   | 20/30 [01:25<00:44,  4.47s/it]"
     ]
    },
    {
     "name": "stdout",
     "output_type": "stream",
     "text": [
      "Epoch 19 / 30 : train_loss = 0.3549216041962306, val_loss = 1.6309987902641296\n"
     ]
    },
    {
     "name": "stderr",
     "output_type": "stream",
     "text": [
      " 70%|███████   | 21/30 [01:30<00:41,  4.59s/it]"
     ]
    },
    {
     "name": "stdout",
     "output_type": "stream",
     "text": [
      "Epoch 20 / 30 : train_loss = 0.31868671046362984, val_loss = 1.6340009570121765\n"
     ]
    },
    {
     "name": "stderr",
     "output_type": "stream",
     "text": [
      " 73%|███████▎  | 22/30 [01:34<00:36,  4.61s/it]"
     ]
    },
    {
     "name": "stdout",
     "output_type": "stream",
     "text": [
      "Epoch 21 / 30 : train_loss = 0.28204936616950566, val_loss = 1.614776849746704\n"
     ]
    },
    {
     "name": "stderr",
     "output_type": "stream",
     "text": [
      " 77%|███████▋  | 23/30 [01:39<00:33,  4.72s/it]"
     ]
    },
    {
     "name": "stdout",
     "output_type": "stream",
     "text": [
      "Epoch 22 / 30 : train_loss = 0.24395870251788032, val_loss = 1.6069415807724\n"
     ]
    },
    {
     "name": "stderr",
     "output_type": "stream",
     "text": [
      " 80%|████████  | 24/30 [01:44<00:28,  4.76s/it]"
     ]
    },
    {
     "name": "stdout",
     "output_type": "stream",
     "text": [
      "Epoch 23 / 30 : train_loss = 0.21193113343583214, val_loss = 1.6288096904754639\n"
     ]
    },
    {
     "name": "stderr",
     "output_type": "stream",
     "text": [
      " 83%|████████▎ | 25/30 [01:50<00:25,  5.00s/it]"
     ]
    },
    {
     "name": "stdout",
     "output_type": "stream",
     "text": [
      "Epoch 24 / 30 : train_loss = 0.18412350532081392, val_loss = 1.6346375346183777\n"
     ]
    },
    {
     "name": "stderr",
     "output_type": "stream",
     "text": [
      " 87%|████████▋ | 26/30 [01:55<00:20,  5.11s/it]"
     ]
    },
    {
     "name": "stdout",
     "output_type": "stream",
     "text": [
      "Epoch 25 / 30 : train_loss = 0.15754666841692394, val_loss = 1.6133370995521545\n"
     ]
    },
    {
     "name": "stderr",
     "output_type": "stream",
     "text": [
      " 90%|█████████ | 27/30 [02:01<00:16,  5.41s/it]"
     ]
    },
    {
     "name": "stdout",
     "output_type": "stream",
     "text": [
      "Epoch 26 / 30 : train_loss = 0.1369032578335868, val_loss = 1.6103920936584473\n"
     ]
    },
    {
     "name": "stderr",
     "output_type": "stream",
     "text": [
      " 93%|█████████▎| 28/30 [02:08<00:11,  5.65s/it]"
     ]
    },
    {
     "name": "stdout",
     "output_type": "stream",
     "text": [
      "Epoch 27 / 30 : train_loss = 0.1189233445458942, val_loss = 1.6293922662734985\n"
     ]
    },
    {
     "name": "stderr",
     "output_type": "stream",
     "text": [
      " 97%|█████████▋| 29/30 [02:14<00:05,  5.88s/it]"
     ]
    },
    {
     "name": "stdout",
     "output_type": "stream",
     "text": [
      "Epoch 28 / 30 : train_loss = 0.10251202020380232, val_loss = 1.6157814264297485\n"
     ]
    },
    {
     "name": "stderr",
     "output_type": "stream",
     "text": [
      "100%|██████████| 30/30 [02:21<00:00,  4.72s/it]\n"
     ]
    },
    {
     "name": "stdout",
     "output_type": "stream",
     "text": [
      "Epoch 29 / 30 : train_loss = 0.08755853275458018, val_loss = 1.6282402873039246\n"
     ]
    }
   ],
   "source": [
    "# TODO\n",
    "trainer_model = Trainer(model, train_loader, val_loader, 30, None, 'cuda')\n",
    "history = History() # Mettez le résultat de l'entraînement dans cette variable\n",
    "history = trainer_model.train()\n",
    "# END TODO"
   ]
  },
  {
   "cell_type": "markdown",
   "metadata": {},
   "source": [
    "### 8. Historique d'entraînement (5 points)"
   ]
  },
  {
   "cell_type": "markdown",
   "metadata": {
    "id": "paXl6ZeL9Fxx"
   },
   "source": [
    "#### 8.1 Graphique (2 points)\n",
    "Complétez la fonction `show_history` qui affiche l'historique d'entraînement (perte d'entraînement et perte de validation par époque, utilisez des pas de 5 époques) du modèle dans un graphe."
   ]
  },
  {
   "cell_type": "code",
   "execution_count": 29,
   "metadata": {
    "colab": {
     "base_uri": "https://localhost:8080/",
     "height": 472
    },
    "id": "w9oPTKOB9Fxx",
    "outputId": "59fd18df-2fb1-4e0d-cccc-9d18d40911cd",
    "ExecuteTime": {
     "end_time": "2024-10-26T13:02:09.590360700Z",
     "start_time": "2024-10-26T13:02:09.406521500Z"
    }
   },
   "outputs": [
    {
     "data": {
      "text/plain": "<Figure size 800x400 with 1 Axes>",
      "image/png": "[encoded data removed]"
     },
     "metadata": {},
     "output_type": "display_data"
    }
   ],
   "source": [
    "def show_history(history: History):\n",
    "    \"\"\"\n",
    "    Affiche l'historique d'entraînement du modèle dans un graphique\n",
    "\n",
    "    Args :\n",
    "        history : Objet contenant les pertes d'entraînement et de\n",
    "        validation de chaque étape d'entraînement\n",
    "    \"\"\"\n",
    "    # TODO\n",
    "\n",
    "    plt.figure(figsize=(8,4))\n",
    "    epochs = np.linspace(0, 30, 6) \n",
    "    plt.plot(epochs, history.t_loss[::5], label = 'Perte d\\'entrainement')\n",
    "    plt.plot(epochs, history.v_loss[::5], label = 'Perte de validation')\n",
    "    plt.xlabel('Epoch')\n",
    "    plt.ylabel('Loss')\n",
    "    plt.legend()\n",
    "    plt.title('Historique d\\'entrainement')\n",
    "\n",
    "    # END TODO\n",
    "\n",
    "show_history(history)"
   ]
  },
  {
   "cell_type": "markdown",
   "metadata": {
    "id": "9LwB7-VX9Fxx"
   },
   "source": [
    "#### 8.2 Est-ce que le modèle semble être en sur-apprentissage ? Pourquoi ? Que feriez-vous pour résoudre ce problème ? (2 points)"
   ]
  },
  {
   "cell_type": "markdown",
   "metadata": {
    "collapsed": false
   },
   "source": [
    "Oui le modèle semble bien être en sur-apprentissage puisque la validation loss augmente pour les derniers epochs."
   ]
  },
  {
   "cell_type": "markdown",
   "metadata": {
    "id": "IndyxKRWBFiQ"
   },
   "source": [
    "#### 8.3 Lors de l'entraînement, un modèle a été sauvegardé à chaque 10 époques. En vous basant sur le graphique de la fonction de perte durant l'entraînement, choisissez la sauvegarde du modèle qui n'est pas en sur-apprentissage et chargez le pour l'évaluation à l'aide de la fonction `load` de la classe `Trainer`. Chargez également le dernier modèle sauvegardé pour comparer les résultats. (1 point)\n",
    "\n",
    "Nous dénoterons le modèle arrêté avant le sur-apprentissage comme étant : `stopped_model`\n",
    "\n",
    "Nous dénoterons le dernier modèle sauvegardé comme étant : `last_model`"
   ]
  },
  {
   "cell_type": "code",
   "execution_count": 30,
   "metadata": {
    "id": "O96q-EK2BZr9",
    "ExecuteTime": {
     "end_time": "2024-10-26T13:02:10.712698Z",
     "start_time": "2024-10-26T13:02:09.584327200Z"
    }
   },
   "outputs": [
    {
     "name": "stderr",
     "output_type": "stream",
     "text": [
      "C:\\Users\\dalil\\AppData\\Local\\Temp\\ipykernel_17260\\1366265317.py:179: FutureWarning: You are using `torch.load` with `weights_only=False` (the current default value), which uses the default pickle module implicitly. It is possible to construct malicious pickle data which will execute arbitrary code during unpickling (See https://github.com/pytorch/pytorch/blob/main/SECURITY.md#untrusted-models for more details). In a future release, the default value for `weights_only` will be flipped to `True`. This limits the functions that could be executed during unpickling. Arbitrary objects will no longer be allowed to be loaded via this mode unless they are explicitly allowlisted by the user via `torch.serialization.add_safe_globals`. We recommend you start setting `weights_only=True` for any use case where you don't have full control of the loaded file. Please open an issue on GitHub for any issues related to this experimental feature.\n",
      "  model.load_state_dict(torch.load(path))\n"
     ]
    }
   ],
   "source": [
    "# TODO\n",
    "\n",
    "# Mettez vos deux modèles entraînés dans ces variables pour la suite\n",
    "stopped_model = Trainer.load(config=config, path='model_10.pt').to(DEVICE)\n",
    "last_model = Trainer.load(config=config, path='model_30.pt').to(DEVICE)\n",
    "\n",
    "# END TODO"
   ]
  },
  {
   "cell_type": "markdown",
   "metadata": {
    "id": "W95hjKY19Fxx"
   },
   "source": [
    "### 9. Évaluation (20 points)"
   ]
  },
  {
   "cell_type": "markdown",
   "metadata": {
    "id": "oM_j2M0A9Fxx",
    "tags": []
   },
   "source": [
    "#### 9.1 Génération (10 points)\n",
    "Maintenant que le modèle est entraîné, nous pouvons tester ses générations. Complétez la fonction `generate` qui génère, pour un lot de données, les prédictions d'un modèle sur les concepts clés de la phrase donnée en paramètre."
   ]
  },
  {
   "cell_type": "code",
   "execution_count": 48,
   "metadata": {
    "id": "UmoO5WYT9Fxx",
    "ExecuteTime": {
     "end_time": "2024-10-26T13:13:09.571636100Z",
     "start_time": "2024-10-26T13:13:09.556621900Z"
    }
   },
   "outputs": [],
   "source": [
    "def generate(model: Transformer, encoder_in: torch.tensor, bos_token_id: int, eos_token_id: int, max_length=MAX_LENGTH):\n",
    "    \"\"\"\n",
    "    Génère les prédictions d'un modèle pour des phrases données en paramètre. Pour cela, vous devez\n",
    "    initialiser un tenseur X contenant les jetons de début de phrase (bos_token_id). Ensuite, ce\n",
    "    tenseur sera passé comme entrée au décodeur avec `encoder_in` comme entrée à l'encodeur. Le modèle\n",
    "    génèrera un jeton en sortie qui sera le jeton le plus probable étant donné le jeton de début de\n",
    "    phrase et la séquence passée dans l'encodeur. Ce jeton devra être concaténé au tenseur initial X\n",
    "    pour former une séquence de deux jetons. Cette nouvelle séquence est ensuite réenvoyée au décodeur.\n",
    "    Un jeton en sortie sera généré correspondant au jeton le plus probable étant donné la séquence de\n",
    "    deux jetons et l'entrée de l'encodeur. Le nouveau jeton est concaténé au tenseur X et l'opération\n",
    "    est répétée jusqu'à ce que le décodeur génère le jeton de fin de phrase.\n",
    "\n",
    "    Args :\n",
    "        model : Modèle effectuant les prédictions\n",
    "\n",
    "        inputs : Tenseur contenant les phrases d'entrées sous forme d'indices de jetons\n",
    "\n",
    "        bos_token_id : Jeton d'entrée du tokenizer utilisé pour initialiser le tenseur de génération\n",
    "\n",
    "        eos_token_id : Jeton de fin du tokenizer utilisé pour détecter la fin d'une séquence\n",
    "\n",
    "        max_length : Nombre maximal de jetons qui doivent être générés par le modèle\n",
    "\n",
    "    Returns :\n",
    "    Génération du modèle de chacune des phrases en entrée\n",
    "    \"\"\"\n",
    "    # TODO\n",
    "    model.eval()\n",
    "\n",
    "    current_batch_size = encoder_in.size(0)\n",
    "\n",
    "    # Initialisation de la séquence générée avec le jeton de début\n",
    "    generated_sequence = torch.full((current_batch_size, 1), bos_token_id, dtype=torch.long, device=DEVICE)\n",
    "    print(generated_sequence.shape)\n",
    "\n",
    "    # Indicateur de séquences terminées\n",
    "    finished_sequences = torch.zeros(current_batch_size, dtype=torch.bool, device=DEVICE)\n",
    "\n",
    "    for _ in range(max_length):\n",
    "        # Appel du modèle pour générer la sortie\n",
    "        output = model(encoder_in, generated_sequence)\n",
    "        #µprint(output.shape)\n",
    "        # Extraction des jetons prévus (dernier jeton de generated_sequence)\n",
    "        next_token = output[:, -1, :].argmax(dim=-1, keepdim=True)\n",
    "\n",
    "       \n",
    "\n",
    "        # Mise à jour des séquences terminées\n",
    "        finished_sequences |= (next_token.squeeze(1) == eos_token_id)\n",
    "        #print(f' finished sentences{finished_sequences}')\n",
    "\n",
    "        # Assignation du jeton de fin de phrase aux séquences terminées\n",
    "        next_token[finished_sequences] = eos_token_id\n",
    "        #print(next_token)\n",
    "\n",
    "        # Concaténation des nouveaux jetons générés\n",
    "        generated_sequence = torch.cat([generated_sequence, next_token], dim=1)\n",
    "        #print(generated_sequence)\n",
    "\n",
    "        # Arrêt si toutes les séquences sont terminées\n",
    "        if finished_sequences.all():\n",
    "            break\n",
    "\n",
    "    return generated_sequence\n",
    "    # END TODO"
   ]
  },
  {
   "cell_type": "code",
   "execution_count": 61,
   "metadata": {
    "id": "5t_4T4Eg9Fxx",
    "ExecuteTime": {
     "end_time": "2024-10-26T13:20:15.099095100Z",
     "start_time": "2024-10-26T13:20:12.193099600Z"
    }
   },
   "outputs": [
    {
     "name": "stdout",
     "output_type": "stream",
     "text": [
      "torch.Size([128, 1])\n",
      "torch.Size([128, 1])\n",
      "torch.Size([128, 1])\n",
      "torch.Size([116, 1])\n",
      "torch.Size([128, 1])\n",
      "torch.Size([128, 1])\n",
      "torch.Size([128, 1])\n",
      "torch.Size([116, 1])\n"
     ]
    }
   ],
   "source": [
    "def get_predictions(model, tokenizer):\n",
    "\n",
    "    bos_token_id = tokenizer(\"\")['input_ids'][0]\n",
    "    eos_token_id = tokenizer(\"\")['input_ids'][1]\n",
    "\n",
    "    sentences = []\n",
    "    predictions = []\n",
    "    ground_truth = []\n",
    "    for test_data in test_loader:\n",
    "\n",
    "        inputs = test_data['encoder_in']\n",
    "        result = generate(model, inputs, bos_token_id, eos_token_id)\n",
    "\n",
    "        sentences.extend(tokenizer.batch_decode(test_data['encoder_in'], skip_special_tokens=True))\n",
    "        ground_truth.extend(tokenizer.batch_decode(test_data['decoder_out'], skip_special_tokens=True))\n",
    "        predictions.extend(tokenizer.batch_decode(result, skip_special_tokens=True))\n",
    "\n",
    "    return sentences, ground_truth, predictions\n",
    "\n",
    "sentences_stopped, ground_truth_stopped, predictions_stopped = get_predictions(stopped_model, tokenizer)\n",
    "sentences_last, ground_truth_last, predictions_last = get_predictions(last_model, tokenizer)"
   ]
  },
  {
   "cell_type": "code",
   "execution_count": 62,
   "metadata": {
    "id": "2e8pOemw9Fxx",
    "ExecuteTime": {
     "end_time": "2024-10-26T13:20:17.037749500Z",
     "start_time": "2024-10-26T13:20:17.025216200Z"
    }
   },
   "outputs": [],
   "source": [
    "predictions_stopped = pd.DataFrame({'sentences': sentences_stopped, 'ground_truth': ground_truth_stopped, 'predictions': predictions_stopped})\n",
    "predictions_last = pd.DataFrame({'sentences': sentences_last, 'ground_truth': ground_truth_last, 'predictions': predictions_last})"
   ]
  },
  {
   "cell_type": "code",
   "execution_count": 69,
   "metadata": {
    "ExecuteTime": {
     "end_time": "2024-10-26T13:35:08.077385500Z",
     "start_time": "2024-10-26T13:35:08.061830Z"
    }
   },
   "outputs": [],
   "source": [
    "predictions_stopped.to_csv('predictions_stopped.csv', index=False)\n",
    "predictions_last.to_csv('predictions_last.csv', index=False)"
   ]
  },
  {
   "cell_type": "markdown",
   "metadata": {
    "id": "vGOifYaW9Fxx"
   },
   "source": [
    "#### 9.2 Évaluation naive de la génération (1 point)\n",
    "Nous allons d'abord mesurer l'efficacité de notre modèle pour extraire les concepts à l'aide d'une métrique de correspondance exacte (exact match). Pour cela, nous allons mesurer le nombre de générations (`predictions`) qui sont identiques à celles qui sont attendues dans l'ensemble de référence (`ground truth`) et diviser le tout par le nombre totaux d'éléments dans l'ensemble de référence. Ainsi, la métrique EM (exact match) équivaut à :\n",
    "\n",
    "$$\\text{EM} = \\frac{\\text{Nombre d'éléments identiques entre l'ensemble généré et l'ensemble de référence}}{\\text{Nombre d'éléments dans l'ensemble de référence}}$$"
   ]
  },
  {
   "cell_type": "code",
   "execution_count": 95,
   "metadata": {
    "colab": {
     "base_uri": "https://localhost:8080/"
    },
    "id": "3owRHw1D9Fxx",
    "outputId": "2ebbe3d6-4f61-4edc-f148-2ebc1de48443",
    "ExecuteTime": {
     "end_time": "2024-10-26T15:00:56.894432500Z",
     "start_time": "2024-10-26T15:00:56.858758800Z"
    }
   },
   "outputs": [
    {
     "name": "stdout",
     "output_type": "stream",
     "text": [
      "La métrique EM du modèle arrêté selon la fonction de perte est 0.64 %\n",
      "La métrique EM du dernier modèle est 0.69 %\n"
     ]
    }
   ],
   "source": [
    "def compute_em_score(data):\n",
    "    \"\"\"\n",
    "    Évalue la métrique EM du modèle en utilisant la métrique BLEU\n",
    "    Args :\n",
    "        - data : DataFrame contenant les colonnes predictions et ground_truth\n",
    "\n",
    "    Returns :\n",
    "    La métrique EM du modèle en pourcentage\n",
    "    \"\"\"\n",
    "    # TODO\n",
    "    \n",
    "    mean_EM = 0\n",
    "    for i,row in data.iterrows() :\n",
    "        EM = 0\n",
    "        g_t = row['ground_truth'].replace('[', '').replace(']', '').replace(\"'\", \"\").split()\n",
    "        preds = row['predictions'].replace('[', '').replace(']', '').replace(\"'\", \"\").split()\n",
    "        for pred in preds : \n",
    "            if  pred in g_t : \n",
    "                EM+=1\n",
    "        EM = EM/len(g_t)\n",
    "        mean_EM += EM \n",
    "    mean_EM = mean_EM/len(data)\n",
    "    return mean_EM\n",
    "        \n",
    "                \n",
    "        \n",
    "            \n",
    "        \n",
    "    # END TODO\n",
    "\n",
    "print(f\"La métrique EM du modèle arrêté selon la fonction de perte est {compute_em_score(predictions_stopped):.2f} %\")\n",
    "print(f\"La métrique EM du dernier modèle est {compute_em_score(predictions_last):.2f} %\")"
   ]
  },
  {
   "cell_type": "code",
   "execution_count": 96,
   "outputs": [
    {
     "data": {
      "text/plain": "                                             sentences  \\\n0    two elephants standing next to each other in t...   \n1    A big elephant that is standing there quietly ...   \n2                         love the color of this dress   \n3                  i just love the colors in her dress   \n4             love the colors and print on this dress.   \n..                                                 ...   \n495         a hiking trail leading off into the forest   \n496  trail leading into the forest with moss on bot...   \n497                    comedian arrives at awards held   \n498                 comedian and comedian holds award.   \n499                pears growing up a wall in a garden   \n\n                    ground_truth                      predictions  \n0     ['elephant'' pen'' stand']     ['elephant'' stand'' stand']  \n1     ['elephant'' pen'' stand']  ['elephant'' elephant'' stand']  \n2       ['color'' dress'' love']        ['bathroom'' fly'' wall']  \n3       ['color'' dress'' love']       ['bathroom'' look'' work']  \n4       ['color'' dress'' love']       ['bathroom'' park'' wall']  \n..                           ...                              ...  \n495    ['forest'' lead'' trail']      ['airplane'' skier'' take']  \n496    ['forest'' lead'' trail']     ['building'' forest'' take']  \n497  ['award'' comedian'' hold']      ['bathroom'' track'' walk']  \n498  ['award'' comedian'' hold']       ['bathroom'' room'' wall']  \n499     ['garden'' grow'' wall']           ['grow'' grow'' wall']  \n\n[500 rows x 3 columns]",
      "text/html": "<div>\n<style scoped>\n    .dataframe tbody tr th:only-of-type {\n        vertical-align: middle;\n    }\n\n    .dataframe tbody tr th {\n        vertical-align: top;\n    }\n\n    .dataframe thead th {\n        text-align: right;\n    }\n</style>\n<table border=\"1\" class=\"dataframe\">\n  <thead>\n    <tr style=\"text-align: right;\">\n      <th></th>\n      <th>sentences</th>\n      <th>ground_truth</th>\n      <th>predictions</th>\n    </tr>\n  </thead>\n  <tbody>\n    <tr>\n      <th>0</th>\n      <td>two elephants standing next to each other in t...</td>\n      <td>['elephant'' pen'' stand']</td>\n      <td>['elephant'' stand'' stand']</td>\n    </tr>\n    <tr>\n      <th>1</th>\n      <td>A big elephant that is standing there quietly ...</td>\n      <td>['elephant'' pen'' stand']</td>\n      <td>['elephant'' elephant'' stand']</td>\n    </tr>\n    <tr>\n      <th>2</th>\n      <td>love the color of this dress</td>\n      <td>['color'' dress'' love']</td>\n      <td>['bathroom'' fly'' wall']</td>\n    </tr>\n    <tr>\n      <th>3</th>\n      <td>i just love the colors in her dress</td>\n      <td>['color'' dress'' love']</td>\n      <td>['bathroom'' look'' work']</td>\n    </tr>\n    <tr>\n      <th>4</th>\n      <td>love the colors and print on this dress.</td>\n      <td>['color'' dress'' love']</td>\n      <td>['bathroom'' park'' wall']</td>\n    </tr>\n    <tr>\n      <th>...</th>\n      <td>...</td>\n      <td>...</td>\n      <td>...</td>\n    </tr>\n    <tr>\n      <th>495</th>\n      <td>a hiking trail leading off into the forest</td>\n      <td>['forest'' lead'' trail']</td>\n      <td>['airplane'' skier'' take']</td>\n    </tr>\n    <tr>\n      <th>496</th>\n      <td>trail leading into the forest with moss on bot...</td>\n      <td>['forest'' lead'' trail']</td>\n      <td>['building'' forest'' take']</td>\n    </tr>\n    <tr>\n      <th>497</th>\n      <td>comedian arrives at awards held</td>\n      <td>['award'' comedian'' hold']</td>\n      <td>['bathroom'' track'' walk']</td>\n    </tr>\n    <tr>\n      <th>498</th>\n      <td>comedian and comedian holds award.</td>\n      <td>['award'' comedian'' hold']</td>\n      <td>['bathroom'' room'' wall']</td>\n    </tr>\n    <tr>\n      <th>499</th>\n      <td>pears growing up a wall in a garden</td>\n      <td>['garden'' grow'' wall']</td>\n      <td>['grow'' grow'' wall']</td>\n    </tr>\n  </tbody>\n</table>\n<p>500 rows × 3 columns</p>\n</div>"
     },
     "execution_count": 96,
     "metadata": {},
     "output_type": "execute_result"
    }
   ],
   "source": [
    "predictions_stopped"
   ],
   "metadata": {
    "collapsed": false,
    "ExecuteTime": {
     "end_time": "2024-10-26T15:00:57.990979400Z",
     "start_time": "2024-10-26T15:00:57.943800300Z"
    }
   }
  },
  {
   "cell_type": "markdown",
   "metadata": {
    "id": "8TlJ99y99Fxy"
   },
   "source": [
    "#### 9.3 Quels problèmes voyez-vous avec cette manière de calculer la performance du modèle ? (1 point)"
   ]
  },
  {
   "cell_type": "markdown",
   "source": [
    "On ne prend pas en compte le fait que les mots sont consécutifs."
   ],
   "metadata": {
    "collapsed": false
   }
  },
  {
   "cell_type": "markdown",
   "metadata": {
    "id": "v5TGstQP9Fxy"
   },
   "source": [
    "#### 9.4 Métrique BLEU (4 points)\n",
    "Pour pallier à ce problème, la métrique BLEU sera utilisée puisqu'elle est basée sur le nombre de n-gramme qui sont présents dans les prédictions et les séquences voulues. La formule est donnée ci-dessous :\n",
    "$$BLEU = BP * exp \\Big( \\sum_{n=1}^{N} w_n \\log p_n \\Big)$$\n",
    "\n",
    "Considérant que $r$ est la phrase de référence (voulue) et $c$ la phrase générée (candidate), $p_n$ est la précision modifiée pour le n-gramme (correspondant au ratio de la fréquence maximum du n-gramme dans la phrase de référence par la fréquence du n-gramme): \n",
    "$$p_n = \\frac{\\sum_{\\text{n-gramme} \\in c} \\min\\Big( \\max_{r} \\text{Count$_r$(n-gramme)}, \\text{Count$_c$(n-gramme)} \\Big)}{\\sum_{\\text{n-gramme} \\in c} \\text{Count$_c$(n-gramme)}}$$\n",
    "\n",
    "Notez que le $\\max_{r}$ est présent ici car BLEU accepte plusieurs phrases de référence pour une même phrase générée. Cependant, dans notre cas, il y a seulement une seule phrase de référence.\n",
    "\n",
    "Posons ensuite $|r|$ comme le nombre de mots dans la phrase cible et $|c|$ comme le nombre de mots dans la phrase prédite. Si $c>r$, alors BP vaut 1. Sinon $$BP = exp(1 - \\frac{|r|}{|c|})$$\n",
    "\n",
    "Les valeurs des poids $w_n$ est ce qui donne les différentes variations de la métrique BLEU. Dans notre cas, la métrique BLEU-1 sera utilisée. La valeur maximale du score BLEU est 1 et la valeur minimale est 0.\n",
    "\n",
    "Vous pouvez utiliser la fonction `sentence_bleu` de `nltk` pour calculer votre score BLEU. N'oubliez pas d'enlever les apostrophes et les crochets des générations avant votre calcul."
   ]
  },
  {
   "cell_type": "code",
   "execution_count": 97,
   "metadata": {
    "colab": {
     "base_uri": "https://localhost:8080/"
    },
    "id": "dChq1yTK9Fxy",
    "outputId": "570a935f-f889-42a4-8dc0-1018062be2d3",
    "ExecuteTime": {
     "end_time": "2024-10-26T15:01:00.221994800Z",
     "start_time": "2024-10-26T15:01:00.204445200Z"
    }
   },
   "outputs": [
    {
     "name": "stdout",
     "output_type": "stream",
     "text": [
      "Le score BLEU du modèle arrêté selon la fonction de perte est 0.33\n",
      "Le score BLEU du dernier modèle est 0.61.\n"
     ]
    },
    {
     "name": "stderr",
     "output_type": "stream",
     "text": [
      "C:\\Users\\dalil\\anaconda3\\envs\\ml\\Lib\\site-packages\\nltk\\translate\\bleu_score.py:552: UserWarning: \n",
      "The hypothesis contains 0 counts of 2-gram overlaps.\n",
      "Therefore the BLEU score evaluates to 0, independently of\n",
      "how many N-gram overlaps of lower order it contains.\n",
      "Consider using lower n-gram order or use SmoothingFunction()\n",
      "  warnings.warn(_msg)\n",
      "C:\\Users\\dalil\\anaconda3\\envs\\ml\\Lib\\site-packages\\nltk\\translate\\bleu_score.py:552: UserWarning: \n",
      "The hypothesis contains 0 counts of 3-gram overlaps.\n",
      "Therefore the BLEU score evaluates to 0, independently of\n",
      "how many N-gram overlaps of lower order it contains.\n",
      "Consider using lower n-gram order or use SmoothingFunction()\n",
      "  warnings.warn(_msg)\n",
      "C:\\Users\\dalil\\anaconda3\\envs\\ml\\Lib\\site-packages\\nltk\\translate\\bleu_score.py:552: UserWarning: \n",
      "The hypothesis contains 0 counts of 4-gram overlaps.\n",
      "Therefore the BLEU score evaluates to 0, independently of\n",
      "how many N-gram overlaps of lower order it contains.\n",
      "Consider using lower n-gram order or use SmoothingFunction()\n",
      "  warnings.warn(_msg)\n"
     ]
    }
   ],
   "source": [
    "from nltk.translate.bleu_score import sentence_bleu\n",
    "def compute_bleu(predictions):\n",
    "    \"\"\"\n",
    "    Évalue la précision du modèle en utilisant la métrique BLEU\n",
    "    Args :\n",
    "        - data : DataFrame contenant les colonnes predictions et ground_truth\n",
    "\n",
    "    Returns :\n",
    "        La moyenne du score BLEU\n",
    "    \"\"\"\n",
    "    weights = (1, 0, 0, 0) # Use Bleu-1\n",
    "    # TODO\n",
    "     \n",
    "    bleu_scores = []\n",
    "\n",
    "    for _, row in predictions.iterrows():\n",
    "        \n",
    "        reference = row['ground_truth'].replace('[', '').replace(']', '').replace(\"'\", \"\").split()\n",
    "        candidate = row['predictions'].replace('[', '').replace(']', '').replace(\"'\", \"\").split()\n",
    "\n",
    "        \n",
    "        score = sentence_bleu([reference], candidate, weights=weights)\n",
    "        bleu_scores.append(score)\n",
    "    \n",
    "    mean_bleu = sum(bleu_scores) / len(bleu_scores)\n",
    "    return mean_bleu\n",
    "    # END TODO\n",
    "\n",
    "print(f\"Le score BLEU du modèle arrêté selon la fonction de perte est {compute_bleu(predictions_stopped):.2f}\")\n",
    "print(f\"Le score BLEU du dernier modèle est {compute_bleu(predictions_last):.2f}.\")"
   ]
  },
  {
   "cell_type": "markdown",
   "metadata": {
    "id": "rZ2DjH3ZeRVO"
   },
   "source": [
    "#### 9.5 Quel est l'avantage d'utiliser la métrique BLEU par rapport à la métrique EM basée sur la comparaison de chaîne de caractères ? (2 points)"
   ]
  },
  {
   "cell_type": "code",
   "execution_count": 97,
   "outputs": [],
   "source": [],
   "metadata": {
    "collapsed": false,
    "ExecuteTime": {
     "end_time": "2024-10-26T15:01:49.716137500Z",
     "start_time": "2024-10-26T15:01:49.715569500Z"
    }
   }
  },
  {
   "cell_type": "markdown",
   "metadata": {
    "id": "f06F1OICfO7_"
   },
   "source": [
    "#### 9.6 Que remarquez-vous par rapport aux performances du modèle arrêté avant le sur-apprentissage selon la fonction de perte versus celles du dernier modèle ? Quelles sont les raisons qui peuvent expliquer cela ? (2 points)"
   ]
  },
  {
   "cell_type": "markdown",
   "metadata": {
    "id": "C2cXyEuA9Fxy"
   },
   "source": [
    "### 10. Exploration (4 points)"
   ]
  },
  {
   "cell_type": "markdown",
   "metadata": {
    "id": "U99e4YjL9Fxy"
   },
   "source": [
    "#### 10.1 Explorez les générations actuelles de votre modèle et ressortez 2 problèmes que le modèle a lors de la génération qui font diminuer son score BLEU. (2 points)"
   ]
  },
  {
   "cell_type": "markdown",
   "metadata": {
    "id": "JfdKeifU9Fxy"
   },
   "source": [
    "#### 10.2 Amélioration des métriques (2 points)\n",
    "L'exemple ci-dessous montre 2 générations de 2 modèles pour la phrase \"A dog is eating a flower\". Bien que la génération du modèle 2 soit beaucoup plus proche sémantiquement de la référence que celle du modèle 1, la métrique BLEU retourne 0.0 dans les deux cas. En effet, puisque la métrique ne compare que les n-grammes, la prédiction du modèle 2 est quand même de 0, car aucun des mots dans la prédiction ne sont présents dans les concepts voulus."
   ]
  },
  {
   "cell_type": "code",
   "execution_count": 98,
   "metadata": {
    "colab": {
     "base_uri": "https://localhost:8080/"
    },
    "id": "Gd8Y64Pv9Fxy",
    "outputId": "475dccf0-52c5-4025-a083-10463fab3cf9",
    "ExecuteTime": {
     "end_time": "2024-10-26T15:01:56.131323500Z",
     "start_time": "2024-10-26T15:01:56.115191900Z"
    }
   },
   "outputs": [
    {
     "name": "stdout",
     "output_type": "stream",
     "text": [
      "Concepts voulus ['dog' 'eat' 'flower']\n",
      "Prédiction du modèle 1 : ['car' 'hit' 'person']\n",
      "BLEU : 0.00\n",
      "Prédiction du modèle 2 : ['animal' 'eating' 'plant']\n",
      "BLEU : 0.00\n"
     ]
    }
   ],
   "source": [
    "ground_truth = \"['dog' 'eat' 'flower']\"\n",
    "\n",
    "prediction_1 = \"['car' 'hit' 'person']\"\n",
    "preds = pd.DataFrame({'predictions': [prediction_1], 'ground_truth': [ground_truth]})\n",
    "\n",
    "print(f\"Concepts voulus {ground_truth}\")\n",
    "print(f\"Prédiction du modèle 1 : {prediction_1}\")\n",
    "print(f\"BLEU : {compute_bleu(preds):.2f}\")\n",
    "\n",
    "prediction_2 = \"['animal' 'eating' 'plant']\"\n",
    "preds = pd.DataFrame({'predictions': [prediction_2], 'ground_truth': [ground_truth]})\n",
    "\n",
    "print(f\"Prédiction du modèle 2 : {prediction_2}\")\n",
    "print(f\"BLEU : {compute_bleu(preds):.2f}\")"
   ]
  },
  {
   "cell_type": "markdown",
   "metadata": {
    "id": "OLVBUJ2e9Fxy"
   },
   "source": [
    "Proposez (sans l'implémenter) une meilleure métrique pour évaluer les modèles face à cette tâche d'extraction qui donnerait un score plus élevé à la prédiction du modèle 2. "
   ]
  },
  {
   "cell_type": "markdown",
   "metadata": {},
   "source": [
    "## Livrables\n",
    "Vous devez remettre votre notebook sur Moodle et Gradescope en ipynb et pdf. Pour Gradescope vous devez associer les numéros de questions avec vos réponses dans le pdf grâce à l'outil que fournit Gradescope.\n",
    "\n",
    "\n",
    "## Évaluation \n",
    "Votre TP sera évalué selon les critères suivants :\n",
    "1. Exécution correcte du code et obtention des sorties attendues\n",
    "2. Réponses correctes aux questions d'analyse\n",
    "3. Qualité du code (noms significatifs, structure, performance, gestion d’exception, etc.)\n",
    "4. Commentaires clairs et informatifs"
   ]
  }
 ],
 "metadata": {
  "accelerator": "GPU",
  "colab": {
   "gpuType": "T4",
   "provenance": []
  },
  "kernelspec": {
   "display_name": "Python 3 (ipykernel)",
   "language": "python",
   "name": "python3"
  },
  "language_info": {
   "codemirror_mode": {
    "name": "ipython",
    "version": 3
   },
   "file_extension": ".py",
   "mimetype": "text/x-python",
   "name": "python",
   "nbconvert_exporter": "python",
   "pygments_lexer": "ipython3",
   "version": "3.12.3"
  }
 },
 "nbformat": 4,
 "nbformat_minor": 1
}
